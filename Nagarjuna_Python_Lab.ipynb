{
  "nbformat": 4,
  "nbformat_minor": 0,
  "metadata": {
    "colab": {
      "name": "Nagarjuna_Python_Lab.ipynb",
      "provenance": [],
      "collapsed_sections": [],
      "authorship_tag": "ABX9TyNL8VTeVQyKF9KR05+R3g79",
      "include_colab_link": true
    },
    "kernelspec": {
      "name": "python3",
      "display_name": "Python 3"
    },
    "language_info": {
      "name": "python"
    }
  },
  "cells": [
    {
      "cell_type": "markdown",
      "metadata": {
        "id": "view-in-github",
        "colab_type": "text"
      },
      "source": [
        "<a href=\"https://colab.research.google.com/github/NagaEmbitel/PythonSession/blob/develop/Nagarjuna_Python_Lab.ipynb\" target=\"_parent\"><img src=\"https://colab.research.google.com/assets/colab-badge.svg\" alt=\"Open In Colab\"/></a>"
      ]
    },
    {
      "cell_type": "markdown",
      "source": [
        "```\n",
        "# This is Session 4\n",
        "```\n",
        "List : Ordered and Mutable DS => \n",
        "        Indexing => U can invoke the element / data by its position\n",
        "        Mutable => Editable/Can be changed.As below List_a[any index] = Any value\n",
        "        List_a = [1,2,3,4,5,6] \n",
        "        list_b = []\n",
        "Tuple : Ordered and Immutable\n",
        "        Indexing => U can invoke the element / data by its position\n",
        "        Mutable => cant be Editable/Cant be changed. There are very limited functionalities with tuple.\n",
        "\n",
        "Dictionary : Unordered DS and Mutable\n",
        "\n",
        "\n"
      ],
      "metadata": {
        "id": "TbvNQxeReeGF"
      }
    },
    {
      "cell_type": "code",
      "execution_count": null,
      "metadata": {
        "colab": {
          "base_uri": "https://localhost:8080/"
        },
        "id": "_Mrg6ywiW8Xl",
        "outputId": "93c68f94-0e02-46b8-d770-5c9a8eceb190"
      },
      "outputs": [
        {
          "output_type": "stream",
          "name": "stdout",
          "text": [
            "Hello World\n"
          ]
        }
      ],
      "source": [
        "print(\"Hello World\")"
      ]
    },
    {
      "cell_type": "code",
      "source": [
        ""
      ],
      "metadata": {
        "id": "h2LEWnSuhIzV"
      },
      "execution_count": null,
      "outputs": []
    },
    {
      "cell_type": "code",
      "source": [
        "print(\"This is beautiful world!!!\")"
      ],
      "metadata": {
        "colab": {
          "base_uri": "https://localhost:8080/"
        },
        "id": "Z2S19eOEXeYi",
        "outputId": "8784a6ed-e945-4b9a-f5ba-bfc3af253ac7"
      },
      "execution_count": null,
      "outputs": [
        {
          "output_type": "stream",
          "name": "stdout",
          "text": [
            "This is beautiful world!!!\n"
          ]
        }
      ]
    },
    {
      "cell_type": "code",
      "source": [
        "a = 1"
      ],
      "metadata": {
        "id": "O_Adbb41XhTd"
      },
      "execution_count": null,
      "outputs": []
    },
    {
      "cell_type": "code",
      "source": [
        "a = 2"
      ],
      "metadata": {
        "id": "-UOdykcNaj2w"
      },
      "execution_count": null,
      "outputs": []
    },
    {
      "cell_type": "code",
      "source": [
        "a = 20\n",
        "b = 10\n",
        "c = a+ b/2 + 2\n",
        "print(c)\n",
        "c = b%2\n",
        "print(c)"
      ],
      "metadata": {
        "colab": {
          "base_uri": "https://localhost:8080/"
        },
        "id": "wcJT9_0-akln",
        "outputId": "3bd36cbb-58ba-4bb9-eee6-6340fab8086d"
      },
      "execution_count": null,
      "outputs": [
        {
          "output_type": "stream",
          "name": "stdout",
          "text": [
            "27.0\n",
            "0\n"
          ]
        }
      ]
    },
    {
      "cell_type": "code",
      "source": [
        "a = \"This is Nagarjuna\"\n",
        "b = \"\\nHello World\"\n",
        "c = a+b\n",
        "print(c)"
      ],
      "metadata": {
        "colab": {
          "base_uri": "https://localhost:8080/"
        },
        "id": "cbhvlnEMdLiW",
        "outputId": "d3c0e907-dffa-412b-b80a-be9189a285c1"
      },
      "execution_count": null,
      "outputs": [
        {
          "output_type": "stream",
          "name": "stdout",
          "text": [
            "This is Nagarjuna\n",
            "Hello World\n"
          ]
        }
      ]
    },
    {
      "cell_type": "code",
      "source": [
        "a\n",
        "type(a)"
      ],
      "metadata": {
        "colab": {
          "base_uri": "https://localhost:8080/"
        },
        "id": "yp7LEpGBfPrt",
        "outputId": "826fb01c-c581-47f9-e455-4b9debcd2f9f"
      },
      "execution_count": null,
      "outputs": [
        {
          "output_type": "execute_result",
          "data": {
            "text/plain": [
              "str"
            ]
          },
          "metadata": {},
          "execution_count": 38
        }
      ]
    },
    {
      "cell_type": "code",
      "source": [
        "help(print)"
      ],
      "metadata": {
        "colab": {
          "base_uri": "https://localhost:8080/"
        },
        "id": "1wUJQeOwffZ-",
        "outputId": "0598fd9e-81bf-4d0a-d215-6e5ffc17b2d3"
      },
      "execution_count": null,
      "outputs": [
        {
          "output_type": "stream",
          "name": "stdout",
          "text": [
            "Help on built-in function print in module builtins:\n",
            "\n",
            "print(...)\n",
            "    print(value, ..., sep=' ', end='\\n', file=sys.stdout, flush=False)\n",
            "    \n",
            "    Prints the values to a stream, or to sys.stdout by default.\n",
            "    Optional keyword arguments:\n",
            "    file:  a file-like object (stream); defaults to the current sys.stdout.\n",
            "    sep:   string inserted between values, default a space.\n",
            "    end:   string appended after the last value, default a newline.\n",
            "    flush: whether to forcibly flush the stream.\n",
            "\n"
          ]
        }
      ]
    },
    {
      "cell_type": "code",
      "source": [
        "a"
      ],
      "metadata": {
        "colab": {
          "base_uri": "https://localhost:8080/",
          "height": 35
        },
        "id": "qE2_lwGMfaGU",
        "outputId": "846f2254-0b5e-4c7c-b9d2-293db8da69cb"
      },
      "execution_count": null,
      "outputs": [
        {
          "output_type": "execute_result",
          "data": {
            "text/plain": [
              "'This is Nagarjuna'"
            ],
            "application/vnd.google.colaboratory.intrinsic+json": {
              "type": "string"
            }
          },
          "metadata": {},
          "execution_count": 40
        }
      ]
    },
    {
      "cell_type": "code",
      "source": [
        "a.__add__(\"Hello World\")"
      ],
      "metadata": {
        "colab": {
          "base_uri": "https://localhost:8080/",
          "height": 35
        },
        "id": "0TmyYWJvfdvF",
        "outputId": "e1459518-9b64-4897-c62b-38e06c0de201"
      },
      "execution_count": null,
      "outputs": [
        {
          "output_type": "execute_result",
          "data": {
            "text/plain": [
              "'This is NagarjunaHello World'"
            ],
            "application/vnd.google.colaboratory.intrinsic+json": {
              "type": "string"
            }
          },
          "metadata": {},
          "execution_count": 41
        }
      ]
    },
    {
      "cell_type": "code",
      "source": [
        "b = \"Naga\"\n",
        "b.__eq__(\"Naga\")"
      ],
      "metadata": {
        "colab": {
          "base_uri": "https://localhost:8080/"
        },
        "id": "169XWl9Eglil",
        "outputId": "2f91af5a-25fa-4a1a-e3f5-64c2b087eaa3"
      },
      "execution_count": null,
      "outputs": [
        {
          "output_type": "execute_result",
          "data": {
            "text/plain": [
              "True"
            ]
          },
          "metadata": {},
          "execution_count": 42
        }
      ]
    },
    {
      "cell_type": "code",
      "source": [
        "a.__contains__(\"Nagarjuna\")"
      ],
      "metadata": {
        "colab": {
          "base_uri": "https://localhost:8080/"
        },
        "id": "H4AbVH1KiEwT",
        "outputId": "9aa76640-6d63-41f6-ca82-230d42c27d0e"
      },
      "execution_count": null,
      "outputs": [
        {
          "output_type": "execute_result",
          "data": {
            "text/plain": [
              "True"
            ]
          },
          "metadata": {},
          "execution_count": 43
        }
      ]
    },
    {
      "cell_type": "code",
      "source": [
        "a = \"This is fourth Session of Python\"\n",
        "a.__contains__(\"PYTHON\")"
      ],
      "metadata": {
        "colab": {
          "base_uri": "https://localhost:8080/"
        },
        "id": "ijtdLfC0iiUU",
        "outputId": "1619890d-4a6a-42ec-8a39-8d3bc09bafa1"
      },
      "execution_count": null,
      "outputs": [
        {
          "output_type": "execute_result",
          "data": {
            "text/plain": [
              "False"
            ]
          },
          "metadata": {},
          "execution_count": 44
        }
      ]
    },
    {
      "cell_type": "code",
      "source": [
        "a.__hash__()"
      ],
      "metadata": {
        "colab": {
          "base_uri": "https://localhost:8080/"
        },
        "id": "FAsS2DyHi00O",
        "outputId": "c6028a08-5efd-40fd-9bce-abd8f9767061"
      },
      "execution_count": null,
      "outputs": [
        {
          "output_type": "execute_result",
          "data": {
            "text/plain": [
              "4934217556980177188"
            ]
          },
          "metadata": {},
          "execution_count": 45
        }
      ]
    },
    {
      "cell_type": "code",
      "source": [
        "a.find(\"Python\")"
      ],
      "metadata": {
        "colab": {
          "base_uri": "https://localhost:8080/"
        },
        "id": "S3hj_LS5i-zq",
        "outputId": "15d5c7e8-2daa-4639-9229-34b9ef03b674"
      },
      "execution_count": null,
      "outputs": [
        {
          "output_type": "execute_result",
          "data": {
            "text/plain": [
              "26"
            ]
          },
          "metadata": {},
          "execution_count": 46
        }
      ]
    },
    {
      "cell_type": "code",
      "source": [
        "#Indexing\n",
        "print(a[0])\n",
        "print(a[1])\n",
        "print(a[10])\n",
        "print(a[26])"
      ],
      "metadata": {
        "colab": {
          "base_uri": "https://localhost:8080/"
        },
        "id": "ItgYAJaZjI-W",
        "outputId": "ee3e59af-0263-4c54-e4e9-9b4bef661036"
      },
      "execution_count": null,
      "outputs": [
        {
          "output_type": "stream",
          "name": "stdout",
          "text": [
            "T\n",
            "h\n",
            "u\n",
            "P\n"
          ]
        }
      ]
    },
    {
      "cell_type": "code",
      "source": [
        "#Slicing\n",
        "a[8:15]"
      ],
      "metadata": {
        "colab": {
          "base_uri": "https://localhost:8080/",
          "height": 35
        },
        "id": "SpG6fBNekHZI",
        "outputId": "fada0a72-f437-47e3-a981-4a8c83476d30"
      },
      "execution_count": null,
      "outputs": [
        {
          "output_type": "execute_result",
          "data": {
            "text/plain": [
              "'fourth '"
            ],
            "application/vnd.google.colaboratory.intrinsic+json": {
              "type": "string"
            }
          },
          "metadata": {},
          "execution_count": 48
        }
      ]
    },
    {
      "cell_type": "code",
      "source": [
        "a[-10:-6]"
      ],
      "metadata": {
        "id": "3-I0Ghr0kdAt",
        "colab": {
          "base_uri": "https://localhost:8080/",
          "height": 35
        },
        "outputId": "d79b6876-1804-48cd-efea-c58db760e64b"
      },
      "execution_count": null,
      "outputs": [
        {
          "output_type": "execute_result",
          "data": {
            "text/plain": [
              "' of '"
            ],
            "application/vnd.google.colaboratory.intrinsic+json": {
              "type": "string"
            }
          },
          "metadata": {},
          "execution_count": 49
        }
      ]
    },
    {
      "cell_type": "code",
      "source": [
        "a = \"a b c d e f g\""
      ],
      "metadata": {
        "id": "-vWpxsIslNnR"
      },
      "execution_count": null,
      "outputs": []
    },
    {
      "cell_type": "code",
      "source": [
        "a[2]"
      ],
      "metadata": {
        "colab": {
          "base_uri": "https://localhost:8080/",
          "height": 35
        },
        "id": "uy4JJXhkfTEt",
        "outputId": "9f03ce46-1073-467e-a62d-7aab0f866c93"
      },
      "execution_count": null,
      "outputs": [
        {
          "output_type": "execute_result",
          "data": {
            "text/plain": [
              "'b'"
            ],
            "application/vnd.google.colaboratory.intrinsic+json": {
              "type": "string"
            }
          },
          "metadata": {},
          "execution_count": 51
        }
      ]
    },
    {
      "cell_type": "code",
      "source": [
        "a[::2]"
      ],
      "metadata": {
        "colab": {
          "base_uri": "https://localhost:8080/",
          "height": 35
        },
        "id": "NSecgckMml1L",
        "outputId": "88e81dc1-e2d7-4724-ac59-87cf67dcc5cd"
      },
      "execution_count": null,
      "outputs": [
        {
          "output_type": "execute_result",
          "data": {
            "text/plain": [
              "'abcdefg'"
            ],
            "application/vnd.google.colaboratory.intrinsic+json": {
              "type": "string"
            }
          },
          "metadata": {},
          "execution_count": 52
        }
      ]
    },
    {
      "cell_type": "code",
      "source": [
        "a[::3]"
      ],
      "metadata": {
        "colab": {
          "base_uri": "https://localhost:8080/",
          "height": 35
        },
        "id": "GJq8ASULg3wO",
        "outputId": "49fc5924-ebac-421b-ba83-174ec26d954d"
      },
      "execution_count": null,
      "outputs": [
        {
          "output_type": "execute_result",
          "data": {
            "text/plain": [
              "'a d g'"
            ],
            "application/vnd.google.colaboratory.intrinsic+json": {
              "type": "string"
            }
          },
          "metadata": {},
          "execution_count": 53
        }
      ]
    },
    {
      "cell_type": "code",
      "source": [
        "a[::4]"
      ],
      "metadata": {
        "colab": {
          "base_uri": "https://localhost:8080/",
          "height": 35
        },
        "id": "Q62TSzP_mxQu",
        "outputId": "30688786-3162-4790-c51f-6d78d6d79e45"
      },
      "execution_count": null,
      "outputs": [
        {
          "output_type": "execute_result",
          "data": {
            "text/plain": [
              "'aceg'"
            ],
            "application/vnd.google.colaboratory.intrinsic+json": {
              "type": "string"
            }
          },
          "metadata": {},
          "execution_count": 54
        }
      ]
    },
    {
      "cell_type": "code",
      "source": [
        "a[::5]"
      ],
      "metadata": {
        "colab": {
          "base_uri": "https://localhost:8080/",
          "height": 35
        },
        "id": "iluxOuUAhDrN",
        "outputId": "6e88ade7-e0c1-44a5-c9d3-e2b816d80a5b"
      },
      "execution_count": null,
      "outputs": [
        {
          "output_type": "execute_result",
          "data": {
            "text/plain": [
              "'a f'"
            ],
            "application/vnd.google.colaboratory.intrinsic+json": {
              "type": "string"
            }
          },
          "metadata": {},
          "execution_count": 55
        }
      ]
    },
    {
      "cell_type": "code",
      "source": [
        "a[::-1]"
      ],
      "metadata": {
        "colab": {
          "base_uri": "https://localhost:8080/",
          "height": 35
        },
        "id": "iXcJYtIMm2Y3",
        "outputId": "d9d631ae-23c4-49e7-ae8b-4c3f1df3a94a"
      },
      "execution_count": null,
      "outputs": [
        {
          "output_type": "execute_result",
          "data": {
            "text/plain": [
              "'g f e d c b a'"
            ],
            "application/vnd.google.colaboratory.intrinsic+json": {
              "type": "string"
            }
          },
          "metadata": {},
          "execution_count": 56
        }
      ]
    },
    {
      "cell_type": "code",
      "source": [
        "a[::-2]"
      ],
      "metadata": {
        "colab": {
          "base_uri": "https://localhost:8080/",
          "height": 35
        },
        "id": "6WGS97rQoBG7",
        "outputId": "21decdbf-829e-4274-d575-30c751d4b9ea"
      },
      "execution_count": null,
      "outputs": [
        {
          "output_type": "execute_result",
          "data": {
            "text/plain": [
              "'gfedcba'"
            ],
            "application/vnd.google.colaboratory.intrinsic+json": {
              "type": "string"
            }
          },
          "metadata": {},
          "execution_count": 57
        }
      ]
    },
    {
      "cell_type": "code",
      "source": [
        "a[::-3]"
      ],
      "metadata": {
        "colab": {
          "base_uri": "https://localhost:8080/",
          "height": 35
        },
        "id": "V-Vlsk-KoXAE",
        "outputId": "3b75b9c7-f3ff-4fe6-b9ac-f959b3e51332"
      },
      "execution_count": null,
      "outputs": [
        {
          "output_type": "execute_result",
          "data": {
            "text/plain": [
              "'g d a'"
            ],
            "application/vnd.google.colaboratory.intrinsic+json": {
              "type": "string"
            }
          },
          "metadata": {},
          "execution_count": 58
        }
      ]
    },
    {
      "cell_type": "code",
      "source": [
        "print(\"Hello \\nWorld\")"
      ],
      "metadata": {
        "colab": {
          "base_uri": "https://localhost:8080/"
        },
        "id": "IkMuPZUhoYlg",
        "outputId": "6157bceb-b37b-4546-e8e6-de6ea8e83a4e"
      },
      "execution_count": null,
      "outputs": [
        {
          "output_type": "stream",
          "name": "stdout",
          "text": [
            "Hello \n",
            "World\n"
          ]
        }
      ]
    },
    {
      "cell_type": "code",
      "source": [
        "print(\"Hello \\tWorld\")"
      ],
      "metadata": {
        "colab": {
          "base_uri": "https://localhost:8080/"
        },
        "id": "YJxnsCFnpPbZ",
        "outputId": "eddc252e-e742-4d0b-f655-135fe39cbfad"
      },
      "execution_count": null,
      "outputs": [
        {
          "output_type": "stream",
          "name": "stdout",
          "text": [
            "Hello \tWorld\n"
          ]
        }
      ]
    },
    {
      "cell_type": "code",
      "source": [
        "a = [1,2,3,4,5,6,7,8,9,10,11,12,13] #ordered but mutable"
      ],
      "metadata": {
        "id": "iEuJiYvvpUSE"
      },
      "execution_count": null,
      "outputs": []
    },
    {
      "cell_type": "code",
      "source": [
        "a.append(7)\n",
        "a"
      ],
      "metadata": {
        "id": "9OdaWOYuqbqd",
        "colab": {
          "base_uri": "https://localhost:8080/"
        },
        "outputId": "ad76b491-3050-42a9-8af5-5fc874c44c01"
      },
      "execution_count": null,
      "outputs": [
        {
          "output_type": "execute_result",
          "data": {
            "text/plain": [
              "[1, 2, 3, 4, 5, 6, 7, 8, 9, 10, 11, 12, 13, 7]"
            ]
          },
          "metadata": {},
          "execution_count": 62
        }
      ]
    },
    {
      "cell_type": "code",
      "source": [
        "b = a[::-2]\n",
        "b"
      ],
      "metadata": {
        "colab": {
          "base_uri": "https://localhost:8080/"
        },
        "id": "UsYWy07Zld97",
        "outputId": "7a1ff5d8-ae3e-49ff-a70c-237b8d93908f"
      },
      "execution_count": null,
      "outputs": [
        {
          "output_type": "execute_result",
          "data": {
            "text/plain": [
              "[7, 12, 10, 8, 6, 4, 2]"
            ]
          },
          "metadata": {},
          "execution_count": 63
        }
      ]
    },
    {
      "cell_type": "code",
      "source": [
        "b = a[::2]\n",
        "b"
      ],
      "metadata": {
        "colab": {
          "base_uri": "https://localhost:8080/"
        },
        "id": "vpIRt-LpnHkX",
        "outputId": "42cebfb7-01ac-4d32-c82b-2a4cb23dc5c6"
      },
      "execution_count": null,
      "outputs": [
        {
          "output_type": "execute_result",
          "data": {
            "text/plain": [
              "[1, 3, 5, 7, 9, 11, 13]"
            ]
          },
          "metadata": {},
          "execution_count": 64
        }
      ]
    },
    {
      "cell_type": "code",
      "source": [
        "a.pop()"
      ],
      "metadata": {
        "colab": {
          "base_uri": "https://localhost:8080/"
        },
        "id": "6ykxkJlXjypC",
        "outputId": "1ccb467f-c46a-45ad-f19a-d403d0c825d5"
      },
      "execution_count": null,
      "outputs": [
        {
          "output_type": "execute_result",
          "data": {
            "text/plain": [
              "7"
            ]
          },
          "metadata": {},
          "execution_count": 65
        }
      ]
    },
    {
      "cell_type": "code",
      "source": [
        "a"
      ],
      "metadata": {
        "colab": {
          "base_uri": "https://localhost:8080/"
        },
        "id": "MGGOBmC7kWkc",
        "outputId": "25a91ded-1cd6-407d-815f-635f41170c72"
      },
      "execution_count": null,
      "outputs": [
        {
          "output_type": "execute_result",
          "data": {
            "text/plain": [
              "[1, 2, 3, 4, 5, 6, 7, 8, 9, 10, 11, 12, 13]"
            ]
          },
          "metadata": {},
          "execution_count": 66
        }
      ]
    },
    {
      "cell_type": "code",
      "source": [
        "a.pop(-1)"
      ],
      "metadata": {
        "colab": {
          "base_uri": "https://localhost:8080/"
        },
        "id": "0cCCwHO3kZDF",
        "outputId": "e2b53d85-d963-4558-804f-66adedc678bc"
      },
      "execution_count": null,
      "outputs": [
        {
          "output_type": "execute_result",
          "data": {
            "text/plain": [
              "13"
            ]
          },
          "metadata": {},
          "execution_count": 67
        }
      ]
    },
    {
      "cell_type": "code",
      "source": [
        "a"
      ],
      "metadata": {
        "colab": {
          "base_uri": "https://localhost:8080/"
        },
        "id": "_Sr3ZOLAkmvl",
        "outputId": "ff658fed-2486-4cb2-b885-7289785716a2"
      },
      "execution_count": null,
      "outputs": [
        {
          "output_type": "execute_result",
          "data": {
            "text/plain": [
              "[1, 2, 3, 4, 5, 6, 7, 8, 9, 10, 11, 12]"
            ]
          },
          "metadata": {},
          "execution_count": 68
        }
      ]
    },
    {
      "cell_type": "code",
      "source": [
        "b = (1,2,3,4,5,6) #ordered but immutable"
      ],
      "metadata": {
        "id": "RukjCrV6pZXi"
      },
      "execution_count": null,
      "outputs": []
    },
    {
      "cell_type": "code",
      "source": [
        "c = {1,2,3,4,5,6,1,2,3,4,5,6} #oredered and Unique entries\n",
        "c"
      ],
      "metadata": {
        "colab": {
          "base_uri": "https://localhost:8080/"
        },
        "id": "RrQXg0Q1pc-W",
        "outputId": "7bac39db-18cf-43cb-89c8-bafa1b3e3697"
      },
      "execution_count": null,
      "outputs": [
        {
          "output_type": "execute_result",
          "data": {
            "text/plain": [
              "{1, 2, 3, 4, 5, 6}"
            ]
          },
          "metadata": {},
          "execution_count": 70
        }
      ]
    },
    {
      "cell_type": "code",
      "source": [
        "d = {\"Name\":\"Naga\", \"Age\":32}"
      ],
      "metadata": {
        "id": "xLhdppgLp-JK"
      },
      "execution_count": null,
      "outputs": []
    },
    {
      "cell_type": "code",
      "source": [
        "a.count(3)"
      ],
      "metadata": {
        "colab": {
          "base_uri": "https://localhost:8080/"
        },
        "id": "G0E_f9FWqJSo",
        "outputId": "3ea123f9-b02d-4e77-e266-849953fa1e16"
      },
      "execution_count": null,
      "outputs": [
        {
          "output_type": "execute_result",
          "data": {
            "text/plain": [
              "1"
            ]
          },
          "metadata": {},
          "execution_count": 72
        }
      ]
    },
    {
      "cell_type": "code",
      "source": [
        "a"
      ],
      "metadata": {
        "colab": {
          "base_uri": "https://localhost:8080/"
        },
        "id": "3Pb_FLolqbJS",
        "outputId": "0c759c15-294b-4ae7-ea92-cf41537ee09d"
      },
      "execution_count": null,
      "outputs": [
        {
          "output_type": "execute_result",
          "data": {
            "text/plain": [
              "[1, 2, 3, 4, 5, 6, 7, 8, 9, 10, 11, 12]"
            ]
          },
          "metadata": {},
          "execution_count": 73
        }
      ]
    },
    {
      "cell_type": "code",
      "source": [
        "a"
      ],
      "metadata": {
        "colab": {
          "base_uri": "https://localhost:8080/"
        },
        "id": "U3PxlimorVlO",
        "outputId": "38d09788-54d9-4da6-c11b-f11158eae1d2"
      },
      "execution_count": null,
      "outputs": [
        {
          "output_type": "execute_result",
          "data": {
            "text/plain": [
              "[1, 2, 3, 4, 5, 6, 7, 8, 9, 10, 11, 12]"
            ]
          },
          "metadata": {},
          "execution_count": 74
        }
      ]
    },
    {
      "cell_type": "code",
      "source": [
        "b = []\n",
        "b.append(a[1])"
      ],
      "metadata": {
        "id": "WB8eqp6ZrWn_"
      },
      "execution_count": null,
      "outputs": []
    },
    {
      "cell_type": "code",
      "source": [
        "b\n",
        "b.append(a[2])"
      ],
      "metadata": {
        "id": "dkvYkmLRri5B"
      },
      "execution_count": null,
      "outputs": []
    },
    {
      "cell_type": "code",
      "source": [
        "b"
      ],
      "metadata": {
        "colab": {
          "base_uri": "https://localhost:8080/"
        },
        "id": "aUmIqUIPrjWW",
        "outputId": "879baea4-71d8-4fc2-c195-03397c80974c"
      },
      "execution_count": null,
      "outputs": [
        {
          "output_type": "execute_result",
          "data": {
            "text/plain": [
              "[2, 3]"
            ]
          },
          "metadata": {},
          "execution_count": 77
        }
      ]
    },
    {
      "cell_type": "code",
      "source": [
        "b[0]"
      ],
      "metadata": {
        "colab": {
          "base_uri": "https://localhost:8080/"
        },
        "id": "YQ0UUc6XrqmH",
        "outputId": "ad41f5be-e847-40b8-d96e-5cf75c14a760"
      },
      "execution_count": null,
      "outputs": [
        {
          "output_type": "execute_result",
          "data": {
            "text/plain": [
              "2"
            ]
          },
          "metadata": {},
          "execution_count": 78
        }
      ]
    },
    {
      "cell_type": "code",
      "source": [
        "b[1]"
      ],
      "metadata": {
        "colab": {
          "base_uri": "https://localhost:8080/"
        },
        "id": "X4nsXzXXrrjf",
        "outputId": "2a0cba48-457f-492b-9846-023be03236a0"
      },
      "execution_count": null,
      "outputs": [
        {
          "output_type": "execute_result",
          "data": {
            "text/plain": [
              "3"
            ]
          },
          "metadata": {},
          "execution_count": 79
        }
      ]
    },
    {
      "cell_type": "code",
      "source": [
        "b[2]"
      ],
      "metadata": {
        "colab": {
          "base_uri": "https://localhost:8080/",
          "height": 166
        },
        "id": "iSat4VUcr3aG",
        "outputId": "8aa0f8ed-52ed-4441-eb64-bb7baf8639a3"
      },
      "execution_count": null,
      "outputs": [
        {
          "output_type": "error",
          "ename": "IndexError",
          "evalue": "ignored",
          "traceback": [
            "\u001b[0;31m---------------------------------------------------------------------------\u001b[0m",
            "\u001b[0;31mIndexError\u001b[0m                                Traceback (most recent call last)",
            "\u001b[0;32m<ipython-input-80-973c42954ce6>\u001b[0m in \u001b[0;36m<module>\u001b[0;34m()\u001b[0m\n\u001b[0;32m----> 1\u001b[0;31m \u001b[0mb\u001b[0m\u001b[0;34m[\u001b[0m\u001b[0;36m2\u001b[0m\u001b[0;34m]\u001b[0m\u001b[0;34m\u001b[0m\u001b[0;34m\u001b[0m\u001b[0m\n\u001b[0m",
            "\u001b[0;31mIndexError\u001b[0m: list index out of range"
          ]
        }
      ]
    },
    {
      "cell_type": "code",
      "source": [
        "b.append(a[5])"
      ],
      "metadata": {
        "id": "6NLYZAz4r4Z7"
      },
      "execution_count": null,
      "outputs": []
    },
    {
      "cell_type": "code",
      "source": [
        "b"
      ],
      "metadata": {
        "id": "KIez6sMSr6hs"
      },
      "execution_count": null,
      "outputs": []
    },
    {
      "cell_type": "code",
      "source": [
        "len(b)"
      ],
      "metadata": {
        "id": "UG4f2ZGsr7HC"
      },
      "execution_count": null,
      "outputs": []
    },
    {
      "cell_type": "code",
      "source": [
        "a = \"This\"\n",
        "len(a)"
      ],
      "metadata": {
        "id": "KyJzDQZQr8oB"
      },
      "execution_count": null,
      "outputs": []
    },
    {
      "cell_type": "code",
      "source": [
        "b.clear()"
      ],
      "metadata": {
        "id": "7G8gZdjWsEZk"
      },
      "execution_count": null,
      "outputs": []
    },
    {
      "cell_type": "code",
      "source": [
        "b"
      ],
      "metadata": {
        "id": "4ho19l_tsI4h"
      },
      "execution_count": null,
      "outputs": []
    },
    {
      "cell_type": "code",
      "source": [
        "b.extend([1,2,3])"
      ],
      "metadata": {
        "id": "wl6tAIrSswRs"
      },
      "execution_count": null,
      "outputs": []
    },
    {
      "cell_type": "code",
      "source": [
        "b"
      ],
      "metadata": {
        "id": "ktUPuusLsJq3"
      },
      "execution_count": null,
      "outputs": []
    },
    {
      "cell_type": "code",
      "source": [
        "b.append(4)"
      ],
      "metadata": {
        "id": "HdAOYqAgs19R"
      },
      "execution_count": null,
      "outputs": []
    },
    {
      "cell_type": "code",
      "source": [
        "b.extend([5,6,7,8])"
      ],
      "metadata": {
        "id": "iI-NTGNLs5w-"
      },
      "execution_count": null,
      "outputs": []
    },
    {
      "cell_type": "code",
      "source": [
        "b"
      ],
      "metadata": {
        "id": "_95x-TFEs9uE"
      },
      "execution_count": null,
      "outputs": []
    },
    {
      "cell_type": "code",
      "source": [
        "a = b.copy()"
      ],
      "metadata": {
        "id": "nvBoiOZBs-VN"
      },
      "execution_count": null,
      "outputs": []
    },
    {
      "cell_type": "code",
      "source": [
        "a"
      ],
      "metadata": {
        "id": "aPzuYFqMtOci"
      },
      "execution_count": null,
      "outputs": []
    },
    {
      "cell_type": "code",
      "source": [
        "c = b.copy()\n",
        "c"
      ],
      "metadata": {
        "id": "GoZhBtvmtMgD"
      },
      "execution_count": null,
      "outputs": []
    },
    {
      "cell_type": "code",
      "source": [
        "c.pop()"
      ],
      "metadata": {
        "id": "VwpkM8STtR0O"
      },
      "execution_count": null,
      "outputs": []
    },
    {
      "cell_type": "code",
      "source": [
        "c"
      ],
      "metadata": {
        "id": "p-F_3Mvetm7p"
      },
      "execution_count": null,
      "outputs": []
    },
    {
      "cell_type": "code",
      "source": [
        "c.pop()"
      ],
      "metadata": {
        "id": "-ZqeIS0jtpfr"
      },
      "execution_count": null,
      "outputs": []
    },
    {
      "cell_type": "code",
      "source": [
        "c"
      ],
      "metadata": {
        "id": "r-r1vtZBtut8"
      },
      "execution_count": null,
      "outputs": []
    },
    {
      "cell_type": "code",
      "source": [
        "c.reverse()"
      ],
      "metadata": {
        "id": "PpWCncehtvXq"
      },
      "execution_count": null,
      "outputs": []
    },
    {
      "cell_type": "code",
      "source": [
        "c"
      ],
      "metadata": {
        "id": "zJ4aTBretyIK"
      },
      "execution_count": null,
      "outputs": []
    },
    {
      "cell_type": "code",
      "source": [
        "c.index(6)"
      ],
      "metadata": {
        "id": "xi0vMTbCty1x"
      },
      "execution_count": null,
      "outputs": []
    },
    {
      "cell_type": "code",
      "source": [
        "c = (1,2,3,4,5,6)"
      ],
      "metadata": {
        "id": "QiO4g3o2t1NX"
      },
      "execution_count": null,
      "outputs": []
    },
    {
      "cell_type": "code",
      "source": [
        "c.index(5)"
      ],
      "metadata": {
        "id": "9D6l_Qejt62f"
      },
      "execution_count": null,
      "outputs": []
    },
    {
      "cell_type": "code",
      "source": [
        "c.count(4)"
      ],
      "metadata": {
        "id": "e2BiCEPLt8lE"
      },
      "execution_count": null,
      "outputs": []
    },
    {
      "cell_type": "code",
      "source": [
        "c.pop()"
      ],
      "metadata": {
        "id": "ZTk0CBZouDKS"
      },
      "execution_count": null,
      "outputs": []
    },
    {
      "cell_type": "code",
      "source": [
        "d = {\"Name\":\"Naga\", \"Age\":32}"
      ],
      "metadata": {
        "id": "Q7e8O4YMuFDg"
      },
      "execution_count": null,
      "outputs": []
    },
    {
      "cell_type": "code",
      "source": [
        "d.keys()"
      ],
      "metadata": {
        "id": "BcXdXrFOuQl6"
      },
      "execution_count": null,
      "outputs": []
    },
    {
      "cell_type": "code",
      "source": [
        "d.values()"
      ],
      "metadata": {
        "id": "82jxiz-huTVl"
      },
      "execution_count": null,
      "outputs": []
    },
    {
      "cell_type": "code",
      "source": [
        "d.items()"
      ],
      "metadata": {
        "id": "OBw_8WUdubUi"
      },
      "execution_count": null,
      "outputs": []
    },
    {
      "cell_type": "code",
      "source": [
        "type(d.items())"
      ],
      "metadata": {
        "id": "_6PSlnzOueMV"
      },
      "execution_count": null,
      "outputs": []
    },
    {
      "cell_type": "code",
      "source": [
        "a = d.keys()\n",
        "a"
      ],
      "metadata": {
        "id": "e6NOH6bcupAB"
      },
      "execution_count": null,
      "outputs": []
    },
    {
      "cell_type": "code",
      "source": [
        "a = d.values()\n",
        "a"
      ],
      "metadata": {
        "id": "Q6KivV3Duy95"
      },
      "execution_count": null,
      "outputs": []
    },
    {
      "cell_type": "code",
      "source": [
        "d.pop(\"Age\")"
      ],
      "metadata": {
        "id": "iangd1b8u95w"
      },
      "execution_count": null,
      "outputs": []
    },
    {
      "cell_type": "code",
      "source": [
        "d"
      ],
      "metadata": {
        "id": "3ebipz6bvLIg"
      },
      "execution_count": null,
      "outputs": []
    },
    {
      "cell_type": "code",
      "source": [
        "d.update({\"Age\":32})"
      ],
      "metadata": {
        "id": "ykIqOporvhP8"
      },
      "execution_count": null,
      "outputs": []
    },
    {
      "cell_type": "code",
      "source": [
        "d"
      ],
      "metadata": {
        "id": "E3kqTUFnvyrS"
      },
      "execution_count": null,
      "outputs": []
    },
    {
      "cell_type": "code",
      "source": [
        "d.update({\"Gender\":\"M\"})"
      ],
      "metadata": {
        "id": "ZrsNJ11Zvzad"
      },
      "execution_count": null,
      "outputs": []
    },
    {
      "cell_type": "code",
      "source": [
        "d"
      ],
      "metadata": {
        "id": "9V3ziJxEv8Zx"
      },
      "execution_count": null,
      "outputs": []
    },
    {
      "cell_type": "code",
      "source": [
        "a = []\n",
        "b = ()\n",
        "c = {}\n",
        "a.append(1)\n",
        "a"
      ],
      "metadata": {
        "id": "7NJhZfGlv8zz"
      },
      "execution_count": null,
      "outputs": []
    },
    {
      "cell_type": "code",
      "source": [
        "a.pop()"
      ],
      "metadata": {
        "id": "vHQdmBWbxWVA"
      },
      "execution_count": null,
      "outputs": []
    },
    {
      "cell_type": "code",
      "source": [
        "a.extend([50,45,43,42])"
      ],
      "metadata": {
        "id": "4sBDpn9FxfV0"
      },
      "execution_count": null,
      "outputs": []
    },
    {
      "cell_type": "code",
      "source": [
        "c.update({\"Marks\":a})"
      ],
      "metadata": {
        "id": "PYNJNvtixith"
      },
      "execution_count": null,
      "outputs": []
    },
    {
      "cell_type": "code",
      "source": [
        "c"
      ],
      "metadata": {
        "id": "Tceq1iuaxp7y"
      },
      "execution_count": null,
      "outputs": []
    },
    {
      "cell_type": "code",
      "source": [
        "a.extend([c])"
      ],
      "metadata": {
        "id": "D5woZv7_xqeu"
      },
      "execution_count": null,
      "outputs": []
    },
    {
      "cell_type": "code",
      "source": [
        "a\n"
      ],
      "metadata": {
        "id": "A4iX0Dm8xwnV"
      },
      "execution_count": null,
      "outputs": []
    },
    {
      "cell_type": "code",
      "source": [
        "a.pop()"
      ],
      "metadata": {
        "id": "pHjQpryzxxTo"
      },
      "execution_count": null,
      "outputs": []
    },
    {
      "cell_type": "code",
      "source": [
        "a.pop()"
      ],
      "metadata": {
        "id": "ijuZGQklx1Pn"
      },
      "execution_count": null,
      "outputs": []
    },
    {
      "cell_type": "code",
      "source": [
        "a"
      ],
      "metadata": {
        "id": "CXN3Q-GEyGdJ"
      },
      "execution_count": null,
      "outputs": []
    },
    {
      "cell_type": "code",
      "source": [
        "b = (a)"
      ],
      "metadata": {
        "id": "4B-eJ6blyH3e"
      },
      "execution_count": null,
      "outputs": []
    },
    {
      "cell_type": "code",
      "source": [
        "b = (0,a)"
      ],
      "metadata": {
        "id": "xpLCr6YByLFz"
      },
      "execution_count": null,
      "outputs": []
    },
    {
      "cell_type": "code",
      "source": [
        "b"
      ],
      "metadata": {
        "id": "KxtbXqiwyMUD"
      },
      "execution_count": null,
      "outputs": []
    },
    {
      "cell_type": "code",
      "source": [
        "len(b[1])"
      ],
      "metadata": {
        "id": "DBSjw0mlyQAg"
      },
      "execution_count": null,
      "outputs": []
    },
    {
      "cell_type": "code",
      "source": [
        "b[1][2]"
      ],
      "metadata": {
        "id": "GDYVoSg8ySm0"
      },
      "execution_count": null,
      "outputs": []
    },
    {
      "cell_type": "code",
      "source": [
        "a = [1,2,3,4,[5,6,7],8,9,[10,11]]"
      ],
      "metadata": {
        "id": "dULMeZwNyhXF"
      },
      "execution_count": null,
      "outputs": []
    },
    {
      "cell_type": "code",
      "source": [
        "type(a.pop())"
      ],
      "metadata": {
        "id": "h6P9Ob3kyrj1"
      },
      "execution_count": null,
      "outputs": []
    },
    {
      "cell_type": "code",
      "source": [
        "type(a[4])"
      ],
      "metadata": {
        "id": "4zEFenBFyuGY"
      },
      "execution_count": null,
      "outputs": []
    },
    {
      "cell_type": "code",
      "source": [
        "type(a[5])"
      ],
      "metadata": {
        "id": "Zuz5V2tpy3kE"
      },
      "execution_count": null,
      "outputs": []
    },
    {
      "cell_type": "code",
      "source": [
        ""
      ],
      "metadata": {
        "id": "pKC9BytCy6Ss"
      },
      "execution_count": null,
      "outputs": []
    },
    {
      "cell_type": "markdown",
      "source": [
        ""
      ],
      "metadata": {
        "id": "EpGuJnPMetK6"
      }
    },
    {
      "cell_type": "markdown",
      "source": [
        "```\n",
        "# This is Session 5\n",
        "```"
      ],
      "metadata": {
        "id": "TUNCn18getaB"
      }
    },
    {
      "cell_type": "code",
      "source": [
        "a = [1,2,3,4,5,6,7,8,9]\n",
        "a[::2]"
      ],
      "metadata": {
        "id": "mpktciinexKi"
      },
      "execution_count": null,
      "outputs": []
    },
    {
      "cell_type": "code",
      "source": [
        "a[::3]"
      ],
      "metadata": {
        "id": "_qmBs48qe5v2"
      },
      "execution_count": null,
      "outputs": []
    },
    {
      "cell_type": "code",
      "source": [
        "a[::4]"
      ],
      "metadata": {
        "id": "X9IWVZlce7K1"
      },
      "execution_count": null,
      "outputs": []
    },
    {
      "cell_type": "code",
      "source": [
        "y = (1,2,3,4,5,6,7,8,9,\"Naga\",True,2.5)"
      ],
      "metadata": {
        "id": "lwVNyN3JfANR"
      },
      "execution_count": null,
      "outputs": []
    },
    {
      "cell_type": "code",
      "source": [
        "len(y)"
      ],
      "metadata": {
        "id": "3z-5xzrwp9Ki"
      },
      "execution_count": null,
      "outputs": []
    },
    {
      "cell_type": "code",
      "source": [
        "y.index(9)"
      ],
      "metadata": {
        "id": "rxqfwlaTp-Ir"
      },
      "execution_count": null,
      "outputs": []
    },
    {
      "cell_type": "code",
      "source": [
        "y.count(1)"
      ],
      "metadata": {
        "id": "HWF7IJ0AqAkp"
      },
      "execution_count": null,
      "outputs": []
    },
    {
      "cell_type": "code",
      "source": [
        "y.pop()"
      ],
      "metadata": {
        "id": "4ddWKhnFqDKX"
      },
      "execution_count": null,
      "outputs": []
    },
    {
      "cell_type": "code",
      "source": [
        "y.append(4)"
      ],
      "metadata": {
        "id": "psP3nfu8qFd0"
      },
      "execution_count": null,
      "outputs": []
    },
    {
      "cell_type": "code",
      "source": [
        "z = {\"Name\" : \"Naga\",\"Age\":32}\n",
        "z[\"Age\"]"
      ],
      "metadata": {
        "id": "TU59tQp2qLFg"
      },
      "execution_count": null,
      "outputs": []
    },
    {
      "cell_type": "code",
      "source": [
        "z.items()"
      ],
      "metadata": {
        "id": "H4U4hUeRqbEI"
      },
      "execution_count": null,
      "outputs": []
    },
    {
      "cell_type": "code",
      "source": [
        "z.keys()"
      ],
      "metadata": {
        "id": "eN8XQ5kVqfBu"
      },
      "execution_count": null,
      "outputs": []
    },
    {
      "cell_type": "code",
      "source": [
        "z.values()"
      ],
      "metadata": {
        "id": "_chWNm1eq4lM"
      },
      "execution_count": null,
      "outputs": []
    },
    {
      "cell_type": "code",
      "source": [
        "z.clear()"
      ],
      "metadata": {
        "id": "Hs7CXN9bq5R3"
      },
      "execution_count": null,
      "outputs": []
    },
    {
      "cell_type": "code",
      "source": [
        "z.pop(\"Name\")"
      ],
      "metadata": {
        "id": "mGA1mqXYq8sh"
      },
      "execution_count": null,
      "outputs": []
    },
    {
      "cell_type": "code",
      "source": [
        "z.update({\"Gender\":\"M\"})"
      ],
      "metadata": {
        "id": "5nq5Jkmzq73B"
      },
      "execution_count": null,
      "outputs": []
    },
    {
      "cell_type": "code",
      "source": [
        "z"
      ],
      "metadata": {
        "id": "-icZ3UhRrq_g"
      },
      "execution_count": null,
      "outputs": []
    },
    {
      "cell_type": "code",
      "source": [
        "z.update({\"ID\":4134})"
      ],
      "metadata": {
        "id": "HTrbxgyTrrvY"
      },
      "execution_count": null,
      "outputs": []
    },
    {
      "cell_type": "code",
      "source": [
        "z"
      ],
      "metadata": {
        "id": "0muYJxK4rxnx"
      },
      "execution_count": null,
      "outputs": []
    },
    {
      "cell_type": "code",
      "source": [
        "a = [1,[2,[3,[4,[5,[6]]]]]]\n",
        "a[0]"
      ],
      "metadata": {
        "id": "Q7TJ0VUYr5l3"
      },
      "execution_count": null,
      "outputs": []
    },
    {
      "cell_type": "code",
      "source": [
        "b = a[1]\n",
        "b"
      ],
      "metadata": {
        "id": "QsYT9f1kuAkj"
      },
      "execution_count": null,
      "outputs": []
    },
    {
      "cell_type": "code",
      "source": [
        "b[0]"
      ],
      "metadata": {
        "id": "BfPHHDvCuB1Z"
      },
      "execution_count": null,
      "outputs": []
    },
    {
      "cell_type": "code",
      "source": [
        "b[1]"
      ],
      "metadata": {
        "id": "zwj4pkBLuHs7"
      },
      "execution_count": null,
      "outputs": []
    },
    {
      "cell_type": "code",
      "source": [
        "a[1][1]"
      ],
      "metadata": {
        "id": "OBsMn2rbuI3u"
      },
      "execution_count": null,
      "outputs": []
    },
    {
      "cell_type": "code",
      "source": [
        "c = b[1]"
      ],
      "metadata": {
        "id": "vRAPrzDRuMFn"
      },
      "execution_count": null,
      "outputs": []
    },
    {
      "cell_type": "code",
      "source": [
        "c"
      ],
      "metadata": {
        "id": "C00-iIDnuSFp"
      },
      "execution_count": null,
      "outputs": []
    },
    {
      "cell_type": "code",
      "source": [
        "d = c[1]\n",
        "d"
      ],
      "metadata": {
        "id": "wNwQsCxWuSqC"
      },
      "execution_count": null,
      "outputs": []
    },
    {
      "cell_type": "code",
      "source": [
        "a[1][1][1]"
      ],
      "metadata": {
        "id": "oUtzNMiOuUr6"
      },
      "execution_count": null,
      "outputs": []
    },
    {
      "cell_type": "code",
      "source": [
        "e = d[1]\n",
        "e[0]"
      ],
      "metadata": {
        "id": "TKMkrUAHuaYS"
      },
      "execution_count": null,
      "outputs": []
    },
    {
      "cell_type": "code",
      "source": [
        "a[1][1][1][1][0]"
      ],
      "metadata": {
        "id": "iZb0lvVduckv"
      },
      "execution_count": null,
      "outputs": []
    },
    {
      "cell_type": "code",
      "source": [
        "a = [1,2,3,[4,5,6]]"
      ],
      "metadata": {
        "id": "3_jczTUwukoy"
      },
      "execution_count": null,
      "outputs": []
    },
    {
      "cell_type": "code",
      "source": [
        "a[0]"
      ],
      "metadata": {
        "id": "uy8GRjZSuoQu"
      },
      "execution_count": null,
      "outputs": []
    },
    {
      "cell_type": "code",
      "source": [
        "a[3][0]"
      ],
      "metadata": {
        "id": "7ItVuO3EuqA4"
      },
      "execution_count": null,
      "outputs": []
    },
    {
      "cell_type": "code",
      "source": [
        "a = [1,[2,[3,[4,[5,[6]]]]]]\n",
        "b = a[1]\n",
        "c = b[1]\n",
        "d = c[1]\n",
        "e = d[1]\n",
        "f = e[1]"
      ],
      "metadata": {
        "id": "rXC7KMF-urvg"
      },
      "execution_count": null,
      "outputs": []
    },
    {
      "cell_type": "code",
      "source": [
        "a[1][1][1][1][1][0]"
      ],
      "metadata": {
        "id": "mIfuOF-bw6P5"
      },
      "execution_count": null,
      "outputs": []
    },
    {
      "cell_type": "code",
      "source": [
        "a = (1,(2,(3,(4,5,(6)))))\n",
        "a[1][1][1][2]"
      ],
      "metadata": {
        "id": "Qj-bTmYQxC6y"
      },
      "execution_count": null,
      "outputs": []
    },
    {
      "cell_type": "code",
      "source": [
        "a = (1,2,3,(4,5,6),(7,8))\n",
        "#extract 8 from tuple\n",
        "a[4][1]"
      ],
      "metadata": {
        "id": "MFZhV9ztxr89"
      },
      "execution_count": null,
      "outputs": []
    },
    {
      "cell_type": "code",
      "source": [
        "'''\n",
        "List: Max,min, len, \n",
        "# Display sliced list\n",
        "print(List[::-1])\n",
        " \n",
        "# Display sliced list\n",
        "print(List[::-3])\n",
        " \n",
        "# Display sliced list\n",
        "print(List[:1:-2])\n",
        "########\n",
        "# Initialize list\n",
        "List = [-999, 'G4G', 1706256, '^_^', 3.1496]\n",
        " \n",
        "# Show original list\n",
        "print(\"\\nOriginal List:\\n\", List)\n",
        " \n",
        "print(\"\\nSliced Lists: \")\n",
        " \n",
        "# Display sliced list\n",
        "print(List[10::2])\n",
        " \n",
        "# Display sliced list\n",
        "print(List[1:1:1])\n",
        " \n",
        "# Display sliced list\n",
        "print(List[-1:-1:-1])\n",
        " \n",
        "# Display sliced list\n",
        "print(List[:0:])\n",
        "########\n",
        "\n",
        "'''"
      ],
      "metadata": {
        "id": "Hd4W4MdFyqW5"
      },
      "execution_count": null,
      "outputs": []
    },
    {
      "cell_type": "markdown",
      "source": [
        "#This is Session 6\n",
        "  ![image.png](data:image/png;base64,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)"
      ],
      "metadata": {
        "id": "EJC8n7ASzzOR"
      }
    },
    {
      "cell_type": "code",
      "source": [
        "a = \"a b c d e f g\""
      ],
      "metadata": {
        "id": "Vad44llQz1lH"
      },
      "execution_count": null,
      "outputs": []
    },
    {
      "cell_type": "code",
      "source": [
        "print(a[::2]) #abcdefg\n",
        "print(a[::3]) #a d g "
      ],
      "metadata": {
        "id": "oAlyivjozyfd"
      },
      "execution_count": null,
      "outputs": []
    },
    {
      "cell_type": "code",
      "source": [
        "a = \"12345678\"\n",
        "print(a[::-1]) #exp:1357\n",
        "print(a[::3]) #exp:147"
      ],
      "metadata": {
        "id": "FW75g-Zpz2Ga"
      },
      "execution_count": null,
      "outputs": []
    },
    {
      "cell_type": "code",
      "source": [
        "a = [1,2,3,4,5,6,7,8,9,10,11,12,13,14,15]\n",
        "print(a[-1:-10:-2])"
      ],
      "metadata": {
        "id": "4ZhQ2CLh2jJL"
      },
      "execution_count": null,
      "outputs": []
    },
    {
      "cell_type": "code",
      "source": [
        "a[-10:-1:2]"
      ],
      "metadata": {
        "id": "lIJDDVDF4p6Z"
      },
      "execution_count": null,
      "outputs": []
    },
    {
      "cell_type": "code",
      "source": [
        "a = [1,2,3]"
      ],
      "metadata": {
        "id": "qm-bPtZF5rP3"
      },
      "execution_count": null,
      "outputs": []
    },
    {
      "cell_type": "code",
      "source": [
        "a = [1,2,3,(7,8,9),10]\n",
        "#9\n",
        "a[3][2]"
      ],
      "metadata": {
        "id": "UEGLtr-Q7sdM"
      },
      "execution_count": null,
      "outputs": []
    },
    {
      "cell_type": "code",
      "source": [
        "a = [1,2,3,(4),(5),(6),(7,8),(9,10,11)]\n",
        "#9\n",
        "a[7][0]"
      ],
      "metadata": {
        "id": "Whw5lZO-9Vss"
      },
      "execution_count": null,
      "outputs": []
    },
    {
      "cell_type": "code",
      "source": [
        "a"
      ],
      "metadata": {
        "id": "dtM6gDTR-VTz"
      },
      "execution_count": null,
      "outputs": []
    },
    {
      "cell_type": "code",
      "source": [
        "#10\n",
        "a[7][1]"
      ],
      "metadata": {
        "id": "QuJhumbF-WK5"
      },
      "execution_count": null,
      "outputs": []
    },
    {
      "cell_type": "code",
      "source": [
        "a = [1,2,3,(6,7,8),{\"Naga\":32}] #8\n",
        "a[3][2]\n",
        "#32\n",
        "a[4][\"Naga\"]"
      ],
      "metadata": {
        "id": "P3SGxJFw-nSi"
      },
      "execution_count": null,
      "outputs": []
    },
    {
      "cell_type": "code",
      "source": [
        "a = [\"Naga\",\"Arjun\",\"Sreenivasulu\",(\"Jacks\",\"Technologies\")]\n",
        "#print => Jacks Technologies \n",
        "#Use String concatenation\n",
        "a[3][0] + \" \" + a[3][1]\n",
        "type(a)"
      ],
      "metadata": {
        "id": "LZwtUlqE_M2d"
      },
      "execution_count": null,
      "outputs": []
    },
    {
      "cell_type": "code",
      "source": [
        "a = {\"Institute_FirstName\":\"Jacks\",\"Institute_SecondName\":\"Technologies\"}\n",
        "#print => Jacks Technologies \n",
        "a[\"Institute_FirstName\"] + \" \" + a[\"Institute_SecondName\"]\n",
        "type(a)\n",
        "a.keys()"
      ],
      "metadata": {
        "id": "fLBi13SL_4N4"
      },
      "execution_count": null,
      "outputs": []
    },
    {
      "cell_type": "code",
      "source": [
        "a = [{\"Institute_FirstName\":\"Jacks\",\"Institute_SecondName\":\"Technologies\"}]\n",
        "#print => Jacks Technologies\n",
        "type(a[0])\n",
        "a[0][\"Institute_FirstName\"] + \" \" + a[0][\"Institute_SecondName\"]"
      ],
      "metadata": {
        "id": "C3mltV05ACCY"
      },
      "execution_count": null,
      "outputs": []
    },
    {
      "cell_type": "code",
      "source": [
        "a = ({\"Naga\":32,\"Marks\":[50,50,65,75]},[\"a\",\"b\",\"c\",4134],(\"Naga\"),{\"Name\":(\"Naga\",\"Arjun\")})\n",
        "#Name of Candidate is Naga and his marks in 3rd subject is 65\n",
        "#Registered number is : 4134\n",
        "#Full name is NagaArjun\n",
        "#a[0][\"Marks\"][2]\n",
        "x = a[3][\"Name\"][0]\n",
        "y = a[0][\"Marks\"][2]\n",
        "print(\"Name of the Candidate is {0} and his marks in 3rd subject is {1}\".format(x,y))\n",
        "print(\"Registered number is {b:}\".format(b=a[1][3]))"
      ],
      "metadata": {
        "id": "BzcmjSTUBbmX"
      },
      "execution_count": null,
      "outputs": []
    },
    {
      "cell_type": "code",
      "source": [
        "a = \"Naga\"\n",
        "b = \"Arjuna\"\n",
        "print(\"Name of the Candidate : {0} {1}\".format(a,b))"
      ],
      "metadata": {
        "id": "f67mx2t3D_V-"
      },
      "execution_count": null,
      "outputs": []
    },
    {
      "cell_type": "code",
      "source": [
        "a = [\\\n",
        "[1,2,3],\\\n",
        "{\"Fav_Animals\":[\"Tiger\",\"Cow\",\"Lion\",\"Elephant\"]},\\\n",
        "{\"Fav_Birds\":(\"Pigeon\",\"Peacock\",\"Eagle\",\"Sparrow\",\"Kingfisher\")},\\\n",
        "{\"Fav_Shows\":[{\"Prime\":(\"Movie_1\",\"Movie_2\")},{\"Netflix\":[\"Money_Heist\",\"Show2\"]}]}\n",
        "]\n",
        "#Counter  shall increment as 1,2,3\n",
        "#My Fav Show in Prime is Movie_2\n",
        "#My Fav Show in Netflix is Money_Heist\n",
        "#One of my Fav Animals is Lion\n",
        "#One of my Fav Birds is KingFisher\n",
        "print(\"Counter shall increment as {}, {}, {}\".format(a[0][0],a[0][1],a[0][2]))"
      ],
      "metadata": {
        "id": "AY4hZdUTGa7c"
      },
      "execution_count": null,
      "outputs": []
    },
    {
      "cell_type": "code",
      "source": [
        ""
      ],
      "metadata": {
        "id": "ohd1GA5sHCf7"
      },
      "execution_count": null,
      "outputs": []
    },
    {
      "cell_type": "markdown",
      "source": [
        "#Python : This is session 7\n",
        "1. Sets: Some more functions\n",
        "2. String : Some more functions\n",
        "3. Conditional operators"
      ],
      "metadata": {
        "id": "tUAMczqAoVVC"
      }
    },
    {
      "cell_type": "code",
      "source": [
        "a = {1,2,3,4,5,6,\"Naga\",1,2,3,4}"
      ],
      "metadata": {
        "id": "98pArmjyocHN"
      },
      "execution_count": null,
      "outputs": []
    },
    {
      "cell_type": "code",
      "source": [
        "a"
      ],
      "metadata": {
        "id": "6XiFFQ1CF0MG"
      },
      "execution_count": null,
      "outputs": []
    },
    {
      "cell_type": "code",
      "source": [
        "a.add(7)"
      ],
      "metadata": {
        "id": "9hblT2YxF1Ah"
      },
      "execution_count": null,
      "outputs": []
    },
    {
      "cell_type": "code",
      "source": [
        "a"
      ],
      "metadata": {
        "id": "QrX64lXqF7Is"
      },
      "execution_count": null,
      "outputs": []
    },
    {
      "cell_type": "code",
      "source": [
        "a.clear()\n",
        "a"
      ],
      "metadata": {
        "id": "tHvmV70YF7jQ"
      },
      "execution_count": null,
      "outputs": []
    },
    {
      "cell_type": "code",
      "source": [
        "a.update({1,2,3})"
      ],
      "metadata": {
        "id": "C98AXr62GEEs"
      },
      "execution_count": null,
      "outputs": []
    },
    {
      "cell_type": "code",
      "source": [
        "a"
      ],
      "metadata": {
        "id": "3LK8s-SSGMHF"
      },
      "execution_count": null,
      "outputs": []
    },
    {
      "cell_type": "code",
      "source": [
        "b = {3,4,5}\n",
        "a.intersection(b)"
      ],
      "metadata": {
        "id": "1ZMeO8CHGMjB"
      },
      "execution_count": null,
      "outputs": []
    },
    {
      "cell_type": "code",
      "source": [
        "a.union(b)"
      ],
      "metadata": {
        "id": "V4PnqvVvGqev"
      },
      "execution_count": null,
      "outputs": []
    },
    {
      "cell_type": "code",
      "source": [
        "a.pop()"
      ],
      "metadata": {
        "id": "AqVXoecPG1g8"
      },
      "execution_count": null,
      "outputs": []
    },
    {
      "cell_type": "code",
      "source": [
        "a.pop()"
      ],
      "metadata": {
        "id": "UBFbw-8pG7TJ"
      },
      "execution_count": null,
      "outputs": []
    },
    {
      "cell_type": "code",
      "source": [
        "a"
      ],
      "metadata": {
        "id": "zqF2-ZS6G82H"
      },
      "execution_count": null,
      "outputs": []
    },
    {
      "cell_type": "code",
      "source": [
        "a = [1,2,3]\n",
        "a.pop()"
      ],
      "metadata": {
        "id": "O37QoG7uG_Nn"
      },
      "execution_count": null,
      "outputs": []
    },
    {
      "cell_type": "code",
      "source": [
        "b = {1,2,3}\n",
        "b.pop()"
      ],
      "metadata": {
        "id": "KZAeHhVOHBxA"
      },
      "execution_count": null,
      "outputs": []
    },
    {
      "cell_type": "code",
      "source": [
        "a.pop()"
      ],
      "metadata": {
        "id": "2OcyTX-tHDwR"
      },
      "execution_count": null,
      "outputs": []
    },
    {
      "cell_type": "code",
      "source": [
        "b"
      ],
      "metadata": {
        "id": "2uL4qkQ1HHu8"
      },
      "execution_count": null,
      "outputs": []
    },
    {
      "cell_type": "code",
      "source": [
        "b.pop()"
      ],
      "metadata": {
        "id": "iaoY9dCWHIcR"
      },
      "execution_count": null,
      "outputs": []
    },
    {
      "cell_type": "code",
      "source": [
        "b"
      ],
      "metadata": {
        "id": "xTauYICzHQ0L"
      },
      "execution_count": null,
      "outputs": []
    },
    {
      "cell_type": "code",
      "source": [
        "x = {1,2,3}"
      ],
      "metadata": {
        "id": "kAl5wUEkHc_P"
      },
      "execution_count": null,
      "outputs": []
    },
    {
      "cell_type": "code",
      "source": [
        "y = {1,2,3}\n",
        "y.issubset(x)"
      ],
      "metadata": {
        "id": "jfT3vHoyHgKN"
      },
      "execution_count": null,
      "outputs": []
    },
    {
      "cell_type": "code",
      "source": [
        "a = \"naga is a tutor. he is also a student\"\n",
        "b = a.capitalize()\n",
        "a"
      ],
      "metadata": {
        "id": "9JJYYMHJHqZW"
      },
      "execution_count": null,
      "outputs": []
    },
    {
      "cell_type": "code",
      "source": [
        "a.count(\"tutor\")\n",
        "a.count(\"is\")"
      ],
      "metadata": {
        "id": "xK7kP-TXI00I"
      },
      "execution_count": null,
      "outputs": []
    },
    {
      "cell_type": "code",
      "source": [
        "a.find(\"is\",6)"
      ],
      "metadata": {
        "id": "JFyMkfUHJLXh"
      },
      "execution_count": null,
      "outputs": []
    },
    {
      "cell_type": "code",
      "source": [
        "a.islower()"
      ],
      "metadata": {
        "id": "swxqZIYPJgLB"
      },
      "execution_count": null,
      "outputs": []
    },
    {
      "cell_type": "code",
      "source": [
        "a"
      ],
      "metadata": {
        "id": "9jmqeovoJ4qY"
      },
      "execution_count": null,
      "outputs": []
    },
    {
      "cell_type": "code",
      "source": [
        "a.join()"
      ],
      "metadata": {
        "id": "CwL2ndyFKI6A"
      },
      "execution_count": null,
      "outputs": []
    },
    {
      "cell_type": "code",
      "source": [
        "a"
      ],
      "metadata": {
        "id": "weGqkPAxKOVY"
      },
      "execution_count": null,
      "outputs": []
    },
    {
      "cell_type": "code",
      "source": [
        "'.'.join([\"192\",\"168\",\"50\",\"100\"])"
      ],
      "metadata": {
        "id": "uIEA1k1wKO_E"
      },
      "execution_count": null,
      "outputs": []
    },
    {
      "cell_type": "code",
      "source": [
        "a = \"abcd\"\n",
        "','.join(a)"
      ],
      "metadata": {
        "id": "27ND_DoOK3B3"
      },
      "execution_count": null,
      "outputs": []
    },
    {
      "cell_type": "code",
      "source": [
        "x = \"Naga is a student ?\"\n",
        "x.endswith(\"?\")"
      ],
      "metadata": {
        "id": "f09HMN4ULHbq"
      },
      "execution_count": null,
      "outputs": []
    },
    {
      "cell_type": "markdown",
      "source": [
        "#Conditional Operators\n",
        "#==\n",
        "#>=\n",
        "#<=\n",
        "#>\n",
        "#<\n",
        "#!="
      ],
      "metadata": {
        "id": "SweIkKzlM0UG"
      }
    },
    {
      "cell_type": "code",
      "source": [
        "a = 8\n",
        "b = 8\n",
        "if(a>b):#True/False\n",
        "  #do something in case of condition True\n",
        "  print(\"a is greater\")\n",
        "  print(\"go to else in case a isnot greater.\")\n",
        "elif(b>a):\n",
        "  #do something else in case of condition False\n",
        "  print(\"b is greater\")\n",
        "else:\n",
        "  print(\"a and b are equal\")\n",
        "#print(\"a is greater\")"
      ],
      "metadata": {
        "id": "cAA35a9oLVvS"
      },
      "execution_count": null,
      "outputs": []
    },
    {
      "cell_type": "markdown",
      "source": [
        "#Write a program to determine if a given data is a number"
      ],
      "metadata": {
        "id": "EyDdU7S0PFHj"
      }
    },
    {
      "cell_type": "code",
      "source": [
        "a = \"123\"\n",
        "type(a)"
      ],
      "metadata": {
        "id": "UJZtM6t4MUvH"
      },
      "execution_count": null,
      "outputs": []
    },
    {
      "cell_type": "code",
      "source": [
        "if(type(a) == int):\n",
        "  print(\"Given a is an integer\")\n",
        "else:\n",
        "  print(\"Given a is not an integer\")"
      ],
      "metadata": {
        "id": "0fERhp--MV35"
      },
      "execution_count": null,
      "outputs": []
    },
    {
      "cell_type": "markdown",
      "source": [
        "#Write a program to determine if string is lower or upper"
      ],
      "metadata": {
        "id": "SJMGL7hNQJwd"
      }
    },
    {
      "cell_type": "code",
      "source": [
        "a = \"Naga1234\"\n",
        "if(a.islower()):\n",
        "  print(\"a is in lower case\")\n",
        "else:\n",
        "  print(\"No. a is not in lower case\")"
      ],
      "metadata": {
        "id": "68OkwxmQPbF5"
      },
      "execution_count": null,
      "outputs": []
    },
    {
      "cell_type": "markdown",
      "source": [
        "#Write a program to determine if a given string is alphanum"
      ],
      "metadata": {
        "id": "pV-FplW0Qk8a"
      }
    },
    {
      "cell_type": "code",
      "source": [
        "if(a.isalnum()):\n",
        "  print(\"Yes a is alphanumeric\")\n",
        "else:\n",
        "\n",
        "  print(\"No. as is not alphanumeric\")"
      ],
      "metadata": {
        "id": "eUlhJGtJQbYq"
      },
      "execution_count": null,
      "outputs": []
    },
    {
      "cell_type": "code",
      "source": [
        "#Determine if a given list is empty ot not empty\n",
        "a = [1,2,3,4]\n",
        "if(len(a) == 0):\n",
        "  print(\"given list a is empty\")\n",
        "else:\n",
        "  print(\"No. GIven list a has elements in it\")"
      ],
      "metadata": {
        "id": "50vsuSyfQzGa"
      },
      "execution_count": null,
      "outputs": []
    },
    {
      "cell_type": "code",
      "source": [
        "a = (1,2,3,[4,5,6])\n",
        "#if a contains a list in it\n",
        "if(type(a[3] is list)):\n",
        "  print(\"Yes. a contains list\")\n",
        "else:\n",
        "  print(\"a donot contain lsit\")"
      ],
      "metadata": {
        "id": "apOaKoaWRPHX"
      },
      "execution_count": null,
      "outputs": []
    },
    {
      "cell_type": "code",
      "source": [
        ""
      ],
      "metadata": {
        "id": "Y_9fqMsuS40J"
      },
      "execution_count": null,
      "outputs": []
    },
    {
      "cell_type": "markdown",
      "source": [
        "#19th April 2022\n",
        "#Conditional statements and some more programs"
      ],
      "metadata": {
        "id": "sGyzFMYS-7AA"
      }
    },
    {
      "cell_type": "code",
      "source": [
        "#Comments and indendation\n",
        "#This is a sample Program for conditional statements \n",
        "#Below logic is for calculation of Compound interest or a Loan Interest based on the Principle amount and tenure\n",
        "#1. Input from User : Principle and tenure\n",
        "#2. Storing the inputs from UI to variables and Submitting them in the formulae\n",
        "#3. Calculate the logic as per formulae\n",
        "#4. Print the interest component : User UI\n",
        "\n",
        "#Indendation: Plays an important role in Python for it to interpret the logic correctly. \n",
        "#def Sum_Two_numbers():\n",
        "#    a = 1\n",
        "#    b = 2\n",
        "#    c = a+b\n",
        "#    print(c) "
      ],
      "metadata": {
        "id": "CNWnKLgGEunl"
      },
      "execution_count": null,
      "outputs": []
    },
    {
      "cell_type": "code",
      "source": [
        "#input()\n",
        "#Take input from User and determine if its a non zero value.\n",
        "a = input(\"Enter a number to determine is it is a non zero value:\")\n",
        "type(a)\n",
        "if(int(a) != 0):\n",
        "  print(\"Entered number {}  is a non zero value\".format(a))\n",
        "else:\n",
        "  print(\"Entered number {}  is a zero value\".format(a))"
      ],
      "metadata": {
        "id": "1iYGQ67xHOs7"
      },
      "execution_count": null,
      "outputs": []
    },
    {
      "cell_type": "code",
      "source": [
        "#take input form user and do type casting\n",
        "a = input(\"Enter a number\")\n",
        "b = int(a)\n",
        "print(b)"
      ],
      "metadata": {
        "id": "Llj2uq4GNxd8"
      },
      "execution_count": null,
      "outputs": []
    },
    {
      "cell_type": "code",
      "source": [
        "#Determine if the given 3 numbers can be a fit for forming a triangle\n",
        "#a + b >= c\n",
        "#b + c >= a\n",
        "#c + a >= b\n",
        "first_side = int(input(\"Enter the first side: \"))\n",
        "Second_side = int(input(\"Enter the second side: \"))\n",
        "Third_side = int(input(\"Enter the third side: \"))\n",
        "if((first_side <= 0) or (Second_side <= 0) or (Third_side <= 0)):\n",
        "  print(\"Enter proper values.\")\n",
        "else:\n",
        "  if((first_side + Second_side >= Third_side) and (Second_side + Third_side >= first_side) and (first_side + Third_side >= Second_side)):\n",
        "    print(\"Entered data or sides can form a triangle\")\n",
        "  else:\n",
        "    print(\"Entered data or sides cannot form a triangle\")\n",
        "print(\"Please continue running it to check fora different combo\")"
      ],
      "metadata": {
        "id": "7DqjC6bf-9P-"
      },
      "execution_count": null,
      "outputs": []
    },
    {
      "cell_type": "code",
      "source": [
        "#Determine type of Triangle based on the 3 sides given\n",
        "#Equilateral : if all the 3 sides are equal\n",
        "#Isosceles : if any two sides are equal\n",
        "#Scalene : If none of the sides are equal\n",
        "\n",
        "#Steps will determine if the given inputs values can form a triangle or not\n",
        "first_side = int(input(\"Enter the first side: \"))\n",
        "Second_side = int(input(\"Enter the second side: \"))\n",
        "Third_side = int(input(\"Enter the third side: \"))\n",
        "\n",
        "#First validate the inputs data : Check for non zero and check for positive values\n",
        "if((first_side <= 0) or (Second_side <= 0) or (Third_side <= 0)):\n",
        "  print(\"Enter proper values.\")\n",
        "else:\n",
        "  #If the given sides form a triangle or not \n",
        "  if((first_side + Second_side >= Third_side) and (Second_side + Third_side >= first_side) and (first_side + Third_side >= Second_side)):\n",
        "    print(\"Entered data or sides can form a triangle\")\n",
        "    #Steps for determining the type of triangle\n",
        "    if(first_side == Second_side):\n",
        "      if(first_side == Third_side):\n",
        "        print(\"Given sides are an equilateral triangle\")\n",
        "      else:\n",
        "        print(\"Given sidea form an isosceles triangle\")\n",
        "    else:\n",
        "      if(Second_side == Third_side):\n",
        "        print(\"Given sidea form an isosceles triangle\")\n",
        "      else:\n",
        "        print(\"Given sidea form a scalene triangle\")\n",
        "  else:\n",
        "    print(\"Entered data or sides cannot form a triangle\")\n",
        "print(\"Please continue running it to check fora different combo\")"
      ],
      "metadata": {
        "id": "MDTR_zwI_Hgr"
      },
      "execution_count": null,
      "outputs": []
    },
    {
      "cell_type": "code",
      "source": [
        "#Determine if a given number is a even or odd number\n",
        "#even -> number divisible by 2 => reminder when divided by 2 is 0\n",
        "#odd -> number not divisible by 2 => reminder when divided by 2 is 1\n",
        "a = input(\"Enter the number to be determined as even or odd:\")\n",
        "b = int(a)\n",
        "if(b%2 == 0):\n",
        "  print(\"Entered number is even number\")\n",
        "else:\n",
        "  print(\"Entered number is odd number\")"
      ],
      "metadata": {
        "id": "jYtbi_G9_YV-"
      },
      "execution_count": null,
      "outputs": []
    },
    {
      "cell_type": "code",
      "source": [
        "#Palindrome => xyx, aka, rotor, refer, redivider, kayak\n",
        "a = input(\"Enter a string to be determined as a palindrome: \")\n",
        "#print(a)\n",
        "#print(b)\n",
        "if(len(a) > 1):\n",
        "  b = a[::-1]\n",
        "  if(a == b):\n",
        "    print(\"Given string is a Palindrome\")\n",
        "  else:\n",
        "    print(\"Given string is not a Palindrome\")\n",
        "else:\n",
        "  print(\"Enter a valid input\")"
      ],
      "metadata": {
        "id": "OlarqGbU_XXf"
      },
      "execution_count": null,
      "outputs": []
    },
    {
      "cell_type": "code",
      "source": [
        "#Determine the fitness of a person based on BMI\n",
        "#BMI = Weight/Height**2\n",
        "#Underweight = <18.5\n",
        "#Normal weight = 18.5–24.9\n",
        "#Overweight = 25–29.9\n",
        "#Obesity = BMI of 30 or greater\n",
        "Weight = float(input(\"Enter your weight in Kgs: \"))\n",
        "Height = float(input(\"Enter your height in meters: \"))\n",
        "BMI = Weight/Height**2\n",
        "if(BMI < 18.5):\n",
        "  print(\"You are Underweght\")\n",
        "elif(BMI >=18.5 and BMI<=24.9):\n",
        "  print(\"You are Normal Weight\")\n",
        "elif(BMI>24.9 and BMI<=29.9):\n",
        "  print(\"You are Overweight\")\n",
        "else:\n",
        "  print(\"You are obese\")"
      ],
      "metadata": {
        "id": "oIhfZIMIYe8y"
      },
      "execution_count": null,
      "outputs": []
    },
    {
      "cell_type": "code",
      "source": [
        "#Determine the pass fail in exams based on the average percentage entered by the user\n",
        "#Percentage >=85 => Distinction\n",
        "#Percentage >=75 and <85 => A grade\n",
        "#Percentage >=65 and <75 => B grade\n",
        "#Percentage >=55 and <65 => C grade\n",
        "#Percentage >=40 and <55 => D grade\n",
        "#Percenrage < 40 => Fail\n",
        "a = int(input(\"Enter The percentage for determining the pass / fail: \"))\n",
        "if(a >= 85):\n",
        "  print(\"You have passed in Distinction\")\n",
        "elif(a >=75 and a<85):\n",
        "  print(\"You have passed with A grade\")\n",
        "elif(a >=65 and a<75):\n",
        "  print(\"You have passed with B grade\")\n",
        "elif(a >=55 and a<65):\n",
        "  print(\"You have passed with C grade\")\n",
        "elif(a >=40 and a<55):\n",
        "  print(\"You have passed with D grade\")\n",
        "else:\n",
        "  print(\"Sorry.You are Failed.\")"
      ],
      "metadata": {
        "id": "eW6JHizDZphl"
      },
      "execution_count": null,
      "outputs": []
    },
    {
      "cell_type": "markdown",
      "source": [
        "#20 April 2022\n",
        "#Lambda functionality\n",
        "#Some More programs in if else and elif"
      ],
      "metadata": {
        "id": "nQBdrQituZz6"
      }
    },
    {
      "cell_type": "code",
      "source": [
        "#nested if\n",
        "'''\n",
        "if(condition1):\n",
        "   if(condition2):\n",
        "        do something steps\n",
        "   else:\n",
        "        do some other handler steps\n",
        "else:\n",
        "  do nothing steps\n",
        "  if(condition):    \n",
        "'''\n",
        "#write a program to divide two numbers using if else:\n",
        "numr = int(input(\"Enter the numerator\"))\n",
        "deno = int(input(\"Enter the denominator\"))\n",
        "if(deno == 0):\n",
        "  print(\"Please enter a non zero denominator for avoiding run time issues\")\n",
        "else:\n",
        "  print(numr/deno)"
      ],
      "metadata": {
        "id": "8B-JQwXcctnv"
      },
      "execution_count": null,
      "outputs": []
    },
    {
      "cell_type": "code",
      "source": [
        "#Employee : Age retirement yrs left\n",
        "#input : Employee's age\n",
        "#processing: determine the yrs left => 65 - input\n",
        "#output: printing the same on output consolde/pop up\n",
        "Employee_Age = int(input(\"Enter the age to determine your yrs left for retirement\"))\n",
        "if(65-Employee_Age <= 0):\n",
        "  print(\"Sorry. You are already retired.\")\n",
        "else:\n",
        "  print(\"You have still {} years more to go\".format(65 - Employee_Age))"
      ],
      "metadata": {
        "id": "GDHOUfZ_UrgX"
      },
      "execution_count": null,
      "outputs": []
    },
    {
      "cell_type": "code",
      "source": [
        "#first set = {1,2,3}\n",
        "#second set = {2,3}\n",
        "#DEtermine the which is the subset of superset/disjoint sets\n",
        "first_set = set(input(\"Enter your first set: \"))\n",
        "second_set = set(input(\"Enter your second set: \"))\n",
        "if((len(first_set) !=0) and (len(second_set)!=0)):\n",
        "  if(first_set == second_set):\n",
        "    print(\"Both the given sets are equal\")\n",
        "  else:\n",
        "    if(first_set.issubset(second_set)):\n",
        "      print(\"first set is thesubset to second set.\")\n",
        "    elif(second_set.issubset(first_set)):\n",
        "      print(\"second set is thesubset to first set.\")\n",
        "    else:\n",
        "      print(\"Given sets are not subset to any other\")\n",
        "else:\n",
        "  print(\"Please enter non empty Sets\")"
      ],
      "metadata": {
        "id": "8isYX7LRbXEx"
      },
      "execution_count": null,
      "outputs": []
    },
    {
      "cell_type": "code",
      "source": [
        "a = {1,2,3}\n",
        "b = {1,2,3}"
      ],
      "metadata": {
        "id": "r35a4PG6cSdq"
      },
      "execution_count": null,
      "outputs": []
    },
    {
      "cell_type": "code",
      "source": [
        "a = \"Naga\""
      ],
      "metadata": {
        "id": "1Ojdbxg3c_iD"
      },
      "execution_count": null,
      "outputs": []
    },
    {
      "cell_type": "code",
      "source": [
        "a = 1"
      ],
      "metadata": {
        "id": "yLlyBmIsgO85"
      },
      "execution_count": null,
      "outputs": []
    },
    {
      "cell_type": "code",
      "source": [
        "#a = 0\n",
        "##if(a=0):\n",
        "#  print(\"passed\")\n",
        "#if(a==0)"
      ],
      "metadata": {
        "id": "eiEgCoFIgP64"
      },
      "execution_count": null,
      "outputs": []
    },
    {
      "cell_type": "code",
      "source": [
        "#password = alphanumeric\n",
        "password = input(\"Enter your password:\")\n",
        "if(password.isnumeric()):\n",
        "  #print(\"Entered password is not in correct format\")\n",
        "  if(password.isalpha()):\n",
        "    print(\"Entered password is in correct format\")\n",
        "  else:\n",
        "    print(\"Entered password is not in correct format\")  \n",
        "else:\n",
        "  print(\"Entered password is not in correct format\")"
      ],
      "metadata": {
        "id": "vntOkDIOhPwO"
      },
      "execution_count": null,
      "outputs": []
    },
    {
      "cell_type": "code",
      "source": [
        "a = \"Naga\"\n",
        "a.isalnum()"
      ],
      "metadata": {
        "id": "HKSR8D5QjRIM"
      },
      "execution_count": null,
      "outputs": []
    },
    {
      "cell_type": "code",
      "source": [
        "#password \n",
        "#Special characters : @#$&\n",
        "#Alphabets : atleast 1 Capital, atelast 1 small\n",
        "#Atleast 1 number\n",
        "#overall : length 8"
      ],
      "metadata": {
        "id": "4pAKoazdkVM4"
      },
      "execution_count": null,
      "outputs": []
    },
    {
      "cell_type": "code",
      "source": [
        "a = {1,2,3}"
      ],
      "metadata": {
        "id": "RD8UXEIgl2wz"
      },
      "execution_count": null,
      "outputs": []
    },
    {
      "cell_type": "markdown",
      "source": [
        "#21st April 2022"
      ],
      "metadata": {
        "id": "lDuuW8E7YnyQ"
      }
    },
    {
      "cell_type": "code",
      "source": [
        "#password \n",
        "#Special characters : @#$& => Park side\n",
        "#Alphabets : atleast 1 Capital, atelast 1 small\n",
        "#Atleast 1 number\n",
        "#overall : length 8\n",
        "password = input(\"Enter a password: \")\n",
        "if(password.isnumeric()):#if cond 1 => Check for number is present or not in the given password\n",
        "  #Password contains number\n",
        "  if(password.isalpha()):#if cond 2 => Check for password contians alphabets or not\n",
        "    #Password contains alphabets\n",
        "    if(password.isupper()):\n",
        "      #Password contains upper cases : atleast one upper case\n",
        "      if(password.islower()):\n",
        "        #Password contains upper cases : atleast one lower case\n",
        "        print(\"Entered password is in correct format\")\n",
        "      else:\n",
        "        print(\"Entered password is not in correct format due to no lower case\")  \n",
        "    else:\n",
        "      print(\"Entered password is not in correct format due to no upper case\") \n",
        "  else:\n",
        "    print(\"Entered password is not in correct format due to no alphabets\")   \n",
        "else:\n",
        "  print(\"Entered password is not in correct format due to no numbers\")"
      ],
      "metadata": {
        "id": "DZ3WwMEQYqDA"
      },
      "execution_count": null,
      "outputs": []
    },
    {
      "cell_type": "code",
      "source": [
        ""
      ],
      "metadata": {
        "id": "QZ8N4RaNjKP6"
      },
      "execution_count": null,
      "outputs": []
    },
    {
      "cell_type": "markdown",
      "source": [
        "#Looping statement:-"
      ],
      "metadata": {
        "id": "He41jvKVkQ0i"
      }
    },
    {
      "cell_type": "code",
      "source": [
        "#For loop,while loop\n",
        "#3 * 2 => repeated addition\n",
        "#2 *3 => 3 + 3 / 2 + 2 + 2\n",
        "a = 2\n",
        "b = 3\n",
        "mul = 0# a * b\n",
        "for i in range(b):#0,1,2,3,4,5,6,7,8,9\n",
        "  mul = mul + a # a = a + a\n",
        "print(mul)"
      ],
      "metadata": {
        "id": "6VnGyc8JkS4h"
      },
      "execution_count": null,
      "outputs": []
    },
    {
      "cell_type": "code",
      "source": [
        "#For loop,while loop\n",
        "#3 * 2 => repeated addition\n",
        "a = 9\n",
        "b = 3\n",
        "#div = 10 -2 = 8\n",
        "#div = 8 - 2 = 6\n",
        "#div = 6 -2 = 4\n",
        "div = a#a/b\n",
        "counter = 0\n",
        "while(div >= 0):\n",
        "  div = div - b\n",
        "  counter = counter + 1\n",
        "print(counter -1)"
      ],
      "metadata": {
        "id": "WU8u7bxIlYmC"
      },
      "execution_count": null,
      "outputs": []
    },
    {
      "cell_type": "code",
      "source": [
        "a = [1,2,3,4,5]\n",
        "for i in range(len(a)):\n",
        "  print(a[i])"
      ],
      "metadata": {
        "id": "ZMYrYsbJnH70"
      },
      "execution_count": null,
      "outputs": []
    },
    {
      "cell_type": "code",
      "source": [
        "a = [1,2,3,4,5]\n",
        "for i in range(len(a)):\n",
        "  if(i % 2 != 0):\n",
        "    print(a[i])"
      ],
      "metadata": {
        "id": "g2x6PQk4oVTY"
      },
      "execution_count": null,
      "outputs": []
    },
    {
      "cell_type": "code",
      "source": [
        "1 % 2"
      ],
      "metadata": {
        "id": "w276JlP7ok8X"
      },
      "execution_count": null,
      "outputs": []
    },
    {
      "cell_type": "code",
      "source": [
        "a = [1,2,3,4,5]\n",
        "i = 0\n",
        "while i != len(a):\n",
        "  print(a[i])\n",
        "  i+= 1\n",
        "#while and if goes in similar manner in terms of condition  "
      ],
      "metadata": {
        "id": "BEIoAytAoo_K"
      },
      "execution_count": null,
      "outputs": []
    },
    {
      "cell_type": "code",
      "source": [
        "a=(1,2,3,4,5,6)\n",
        "for i in range(len(a)):\n",
        "  print(a[i])"
      ],
      "metadata": {
        "id": "nW7GKPV9pYPj"
      },
      "execution_count": null,
      "outputs": []
    },
    {
      "cell_type": "code",
      "source": [
        "a=(1,2,3,4,5,6)\n",
        "for i in range(len(a)):\n",
        "  if(i %2 != 0): \n",
        "   print(a[i])"
      ],
      "metadata": {
        "id": "UsYq5OTWrpBq"
      },
      "execution_count": null,
      "outputs": []
    },
    {
      "cell_type": "code",
      "source": [
        "given_str = \"motor\"\n",
        "str_search = \"o\"\n",
        "#for i in range(len(given_str)):\n",
        "count = 0\n",
        "for i in given_str:\n",
        "  if(i == str_search):\n",
        "    count+= 1\n",
        "print(count)"
      ],
      "metadata": {
        "id": "zqGy8jkosbfD"
      },
      "execution_count": null,
      "outputs": []
    },
    {
      "cell_type": "code",
      "source": [
        "#Sum of first n numbers\n",
        "n = int(input(\"Enter a number: \"))\n",
        "j = 0\n",
        "for i in range(1,n+1):\n",
        "    j = j+i\n",
        "print(j)\n",
        "\n",
        "#while( i < )\\"
      ],
      "metadata": {
        "id": "7_VBPOPys9KL"
      },
      "execution_count": null,
      "outputs": []
    },
    {
      "cell_type": "markdown",
      "source": [
        "n\n",
        "n*(n-1)*(n-1)*(n-2)*.......n = 1\n",
        "5 = 5*4*3*2*1\n"
      ],
      "metadata": {
        "id": "Vw7ofzgxyR6_"
      }
    },
    {
      "cell_type": "code",
      "source": [
        "#Factorial\n",
        "n = int(input(\"Enter a number: \"))\n",
        "j = 1\n",
        "for i in range(1,n+1):\n",
        "    j = j*i\n",
        "print(j)"
      ],
      "metadata": {
        "id": "7AyQp-d9xOeF"
      },
      "execution_count": null,
      "outputs": []
    },
    {
      "cell_type": "code",
      "source": [
        "#22nd April 2022"
      ],
      "metadata": {
        "id": "KylKqZA_xifp"
      },
      "execution_count": null,
      "outputs": []
    },
    {
      "cell_type": "code",
      "source": [
        "i = 1\n",
        "while i < 6:\n",
        "  print(i)\n",
        "  i += 1\n",
        "else:\n",
        "  print(\"Count down stopped\")\n",
        "print(\"Count down is finished\")"
      ],
      "metadata": {
        "id": "6cYlkZAyk2G5"
      },
      "execution_count": null,
      "outputs": []
    },
    {
      "cell_type": "code",
      "source": [
        "i = 1\n",
        "while i < 6:\n",
        "  print(i)\n",
        "  if (i == 3):\n",
        "    break\n",
        "  i += 1"
      ],
      "metadata": {
        "id": "5jnKmaEqk3jC"
      },
      "execution_count": null,
      "outputs": []
    },
    {
      "cell_type": "code",
      "source": [
        "i = 0\n",
        "while i < 11:\n",
        "  i += 1\n",
        "  if i%2 == 0:#i == 3:\n",
        "    #print(i)\n",
        "    continue\n",
        "  print(i)\n",
        "\n",
        "# Note that number 3 is missing in the result"
      ],
      "metadata": {
        "id": "tc3UFn95k6I9"
      },
      "execution_count": null,
      "outputs": []
    },
    {
      "cell_type": "code",
      "source": [
        "password = \"12345678\"\n",
        "counter = 0\n",
        "\n",
        "while True:\n",
        "    word = input(\"Enter the secret word: \").lower()\n",
        "    counter = counter + 1\n",
        "    if word == password:\n",
        "        print(\"You have logged in successfully\")\n",
        "        break\n",
        "    if word != password and counter > 7: \n",
        "        print(\"Sorry you have exceeded\")\n",
        "        break"
      ],
      "metadata": {
        "id": "Amsa1QQ3lUnX"
      },
      "execution_count": null,
      "outputs": []
    },
    {
      "cell_type": "code",
      "source": [
        "#fact(n) = n*n-1*n-2*n-3*n-4 .... n=1\n",
        "#fact(4) = 4*3*2*1 = \n",
        "num = int(input(\"Enter the number for which you need to calcualte factorial: \"))\n",
        "fact = 1\n",
        "for i in range(1,num+1):\n",
        "  fact = fact * i\n",
        "print(fact)"
      ],
      "metadata": {
        "id": "44BNo9c3oEHG"
      },
      "execution_count": null,
      "outputs": []
    },
    {
      "cell_type": "code",
      "source": [
        "str_search = \"Welcome                                 to      Jacks        technologies!!!\"\n",
        "output_str = \"\"\n",
        "for i in range(len(str_search)):\n",
        "  if(str_search[i] == \" \" and str_search[i+1] == \" \"):\n",
        "    #i+= 1\n",
        "    pass\n",
        "  else:\n",
        "    output_str = output_str + str_search[i]\n",
        "print(output_str)"
      ],
      "metadata": {
        "id": "4XJsbrEjpwGS"
      },
      "execution_count": null,
      "outputs": []
    },
    {
      "cell_type": "code",
      "source": [
        "str_search = \"banana apple strawberry blueberry pineapple\"\n",
        "#\" \" => \",\"\n",
        "output_str = \"\"\n",
        "for i in range(len(str_search)):\n",
        "  if(str_search[i] == \" \"):# and str_search[i+1] == \" \"):\n",
        "     output_str = output_str + \",\"\n",
        "  else:\n",
        "    output_str = output_str + str_search[i]\n",
        "print(output_str)"
      ],
      "metadata": {
        "id": "2Lwx6Af9t_L9"
      },
      "execution_count": null,
      "outputs": []
    },
    {
      "cell_type": "code",
      "source": [
        "#prime number\n",
        "#4 : 1,2,4 . composite\n",
        "#3 :1 and number itself  1 and 3 ; prime\n",
        "#6 : 1,2,3,6 => conposite\n",
        "#7,11,13,17,19 .... => prime\n",
        "num = int(input(\"Enter a number: \"))\n",
        "for i in range(2,num+1):\n",
        "  if((num % i) == 0):\n",
        "    break\n",
        "if(i == num):\n",
        "  print(\"Given number is a prime number\")\n",
        "else:\n",
        "  print(\"Given number is not a prime number\")"
      ],
      "metadata": {
        "id": "0Crk2sdkuk56"
      },
      "execution_count": null,
      "outputs": []
    },
    {
      "cell_type": "code",
      "source": [
        "num = int(input(\"Enter a number: \"))\n",
        "i = 1\n",
        "while(i < num):\n",
        "  i+= 1\n",
        "  if((num % i) == 0):\n",
        "    break\n",
        "\n",
        "if(i == num):\n",
        "  print(\"Given number is a prime number\")\n",
        "else:\n",
        "  print(\"Given number is not a prime number\")"
      ],
      "metadata": {
        "id": "JXGGkWQG3W2A"
      },
      "execution_count": null,
      "outputs": []
    },
    {
      "cell_type": "code",
      "source": [
        ""
      ],
      "metadata": {
        "id": "iTbA6vh04mJ4"
      },
      "execution_count": null,
      "outputs": []
    },
    {
      "cell_type": "markdown",
      "source": [
        "#23rd April 2022\n",
        "Pass statement\n",
        "List and Dict comprehension\n",
        "Ternary operators\n",
        "Python is case sensitive\n",
        "Some references to Python\n",
        "Exercises.ipynb"
      ],
      "metadata": {
        "id": "BQkYbDvxSW9Z"
      }
    },
    {
      "cell_type": "markdown",
      "source": [
        ""
      ],
      "metadata": {
        "id": "b1RYE1HaSZAt"
      }
    },
    {
      "cell_type": "code",
      "source": [
        "#pass statement\n",
        "# Its like do nothing\n",
        "# > 85 Distinction\n",
        "# > 45 Passed\n",
        "#  < 45 Failed\n",
        "a = 46\n",
        "A = 90\n",
        "if(a > 85):\n",
        "  print(\"Pass in distinction\")\n",
        "elif(a > 45):\n",
        "  print(\"Passed\")\n",
        "  #pass\n",
        "elif(a < 45):\n",
        "  print(\"Failed\")\n",
        "else:\n",
        "  #do nothing\n",
        "  pass"
      ],
      "metadata": {
        "id": "RObBvMEeK14E"
      },
      "execution_count": null,
      "outputs": []
    },
    {
      "cell_type": "code",
      "source": [
        "#List Comprehension\n",
        "fruits = [\"apple\",\"mango\",\"kiwi\",\"cherry\"]\n",
        "newlist = []\n",
        "#newlist = [x for x in fruits if 'a' in x]\n",
        "newlist = [x for x in fruits if \"a\" in x]\n",
        "    #newlist.append(x)\n",
        "newlist"
      ],
      "metadata": {
        "id": "IFuMFeobL3VI"
      },
      "execution_count": null,
      "outputs": []
    },
    {
      "cell_type": "code",
      "source": [
        "a = [1,2,3,4,\"naga\",2.5]\n",
        "#Mutable : changed/editable\n",
        "a.append(2.8)\n",
        "a.pop()\n",
        "a\n",
        "for x in a:\n",
        "  print(x)"
      ],
      "metadata": {
        "id": "oRB6aT5iODta"
      },
      "execution_count": null,
      "outputs": []
    },
    {
      "cell_type": "code",
      "source": [
        "a = {\"Naga\":32,\"Arjun\":28}\n",
        "a[\"Naga\"]"
      ],
      "metadata": {
        "id": "zkIQDiR8OuQZ"
      },
      "execution_count": null,
      "outputs": []
    },
    {
      "cell_type": "code",
      "source": [
        "newlist = [x for x in fruits if(\"a\" in x)]"
      ],
      "metadata": {
        "id": "fZ8OTOi6NXSc"
      },
      "execution_count": null,
      "outputs": []
    },
    {
      "cell_type": "code",
      "source": [
        "for i in fruits:\n",
        "  if(\"a\" in i):\n",
        "    newlist.append(i)"
      ],
      "metadata": {
        "id": "WtnTFZnONhnJ"
      },
      "execution_count": null,
      "outputs": []
    },
    {
      "cell_type": "code",
      "source": [
        "newlist"
      ],
      "metadata": {
        "id": "PDAWkSXeN4N6"
      },
      "execution_count": null,
      "outputs": []
    },
    {
      "cell_type": "code",
      "source": [
        "user_input = input(\"Enter your favourite Cuisine:\")\n",
        "menu = [\"Soup\",\"Salad\",\"Italian\",\"Meditterienan\",\"Japanese\",\"Asian\"]\n",
        "menu_detailed = {\"Soup\":[\"Tomato\",\"Corn\",\"Manchow\"],\"Salad\":[\"Green\",\"Vegetable\"],\"Italian\":[\"Pasta\"],\"Meditterienan\":[\"Pork\"],\"Japanese\":[\"Sushi\"],\"Asian\":[\"Spicy\"]}\n",
        "Order = []\n",
        "Specific_Order = {}\n",
        "#for x in menu:\n",
        "#  if(x == user_input):\n",
        "#    Order.append(x)\n",
        "#Order\n",
        "#for x in menu_detailed:\n",
        "#  if x == user_input:\n",
        "#    Specific_Order.update({x:menu_detailed[x]})\n",
        "Order = [x for x in menu if(x == user_input)]\n",
        "Specific_Order = {x:menu_detailed[x] for x in menu_detailed if x==user_input}\n",
        "print(Specific_Order)\n",
        "print(Order)"
      ],
      "metadata": {
        "id": "Cg_Wvc-LN5_6"
      },
      "execution_count": null,
      "outputs": []
    },
    {
      "cell_type": "code",
      "source": [
        "newlist"
      ],
      "metadata": {
        "id": "l-WmQhTgOame"
      },
      "execution_count": null,
      "outputs": []
    },
    {
      "cell_type": "code",
      "source": [
        "#print a new list with all numbers < 5 using list comprehension within given lsit having <10 numbers\n",
        "new_list = [x for x in range(1,10) if(x % 2 == 0)]"
      ],
      "metadata": {
        "id": "mqDrzgpFOyB_"
      },
      "execution_count": null,
      "outputs": []
    },
    {
      "cell_type": "code",
      "source": [
        "new_list"
      ],
      "metadata": {
        "id": "Ai2_zLKmQ85y"
      },
      "execution_count": null,
      "outputs": []
    },
    {
      "cell_type": "code",
      "source": [
        "new_dict = {x:x**0.5 for x in range(1,10)}"
      ],
      "metadata": {
        "id": "Aky6gB7-Q-Sr"
      },
      "execution_count": null,
      "outputs": []
    },
    {
      "cell_type": "code",
      "source": [
        "new_dict"
      ],
      "metadata": {
        "id": "ELjZBN8JR5aP"
      },
      "execution_count": null,
      "outputs": []
    },
    {
      "cell_type": "code",
      "source": [
        "a = [\"Naga\",\"Jack\",\"David\"]\n",
        "b = [\"Apple\",\"Mango\",\"Banana\"]\n",
        "#c = [x,y ]"
      ],
      "metadata": {
        "id": "jV_evswJSBSH"
      },
      "execution_count": null,
      "outputs": []
    },
    {
      "cell_type": "code",
      "source": [
        "sample_dict = {\"Naga\":32,\"Jack\":28,\"David\":65}\n",
        "#for x in sample_dict:\n",
        " # print(sample_dict[x])\n",
        "new_list = [x for x in sample_dict if sample_dict[x] < 65]\n",
        "new_list"
      ],
      "metadata": {
        "id": "MmvVHPNKSXSv"
      },
      "execution_count": null,
      "outputs": []
    },
    {
      "cell_type": "code",
      "source": [
        "#case seneitive and Case In-sensitive\n",
        "#Case sensitive : \n",
        "new_list = [1,2,3]\n",
        "New_list = [3,4,5]\n",
        "print(new_list)\n",
        "print(New_list)\n",
        "#Case Insensitive : "
      ],
      "metadata": {
        "id": "xz2pj5ODUCc5"
      },
      "execution_count": null,
      "outputs": []
    },
    {
      "cell_type": "code",
      "source": [
        "#python References : https://docs.python.org/3/tutorial/index.html"
      ],
      "metadata": {
        "id": "s9Y2TjstVESL"
      },
      "execution_count": null,
      "outputs": []
    },
    {
      "cell_type": "markdown",
      "source": [
        "26th April 2022"
      ],
      "metadata": {
        "id": "LCKkCDKAhL4J"
      }
    },
    {
      "cell_type": "code",
      "source": [
        "#Derive  a dictoinary : {num:num**2}\n",
        "#dict_new = {1:1,2:4,3:9} until num = int(input(\"Enter a number: \"))\n",
        "dict_new = {}\n",
        "user_input = int(input(\"Enter a number:\"))\n",
        "#for x in range(user_input):\n",
        "  #dict_new.update({x:x**2})\n",
        "dict_new = {x:x**2 for x in range(user_input)}\n",
        "dict_new"
      ],
      "metadata": {
        "id": "9wZozHG9WQ3W"
      },
      "execution_count": null,
      "outputs": []
    },
    {
      "cell_type": "code",
      "source": [
        "database = {\"Naga\":32,\"Jack\":28,\"John\":21,\"Mavis\":20,\"Gru\":65,\"Udo\":64}#Name:Age\n",
        "retire_Dict = {}#Only consists of only members whose age is > 60\n",
        "#retire_Dict = {\"Gru\":65,\"Udo\":64}\n",
        "retire_Dict = {x:database[x] for x in database if database[x]>60}\n",
        "retire_Dict"
      ],
      "metadata": {
        "id": "DnTmsbQ1USpe"
      },
      "execution_count": null,
      "outputs": []
    },
    {
      "cell_type": "code",
      "source": [
        "a = 3\n",
        "b = 2\n",
        "if (a<b):\n",
        "  min = a\n",
        "else:\n",
        "  min = b\n",
        "min = a if a < b else b\n",
        "min"
      ],
      "metadata": {
        "id": "gfUM6ynkWRBy"
      },
      "execution_count": null,
      "outputs": []
    },
    {
      "cell_type": "code",
      "source": [
        "a,b = 10,20"
      ],
      "metadata": {
        "id": "VN5K3OhaX7Qb"
      },
      "execution_count": null,
      "outputs": []
    },
    {
      "cell_type": "code",
      "source": [
        "a"
      ],
      "metadata": {
        "id": "Y3tYEbXTYWqB"
      },
      "execution_count": null,
      "outputs": []
    },
    {
      "cell_type": "code",
      "source": [
        "b"
      ],
      "metadata": {
        "id": "HEXEIWneYYIZ"
      },
      "execution_count": null,
      "outputs": []
    },
    {
      "cell_type": "code",
      "source": [
        "a = 5\n",
        "b = 7\n",
        "print(\"a is greater\") if a >b else print(\"b is greater\")"
      ],
      "metadata": {
        "id": "kjF2Ig9vYYf9"
      },
      "execution_count": null,
      "outputs": []
    },
    {
      "cell_type": "code",
      "source": [
        "a = 1\n",
        "b = 2\n",
        "c = 3\n",
        "print(\"a is grater\") if a>b  else(\"b is greater\") if  b>c  else(\"c is grater\")"
      ],
      "metadata": {
        "id": "CIXqJpyZYtBN"
      },
      "execution_count": null,
      "outputs": []
    },
    {
      "cell_type": "code",
      "source": [
        "a = \"Naga\"#4\n",
        "print(\"a is a string\") if (type(a) is str) else print(\"a is a num\") if (type(a) is int) else print(\"a is neither int nor string\")"
      ],
      "metadata": {
        "id": "PIXGAtMQZv7l"
      },
      "execution_count": null,
      "outputs": []
    },
    {
      "cell_type": "code",
      "source": [
        "#Functions and methods"
      ],
      "metadata": {
        "id": "r-7yyIrXbisH"
      },
      "execution_count": null,
      "outputs": []
    },
    {
      "cell_type": "code",
      "source": [
        "#Functions : user defined data types, user defined logic which can be enclosed only once and called any number of times."
      ],
      "metadata": {
        "id": "7dKF-qXlb8Hn"
      },
      "execution_count": null,
      "outputs": []
    },
    {
      "cell_type": "code",
      "source": [
        "def great_2_num(a = 0,b = 0):\n",
        "  if(a > b):\n",
        "    print(\"a is greater\")\n",
        "  else:\n",
        "    print(\"b is greater\")\n",
        "  return 0"
      ],
      "metadata": {
        "id": "0W1nhGGMcUw1"
      },
      "execution_count": null,
      "outputs": []
    },
    {
      "cell_type": "code",
      "source": [
        "great_2_num(2,3)"
      ],
      "metadata": {
        "id": "YWmGQg4ecod-"
      },
      "execution_count": null,
      "outputs": []
    },
    {
      "cell_type": "code",
      "source": [
        "great_2_num(3,2)"
      ],
      "metadata": {
        "id": "I2_RjO6cc0Kc"
      },
      "execution_count": null,
      "outputs": []
    },
    {
      "cell_type": "code",
      "source": [
        "great_2_num(2)"
      ],
      "metadata": {
        "id": "lt85Uj3Vc2Pl"
      },
      "execution_count": null,
      "outputs": []
    },
    {
      "cell_type": "code",
      "source": [
        "#writea function for doing a sum of two numbers,User shall pass dynamically arguments while calling it\n",
        "#return the output value and print it on console\n",
        "def sum(a = 0, b = 0):\n",
        "  return a + b\n",
        "sum(2,3)"
      ],
      "metadata": {
        "id": "4pIbTbI1dBWx"
      },
      "execution_count": null,
      "outputs": []
    },
    {
      "cell_type": "code",
      "source": [
        "#writea function for doing any arithmetic opn of two numbers, User shall pass dynamically arguments including arith opn while calling it\n",
        "#return the output value and print it on console\n",
        "def arith(a = 0, b = 0, oper = \"do nothing\"):#oper = sum, diff, mul, div, moddiv\n",
        "  if (oper == \"sum\"):\n",
        "    return a+b\n",
        "  elif (oper == \"diff\"):\n",
        "    return a-b\n",
        "  elif (oper == \"mul\"):\n",
        "    return a*b\n",
        "  elif (oper == \"div\"):\n",
        "    return a/b\n",
        "  elif (oper == \"moddiv\"):\n",
        "    return a%b\n",
        "  else:\n",
        "    return 0"
      ],
      "metadata": {
        "id": "sanDcvE1eFwm"
      },
      "execution_count": null,
      "outputs": []
    },
    {
      "cell_type": "code",
      "source": [
        "arith(2,3,\"sum\")"
      ],
      "metadata": {
        "id": "pc80pfVIeUau"
      },
      "execution_count": null,
      "outputs": []
    },
    {
      "cell_type": "code",
      "source": [
        "#27th April 2022"
      ],
      "metadata": {
        "id": "1aXwgi7vf2Zd"
      },
      "execution_count": null,
      "outputs": []
    },
    {
      "cell_type": "code",
      "source": [
        "def Sum(a,b):\n",
        "  return a+b\n",
        "c = Sum(2,3)"
      ],
      "metadata": {
        "id": "iw8dkDBbhP1R"
      },
      "execution_count": null,
      "outputs": []
    },
    {
      "cell_type": "code",
      "source": [
        "c"
      ],
      "metadata": {
        "id": "0NjvueglVJ1N"
      },
      "execution_count": null,
      "outputs": []
    },
    {
      "cell_type": "code",
      "source": [
        "def div(num,den):\n",
        "  if(den!= 0):\n",
        "    return num/den\n",
        "  else:\n",
        "    print(\"Invalid input\")\n",
        "    return 0\n",
        "op = div(2,0)"
      ],
      "metadata": {
        "id": "rNV125RNVK8R"
      },
      "execution_count": null,
      "outputs": []
    },
    {
      "cell_type": "code",
      "source": [
        "op"
      ],
      "metadata": {
        "id": "rz-DFQeyVlPD"
      },
      "execution_count": null,
      "outputs": []
    },
    {
      "cell_type": "code",
      "source": [
        "#Sum of first  n numbers\n",
        "def Sum_n_Num(num):\n",
        "  temp = 0\n",
        "  for i in range(1,num+1):\n",
        "    temp+= i\n",
        "  return temp"
      ],
      "metadata": {
        "id": "isJk5Iv1Vl2-"
      },
      "execution_count": null,
      "outputs": []
    },
    {
      "cell_type": "code",
      "source": [
        "Sum_n_Num(10)"
      ],
      "metadata": {
        "id": "Fo_Y95TWWmyQ"
      },
      "execution_count": null,
      "outputs": []
    },
    {
      "cell_type": "code",
      "source": [
        "def Sum_n_Num(num):\n",
        "  return int(num*(num+1)/2)"
      ],
      "metadata": {
        "id": "x7tDlMq5Wqv_"
      },
      "execution_count": null,
      "outputs": []
    },
    {
      "cell_type": "code",
      "source": [
        "#func(str1,str2): return\n",
        "def func(str_a, str_b):\n",
        "  return str_a+\" \"+str_b "
      ],
      "metadata": {
        "id": "1wynRhaPW7mm"
      },
      "execution_count": null,
      "outputs": []
    },
    {
      "cell_type": "code",
      "source": [
        "func(\"Jacks\",\"Technologies\")"
      ],
      "metadata": {
        "id": "-XZKYPgVYO3g"
      },
      "execution_count": null,
      "outputs": []
    },
    {
      "cell_type": "code",
      "source": [
        "mylist = [1,2,3,4]\n",
        "#function : adding/remving print(mylist) and printthe same within the fcuntion\n",
        "def list_changer(lst = []):\n",
        "  mylist.extend(lst)\n",
        "  return mylist\n",
        "list_changer([4])"
      ],
      "metadata": {
        "id": "MXa1GnuYYRgo"
      },
      "execution_count": null,
      "outputs": []
    },
    {
      "cell_type": "code",
      "source": [
        "list_changer([5])"
      ],
      "metadata": {
        "id": "NpKcKz_wZR5X"
      },
      "execution_count": null,
      "outputs": []
    },
    {
      "cell_type": "code",
      "source": [
        "dict_a = {}\n",
        "def func(key,value):\n",
        "  dict_a.update({key:value})\n",
        "  print(dict_a)\n",
        "func(\"Naga\",32)\n",
        "func(\"Jack\",28)\n",
        "func(\"Biden\",60)"
      ],
      "metadata": {
        "id": "qPU18eKIZVrI"
      },
      "execution_count": null,
      "outputs": []
    },
    {
      "cell_type": "code",
      "source": [
        "dict_a"
      ],
      "metadata": {
        "id": "qt67yF3RbgCM"
      },
      "execution_count": null,
      "outputs": []
    },
    {
      "cell_type": "code",
      "source": [
        "#factorial of  num without using for loops\n",
        "def fact(num):\n",
        "  if(num > 0):\n",
        "    return num*fact(num - 1)\n",
        "  else:\n",
        "    return 1\n",
        "fact(5)"
      ],
      "metadata": {
        "id": "L8sRbLAbbhYZ"
      },
      "execution_count": null,
      "outputs": []
    },
    {
      "cell_type": "code",
      "source": [
        "#factorial of a num without using if else conditional statements\n",
        "def fact(num):\n",
        "  temp = 1\n",
        "  for i in range(1,num+1):\n",
        "    temp = temp*i\n",
        "  return temp\n",
        "fact(5)\n",
        "#fact(num) = num*(num-1)*(num-2)*(num-3).......1\n",
        "#fact(3) = 3*2*1 = 6\n",
        "#fact(5) = 5*4*3*2*1 = 120"
      ],
      "metadata": {
        "id": "tl2YSzF6d_qY"
      },
      "execution_count": null,
      "outputs": []
    },
    {
      "cell_type": "code",
      "source": [
        "#prime or composite (num)\n",
        "def prime_comp(num):\n",
        "  for i in range(2,num):#2,3,4,........num-1\n",
        "    if(num % i == 0):\n",
        "      return True\n",
        "      break\n",
        "    else:\n",
        "      continue\n",
        "  return False  \n",
        "print(prime_comp(15))"
      ],
      "metadata": {
        "id": "UwJMaskAeXEH"
      },
      "execution_count": null,
      "outputs": []
    },
    {
      "cell_type": "code",
      "source": [
        "#prime or composite (num)\n",
        "def prime_comp(num):\n",
        "  x = []\n",
        "  x = [i for i in range(2,num) if(num % i == 0)]\n",
        "  return x\n",
        "\n",
        "if(prime_comp(3) != []):\n",
        "  print(\"Composite\")\n",
        "else:\n",
        "  print(\"Prime\")"
      ],
      "metadata": {
        "id": "f1OHSLyggOPW"
      },
      "execution_count": null,
      "outputs": []
    },
    {
      "cell_type": "code",
      "source": [
        "#prime or composite (num)\n",
        "def factors(num):\n",
        "  x = []\n",
        "  x = [i for i in range(2,num) if(num % i == 0)]\n",
        "  return x\n",
        "factors(6)"
      ],
      "metadata": {
        "id": "PPePLZ4lg7ye"
      },
      "execution_count": null,
      "outputs": []
    },
    {
      "cell_type": "code",
      "source": [
        "#determine a num even or odd:\n",
        "def even_odd(num):\n",
        "  return num%2 == 0 \n",
        "x = even_odd(5)\n",
        "print(\"given num is even\") if x else print(\"given num is odd\")"
      ],
      "metadata": {
        "id": "ABJ56MdPh9Fo"
      },
      "execution_count": null,
      "outputs": []
    },
    {
      "cell_type": "code",
      "source": [
        "#absolute num of a given num\n",
        "#abs(num):\n",
        "# -2 = 2\n",
        "# 2 = 2\n",
        "def abs(num):\n",
        "  return -(num) if num<0 else num\n",
        "\n",
        "abs(-10)"
      ],
      "metadata": {
        "id": "ScL9eNbhkuTz"
      },
      "execution_count": null,
      "outputs": []
    },
    {
      "cell_type": "code",
      "source": [
        ""
      ],
      "metadata": {
        "id": "7VRHK-Q5obl8"
      },
      "execution_count": null,
      "outputs": []
    },
    {
      "cell_type": "markdown",
      "source": [
        "#28th April 2022\n",
        "#Scope and life time of a variable\n",
        "#func(*args)\n",
        "#func(**kwrds)\n",
        "\n"
      ],
      "metadata": {
        "id": "xna3saNUl_2P"
      }
    },
    {
      "cell_type": "code",
      "source": [
        "b = 1\n",
        "def sample():\n",
        "  b = 2\n",
        "  print(\"Inside the function: \",b)\n",
        "\n",
        "#print(b)\n",
        "sample()\n",
        "#print(b)"
      ],
      "metadata": {
        "id": "W_wxB_jgpMpg"
      },
      "execution_count": null,
      "outputs": []
    },
    {
      "cell_type": "code",
      "source": [
        "a = 4\n",
        "c = a*2\n",
        "def sample_1():\n",
        "    c = a*3\n",
        "    print(id(c))\n",
        "    print(c)\n",
        "\n",
        "print(c)\n",
        "print(id(c))\n",
        "sample_1()\n",
        "print(c)"
      ],
      "metadata": {
        "id": "9xCfZPMcpw_h"
      },
      "execution_count": null,
      "outputs": []
    },
    {
      "cell_type": "code",
      "source": [
        "x  = 300\n",
        "def sample_2():\n",
        "  print(x,id(x))\n",
        "\n",
        "print(x,id(x))\n",
        "sample_2()"
      ],
      "metadata": {
        "id": "srmR7wVLrdW-"
      },
      "execution_count": null,
      "outputs": []
    },
    {
      "cell_type": "code",
      "source": [
        "x = 300\n",
        "print(x,id(x))\n",
        "print(x,id(x))\n",
        "x = 200\n",
        "print(x,id(x))\n",
        "x = 100\n",
        "print(x,id(x))"
      ],
      "metadata": {
        "id": "KJO28YIsstZF"
      },
      "execution_count": null,
      "outputs": []
    },
    {
      "cell_type": "code",
      "source": [
        "message = \"Hello World!!\"\n",
        "def encypt_1():\n",
        "  method = 1\n",
        "  print(message.encode(method))\n",
        "\n",
        "def encrupt_2():\n",
        "  method = 2\n",
        "  print(message.encode(method))\n",
        "\n",
        "y = m*x + c\n",
        "def y_intercept_1():\n",
        "  c = 0\n",
        "  y = \n",
        "\n",
        "def y_intercept_2():\n",
        "  c = 1\n",
        "  y = "
      ],
      "metadata": {
        "id": "RxX9M36ctIJh"
      },
      "execution_count": null,
      "outputs": []
    },
    {
      "cell_type": "code",
      "source": [
        "CRC = 0\n",
        "def Checksum_8():\n",
        "  CRC = first_byte*0.5+second_byte*0.25\n",
        "\n",
        "def Checksum_16():\n",
        "  CRC = first_byte*0.5*0.5+second_byte*0.25*0.25"
      ],
      "metadata": {
        "id": "9KyLWiHHu0jG"
      },
      "execution_count": null,
      "outputs": []
    },
    {
      "cell_type": "code",
      "source": [
        "#*args\n",
        "#**kwargs\n",
        "def myBiodata(*argv):\n",
        "  for arg in argv:\n",
        "    print(arg)\n",
        "\n",
        "myOrder(\"Naga\",\"32\",\"TrackPant\",\"Shoes\")\n",
        "print(\"****************************************\")\n",
        "myOrder(\"Jack:\",\"Laptop\",\"Charger\",\"Extra RAM Board\",\"keyBoard\")"
      ],
      "metadata": {
        "id": "lyTRNJ0ow5KS"
      },
      "execution_count": null,
      "outputs": []
    },
    {
      "cell_type": "code",
      "source": [
        "def SumofNNum(*Num):\n",
        "  Sum = 0\n",
        "  for i in Num:\n",
        "      Sum = Sum + i\n",
        "  print(Sum)\n",
        "\n",
        "SumofNNum(4,2,6,8,10,25)"
      ],
      "metadata": {
        "id": "NQNkDf0lx6ZM"
      },
      "execution_count": null,
      "outputs": []
    },
    {
      "cell_type": "code",
      "source": [
        "Sum = 0\n",
        "def SumofNNum1(*Num):\n",
        "  for i in Num:\n",
        "      Sum = Sum + i\n",
        "  print(Sum)\n",
        "\n",
        "SumofNNum(4,2,6,8,10,25)"
      ],
      "metadata": {
        "id": "Xu4aDvdY5hNV"
      },
      "execution_count": null,
      "outputs": []
    },
    {
      "cell_type": "code",
      "source": [
        "def update_list(*argc):\n",
        "  student = []\n",
        "  for arg in argc:\n",
        "    student.append(arg)\n",
        "  print(student)\n",
        "\n",
        "update_list(91,90,89,88,85,67)\n",
        "update_list(90,\"-\",85,99,90,100,35)#6 - 1=  5\n",
        "update_list(90,\"-\",85,99,90,100,75)#5 - 1 = 4\n",
        "update_list(90,\"-\",85,99,50)"
      ],
      "metadata": {
        "id": "fqb9X35Pz10D"
      },
      "execution_count": null,
      "outputs": []
    },
    {
      "cell_type": "code",
      "source": [
        "def myFunc(**kwargs):\n",
        "  for key,value in kwargs.items():\n",
        "    print(\"{0} = {1}\".format(key,value))\n",
        "\n",
        "myFunc(Name = \"Raja\",Age = \"32\", Occupation = \"Self_employed\")"
      ],
      "metadata": {
        "id": "YRMmS4k11CRp"
      },
      "execution_count": null,
      "outputs": []
    },
    {
      "cell_type": "code",
      "source": [
        "def student_database(*args,**kwargs):\n",
        "  print(\"args: \",args)\n",
        "  print(\"keywords: \",kwargs)\n",
        "\n",
        "student_database(\"Mamatha\",25,Name = \"Naga\",Marks_SSC = 89,Marks_HSC = 90,Languages = [])"
      ],
      "metadata": {
        "id": "PhOBnRbD3QGz"
      },
      "execution_count": null,
      "outputs": []
    },
    {
      "cell_type": "code",
      "source": [
        "#Create a function : calculate ur bill\n",
        "#Fruits : banana : 30,mango : 100, pomeg:120 = amoutn : 250\n",
        "#total_fruits(banana : 30,mango : 100, pomeg:120)\n",
        "#amount = 250\n",
        "def total_fruits(**fruits):\n",
        "  total_amount = 0\n",
        "  for fruit in fruits.values():\n",
        "    total_amount += fruit\n",
        "  print(total_amount)\n",
        "\n",
        "total_fruits(banana = 30,mango = 100, pomeg=120)\n",
        "total_fruits(banana = 25,beans = 50, onions=20,tomatoes = 40, kiwi = 90)"
      ],
      "metadata": {
        "id": "oGScfDh04Bun"
      },
      "execution_count": null,
      "outputs": []
    },
    {
      "cell_type": "code",
      "source": [
        "#Book stall & stationary\n",
        "#Books : 3 (mech, elec,comp)\n",
        "#Stationary : Pen:, Pencils: Caryons: bags :\n",
        "def udpate_cart(*CustomerDetails,**Items_Itenary):\n",
        "  total_amount = 0\n",
        "  for Item in Items_Itenary.values():\n",
        "    total_amount += Item\n",
        "  print(CustomerDetails[0],\":\",total_amount)\n",
        "  #send_msg(\"Name\",\"contact num\",\"Hi Dear Custoemr name. Thanks for visiting. please visit again\")\n",
        "\n",
        "udpate_cart(\"Naga\",+91-9876543210,Book1 = 30,Book2 = 100, Book3=200)\n",
        "udpate_cart(\"Jack\",Pen = 25,Crayons = 50, Eraser=20,Charts = 40, StickyNotes = 90)"
      ],
      "metadata": {
        "id": "Kj45m7Fy63ig"
      },
      "execution_count": null,
      "outputs": []
    },
    {
      "cell_type": "code",
      "source": [
        "def print_msg(msg):\n",
        "  def printing():\n",
        "    print(msg)\n",
        "  printing()\n",
        "\n",
        "print_msg(\"Hello World!!!\")"
      ],
      "metadata": {
        "id": "nPXUudy881qE"
      },
      "execution_count": null,
      "outputs": []
    },
    {
      "cell_type": "code",
      "source": [
        "def print_msg(msg):\n",
        "  def printing():\n",
        "    print(msg)\n",
        "  return printing\n",
        "\n",
        "another = print_msg(\"Hello World\")\n",
        "another()"
      ],
      "metadata": {
        "id": "1RDWOa3Lh12W"
      },
      "execution_count": null,
      "outputs": []
    },
    {
      "cell_type": "markdown",
      "source": [
        "#functions - nested functions, inner functions\n",
        "#functions as arguments in DS\n",
        "#positional arguments and keyword arguments\n",
        "#factory functions"
      ],
      "metadata": {
        "id": "Ecfs2Vsrh2m8"
      }
    },
    {
      "cell_type": "code",
      "source": [
        "#positional arugments and Keyword arguments\n",
        "#Positonal  must be in the correct order\n",
        "#Keyword : Sicne we are using name/labels so itdonot matter whichever might be the order u pass the args inside the fn call.\n",
        "def print_func(first_Word = \"Hi!!!\", second_word = \"\"):\n",
        "    print(first_Word,\" \",second_word)\n",
        "\n",
        "print_func(second_word = \"Naga\",first_Word=\"Hello!!!\")"
      ],
      "metadata": {
        "id": "FGSofRJK3410"
      },
      "execution_count": null,
      "outputs": []
    },
    {
      "cell_type": "code",
      "source": [
        "def sum(a ,b):\n",
        "  print(a)\n",
        "  print(a+b)\n",
        "sum(2)"
      ],
      "metadata": {
        "id": "3JQh7HUuA--T"
      },
      "execution_count": null,
      "outputs": []
    },
    {
      "cell_type": "code",
      "source": [
        "#1x + 2y = 0\n",
        "#2X + 3y = 3\n",
        "\n",
        "#1 + 2j\n",
        "#3 + 4j"
      ],
      "metadata": {
        "id": "coXEfVCvBN6D"
      },
      "execution_count": null,
      "outputs": []
    },
    {
      "cell_type": "code",
      "source": [
        "#area of rectangle = l * b\n",
        "#are_of_rect(b = 2,l = 2) #jeyword as ur calling it with labels\n",
        "#are_of_rect(2,3) #positional arguments "
      ],
      "metadata": {
        "id": "5bMv60ECD8XF"
      },
      "execution_count": null,
      "outputs": []
    },
    {
      "cell_type": "code",
      "source": [
        "def main():\n",
        "  print(\"Hello World\")\n",
        "\n",
        "if __name__ == \"__main__\":\n",
        "  main()"
      ],
      "metadata": {
        "id": "cccdWsW3Fu7x"
      },
      "execution_count": null,
      "outputs": []
    },
    {
      "cell_type": "code",
      "source": [
        "#lambda :; alias to ur functions\n",
        "#sum(4,5)\n",
        "sum = lambda x,y : x+y\n",
        "sum(2,3)"
      ],
      "metadata": {
        "id": "aAzd2CD7GLwR"
      },
      "execution_count": null,
      "outputs": []
    },
    {
      "cell_type": "code",
      "source": [
        "mul = lambda x,y : x*y\n",
        "mul(9,10)"
      ],
      "metadata": {
        "id": "k33GfjKDKISB"
      },
      "execution_count": null,
      "outputs": []
    },
    {
      "cell_type": "code",
      "source": [
        "#lambda arguments : expression\n",
        "double = lambda x : x*2\n",
        "double(9)"
      ],
      "metadata": {
        "id": "7AfPbMPNKXab"
      },
      "execution_count": null,
      "outputs": []
    },
    {
      "cell_type": "code",
      "source": [
        "def sum(a,b):\n",
        "  return a+b\n",
        "a = [2,3, sum(2,3)]\n",
        "\n",
        "print(a)"
      ],
      "metadata": {
        "id": "D-I6ISmPKm8n"
      },
      "execution_count": null,
      "outputs": []
    },
    {
      "cell_type": "code",
      "source": [
        "def aggregate(lst = []):\n",
        "  total = 0\n",
        "  for i in lst:\n",
        "    total = total + i\n",
        "  return total/len(lst)\n",
        "\n",
        "def update_list(*argc):\n",
        "  student = []\n",
        "  for arg in argc:\n",
        "    if arg is not \"-\":\n",
        "      student.append(arg)\n",
        "  student.append(aggregate(student))\n",
        "  print(student)\n",
        "\n",
        "update_list(91,90,89,88,85,67)\n",
        "update_list(90,\"-\",85,99,90,100,35)#6 - 1=  5\n",
        "update_list(90,\"-\",85,99,90,100,75)#5 - 1 = 4\n",
        "update_list(90,\"-\",85,99,50)"
      ],
      "metadata": {
        "id": "G9q-Sc4-Lx5W"
      },
      "execution_count": null,
      "outputs": []
    },
    {
      "cell_type": "markdown",
      "source": [
        "#2nd May 2022\n"
      ],
      "metadata": {
        "id": "O33zggg4_PEM"
      }
    },
    {
      "cell_type": "code",
      "source": [
        "#write a sample program for lambda  for determining multiplication of two numbers\n",
        "mul_2_num = lambda x,y : x*y\n",
        "mul_2_num(2,3)"
      ],
      "metadata": {
        "colab": {
          "base_uri": "https://localhost:8080/"
        },
        "id": "_aFcRk3Y_Q8k",
        "outputId": "2dcd42ee-c477-4964-c766-a0165caba809"
      },
      "execution_count": 2,
      "outputs": [
        {
          "output_type": "execute_result",
          "data": {
            "text/plain": [
              "6"
            ]
          },
          "metadata": {},
          "execution_count": 2
        }
      ]
    },
    {
      "cell_type": "code",
      "source": [
        "#radians to degrees\n",
        "#degrees to radians\n",
        "#deg(num)#num is  in radians => a value in degrees\n",
        "#rad(num) #num is is degrees => a value in radians\n",
        "#deg(0.5) => 0.5*180/3.14 => 90/3.14 ~= 30\n",
        "deg = lambda x : x*57.295 #given num is radians\n",
        "rad = lambda x : x/57.295 #given num is degrees\n",
        "deg(0.525)\n",
        "lambda pi : 3.14\n",
        "deg = lambda x : (float(x*180)/float(pi))\n",
        "deg(0.525)"
      ],
      "metadata": {
        "colab": {
          "base_uri": "https://localhost:8080/"
        },
        "id": "zdI2FNNJHCMB",
        "outputId": "c75de444-aea8-49af-ad00-cbcd3dab06ca"
      },
      "execution_count": 11,
      "outputs": [
        {
          "output_type": "execute_result",
          "data": {
            "text/plain": [
              "30.095541401273884"
            ]
          },
          "metadata": {},
          "execution_count": 11
        }
      ]
    },
    {
      "cell_type": "code",
      "source": [
        "#lambda : returning square root of a given number\n",
        "sq_rt = lambda x : x**0.5\n",
        "sq_rt(7)"
      ],
      "metadata": {
        "colab": {
          "base_uri": "https://localhost:8080/"
        },
        "id": "XpU4Fu1qIVlJ",
        "outputId": "96cf9980-5810-49f7-8887-28dcf9fcded3"
      },
      "execution_count": 14,
      "outputs": [
        {
          "output_type": "execute_result",
          "data": {
            "text/plain": [
              "2.6457513110645907"
            ]
          },
          "metadata": {},
          "execution_count": 14
        }
      ]
    },
    {
      "cell_type": "code",
      "source": [
        "2**3"
      ],
      "metadata": {
        "colab": {
          "base_uri": "https://localhost:8080/"
        },
        "id": "_-AIQv3sJMn2",
        "outputId": "017d8fe4-5c86-4c1a-f7c3-d2e79458460f"
      },
      "execution_count": 15,
      "outputs": [
        {
          "output_type": "execute_result",
          "data": {
            "text/plain": [
              "8"
            ]
          },
          "metadata": {},
          "execution_count": 15
        }
      ]
    },
    {
      "cell_type": "code",
      "source": [
        "#Home work : lambda function (not using in built functions)\n",
        "reverse_lst = lambda x : x[::-1]"
      ],
      "metadata": {
        "id": "vSudQvSMKw8l"
      },
      "execution_count": 16,
      "outputs": []
    },
    {
      "cell_type": "code",
      "source": [
        "reverse_lst([1,2,3])"
      ],
      "metadata": {
        "colab": {
          "base_uri": "https://localhost:8080/"
        },
        "id": "cH2108F1LJKf",
        "outputId": "bb24af9f-e1c4-437c-f444-8f908d8ba2e6"
      },
      "execution_count": 18,
      "outputs": [
        {
          "output_type": "execute_result",
          "data": {
            "text/plain": [
              "[3, 2, 1]"
            ]
          },
          "metadata": {},
          "execution_count": 18
        }
      ]
    },
    {
      "cell_type": "code",
      "source": [
        "pop_lst = lambda x:x[:-1]\n",
        "a  = [1,2,3,4]\n",
        "b =  pop_lst(a)\n",
        "b"
      ],
      "metadata": {
        "colab": {
          "base_uri": "https://localhost:8080/"
        },
        "id": "QpPmpq-1LLRP",
        "outputId": "abac20d2-edb7-49fb-8d0e-18f980e6be67"
      },
      "execution_count": 22,
      "outputs": [
        {
          "output_type": "execute_result",
          "data": {
            "text/plain": [
              "[1, 2, 3]"
            ]
          },
          "metadata": {},
          "execution_count": 22
        }
      ]
    },
    {
      "cell_type": "code",
      "source": [
        "a"
      ],
      "metadata": {
        "colab": {
          "base_uri": "https://localhost:8080/"
        },
        "id": "-ihGIVyAL1gF",
        "outputId": "01d93246-d3ec-4f04-8213-ee7fa8df4912"
      },
      "execution_count": 20,
      "outputs": [
        {
          "output_type": "execute_result",
          "data": {
            "text/plain": [
              "[1, 2, 3]"
            ]
          },
          "metadata": {},
          "execution_count": 20
        }
      ]
    },
    {
      "cell_type": "code",
      "source": [
        "#inner fucntions\n",
        "def func1(x):#outer\n",
        "  y = 0.5\n",
        "  def func2():#inner\n",
        "    return x**y\n",
        "  a = func2()\n",
        "  print(a)\n",
        "\n",
        "func1(16)"
      ],
      "metadata": {
        "colab": {
          "base_uri": "https://localhost:8080/"
        },
        "id": "ZPS4lis4L2Yc",
        "outputId": "2cffbc0b-7712-40de-db6f-6404198b52d2"
      },
      "execution_count": 30,
      "outputs": [
        {
          "output_type": "stream",
          "name": "stdout",
          "text": [
            "4.0\n"
          ]
        }
      ]
    },
    {
      "cell_type": "code",
      "source": [
        "def outer_fn(text):\n",
        "  def inner_fn():\n",
        "    print(text)\n",
        "  inner_fn()\n",
        "\n",
        "#inner_fn(\"Hello World\")"
      ],
      "metadata": {
        "colab": {
          "base_uri": "https://localhost:8080/",
          "height": 201
        },
        "id": "ToOu4C3GORlW",
        "outputId": "0ef2476a-2b3e-4c41-bf8a-ccb59dbf64b7"
      },
      "execution_count": 34,
      "outputs": [
        {
          "output_type": "error",
          "ename": "NameError",
          "evalue": "ignored",
          "traceback": [
            "\u001b[0;31m---------------------------------------------------------------------------\u001b[0m",
            "\u001b[0;31mNameError\u001b[0m                                 Traceback (most recent call last)",
            "\u001b[0;32m<ipython-input-34-d645e7f366f9>\u001b[0m in \u001b[0;36m<module>\u001b[0;34m()\u001b[0m\n\u001b[1;32m      4\u001b[0m   \u001b[0minner_fn\u001b[0m\u001b[0;34m(\u001b[0m\u001b[0;34m)\u001b[0m\u001b[0;34m\u001b[0m\u001b[0;34m\u001b[0m\u001b[0m\n\u001b[1;32m      5\u001b[0m \u001b[0;34m\u001b[0m\u001b[0m\n\u001b[0;32m----> 6\u001b[0;31m \u001b[0minner_fn\u001b[0m\u001b[0;34m(\u001b[0m\u001b[0;34m\"Hello World\"\u001b[0m\u001b[0;34m)\u001b[0m\u001b[0;34m\u001b[0m\u001b[0;34m\u001b[0m\u001b[0m\n\u001b[0m",
            "\u001b[0;31mNameError\u001b[0m: name 'inner_fn' is not defined"
          ]
        }
      ]
    },
    {
      "cell_type": "code",
      "source": [
        "#Variables of outerfunction is not changed in the below program:\n",
        "def f1():\n",
        "  s = \"I love JacksTechnlogies\"\n",
        "  def f2():\n",
        "    s = \"Me too\"\n",
        "    print(s)\n",
        "  f2()\n",
        "  print(s)\n",
        "\n",
        "f1()"
      ],
      "metadata": {
        "colab": {
          "base_uri": "https://localhost:8080/"
        },
        "id": "-ycQHN4TPpNT",
        "outputId": "30f94ef1-0f9d-4fe9-f08a-8f05e990013f"
      },
      "execution_count": 35,
      "outputs": [
        {
          "output_type": "stream",
          "name": "stdout",
          "text": [
            "Me too\n",
            "I love JacksTechnlogies\n"
          ]
        }
      ]
    },
    {
      "cell_type": "code",
      "source": [
        "#However Variables of outerfunction can be changed in the below program:\n",
        "#using a iterable\n",
        "def f1():\n",
        "  s = [\"I love JacksTechnlogies\"]\n",
        "  def f2():\n",
        "    s[0] = \"Me too\"\n",
        "    print(s)\n",
        "  f2()\n",
        "  print(s)\n",
        "\n",
        "f1()"
      ],
      "metadata": {
        "colab": {
          "base_uri": "https://localhost:8080/"
        },
        "id": "y5IWcL5zQjt_",
        "outputId": "4bd40554-e8be-493e-d229-77a0081bd1c2"
      },
      "execution_count": 36,
      "outputs": [
        {
          "output_type": "stream",
          "name": "stdout",
          "text": [
            "['Me too']\n",
            "['Me too']\n"
          ]
        }
      ]
    },
    {
      "cell_type": "code",
      "source": [
        "#using a keyword => nonlocal\n",
        "def f1():\n",
        "  s = \"I love JacksTechnlogies\"\n",
        "  def f2():\n",
        "    nonlocal s\n",
        "    s = \"Me too\"\n",
        "    print(s)\n",
        "  f2()\n",
        "  print(s)\n",
        "\n",
        "f1()"
      ],
      "metadata": {
        "colab": {
          "base_uri": "https://localhost:8080/"
        },
        "id": "l5bvTe1nRGLO",
        "outputId": "a6d379b4-6690-4018-c143-0248bbb217fd"
      },
      "execution_count": 38,
      "outputs": [
        {
          "output_type": "stream",
          "name": "stdout",
          "text": [
            "Me too\n",
            "Me too\n"
          ]
        }
      ]
    },
    {
      "cell_type": "code",
      "source": [
        "def num1(x):\n",
        "  def num2(y):\n",
        "    return x*y\n",
        "  return num2\n",
        "\n",
        "res = num1(10)\n",
        "print(type(res))\n",
        "print(res(5))"
      ],
      "metadata": {
        "colab": {
          "base_uri": "https://localhost:8080/"
        },
        "id": "qbWaijgERf79",
        "outputId": "ab93a64a-e4a2-4593-feb3-e8db76618a08"
      },
      "execution_count": 44,
      "outputs": [
        {
          "output_type": "stream",
          "name": "stdout",
          "text": [
            "<class 'function'>\n",
            "50\n"
          ]
        }
      ]
    },
    {
      "cell_type": "code",
      "source": [
        "def sum(x,y):\n",
        "  return x+y\n",
        "\n",
        "def given_2_num(x,y):\n",
        "  return sum\n",
        "\n",
        "c = given_2_num(2,3)\n",
        "print(type(c))\n",
        "print(c(2,3))"
      ],
      "metadata": {
        "colab": {
          "base_uri": "https://localhost:8080/"
        },
        "id": "ag64MAJDSovu",
        "outputId": "84b720fe-3a93-42b9-82c6-e7e78e70e276"
      },
      "execution_count": 49,
      "outputs": [
        {
          "output_type": "stream",
          "name": "stdout",
          "text": [
            "<class 'function'>\n",
            "5\n"
          ]
        }
      ]
    },
    {
      "cell_type": "code",
      "source": [
        "def given_2_num(x,y):\n",
        "  def sum(x,y):\n",
        "    return x+y\n",
        "\n",
        "  return sum(x,y)\n",
        "\n",
        "c = given_2_num(2,3)\n",
        "print(type(c))\n",
        "print(c)"
      ],
      "metadata": {
        "colab": {
          "base_uri": "https://localhost:8080/"
        },
        "id": "AQK4zTudTB4E",
        "outputId": "958bfbbe-f820-4535-d4bd-a1c608674b1d"
      },
      "execution_count": 50,
      "outputs": [
        {
          "output_type": "stream",
          "name": "stdout",
          "text": [
            "<class 'int'>\n",
            "5\n"
          ]
        }
      ]
    },
    {
      "cell_type": "code",
      "source": [
        "def func1():\n",
        "  a = 10\n",
        "  def func2(b):\n",
        "    a = 6\n",
        "    print(a+b)\n",
        "  print(a)\n",
        "  func2(3)\n",
        "\n",
        "func1()"
      ],
      "metadata": {
        "colab": {
          "base_uri": "https://localhost:8080/"
        },
        "id": "0UMqRf-JTpOR",
        "outputId": "bf1d6fc3-445a-4300-b45b-df4c64b6ac57"
      },
      "execution_count": 51,
      "outputs": [
        {
          "output_type": "stream",
          "name": "stdout",
          "text": [
            "10\n",
            "9\n"
          ]
        }
      ]
    },
    {
      "cell_type": "code",
      "source": [
        "def fun():\n",
        "  var1 = 10\n",
        "  def gun():\n",
        "    nonlocal var1\n",
        "    var1 = var1 + 10\n",
        "    print(var1)\n",
        "  gun()\n",
        "fun()"
      ],
      "metadata": {
        "colab": {
          "base_uri": "https://localhost:8080/"
        },
        "id": "61MET4RoWdfI",
        "outputId": "3d5523fb-941c-4e34-f5ed-5224c79ba808"
      },
      "execution_count": 55,
      "outputs": [
        {
          "output_type": "stream",
          "name": "stdout",
          "text": [
            "20\n"
          ]
        }
      ]
    },
    {
      "cell_type": "code",
      "source": [
        "g = g+1"
      ],
      "metadata": {
        "id": "GvkBY0ixXoFl"
      },
      "execution_count": 54,
      "outputs": []
    },
    {
      "cell_type": "code",
      "source": [
        ""
      ],
      "metadata": {
        "id": "y9v4Eor1XyyV"
      },
      "execution_count": null,
      "outputs": []
    }
  ]
}