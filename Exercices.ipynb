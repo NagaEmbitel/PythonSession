{
  "nbformat": 4,
  "nbformat_minor": 0,
  "metadata": {
    "colab": {
      "name": "Exercices.ipynb",
      "provenance": [],
      "collapsed_sections": [],
      "authorship_tag": "ABX9TyP1nVRtMf2Mn/93UoNuvZrZ",
      "include_colab_link": true
    },
    "kernelspec": {
      "name": "python3",
      "display_name": "Python 3"
    },
    "language_info": {
      "name": "python"
    }
  },
  "cells": [
    {
      "cell_type": "markdown",
      "metadata": {
        "id": "view-in-github",
        "colab_type": "text"
      },
      "source": [
        "<a href=\"https://colab.research.google.com/github/NagaEmbitel/PythonSession/blob/develop/Exercices.ipynb\" target=\"_parent\"><img src=\"https://colab.research.google.com/assets/colab-badge.svg\" alt=\"Open In Colab\"/></a>"
      ]
    },
    {
      "cell_type": "markdown",
      "source": [
        ""
      ],
      "metadata": {
        "id": "4OQW3Ce-Zr2P"
      }
    },
    {
      "cell_type": "markdown",
      "source": [
        "#Write a program to Find the Maximum Edge of a Triangle"
      ],
      "metadata": {
        "id": "IKuDRUPgZtxq"
      }
    },
    {
      "cell_type": "code",
      "execution_count": null,
      "metadata": {
        "id": "okx1tS4rZo-s"
      },
      "outputs": [],
      "source": [
        ""
      ]
    },
    {
      "cell_type": "markdown",
      "source": [
        "#Return Reminder of given two numbers"
      ],
      "metadata": {
        "id": "HKlNNz3MZ7KC"
      }
    },
    {
      "cell_type": "code",
      "source": [
        ""
      ],
      "metadata": {
        "id": "lrhmitpoZ-d0"
      },
      "execution_count": null,
      "outputs": []
    },
    {
      "cell_type": "markdown",
      "source": [
        "#Given a string a = \"a b c d e f\" remove string with spaces trimmed off in between the alphabets"
      ],
      "metadata": {
        "id": "ONTQYChol6B_"
      }
    },
    {
      "cell_type": "code",
      "source": [
        ""
      ],
      "metadata": {
        "id": "nvfIWMhEmCQu"
      },
      "execution_count": null,
      "outputs": []
    },
    {
      "cell_type": "markdown",
      "source": [
        "#Given a string a = \"jacks technologies\" => Print string in capital letters"
      ],
      "metadata": {
        "id": "ayi44KA4mC4b"
      }
    },
    {
      "cell_type": "code",
      "source": [
        ""
      ],
      "metadata": {
        "id": "h-dH6EEAmMIu"
      },
      "execution_count": null,
      "outputs": []
    },
    {
      "cell_type": "markdown",
      "source": [
        "#Given a string \n",
        "a = \"Peter Piper picked a peck of pickled peppers, A peck of pickled peppers Peter Piper picked; If Peter Piper picked a peck of pickled peppers, Where's the peck of pickled peppers Peter Piper picked?\"\n",
        "#How many times did Peter repeat in the above string and print the answer with a python statement\n",
        "#Use string handling functions "
      ],
      "metadata": {
        "id": "LYHBci5umMxJ"
      }
    },
    {
      "cell_type": "code",
      "source": [
        ""
      ],
      "metadata": {
        "id": "XzkGftB1m7e3"
      },
      "execution_count": null,
      "outputs": []
    },
    {
      "cell_type": "markdown",
      "source": [
        "#In the above example \n",
        "a = \"Peter Piper picked a peck of pickled peppers, A peck of pickled peppers Peter Piper picked; If Peter Piper picked a peck of pickled peppers, Where's the peck of pickled peppers Peter Piper picked?\"\"\n",
        "#Replace all Piper with Parker\n",
        "#Use string handling fucntions"
      ],
      "metadata": {
        "id": "dGaSBcLZnJMF"
      }
    },
    {
      "cell_type": "code",
      "source": [
        ""
      ],
      "metadata": {
        "id": "1RvYpy0Bnw1X"
      },
      "execution_count": null,
      "outputs": []
    },
    {
      "cell_type": "markdown",
      "source": [
        "#Given a password pwd = \"jacks@1234\"\n",
        "Password is always encrypted to maintain security standards. Encrypt the given string with heading 0000 forthe pwd mentioned above using string handling functions other than concatenation"
      ],
      "metadata": {
        "id": "KheoVK49qRTv"
      }
    },
    {
      "cell_type": "code",
      "source": [
        ""
      ],
      "metadata": {
        "id": "xQHpA8Hkq1RG"
      },
      "execution_count": null,
      "outputs": []
    },
    {
      "cell_type": "markdown",
      "source": [
        "#Given a string a = \"jACKS tECHNOLOGIES\"\n",
        "Conver the lower case to upper case and upper case to lower case using a string handling functions"
      ],
      "metadata": {
        "id": "83IuuxUArDBV"
      }
    },
    {
      "cell_type": "code",
      "source": [
        ""
      ],
      "metadata": {
        "id": "jhU_V209rQJ4"
      },
      "execution_count": null,
      "outputs": []
    },
    {
      "cell_type": "markdown",
      "source": [
        ""
      ],
      "metadata": {
        "id": "PnV43C7-m8Hs"
      }
    },
    {
      "cell_type": "markdown",
      "source": [
        "1. Create an empty List say a = [ ]\n",
        "2. Add 3 elements : one element is of Integer type, one element is of Float type and another is a tuple type of size 4. \n",
        "len(tuple) = 4 => 4 elements\n",
        "3. Print 3rd element from tuple\n",
        "4. Try Deleting 2nd element in Tuple\n",
        "5. Try deleting last element from list a."
      ],
      "metadata": {
        "id": "4Cu9eowpZ-om"
      }
    },
    {
      "cell_type": "code",
      "source": [
        ""
      ],
      "metadata": {
        "id": "m0oo3zrgbwKu"
      },
      "execution_count": null,
      "outputs": []
    },
    {
      "cell_type": "markdown",
      "source": [
        "# Given my_dict = {'First': 'Python', 'Second': 'Java', 'Third': 'Ruby'}\n",
        "Print its items correspondingly => \n",
        "* Keys in the given dictionary mydict is :\n",
        "* Values in the given dictionary is:"
      ],
      "metadata": {
        "id": "0dx220N4cgj8"
      }
    },
    {
      "cell_type": "code",
      "source": [
        ""
      ],
      "metadata": {
        "id": "4TuA7johdHV0"
      },
      "execution_count": null,
      "outputs": []
    },
    {
      "cell_type": "markdown",
      "source": [
        "#Given a list a = [1,[2,[3,[4,[5,]]]]] print value  5 on console"
      ],
      "metadata": {
        "id": "Fq_T0ttCfe-B"
      }
    },
    {
      "cell_type": "code",
      "source": [
        ""
      ],
      "metadata": {
        "id": "TKSeMBQHfv0z"
      },
      "execution_count": null,
      "outputs": []
    },
    {
      "cell_type": "markdown",
      "source": [
        "#Given a list a = [1,(2,3),(4),(5),[6,7],(8,9,10)] print value 10 on console"
      ],
      "metadata": {
        "id": "WNGGsMD2fxOz"
      }
    },
    {
      "cell_type": "code",
      "source": [
        ""
      ],
      "metadata": {
        "id": "VG_FXcOQf_Tr"
      },
      "execution_count": null,
      "outputs": []
    },
    {
      "cell_type": "markdown",
      "source": [
        "#Given a list a = [1,2,3,4,5,6,7,8,9,10] \n",
        "1. What is a[::-1]\n",
        "2. What is a[::2]\n",
        "3. What is a[::3]\n",
        "4. what is a[-1:-10:2]\n",
        "5. what is a[-1:-9:2]\n",
        "6. what is a[-10::-2]\n",
        "7. what is a[-10::2]\n",
        "#Try by not running the statement on console"
      ],
      "metadata": {
        "id": "HBJ0t42kgBGV"
      }
    },
    {
      "cell_type": "code",
      "source": [
        ""
      ],
      "metadata": {
        "id": "UXDIZt1zghAy"
      },
      "execution_count": null,
      "outputs": []
    },
    {
      "cell_type": "markdown",
      "source": [
        "#Check the below dictionary and write input statements for printing as shown below:\n",
        "1. Counter  shall increment as 1,2,3 \n",
        "2. My Fav Show in Prime is Movie_2 \n",
        "3. My Fav Show in Netflix is Money_Heist\n",
        "4. One of my Fav Animals is Lion\n",
        "5. One of my Fav Birds is KingFisher"
      ],
      "metadata": {
        "id": "pabHeljUbwqF"
      }
    },
    {
      "cell_type": "code",
      "source": [
        "a = [\\\n",
        "[1,2,3],\\\n",
        "{\"Fav_Animals\":[\"Tiger\",\"Cow\",\"Lion\",\"Elephant\"]},\\\n",
        "{\"Fav_Birds\":(\"Pigeon\",\"Peacock\",\"Eagle\",\"Sparrow\",\"Kingfisher\")},\\\n",
        "{\"Fav_Shows\":[{\"Prime\":(\"Movie_1\",\"Movie_2\")},{\"Netflix\":[\"Money_Heist\",\"Show2\"]}]}\n",
        "]"
      ],
      "metadata": {
        "id": "U9uFPuo9c_Tr"
      },
      "execution_count": null,
      "outputs": []
    },
    {
      "cell_type": "markdown",
      "source": [
        "#Given a tuple a = (1,(2,(3,(4,(5))))) print 5 from the tuple"
      ],
      "metadata": {
        "id": "uRUcxUX6uqX9"
      }
    },
    {
      "cell_type": "code",
      "source": [
        ""
      ],
      "metadata": {
        "id": "LUK5Q3-Tu1gL"
      },
      "execution_count": null,
      "outputs": []
    },
    {
      "cell_type": "code",
      "source": [
        ""
      ],
      "metadata": {
        "id": "b8Oq6xHQu1-V"
      },
      "execution_count": null,
      "outputs": []
    }
  ]
}