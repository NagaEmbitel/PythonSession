{
  "nbformat": 4,
  "nbformat_minor": 0,
  "metadata": {
    "colab": {
      "name": "Nagarjuna_Python_Lab.ipynb",
      "provenance": [],
      "collapsed_sections": [],
      "authorship_tag": "ABX9TyOq2IX6VEzvs2Z0+tAlKLro",
      "include_colab_link": true
    },
    "kernelspec": {
      "name": "python3",
      "display_name": "Python 3"
    },
    "language_info": {
      "name": "python"
    }
  },
  "cells": [
    {
      "cell_type": "markdown",
      "metadata": {
        "id": "view-in-github",
        "colab_type": "text"
      },
      "source": [
        "<a href=\"https://colab.research.google.com/github/NagaEmbitel/PythonSession/blob/develop/Nagarjuna_Python_Lab.ipynb\" target=\"_parent\"><img src=\"https://colab.research.google.com/assets/colab-badge.svg\" alt=\"Open In Colab\"/></a>"
      ]
    },
    {
      "cell_type": "markdown",
      "source": [
        "```\n",
        "# This is Session 4\n",
        "```\n",
        "List : Ordered and Mutable DS => \n",
        "        Indexing => U can invoke the element / data by its position\n",
        "        Mutable => Editable/Can be changed.As below List_a[any index] = Any value\n",
        "        List_a = [1,2,3,4,5,6] \n",
        "        list_b = []\n",
        "Tuple : Ordered and Immutable\n",
        "        Indexing => U can invoke the element / data by its position\n",
        "        Mutable => cant be Editable/Cant be changed. There are very limited functionalities with tuple.\n",
        "\n",
        "Dictionary : Unordered DS and Mutable\n",
        "\n",
        "\n"
      ],
      "metadata": {
        "id": "TbvNQxeReeGF"
      }
    },
    {
      "cell_type": "code",
      "execution_count": null,
      "metadata": {
        "colab": {
          "base_uri": "https://localhost:8080/"
        },
        "id": "_Mrg6ywiW8Xl",
        "outputId": "102a9cfd-e715-4cb1-c7b8-c6807c1b4b37"
      },
      "outputs": [
        {
          "output_type": "stream",
          "name": "stdout",
          "text": [
            "Hello World\n"
          ]
        }
      ],
      "source": [
        "print(\"Hello World\")"
      ]
    },
    {
      "cell_type": "code",
      "source": [
        ""
      ],
      "metadata": {
        "id": "h2LEWnSuhIzV"
      },
      "execution_count": null,
      "outputs": []
    },
    {
      "cell_type": "code",
      "source": [
        "print(\"This is beautiful world!!!\")"
      ],
      "metadata": {
        "colab": {
          "base_uri": "https://localhost:8080/"
        },
        "id": "Z2S19eOEXeYi",
        "outputId": "3ce3148d-be8c-419c-b531-7ecae1d9a883"
      },
      "execution_count": null,
      "outputs": [
        {
          "output_type": "stream",
          "name": "stdout",
          "text": [
            "This is beautiful world!!!\n"
          ]
        }
      ]
    },
    {
      "cell_type": "code",
      "source": [
        "a = 1"
      ],
      "metadata": {
        "id": "O_Adbb41XhTd"
      },
      "execution_count": null,
      "outputs": []
    },
    {
      "cell_type": "code",
      "source": [
        "a = 2"
      ],
      "metadata": {
        "id": "-UOdykcNaj2w"
      },
      "execution_count": null,
      "outputs": []
    },
    {
      "cell_type": "code",
      "source": [
        "a = 20\n",
        "b = 10\n",
        "c = a+ b/2 + 2\n",
        "print(c)\n",
        "c = b%2\n",
        "print(c)"
      ],
      "metadata": {
        "colab": {
          "base_uri": "https://localhost:8080/"
        },
        "id": "wcJT9_0-akln",
        "outputId": "45d5e5f2-2cfc-4c7f-b478-1b4deb90227c"
      },
      "execution_count": null,
      "outputs": [
        {
          "output_type": "stream",
          "name": "stdout",
          "text": [
            "27.0\n",
            "0\n"
          ]
        }
      ]
    },
    {
      "cell_type": "code",
      "source": [
        "a = \"This is Nagarjuna\"\n",
        "b = \"\\nHello World\"\n",
        "c = a+b\n",
        "print(c)"
      ],
      "metadata": {
        "colab": {
          "base_uri": "https://localhost:8080/"
        },
        "id": "cbhvlnEMdLiW",
        "outputId": "bdc5891a-ee69-4cc3-9eb9-79ec290c4f48"
      },
      "execution_count": null,
      "outputs": [
        {
          "output_type": "stream",
          "name": "stdout",
          "text": [
            "This is Nagarjuna\n",
            "Hello World\n"
          ]
        }
      ]
    },
    {
      "cell_type": "code",
      "source": [
        "a\n",
        "type(a)"
      ],
      "metadata": {
        "colab": {
          "base_uri": "https://localhost:8080/"
        },
        "id": "yp7LEpGBfPrt",
        "outputId": "2ddccf90-d32f-4648-cdd8-5e0b4302818d"
      },
      "execution_count": null,
      "outputs": [
        {
          "output_type": "execute_result",
          "data": {
            "text/plain": [
              "str"
            ]
          },
          "metadata": {},
          "execution_count": 21
        }
      ]
    },
    {
      "cell_type": "code",
      "source": [
        "help(print)"
      ],
      "metadata": {
        "colab": {
          "base_uri": "https://localhost:8080/"
        },
        "id": "1wUJQeOwffZ-",
        "outputId": "43d0ded3-4641-4c67-da3c-d4e320e2d805"
      },
      "execution_count": null,
      "outputs": [
        {
          "output_type": "stream",
          "name": "stdout",
          "text": [
            "Help on built-in function print in module builtins:\n",
            "\n",
            "print(...)\n",
            "    print(value, ..., sep=' ', end='\\n', file=sys.stdout, flush=False)\n",
            "    \n",
            "    Prints the values to a stream, or to sys.stdout by default.\n",
            "    Optional keyword arguments:\n",
            "    file:  a file-like object (stream); defaults to the current sys.stdout.\n",
            "    sep:   string inserted between values, default a space.\n",
            "    end:   string appended after the last value, default a newline.\n",
            "    flush: whether to forcibly flush the stream.\n",
            "\n"
          ]
        }
      ]
    },
    {
      "cell_type": "code",
      "source": [
        "a"
      ],
      "metadata": {
        "colab": {
          "base_uri": "https://localhost:8080/",
          "height": 35
        },
        "id": "qE2_lwGMfaGU",
        "outputId": "2e428942-c3fe-4ccc-c59e-8505e0519282"
      },
      "execution_count": null,
      "outputs": [
        {
          "output_type": "execute_result",
          "data": {
            "text/plain": [
              "'This is Nagarjuna'"
            ],
            "application/vnd.google.colaboratory.intrinsic+json": {
              "type": "string"
            }
          },
          "metadata": {},
          "execution_count": 22
        }
      ]
    },
    {
      "cell_type": "code",
      "source": [
        "a.__add__(\"Hello World\")"
      ],
      "metadata": {
        "colab": {
          "base_uri": "https://localhost:8080/",
          "height": 35
        },
        "id": "0TmyYWJvfdvF",
        "outputId": "d737e048-0c42-4410-ac09-0ece147741f2"
      },
      "execution_count": null,
      "outputs": [
        {
          "output_type": "execute_result",
          "data": {
            "text/plain": [
              "'This is NagarjunaHello World'"
            ],
            "application/vnd.google.colaboratory.intrinsic+json": {
              "type": "string"
            }
          },
          "metadata": {},
          "execution_count": 24
        }
      ]
    },
    {
      "cell_type": "code",
      "source": [
        "b = \"Naga\"\n",
        "b.__eq__(\"Naga\")"
      ],
      "metadata": {
        "colab": {
          "base_uri": "https://localhost:8080/"
        },
        "id": "169XWl9Eglil",
        "outputId": "5b85c10d-9a5f-4114-9f47-2f10a2443cbd"
      },
      "execution_count": null,
      "outputs": [
        {
          "output_type": "execute_result",
          "data": {
            "text/plain": [
              "True"
            ]
          },
          "metadata": {},
          "execution_count": 32
        }
      ]
    },
    {
      "cell_type": "code",
      "source": [
        "a.__contains__(\"Nagarjuna\")"
      ],
      "metadata": {
        "colab": {
          "base_uri": "https://localhost:8080/"
        },
        "id": "H4AbVH1KiEwT",
        "outputId": "7cc0e5dc-1d2a-46af-b180-10238a5af42b"
      },
      "execution_count": null,
      "outputs": [
        {
          "output_type": "execute_result",
          "data": {
            "text/plain": [
              "True"
            ]
          },
          "metadata": {},
          "execution_count": 38
        }
      ]
    },
    {
      "cell_type": "code",
      "source": [
        "a = \"This is fourth Session of Python\"\n",
        "a.__contains__(\"PYTHON\")"
      ],
      "metadata": {
        "colab": {
          "base_uri": "https://localhost:8080/"
        },
        "id": "ijtdLfC0iiUU",
        "outputId": "923bb172-49dd-44dd-df8d-4c9d1146164a"
      },
      "execution_count": null,
      "outputs": [
        {
          "output_type": "execute_result",
          "data": {
            "text/plain": [
              "False"
            ]
          },
          "metadata": {},
          "execution_count": 42
        }
      ]
    },
    {
      "cell_type": "code",
      "source": [
        "a.__hash__()"
      ],
      "metadata": {
        "colab": {
          "base_uri": "https://localhost:8080/"
        },
        "id": "FAsS2DyHi00O",
        "outputId": "883a295d-cea5-48ac-9854-b665857bf4a0"
      },
      "execution_count": null,
      "outputs": [
        {
          "output_type": "execute_result",
          "data": {
            "text/plain": [
              "-1124925241908515088"
            ]
          },
          "metadata": {},
          "execution_count": 43
        }
      ]
    },
    {
      "cell_type": "code",
      "source": [
        "a.find(\"Python\")"
      ],
      "metadata": {
        "colab": {
          "base_uri": "https://localhost:8080/"
        },
        "id": "S3hj_LS5i-zq",
        "outputId": "11ffcc2e-77f4-41b9-a0ba-6466eae61411"
      },
      "execution_count": null,
      "outputs": [
        {
          "output_type": "execute_result",
          "data": {
            "text/plain": [
              "26"
            ]
          },
          "metadata": {},
          "execution_count": 45
        }
      ]
    },
    {
      "cell_type": "code",
      "source": [
        "#Indexing\n",
        "print(a[0])\n",
        "print(a[1])\n",
        "print(a[10])\n",
        "print(a[26])"
      ],
      "metadata": {
        "colab": {
          "base_uri": "https://localhost:8080/"
        },
        "id": "ItgYAJaZjI-W",
        "outputId": "593ce9e1-55fd-4d78-cef3-bef6384363a2"
      },
      "execution_count": null,
      "outputs": [
        {
          "output_type": "stream",
          "name": "stdout",
          "text": [
            "T\n",
            "h\n",
            "u\n",
            "P\n"
          ]
        }
      ]
    },
    {
      "cell_type": "code",
      "source": [
        "#Slicing\n",
        "a[8:15]"
      ],
      "metadata": {
        "colab": {
          "base_uri": "https://localhost:8080/",
          "height": 35
        },
        "id": "SpG6fBNekHZI",
        "outputId": "fbaea45b-7a95-44b2-de4d-a10d3d6430ac"
      },
      "execution_count": null,
      "outputs": [
        {
          "output_type": "execute_result",
          "data": {
            "text/plain": [
              "'fourth '"
            ],
            "application/vnd.google.colaboratory.intrinsic+json": {
              "type": "string"
            }
          },
          "metadata": {},
          "execution_count": 57
        }
      ]
    },
    {
      "cell_type": "code",
      "source": [
        "a[-10:-6]"
      ],
      "metadata": {
        "id": "3-I0Ghr0kdAt"
      },
      "execution_count": null,
      "outputs": []
    },
    {
      "cell_type": "code",
      "source": [
        "a = \"a b c d e f g\""
      ],
      "metadata": {
        "id": "-vWpxsIslNnR"
      },
      "execution_count": null,
      "outputs": []
    },
    {
      "cell_type": "code",
      "source": [
        "a[2]"
      ],
      "metadata": {
        "colab": {
          "base_uri": "https://localhost:8080/",
          "height": 35
        },
        "id": "uy4JJXhkfTEt",
        "outputId": "0bd187b4-4328-4bfb-ac32-e731ec37fce2"
      },
      "execution_count": null,
      "outputs": [
        {
          "output_type": "execute_result",
          "data": {
            "text/plain": [
              "'b'"
            ],
            "application/vnd.google.colaboratory.intrinsic+json": {
              "type": "string"
            }
          },
          "metadata": {},
          "execution_count": 7
        }
      ]
    },
    {
      "cell_type": "code",
      "source": [
        "a[::2]"
      ],
      "metadata": {
        "colab": {
          "base_uri": "https://localhost:8080/",
          "height": 35
        },
        "id": "NSecgckMml1L",
        "outputId": "18b41302-7545-4cf6-e69b-b1ebede4a81c"
      },
      "execution_count": null,
      "outputs": [
        {
          "output_type": "execute_result",
          "data": {
            "text/plain": [
              "'abcdefg'"
            ],
            "application/vnd.google.colaboratory.intrinsic+json": {
              "type": "string"
            }
          },
          "metadata": {},
          "execution_count": 8
        }
      ]
    },
    {
      "cell_type": "code",
      "source": [
        "a[::3]"
      ],
      "metadata": {
        "colab": {
          "base_uri": "https://localhost:8080/",
          "height": 35
        },
        "id": "GJq8ASULg3wO",
        "outputId": "759b676f-5b13-4593-a3f6-c360dc263568"
      },
      "execution_count": null,
      "outputs": [
        {
          "output_type": "execute_result",
          "data": {
            "text/plain": [
              "'a d g'"
            ],
            "application/vnd.google.colaboratory.intrinsic+json": {
              "type": "string"
            }
          },
          "metadata": {},
          "execution_count": 10
        }
      ]
    },
    {
      "cell_type": "code",
      "source": [
        "a[::4]"
      ],
      "metadata": {
        "colab": {
          "base_uri": "https://localhost:8080/",
          "height": 35
        },
        "id": "Q62TSzP_mxQu",
        "outputId": "3f05a008-d670-44a8-b9bb-100d1f1d3083"
      },
      "execution_count": null,
      "outputs": [
        {
          "output_type": "execute_result",
          "data": {
            "text/plain": [
              "'aceg'"
            ],
            "application/vnd.google.colaboratory.intrinsic+json": {
              "type": "string"
            }
          },
          "metadata": {},
          "execution_count": 9
        }
      ]
    },
    {
      "cell_type": "code",
      "source": [
        "a[::5]"
      ],
      "metadata": {
        "colab": {
          "base_uri": "https://localhost:8080/",
          "height": 35
        },
        "id": "iluxOuUAhDrN",
        "outputId": "33d5ed34-6f7a-4c35-f9bb-3b28c14d4148"
      },
      "execution_count": null,
      "outputs": [
        {
          "output_type": "execute_result",
          "data": {
            "text/plain": [
              "'a f'"
            ],
            "application/vnd.google.colaboratory.intrinsic+json": {
              "type": "string"
            }
          },
          "metadata": {},
          "execution_count": 11
        }
      ]
    },
    {
      "cell_type": "code",
      "source": [
        "a[::-1]"
      ],
      "metadata": {
        "colab": {
          "base_uri": "https://localhost:8080/",
          "height": 35
        },
        "id": "iXcJYtIMm2Y3",
        "outputId": "28f5f694-ad71-4188-9692-e511ad529cdf"
      },
      "execution_count": null,
      "outputs": [
        {
          "output_type": "execute_result",
          "data": {
            "text/plain": [
              "'g f e d c b a'"
            ],
            "application/vnd.google.colaboratory.intrinsic+json": {
              "type": "string"
            }
          },
          "metadata": {},
          "execution_count": 81
        }
      ]
    },
    {
      "cell_type": "code",
      "source": [
        "a[::-2]"
      ],
      "metadata": {
        "colab": {
          "base_uri": "https://localhost:8080/",
          "height": 35
        },
        "id": "6WGS97rQoBG7",
        "outputId": "ae56f2b7-6880-4faf-cec2-9ca6cc33a5af"
      },
      "execution_count": null,
      "outputs": [
        {
          "output_type": "execute_result",
          "data": {
            "text/plain": [
              "'gfedcba'"
            ],
            "application/vnd.google.colaboratory.intrinsic+json": {
              "type": "string"
            }
          },
          "metadata": {},
          "execution_count": 82
        }
      ]
    },
    {
      "cell_type": "code",
      "source": [
        "a[::-3]"
      ],
      "metadata": {
        "colab": {
          "base_uri": "https://localhost:8080/",
          "height": 35
        },
        "id": "V-Vlsk-KoXAE",
        "outputId": "9ff317e5-d916-4a84-d3e0-b97f8ee8a078"
      },
      "execution_count": null,
      "outputs": [
        {
          "output_type": "execute_result",
          "data": {
            "text/plain": [
              "'g d a'"
            ],
            "application/vnd.google.colaboratory.intrinsic+json": {
              "type": "string"
            }
          },
          "metadata": {},
          "execution_count": 83
        }
      ]
    },
    {
      "cell_type": "code",
      "source": [
        "print(\"Hello \\nWorld\")"
      ],
      "metadata": {
        "colab": {
          "base_uri": "https://localhost:8080/"
        },
        "id": "IkMuPZUhoYlg",
        "outputId": "6779094e-16b6-489c-e853-c4e3dd9dc4be"
      },
      "execution_count": null,
      "outputs": [
        {
          "output_type": "stream",
          "name": "stdout",
          "text": [
            "Hello \n",
            "World\n"
          ]
        }
      ]
    },
    {
      "cell_type": "code",
      "source": [
        "print(\"Hello \\tWorld\")"
      ],
      "metadata": {
        "colab": {
          "base_uri": "https://localhost:8080/"
        },
        "id": "YJxnsCFnpPbZ",
        "outputId": "975c6154-128c-4b3c-a88a-43cefe091d1a"
      },
      "execution_count": null,
      "outputs": [
        {
          "output_type": "stream",
          "name": "stdout",
          "text": [
            "Hello \tWorld\n"
          ]
        }
      ]
    },
    {
      "cell_type": "code",
      "source": [
        "a = [1,2,3,4,5,6,7,8,9,10,11,12,13] #ordered but mutable"
      ],
      "metadata": {
        "id": "iEuJiYvvpUSE"
      },
      "execution_count": null,
      "outputs": []
    },
    {
      "cell_type": "code",
      "source": [
        "a.append(7)\n",
        "a"
      ],
      "metadata": {
        "id": "9OdaWOYuqbqd",
        "colab": {
          "base_uri": "https://localhost:8080/"
        },
        "outputId": "b9529fcb-e75c-4b18-ab2d-93f6449b13cb"
      },
      "execution_count": null,
      "outputs": [
        {
          "output_type": "execute_result",
          "data": {
            "text/plain": [
              "[1, 2, 3, 4, 5, 6, 7]"
            ]
          },
          "metadata": {},
          "execution_count": 20
        }
      ]
    },
    {
      "cell_type": "code",
      "source": [
        "b = a[::-2]\n",
        "b"
      ],
      "metadata": {
        "colab": {
          "base_uri": "https://localhost:8080/"
        },
        "id": "UsYWy07Zld97",
        "outputId": "99591c4f-5179-456d-f126-65ffff65a447"
      },
      "execution_count": null,
      "outputs": [
        {
          "output_type": "execute_result",
          "data": {
            "text/plain": [
              "[13, 11, 9, 7, 5, 3, 1]"
            ]
          },
          "metadata": {},
          "execution_count": 53
        }
      ]
    },
    {
      "cell_type": "code",
      "source": [
        "b = a[::2]\n",
        "b"
      ],
      "metadata": {
        "colab": {
          "base_uri": "https://localhost:8080/"
        },
        "id": "vpIRt-LpnHkX",
        "outputId": "75d7fa56-0447-4177-d831-421c73a0d167"
      },
      "execution_count": null,
      "outputs": [
        {
          "output_type": "execute_result",
          "data": {
            "text/plain": [
              "[1, 3, 5, 7, 9, 11, 13]"
            ]
          },
          "metadata": {},
          "execution_count": 54
        }
      ]
    },
    {
      "cell_type": "code",
      "source": [
        "a.pop()"
      ],
      "metadata": {
        "colab": {
          "base_uri": "https://localhost:8080/"
        },
        "id": "6ykxkJlXjypC",
        "outputId": "8d48e456-f200-4a95-e420-203f5eadd63f"
      },
      "execution_count": null,
      "outputs": [
        {
          "output_type": "execute_result",
          "data": {
            "text/plain": [
              "7"
            ]
          },
          "metadata": {},
          "execution_count": 21
        }
      ]
    },
    {
      "cell_type": "code",
      "source": [
        "a"
      ],
      "metadata": {
        "colab": {
          "base_uri": "https://localhost:8080/"
        },
        "id": "MGGOBmC7kWkc",
        "outputId": "c669354c-4608-4cf1-d553-71441ff1000c"
      },
      "execution_count": null,
      "outputs": [
        {
          "output_type": "execute_result",
          "data": {
            "text/plain": [
              "[1, 2, 3, 4, 5, 6]"
            ]
          },
          "metadata": {},
          "execution_count": 22
        }
      ]
    },
    {
      "cell_type": "code",
      "source": [
        "a.pop(-1)"
      ],
      "metadata": {
        "colab": {
          "base_uri": "https://localhost:8080/"
        },
        "id": "0cCCwHO3kZDF",
        "outputId": "92e9dab3-ca26-46a2-e16c-fa4ce2665942"
      },
      "execution_count": null,
      "outputs": [
        {
          "output_type": "execute_result",
          "data": {
            "text/plain": [
              "6"
            ]
          },
          "metadata": {},
          "execution_count": 25
        }
      ]
    },
    {
      "cell_type": "code",
      "source": [
        "a"
      ],
      "metadata": {
        "colab": {
          "base_uri": "https://localhost:8080/"
        },
        "id": "_Sr3ZOLAkmvl",
        "outputId": "943db9c2-d542-4d73-80ba-9107b6ca3121"
      },
      "execution_count": null,
      "outputs": [
        {
          "output_type": "execute_result",
          "data": {
            "text/plain": [
              "[1, 2, 3, 5, 6]"
            ]
          },
          "metadata": {},
          "execution_count": 24
        }
      ]
    },
    {
      "cell_type": "code",
      "source": [
        "b = (1,2,3,4,5,6) #ordered but immutable"
      ],
      "metadata": {
        "id": "RukjCrV6pZXi"
      },
      "execution_count": null,
      "outputs": []
    },
    {
      "cell_type": "code",
      "source": [
        "c = {1,2,3,4,5,6,1,2,3,4,5,6} #oredered and Unique entries\n",
        "c"
      ],
      "metadata": {
        "colab": {
          "base_uri": "https://localhost:8080/"
        },
        "id": "RrQXg0Q1pc-W",
        "outputId": "33ef66ad-bc9f-433f-eae8-3f959b7579f7"
      },
      "execution_count": null,
      "outputs": [
        {
          "output_type": "execute_result",
          "data": {
            "text/plain": [
              "{1, 2, 3, 4, 5, 6}"
            ]
          },
          "metadata": {},
          "execution_count": 132
        }
      ]
    },
    {
      "cell_type": "code",
      "source": [
        "d = {\"Name\":\"Naga\", \"Age\":32}"
      ],
      "metadata": {
        "id": "xLhdppgLp-JK"
      },
      "execution_count": null,
      "outputs": []
    },
    {
      "cell_type": "code",
      "source": [
        "a.count(3)"
      ],
      "metadata": {
        "colab": {
          "base_uri": "https://localhost:8080/"
        },
        "id": "G0E_f9FWqJSo",
        "outputId": "cb412f3d-baaf-4323-e783-eace2628e2f9"
      },
      "execution_count": null,
      "outputs": [
        {
          "output_type": "execute_result",
          "data": {
            "text/plain": [
              "1"
            ]
          },
          "metadata": {},
          "execution_count": 105
        }
      ]
    },
    {
      "cell_type": "code",
      "source": [
        "a"
      ],
      "metadata": {
        "colab": {
          "base_uri": "https://localhost:8080/"
        },
        "id": "3Pb_FLolqbJS",
        "outputId": "2e499d23-5bf1-4814-ed73-3f6d4ef1bb0f"
      },
      "execution_count": null,
      "outputs": [
        {
          "output_type": "execute_result",
          "data": {
            "text/plain": [
              "[1, 2, 3, 4, 5, 6, 1, 1, 1]"
            ]
          },
          "metadata": {},
          "execution_count": 110
        }
      ]
    },
    {
      "cell_type": "code",
      "source": [
        "a"
      ],
      "metadata": {
        "colab": {
          "base_uri": "https://localhost:8080/"
        },
        "id": "U3PxlimorVlO",
        "outputId": "60f2ec20-e02c-4957-f044-31a2544eec7e"
      },
      "execution_count": null,
      "outputs": [
        {
          "output_type": "execute_result",
          "data": {
            "text/plain": [
              "[1, 2, 3, 4, 5, 6, 1, 1, 1, 2, 2]"
            ]
          },
          "metadata": {},
          "execution_count": 114
        }
      ]
    },
    {
      "cell_type": "code",
      "source": [
        "b = []\n",
        "b.append(a[1])"
      ],
      "metadata": {
        "id": "WB8eqp6ZrWn_"
      },
      "execution_count": null,
      "outputs": []
    },
    {
      "cell_type": "code",
      "source": [
        "b\n",
        "b.append(a[2])"
      ],
      "metadata": {
        "id": "dkvYkmLRri5B"
      },
      "execution_count": null,
      "outputs": []
    },
    {
      "cell_type": "code",
      "source": [
        "b"
      ],
      "metadata": {
        "colab": {
          "base_uri": "https://localhost:8080/"
        },
        "id": "aUmIqUIPrjWW",
        "outputId": "75f18f00-4ae7-4a11-fc2d-c25988c233ab"
      },
      "execution_count": null,
      "outputs": [
        {
          "output_type": "execute_result",
          "data": {
            "text/plain": [
              "[2, 3]"
            ]
          },
          "metadata": {},
          "execution_count": 122
        }
      ]
    },
    {
      "cell_type": "code",
      "source": [
        "b[0]"
      ],
      "metadata": {
        "colab": {
          "base_uri": "https://localhost:8080/"
        },
        "id": "YQ0UUc6XrqmH",
        "outputId": "4b116d47-15c3-463d-b6d0-c33e2f46faa7"
      },
      "execution_count": null,
      "outputs": [
        {
          "output_type": "execute_result",
          "data": {
            "text/plain": [
              "2"
            ]
          },
          "metadata": {},
          "execution_count": 123
        }
      ]
    },
    {
      "cell_type": "code",
      "source": [
        "b[1]"
      ],
      "metadata": {
        "colab": {
          "base_uri": "https://localhost:8080/"
        },
        "id": "X4nsXzXXrrjf",
        "outputId": "596387c3-2916-4f0f-9e11-8b940f85c23b"
      },
      "execution_count": null,
      "outputs": [
        {
          "output_type": "execute_result",
          "data": {
            "text/plain": [
              "3"
            ]
          },
          "metadata": {},
          "execution_count": 124
        }
      ]
    },
    {
      "cell_type": "code",
      "source": [
        "b[2]"
      ],
      "metadata": {
        "colab": {
          "base_uri": "https://localhost:8080/",
          "height": 166
        },
        "id": "iSat4VUcr3aG",
        "outputId": "6fe4c3de-ec82-4057-c6fa-534cd896550b"
      },
      "execution_count": null,
      "outputs": [
        {
          "output_type": "error",
          "ename": "IndexError",
          "evalue": "ignored",
          "traceback": [
            "\u001b[0;31m---------------------------------------------------------------------------\u001b[0m",
            "\u001b[0;31mIndexError\u001b[0m                                Traceback (most recent call last)",
            "\u001b[0;32m<ipython-input-125-973c42954ce6>\u001b[0m in \u001b[0;36m<module>\u001b[0;34m()\u001b[0m\n\u001b[0;32m----> 1\u001b[0;31m \u001b[0mb\u001b[0m\u001b[0;34m[\u001b[0m\u001b[0;36m2\u001b[0m\u001b[0;34m]\u001b[0m\u001b[0;34m\u001b[0m\u001b[0;34m\u001b[0m\u001b[0m\n\u001b[0m",
            "\u001b[0;31mIndexError\u001b[0m: list index out of range"
          ]
        }
      ]
    },
    {
      "cell_type": "code",
      "source": [
        "b.append(a[5])"
      ],
      "metadata": {
        "id": "6NLYZAz4r4Z7"
      },
      "execution_count": null,
      "outputs": []
    },
    {
      "cell_type": "code",
      "source": [
        "b"
      ],
      "metadata": {
        "colab": {
          "base_uri": "https://localhost:8080/"
        },
        "id": "KIez6sMSr6hs",
        "outputId": "6f38e85c-2c9e-4ceb-fb2c-b5eef127bbcc"
      },
      "execution_count": null,
      "outputs": [
        {
          "output_type": "execute_result",
          "data": {
            "text/plain": [
              "[2, 3, 6]"
            ]
          },
          "metadata": {},
          "execution_count": 127
        }
      ]
    },
    {
      "cell_type": "code",
      "source": [
        "len(b)"
      ],
      "metadata": {
        "colab": {
          "base_uri": "https://localhost:8080/"
        },
        "id": "UG4f2ZGsr7HC",
        "outputId": "00b1efbd-898a-4277-82b6-45bb3ee1b61a"
      },
      "execution_count": null,
      "outputs": [
        {
          "output_type": "execute_result",
          "data": {
            "text/plain": [
              "3"
            ]
          },
          "metadata": {},
          "execution_count": 128
        }
      ]
    },
    {
      "cell_type": "code",
      "source": [
        "a = \"This\"\n",
        "len(a)"
      ],
      "metadata": {
        "colab": {
          "base_uri": "https://localhost:8080/"
        },
        "id": "KyJzDQZQr8oB",
        "outputId": "3d87faf6-ba69-4e44-a1db-54aa797fc787"
      },
      "execution_count": null,
      "outputs": [
        {
          "output_type": "execute_result",
          "data": {
            "text/plain": [
              "4"
            ]
          },
          "metadata": {},
          "execution_count": 129
        }
      ]
    },
    {
      "cell_type": "code",
      "source": [
        "b.clear()"
      ],
      "metadata": {
        "id": "7G8gZdjWsEZk"
      },
      "execution_count": null,
      "outputs": []
    },
    {
      "cell_type": "code",
      "source": [
        "b"
      ],
      "metadata": {
        "colab": {
          "base_uri": "https://localhost:8080/"
        },
        "id": "4ho19l_tsI4h",
        "outputId": "0671f7e8-2394-4907-f31e-c808e71e1e03"
      },
      "execution_count": null,
      "outputs": [
        {
          "output_type": "execute_result",
          "data": {
            "text/plain": [
              "[]"
            ]
          },
          "metadata": {},
          "execution_count": 131
        }
      ]
    },
    {
      "cell_type": "code",
      "source": [
        "b.extend([1,2,3])"
      ],
      "metadata": {
        "id": "wl6tAIrSswRs"
      },
      "execution_count": null,
      "outputs": []
    },
    {
      "cell_type": "code",
      "source": [
        "b"
      ],
      "metadata": {
        "colab": {
          "base_uri": "https://localhost:8080/"
        },
        "id": "ktUPuusLsJq3",
        "outputId": "a57d9f01-6713-48c3-ea69-3703c0320162"
      },
      "execution_count": null,
      "outputs": [
        {
          "output_type": "execute_result",
          "data": {
            "text/plain": [
              "[1, 2, 3]"
            ]
          },
          "metadata": {},
          "execution_count": 134
        }
      ]
    },
    {
      "cell_type": "code",
      "source": [
        "b.append(4)"
      ],
      "metadata": {
        "id": "HdAOYqAgs19R"
      },
      "execution_count": null,
      "outputs": []
    },
    {
      "cell_type": "code",
      "source": [
        "b.extend([5,6,7,8])"
      ],
      "metadata": {
        "id": "iI-NTGNLs5w-"
      },
      "execution_count": null,
      "outputs": []
    },
    {
      "cell_type": "code",
      "source": [
        "b"
      ],
      "metadata": {
        "colab": {
          "base_uri": "https://localhost:8080/"
        },
        "id": "_95x-TFEs9uE",
        "outputId": "b2d2bcdd-a007-47e6-a661-66a64a73aa2f"
      },
      "execution_count": null,
      "outputs": [
        {
          "output_type": "execute_result",
          "data": {
            "text/plain": [
              "[1, 2, 3, 4, 4, 5, 6, 7, 8]"
            ]
          },
          "metadata": {},
          "execution_count": 138
        }
      ]
    },
    {
      "cell_type": "code",
      "source": [
        "a = b.copy()"
      ],
      "metadata": {
        "id": "nvBoiOZBs-VN"
      },
      "execution_count": null,
      "outputs": []
    },
    {
      "cell_type": "code",
      "source": [
        "a"
      ],
      "metadata": {
        "colab": {
          "base_uri": "https://localhost:8080/"
        },
        "id": "aPzuYFqMtOci",
        "outputId": "0dc927ca-6cf5-41b7-c2fc-f22711483139"
      },
      "execution_count": null,
      "outputs": [
        {
          "output_type": "execute_result",
          "data": {
            "text/plain": [
              "[1, 2, 3, 4, 4, 5, 6, 7, 8]"
            ]
          },
          "metadata": {},
          "execution_count": 141
        }
      ]
    },
    {
      "cell_type": "code",
      "source": [
        "c = b.copy()\n",
        "c"
      ],
      "metadata": {
        "colab": {
          "base_uri": "https://localhost:8080/"
        },
        "id": "GoZhBtvmtMgD",
        "outputId": "36e144b2-fe4c-443a-8ef7-53ef01d9c1c3"
      },
      "execution_count": null,
      "outputs": [
        {
          "output_type": "execute_result",
          "data": {
            "text/plain": [
              "[1, 2, 3, 4, 4, 5, 6, 7, 8]"
            ]
          },
          "metadata": {},
          "execution_count": 145
        }
      ]
    },
    {
      "cell_type": "code",
      "source": [
        "c.pop()"
      ],
      "metadata": {
        "colab": {
          "base_uri": "https://localhost:8080/"
        },
        "id": "VwpkM8STtR0O",
        "outputId": "36cae9e8-ea09-4562-c0c8-350c9deea318"
      },
      "execution_count": null,
      "outputs": [
        {
          "output_type": "execute_result",
          "data": {
            "text/plain": [
              "8"
            ]
          },
          "metadata": {},
          "execution_count": 146
        }
      ]
    },
    {
      "cell_type": "code",
      "source": [
        "c"
      ],
      "metadata": {
        "colab": {
          "base_uri": "https://localhost:8080/"
        },
        "id": "p-F_3Mvetm7p",
        "outputId": "3d2e091a-5487-4755-cb41-ee102936cb25"
      },
      "execution_count": null,
      "outputs": [
        {
          "output_type": "execute_result",
          "data": {
            "text/plain": [
              "[1, 2, 3, 4, 4, 5, 6, 7]"
            ]
          },
          "metadata": {},
          "execution_count": 147
        }
      ]
    },
    {
      "cell_type": "code",
      "source": [
        "c.pop()"
      ],
      "metadata": {
        "colab": {
          "base_uri": "https://localhost:8080/"
        },
        "id": "-ZqeIS0jtpfr",
        "outputId": "ef8b5bf1-2ab6-4ed5-ba1c-670ddb7ec4f3"
      },
      "execution_count": null,
      "outputs": [
        {
          "output_type": "execute_result",
          "data": {
            "text/plain": [
              "7"
            ]
          },
          "metadata": {},
          "execution_count": 148
        }
      ]
    },
    {
      "cell_type": "code",
      "source": [
        "c"
      ],
      "metadata": {
        "colab": {
          "base_uri": "https://localhost:8080/"
        },
        "id": "r-r1vtZBtut8",
        "outputId": "eecab62a-591e-4a0e-d608-7f143d4a3f0b"
      },
      "execution_count": null,
      "outputs": [
        {
          "output_type": "execute_result",
          "data": {
            "text/plain": [
              "[1, 2, 3, 4, 4, 5, 6]"
            ]
          },
          "metadata": {},
          "execution_count": 149
        }
      ]
    },
    {
      "cell_type": "code",
      "source": [
        "c.reverse()"
      ],
      "metadata": {
        "id": "PpWCncehtvXq"
      },
      "execution_count": null,
      "outputs": []
    },
    {
      "cell_type": "code",
      "source": [
        "c"
      ],
      "metadata": {
        "colab": {
          "base_uri": "https://localhost:8080/"
        },
        "id": "zJ4aTBretyIK",
        "outputId": "07dcfe82-7fa2-4033-f7ec-4d782318feb0"
      },
      "execution_count": null,
      "outputs": [
        {
          "output_type": "execute_result",
          "data": {
            "text/plain": [
              "[6, 5, 4, 4, 3, 2, 1]"
            ]
          },
          "metadata": {},
          "execution_count": 151
        }
      ]
    },
    {
      "cell_type": "code",
      "source": [
        "c.index(6)"
      ],
      "metadata": {
        "colab": {
          "base_uri": "https://localhost:8080/"
        },
        "id": "xi0vMTbCty1x",
        "outputId": "b5408ab5-394b-492b-f4f0-d928f743f60a"
      },
      "execution_count": null,
      "outputs": [
        {
          "output_type": "execute_result",
          "data": {
            "text/plain": [
              "0"
            ]
          },
          "metadata": {},
          "execution_count": 152
        }
      ]
    },
    {
      "cell_type": "code",
      "source": [
        "c = (1,2,3,4,5,6)"
      ],
      "metadata": {
        "id": "QiO4g3o2t1NX"
      },
      "execution_count": null,
      "outputs": []
    },
    {
      "cell_type": "code",
      "source": [
        "c.index(5)"
      ],
      "metadata": {
        "colab": {
          "base_uri": "https://localhost:8080/"
        },
        "id": "9D6l_Qejt62f",
        "outputId": "d6a25fc8-b3ad-4554-86ec-ce28c6701d5a"
      },
      "execution_count": null,
      "outputs": [
        {
          "output_type": "execute_result",
          "data": {
            "text/plain": [
              "4"
            ]
          },
          "metadata": {},
          "execution_count": 155
        }
      ]
    },
    {
      "cell_type": "code",
      "source": [
        "c.count(4)"
      ],
      "metadata": {
        "colab": {
          "base_uri": "https://localhost:8080/"
        },
        "id": "e2BiCEPLt8lE",
        "outputId": "49b4cfd7-4b8b-4af1-924a-2c196d1af3e1"
      },
      "execution_count": null,
      "outputs": [
        {
          "output_type": "execute_result",
          "data": {
            "text/plain": [
              "1"
            ]
          },
          "metadata": {},
          "execution_count": 156
        }
      ]
    },
    {
      "cell_type": "code",
      "source": [
        "c.pop()"
      ],
      "metadata": {
        "colab": {
          "base_uri": "https://localhost:8080/",
          "height": 166
        },
        "id": "ZTk0CBZouDKS",
        "outputId": "54ddc9c5-979b-408b-e09b-bec8ebcbe5fa"
      },
      "execution_count": null,
      "outputs": [
        {
          "output_type": "error",
          "ename": "AttributeError",
          "evalue": "ignored",
          "traceback": [
            "\u001b[0;31m---------------------------------------------------------------------------\u001b[0m",
            "\u001b[0;31mAttributeError\u001b[0m                            Traceback (most recent call last)",
            "\u001b[0;32m<ipython-input-157-c53a93bfccc7>\u001b[0m in \u001b[0;36m<module>\u001b[0;34m()\u001b[0m\n\u001b[0;32m----> 1\u001b[0;31m \u001b[0mc\u001b[0m\u001b[0;34m.\u001b[0m\u001b[0mpop\u001b[0m\u001b[0;34m(\u001b[0m\u001b[0;34m)\u001b[0m\u001b[0;34m\u001b[0m\u001b[0;34m\u001b[0m\u001b[0m\n\u001b[0m",
            "\u001b[0;31mAttributeError\u001b[0m: 'tuple' object has no attribute 'pop'"
          ]
        }
      ]
    },
    {
      "cell_type": "code",
      "source": [
        "d = {\"Name\":\"Naga\", \"Age\":32}"
      ],
      "metadata": {
        "id": "Q7e8O4YMuFDg"
      },
      "execution_count": null,
      "outputs": []
    },
    {
      "cell_type": "code",
      "source": [
        "d.keys()"
      ],
      "metadata": {
        "colab": {
          "base_uri": "https://localhost:8080/"
        },
        "id": "BcXdXrFOuQl6",
        "outputId": "47c2aeef-9be3-47fc-9fb2-3fdfeed1ae8a"
      },
      "execution_count": null,
      "outputs": [
        {
          "output_type": "execute_result",
          "data": {
            "text/plain": [
              "dict_keys(['Name', 'Age'])"
            ]
          },
          "metadata": {},
          "execution_count": 159
        }
      ]
    },
    {
      "cell_type": "code",
      "source": [
        "d.values()"
      ],
      "metadata": {
        "colab": {
          "base_uri": "https://localhost:8080/"
        },
        "id": "82jxiz-huTVl",
        "outputId": "96458812-0ab5-451a-d0c0-7e90e0bd8433"
      },
      "execution_count": null,
      "outputs": [
        {
          "output_type": "execute_result",
          "data": {
            "text/plain": [
              "dict_values(['Naga', 32])"
            ]
          },
          "metadata": {},
          "execution_count": 160
        }
      ]
    },
    {
      "cell_type": "code",
      "source": [
        "d.items()"
      ],
      "metadata": {
        "colab": {
          "base_uri": "https://localhost:8080/"
        },
        "id": "OBw_8WUdubUi",
        "outputId": "f17e1abc-dbb8-482b-f418-694e45ae0a31"
      },
      "execution_count": null,
      "outputs": [
        {
          "output_type": "execute_result",
          "data": {
            "text/plain": [
              "dict_items([('Name', 'Naga'), ('Age', 32)])"
            ]
          },
          "metadata": {},
          "execution_count": 161
        }
      ]
    },
    {
      "cell_type": "code",
      "source": [
        "type(d.items())"
      ],
      "metadata": {
        "colab": {
          "base_uri": "https://localhost:8080/"
        },
        "id": "_6PSlnzOueMV",
        "outputId": "5d15c2b8-cbdc-442e-e759-b85ddb1c0fa3"
      },
      "execution_count": null,
      "outputs": [
        {
          "output_type": "execute_result",
          "data": {
            "text/plain": [
              "dict_items"
            ]
          },
          "metadata": {},
          "execution_count": 166
        }
      ]
    },
    {
      "cell_type": "code",
      "source": [
        "a = d.keys()\n",
        "a"
      ],
      "metadata": {
        "colab": {
          "base_uri": "https://localhost:8080/"
        },
        "id": "e6NOH6bcupAB",
        "outputId": "ff82ba87-9191-4bc9-9c5c-93c94504f394"
      },
      "execution_count": null,
      "outputs": [
        {
          "output_type": "execute_result",
          "data": {
            "text/plain": [
              "dict_keys(['Name', 'Age'])"
            ]
          },
          "metadata": {},
          "execution_count": 171
        }
      ]
    },
    {
      "cell_type": "code",
      "source": [
        "a = d.values()\n",
        "a"
      ],
      "metadata": {
        "colab": {
          "base_uri": "https://localhost:8080/"
        },
        "id": "Q6KivV3Duy95",
        "outputId": "c90432f5-c42d-4728-9d7e-af22715223a5"
      },
      "execution_count": null,
      "outputs": [
        {
          "output_type": "execute_result",
          "data": {
            "text/plain": [
              "dict_values(['Naga', 32])"
            ]
          },
          "metadata": {},
          "execution_count": 175
        }
      ]
    },
    {
      "cell_type": "code",
      "source": [
        "d.pop(\"Age\")"
      ],
      "metadata": {
        "colab": {
          "base_uri": "https://localhost:8080/"
        },
        "id": "iangd1b8u95w",
        "outputId": "3d252a19-e677-4001-ff35-745d4c6a43fa"
      },
      "execution_count": null,
      "outputs": [
        {
          "output_type": "execute_result",
          "data": {
            "text/plain": [
              "32"
            ]
          },
          "metadata": {},
          "execution_count": 183
        }
      ]
    },
    {
      "cell_type": "code",
      "source": [
        "d"
      ],
      "metadata": {
        "colab": {
          "base_uri": "https://localhost:8080/"
        },
        "id": "3ebipz6bvLIg",
        "outputId": "feefeca3-3e43-4ede-8e68-055089077c8c"
      },
      "execution_count": null,
      "outputs": [
        {
          "output_type": "execute_result",
          "data": {
            "text/plain": [
              "{'Name': 'Naga'}"
            ]
          },
          "metadata": {},
          "execution_count": 184
        }
      ]
    },
    {
      "cell_type": "code",
      "source": [
        "d.update({\"Age\":32})"
      ],
      "metadata": {
        "id": "ykIqOporvhP8"
      },
      "execution_count": null,
      "outputs": []
    },
    {
      "cell_type": "code",
      "source": [
        "d"
      ],
      "metadata": {
        "colab": {
          "base_uri": "https://localhost:8080/"
        },
        "id": "E3kqTUFnvyrS",
        "outputId": "fa7de39d-35d8-4421-d5f7-19d1e2ae7d82"
      },
      "execution_count": null,
      "outputs": [
        {
          "output_type": "execute_result",
          "data": {
            "text/plain": [
              "{'Age': 32, 'Name': 'Naga'}"
            ]
          },
          "metadata": {},
          "execution_count": 186
        }
      ]
    },
    {
      "cell_type": "code",
      "source": [
        "d.update({\"Gender\":\"M\"})"
      ],
      "metadata": {
        "id": "ZrsNJ11Zvzad"
      },
      "execution_count": null,
      "outputs": []
    },
    {
      "cell_type": "code",
      "source": [
        "d"
      ],
      "metadata": {
        "colab": {
          "base_uri": "https://localhost:8080/"
        },
        "id": "9V3ziJxEv8Zx",
        "outputId": "c6c7f9dd-2266-4ae2-ddda-66377496c8a7"
      },
      "execution_count": null,
      "outputs": [
        {
          "output_type": "execute_result",
          "data": {
            "text/plain": [
              "{'Age': 32, 'Gender': 'M', 'Name': 'Naga'}"
            ]
          },
          "metadata": {},
          "execution_count": 190
        }
      ]
    },
    {
      "cell_type": "code",
      "source": [
        "a = []\n",
        "b = ()\n",
        "c = {}\n",
        "a.append(1)\n",
        "a"
      ],
      "metadata": {
        "colab": {
          "base_uri": "https://localhost:8080/"
        },
        "id": "7NJhZfGlv8zz",
        "outputId": "8b13337c-9bd1-4b09-c028-f91b92d29b96"
      },
      "execution_count": null,
      "outputs": [
        {
          "output_type": "execute_result",
          "data": {
            "text/plain": [
              "[1]"
            ]
          },
          "metadata": {},
          "execution_count": 193
        }
      ]
    },
    {
      "cell_type": "code",
      "source": [
        "a.pop()"
      ],
      "metadata": {
        "colab": {
          "base_uri": "https://localhost:8080/"
        },
        "id": "vHQdmBWbxWVA",
        "outputId": "1743b682-b7a6-4f55-f2a9-e5066e206003"
      },
      "execution_count": null,
      "outputs": [
        {
          "output_type": "execute_result",
          "data": {
            "text/plain": [
              "1"
            ]
          },
          "metadata": {},
          "execution_count": 194
        }
      ]
    },
    {
      "cell_type": "code",
      "source": [
        "a.extend([50,45,43,42])"
      ],
      "metadata": {
        "id": "4sBDpn9FxfV0"
      },
      "execution_count": null,
      "outputs": []
    },
    {
      "cell_type": "code",
      "source": [
        "c.update({\"Marks\":a})"
      ],
      "metadata": {
        "id": "PYNJNvtixith"
      },
      "execution_count": null,
      "outputs": []
    },
    {
      "cell_type": "code",
      "source": [
        "c"
      ],
      "metadata": {
        "colab": {
          "base_uri": "https://localhost:8080/"
        },
        "id": "Tceq1iuaxp7y",
        "outputId": "38f46ed8-a8e4-4cdf-dded-df7a723263ff"
      },
      "execution_count": null,
      "outputs": [
        {
          "output_type": "execute_result",
          "data": {
            "text/plain": [
              "{'Marks': [50, 45, 43, 42]}"
            ]
          },
          "metadata": {},
          "execution_count": 198
        }
      ]
    },
    {
      "cell_type": "code",
      "source": [
        "a.extend([c])"
      ],
      "metadata": {
        "id": "D5woZv7_xqeu"
      },
      "execution_count": null,
      "outputs": []
    },
    {
      "cell_type": "code",
      "source": [
        "a\n"
      ],
      "metadata": {
        "colab": {
          "base_uri": "https://localhost:8080/"
        },
        "id": "A4iX0Dm8xwnV",
        "outputId": "8533d9b0-4660-4dab-fd5e-6510a5adc7ad"
      },
      "execution_count": null,
      "outputs": [
        {
          "output_type": "execute_result",
          "data": {
            "text/plain": [
              "[50, 45, 43, 42, {'Marks': [...]}]"
            ]
          },
          "metadata": {},
          "execution_count": 200
        }
      ]
    },
    {
      "cell_type": "code",
      "source": [
        "a.pop()"
      ],
      "metadata": {
        "colab": {
          "base_uri": "https://localhost:8080/"
        },
        "id": "pHjQpryzxxTo",
        "outputId": "38f497c8-6091-4112-bb8b-dc82d84fb035"
      },
      "execution_count": null,
      "outputs": [
        {
          "output_type": "execute_result",
          "data": {
            "text/plain": [
              "{'Marks': [50, 45, 43, 42]}"
            ]
          },
          "metadata": {},
          "execution_count": 201
        }
      ]
    },
    {
      "cell_type": "code",
      "source": [
        "a.pop()"
      ],
      "metadata": {
        "colab": {
          "base_uri": "https://localhost:8080/"
        },
        "id": "ijuZGQklx1Pn",
        "outputId": "4d06a6af-804c-4d68-d180-dabe62cd6214"
      },
      "execution_count": null,
      "outputs": [
        {
          "output_type": "execute_result",
          "data": {
            "text/plain": [
              "42"
            ]
          },
          "metadata": {},
          "execution_count": 203
        }
      ]
    },
    {
      "cell_type": "code",
      "source": [
        "a"
      ],
      "metadata": {
        "colab": {
          "base_uri": "https://localhost:8080/"
        },
        "id": "CXN3Q-GEyGdJ",
        "outputId": "5173d470-2ec0-4030-cc1d-36cdc4521e46"
      },
      "execution_count": null,
      "outputs": [
        {
          "output_type": "execute_result",
          "data": {
            "text/plain": [
              "[50, 45, 43]"
            ]
          },
          "metadata": {},
          "execution_count": 204
        }
      ]
    },
    {
      "cell_type": "code",
      "source": [
        "b = (a)"
      ],
      "metadata": {
        "id": "4B-eJ6blyH3e"
      },
      "execution_count": null,
      "outputs": []
    },
    {
      "cell_type": "code",
      "source": [
        "b = (0,a)"
      ],
      "metadata": {
        "id": "xpLCr6YByLFz"
      },
      "execution_count": null,
      "outputs": []
    },
    {
      "cell_type": "code",
      "source": [
        "b"
      ],
      "metadata": {
        "colab": {
          "base_uri": "https://localhost:8080/"
        },
        "id": "KxtbXqiwyMUD",
        "outputId": "7b53ad1d-b76c-45dc-9415-5ca2de62e5bd"
      },
      "execution_count": null,
      "outputs": [
        {
          "output_type": "execute_result",
          "data": {
            "text/plain": [
              "(0, [50, 45, 43])"
            ]
          },
          "metadata": {},
          "execution_count": 208
        }
      ]
    },
    {
      "cell_type": "code",
      "source": [
        "len(b[1])"
      ],
      "metadata": {
        "colab": {
          "base_uri": "https://localhost:8080/"
        },
        "id": "DBSjw0mlyQAg",
        "outputId": "f8674f9f-71c1-49a3-f8bb-d89e313be121"
      },
      "execution_count": null,
      "outputs": [
        {
          "output_type": "execute_result",
          "data": {
            "text/plain": [
              "3"
            ]
          },
          "metadata": {},
          "execution_count": 211
        }
      ]
    },
    {
      "cell_type": "code",
      "source": [
        "b[1][2]"
      ],
      "metadata": {
        "colab": {
          "base_uri": "https://localhost:8080/"
        },
        "id": "GDYVoSg8ySm0",
        "outputId": "00231b96-d49f-4e38-f648-9680423b3382"
      },
      "execution_count": null,
      "outputs": [
        {
          "output_type": "execute_result",
          "data": {
            "text/plain": [
              "43"
            ]
          },
          "metadata": {},
          "execution_count": 212
        }
      ]
    },
    {
      "cell_type": "code",
      "source": [
        "a = [1,2,3,4,[5,6,7],8,9,[10,11]]"
      ],
      "metadata": {
        "id": "dULMeZwNyhXF"
      },
      "execution_count": null,
      "outputs": []
    },
    {
      "cell_type": "code",
      "source": [
        "type(a.pop())"
      ],
      "metadata": {
        "colab": {
          "base_uri": "https://localhost:8080/"
        },
        "id": "h6P9Ob3kyrj1",
        "outputId": "df1f456a-1f70-41ee-d40c-42b54a0a3bad"
      },
      "execution_count": null,
      "outputs": [
        {
          "output_type": "execute_result",
          "data": {
            "text/plain": [
              "list"
            ]
          },
          "metadata": {},
          "execution_count": 216
        }
      ]
    },
    {
      "cell_type": "code",
      "source": [
        "type(a[4])"
      ],
      "metadata": {
        "colab": {
          "base_uri": "https://localhost:8080/"
        },
        "id": "4zEFenBFyuGY",
        "outputId": "cea97ff6-7313-4129-9456-ede0e3bf32a6"
      },
      "execution_count": null,
      "outputs": [
        {
          "output_type": "execute_result",
          "data": {
            "text/plain": [
              "list"
            ]
          },
          "metadata": {},
          "execution_count": 217
        }
      ]
    },
    {
      "cell_type": "code",
      "source": [
        "type(a[5])"
      ],
      "metadata": {
        "id": "Zuz5V2tpy3kE",
        "outputId": "44039026-ccdc-41a4-96cd-60570e9b7a37",
        "colab": {
          "base_uri": "https://localhost:8080/"
        }
      },
      "execution_count": null,
      "outputs": [
        {
          "output_type": "execute_result",
          "data": {
            "text/plain": [
              "int"
            ]
          },
          "metadata": {},
          "execution_count": 218
        }
      ]
    },
    {
      "cell_type": "code",
      "source": [
        ""
      ],
      "metadata": {
        "id": "pKC9BytCy6Ss"
      },
      "execution_count": null,
      "outputs": []
    },
    {
      "cell_type": "markdown",
      "source": [
        ""
      ],
      "metadata": {
        "id": "EpGuJnPMetK6"
      }
    },
    {
      "cell_type": "markdown",
      "source": [
        "```\n",
        "# This is Session 5\n",
        "```"
      ],
      "metadata": {
        "id": "TUNCn18getaB"
      }
    },
    {
      "cell_type": "code",
      "source": [
        "a = [1,2,3,4,5,6,7,8,9]\n",
        "a[::2]"
      ],
      "metadata": {
        "colab": {
          "base_uri": "https://localhost:8080/"
        },
        "id": "mpktciinexKi",
        "outputId": "44eb937f-8ce5-4c1e-80bc-3191ecfc8f49"
      },
      "execution_count": null,
      "outputs": [
        {
          "output_type": "execute_result",
          "data": {
            "text/plain": [
              "[1, 3, 5, 7, 9]"
            ]
          },
          "metadata": {},
          "execution_count": 1
        }
      ]
    },
    {
      "cell_type": "code",
      "source": [
        "a[::3]"
      ],
      "metadata": {
        "colab": {
          "base_uri": "https://localhost:8080/"
        },
        "id": "_qmBs48qe5v2",
        "outputId": "db22f984-bd0a-4db2-85a1-f2eb9ad48606"
      },
      "execution_count": null,
      "outputs": [
        {
          "output_type": "execute_result",
          "data": {
            "text/plain": [
              "[1, 4, 7]"
            ]
          },
          "metadata": {},
          "execution_count": 2
        }
      ]
    },
    {
      "cell_type": "code",
      "source": [
        "a[::4]"
      ],
      "metadata": {
        "colab": {
          "base_uri": "https://localhost:8080/"
        },
        "id": "X9IWVZlce7K1",
        "outputId": "b33e71c9-b7dc-419b-c6ce-639f01927362"
      },
      "execution_count": null,
      "outputs": [
        {
          "output_type": "execute_result",
          "data": {
            "text/plain": [
              "[1, 5, 9]"
            ]
          },
          "metadata": {},
          "execution_count": 3
        }
      ]
    },
    {
      "cell_type": "code",
      "source": [
        "y = (1,2,3,4,5,6,7,8,9,\"Naga\",True,2.5)"
      ],
      "metadata": {
        "id": "lwVNyN3JfANR"
      },
      "execution_count": null,
      "outputs": []
    },
    {
      "cell_type": "code",
      "source": [
        "len(y)"
      ],
      "metadata": {
        "colab": {
          "base_uri": "https://localhost:8080/"
        },
        "id": "3z-5xzrwp9Ki",
        "outputId": "2758aec0-5063-456c-a287-af7965594f60"
      },
      "execution_count": null,
      "outputs": [
        {
          "output_type": "execute_result",
          "data": {
            "text/plain": [
              "12"
            ]
          },
          "metadata": {},
          "execution_count": 78
        }
      ]
    },
    {
      "cell_type": "code",
      "source": [
        "y.index(9)"
      ],
      "metadata": {
        "colab": {
          "base_uri": "https://localhost:8080/"
        },
        "id": "rxqfwlaTp-Ir",
        "outputId": "3ffa3425-4926-4d5c-eeb8-c2124791d3d5"
      },
      "execution_count": null,
      "outputs": [
        {
          "output_type": "execute_result",
          "data": {
            "text/plain": [
              "8"
            ]
          },
          "metadata": {},
          "execution_count": 79
        }
      ]
    },
    {
      "cell_type": "code",
      "source": [
        "y.count(1)"
      ],
      "metadata": {
        "colab": {
          "base_uri": "https://localhost:8080/"
        },
        "id": "HWF7IJ0AqAkp",
        "outputId": "7615e5f3-2877-41da-a3c2-9d972b084792"
      },
      "execution_count": null,
      "outputs": [
        {
          "output_type": "execute_result",
          "data": {
            "text/plain": [
              "2"
            ]
          },
          "metadata": {},
          "execution_count": 80
        }
      ]
    },
    {
      "cell_type": "code",
      "source": [
        "y.pop()"
      ],
      "metadata": {
        "colab": {
          "base_uri": "https://localhost:8080/"
        },
        "id": "4ddWKhnFqDKX",
        "outputId": "f766ad1c-b6ce-4380-b17f-c903f83d0747"
      },
      "execution_count": null,
      "outputs": [
        {
          "output_type": "execute_result",
          "data": {
            "text/plain": [
              "2.5"
            ]
          },
          "metadata": {},
          "execution_count": 75
        }
      ]
    },
    {
      "cell_type": "code",
      "source": [
        "y.append(4)"
      ],
      "metadata": {
        "id": "psP3nfu8qFd0"
      },
      "execution_count": null,
      "outputs": []
    },
    {
      "cell_type": "code",
      "source": [
        "z = {\"Name\" : \"Naga\",\"Age\":32}\n",
        "z[\"Age\"]"
      ],
      "metadata": {
        "colab": {
          "base_uri": "https://localhost:8080/"
        },
        "id": "TU59tQp2qLFg",
        "outputId": "be0ac213-e111-4641-ee35-7230c59daff5"
      },
      "execution_count": null,
      "outputs": [
        {
          "output_type": "execute_result",
          "data": {
            "text/plain": [
              "32"
            ]
          },
          "metadata": {},
          "execution_count": 95
        }
      ]
    },
    {
      "cell_type": "code",
      "source": [
        "z.items()"
      ],
      "metadata": {
        "colab": {
          "base_uri": "https://localhost:8080/"
        },
        "id": "H4U4hUeRqbEI",
        "outputId": "0d567adb-8acf-4c96-ef2d-91ef6e42e8dc"
      },
      "execution_count": null,
      "outputs": [
        {
          "output_type": "execute_result",
          "data": {
            "text/plain": [
              "dict_items([('Name', 'Naga'), ('Age', 32)])"
            ]
          },
          "metadata": {},
          "execution_count": 82
        }
      ]
    },
    {
      "cell_type": "code",
      "source": [
        "z.keys()"
      ],
      "metadata": {
        "colab": {
          "base_uri": "https://localhost:8080/"
        },
        "id": "eN8XQ5kVqfBu",
        "outputId": "1bb910dc-9d63-4e11-d426-e93cbf7029c7"
      },
      "execution_count": null,
      "outputs": [
        {
          "output_type": "execute_result",
          "data": {
            "text/plain": [
              "dict_keys(['Name', 'Age'])"
            ]
          },
          "metadata": {},
          "execution_count": 83
        }
      ]
    },
    {
      "cell_type": "code",
      "source": [
        "z.values()"
      ],
      "metadata": {
        "colab": {
          "base_uri": "https://localhost:8080/"
        },
        "id": "_chWNm1eq4lM",
        "outputId": "76106457-8d1c-40c3-a740-1a9abeb1f083"
      },
      "execution_count": null,
      "outputs": [
        {
          "output_type": "execute_result",
          "data": {
            "text/plain": [
              "dict_values(['Naga', 32])"
            ]
          },
          "metadata": {},
          "execution_count": 85
        }
      ]
    },
    {
      "cell_type": "code",
      "source": [
        "z.clear()"
      ],
      "metadata": {
        "id": "Hs7CXN9bq5R3"
      },
      "execution_count": null,
      "outputs": []
    },
    {
      "cell_type": "code",
      "source": [
        "z.pop(\"Name\")"
      ],
      "metadata": {
        "colab": {
          "base_uri": "https://localhost:8080/",
          "height": 35
        },
        "id": "mGA1mqXYq8sh",
        "outputId": "0a3972ec-457e-4db3-c29e-8b9c9ca7f8af"
      },
      "execution_count": null,
      "outputs": [
        {
          "output_type": "execute_result",
          "data": {
            "text/plain": [
              "'Naga'"
            ],
            "application/vnd.google.colaboratory.intrinsic+json": {
              "type": "string"
            }
          },
          "metadata": {},
          "execution_count": 91
        }
      ]
    },
    {
      "cell_type": "code",
      "source": [
        "z.update({\"Gender\":\"M\"})"
      ],
      "metadata": {
        "id": "5nq5Jkmzq73B"
      },
      "execution_count": null,
      "outputs": []
    },
    {
      "cell_type": "code",
      "source": [
        "z"
      ],
      "metadata": {
        "colab": {
          "base_uri": "https://localhost:8080/"
        },
        "id": "-icZ3UhRrq_g",
        "outputId": "a89594ad-5c58-4d63-b0b1-022b325518fc"
      },
      "execution_count": null,
      "outputs": [
        {
          "output_type": "execute_result",
          "data": {
            "text/plain": [
              "{'Age': 32, 'Gender': 'M', 'Name': 'Naga'}"
            ]
          },
          "metadata": {},
          "execution_count": 97
        }
      ]
    },
    {
      "cell_type": "code",
      "source": [
        "z.update({\"ID\":4134})"
      ],
      "metadata": {
        "id": "HTrbxgyTrrvY"
      },
      "execution_count": null,
      "outputs": []
    },
    {
      "cell_type": "code",
      "source": [
        "z"
      ],
      "metadata": {
        "colab": {
          "base_uri": "https://localhost:8080/"
        },
        "id": "0muYJxK4rxnx",
        "outputId": "e51296fa-1dd4-4019-fdd7-c1bb4f2fadfc"
      },
      "execution_count": null,
      "outputs": [
        {
          "output_type": "execute_result",
          "data": {
            "text/plain": [
              "{'Age': 32, 'Gender': 'M', 'ID': 4134, 'Name': 'Naga'}"
            ]
          },
          "metadata": {},
          "execution_count": 100
        }
      ]
    },
    {
      "cell_type": "code",
      "source": [
        "a = [1,[2,[3,[4,[5,[6]]]]]]\n",
        "a[0]"
      ],
      "metadata": {
        "colab": {
          "base_uri": "https://localhost:8080/"
        },
        "id": "Q7TJ0VUYr5l3",
        "outputId": "1200b4b0-7c20-4407-acd2-1a44df8bec13"
      },
      "execution_count": null,
      "outputs": [
        {
          "output_type": "execute_result",
          "data": {
            "text/plain": [
              "1"
            ]
          },
          "metadata": {},
          "execution_count": 101
        }
      ]
    },
    {
      "cell_type": "code",
      "source": [
        "b = a[1]\n",
        "b"
      ],
      "metadata": {
        "colab": {
          "base_uri": "https://localhost:8080/"
        },
        "id": "QsYT9f1kuAkj",
        "outputId": "517331f7-9626-4f49-9102-26fae0cf50d1"
      },
      "execution_count": null,
      "outputs": [
        {
          "output_type": "execute_result",
          "data": {
            "text/plain": [
              "[2, [3, [4, [5]]]]"
            ]
          },
          "metadata": {},
          "execution_count": 104
        }
      ]
    },
    {
      "cell_type": "code",
      "source": [
        "b[0]"
      ],
      "metadata": {
        "colab": {
          "base_uri": "https://localhost:8080/"
        },
        "id": "BfPHHDvCuB1Z",
        "outputId": "044bef81-6b3c-4ec6-acdd-f3afcc461995"
      },
      "execution_count": null,
      "outputs": [
        {
          "output_type": "execute_result",
          "data": {
            "text/plain": [
              "2"
            ]
          },
          "metadata": {},
          "execution_count": 105
        }
      ]
    },
    {
      "cell_type": "code",
      "source": [
        "b[1]"
      ],
      "metadata": {
        "colab": {
          "base_uri": "https://localhost:8080/"
        },
        "id": "zwj4pkBLuHs7",
        "outputId": "669d4a04-4f76-429f-addf-425808052798"
      },
      "execution_count": null,
      "outputs": [
        {
          "output_type": "execute_result",
          "data": {
            "text/plain": [
              "[3, [4, [5]]]"
            ]
          },
          "metadata": {},
          "execution_count": 106
        }
      ]
    },
    {
      "cell_type": "code",
      "source": [
        "a[1][1]"
      ],
      "metadata": {
        "colab": {
          "base_uri": "https://localhost:8080/"
        },
        "id": "OBsMn2rbuI3u",
        "outputId": "1b9cefa4-80e4-414f-e992-b8f10f37e341"
      },
      "execution_count": null,
      "outputs": [
        {
          "output_type": "execute_result",
          "data": {
            "text/plain": [
              "[3, [4, [5]]]"
            ]
          },
          "metadata": {},
          "execution_count": 107
        }
      ]
    },
    {
      "cell_type": "code",
      "source": [
        "c = b[1]"
      ],
      "metadata": {
        "id": "vRAPrzDRuMFn"
      },
      "execution_count": null,
      "outputs": []
    },
    {
      "cell_type": "code",
      "source": [
        "c"
      ],
      "metadata": {
        "colab": {
          "base_uri": "https://localhost:8080/"
        },
        "id": "C00-iIDnuSFp",
        "outputId": "9534994f-b5f1-4a07-e792-ab23ea10d7da"
      },
      "execution_count": null,
      "outputs": [
        {
          "output_type": "execute_result",
          "data": {
            "text/plain": [
              "[3, [4, [5]]]"
            ]
          },
          "metadata": {},
          "execution_count": 109
        }
      ]
    },
    {
      "cell_type": "code",
      "source": [
        "d = c[1]\n",
        "d"
      ],
      "metadata": {
        "colab": {
          "base_uri": "https://localhost:8080/"
        },
        "id": "wNwQsCxWuSqC",
        "outputId": "9a0f7c99-5e5d-4939-ac05-dbfc4b0da2ce"
      },
      "execution_count": null,
      "outputs": [
        {
          "output_type": "execute_result",
          "data": {
            "text/plain": [
              "[4, [5]]"
            ]
          },
          "metadata": {},
          "execution_count": 111
        }
      ]
    },
    {
      "cell_type": "code",
      "source": [
        "a[1][1][1]"
      ],
      "metadata": {
        "colab": {
          "base_uri": "https://localhost:8080/"
        },
        "id": "oUtzNMiOuUr6",
        "outputId": "2ad3c5bd-b20d-4e1c-ba12-73d2a9658823"
      },
      "execution_count": null,
      "outputs": [
        {
          "output_type": "execute_result",
          "data": {
            "text/plain": [
              "[4, [5]]"
            ]
          },
          "metadata": {},
          "execution_count": 112
        }
      ]
    },
    {
      "cell_type": "code",
      "source": [
        "e = d[1]\n",
        "e[0]"
      ],
      "metadata": {
        "colab": {
          "base_uri": "https://localhost:8080/"
        },
        "id": "TKMkrUAHuaYS",
        "outputId": "111b4dc4-61ba-47f1-eb62-b9d8cb43ff21"
      },
      "execution_count": null,
      "outputs": [
        {
          "output_type": "execute_result",
          "data": {
            "text/plain": [
              "5"
            ]
          },
          "metadata": {},
          "execution_count": 115
        }
      ]
    },
    {
      "cell_type": "code",
      "source": [
        "a[1][1][1][1][0]"
      ],
      "metadata": {
        "colab": {
          "base_uri": "https://localhost:8080/"
        },
        "id": "iZb0lvVduckv",
        "outputId": "cfc5ad04-2bd4-4cdd-8f98-35146f490cfc"
      },
      "execution_count": null,
      "outputs": [
        {
          "output_type": "execute_result",
          "data": {
            "text/plain": [
              "5"
            ]
          },
          "metadata": {},
          "execution_count": 116
        }
      ]
    },
    {
      "cell_type": "code",
      "source": [
        "a = [1,2,3,[4,5,6]]"
      ],
      "metadata": {
        "id": "3_jczTUwukoy"
      },
      "execution_count": null,
      "outputs": []
    },
    {
      "cell_type": "code",
      "source": [
        "a[0]"
      ],
      "metadata": {
        "colab": {
          "base_uri": "https://localhost:8080/"
        },
        "id": "uy8GRjZSuoQu",
        "outputId": "34d357b7-c0e9-4d4a-f297-8a272ad5c813"
      },
      "execution_count": null,
      "outputs": [
        {
          "output_type": "execute_result",
          "data": {
            "text/plain": [
              "1"
            ]
          },
          "metadata": {},
          "execution_count": 118
        }
      ]
    },
    {
      "cell_type": "code",
      "source": [
        "a[3][0]"
      ],
      "metadata": {
        "colab": {
          "base_uri": "https://localhost:8080/"
        },
        "id": "7ItVuO3EuqA4",
        "outputId": "4bbdc3bf-0e8a-41a5-eab8-854c984e39db"
      },
      "execution_count": null,
      "outputs": [
        {
          "output_type": "execute_result",
          "data": {
            "text/plain": [
              "4"
            ]
          },
          "metadata": {},
          "execution_count": 120
        }
      ]
    },
    {
      "cell_type": "code",
      "source": [
        "a = [1,[2,[3,[4,[5,[6]]]]]]\n",
        "b = a[1]\n",
        "c = b[1]\n",
        "d = c[1]\n",
        "e = d[1]\n",
        "f = e[1]"
      ],
      "metadata": {
        "id": "rXC7KMF-urvg"
      },
      "execution_count": null,
      "outputs": []
    },
    {
      "cell_type": "code",
      "source": [
        "a[1][1][1][1][1][0]"
      ],
      "metadata": {
        "colab": {
          "base_uri": "https://localhost:8080/"
        },
        "id": "mIfuOF-bw6P5",
        "outputId": "295eb480-9ed1-4567-a2d6-6366073cb3c4"
      },
      "execution_count": null,
      "outputs": [
        {
          "output_type": "execute_result",
          "data": {
            "text/plain": [
              "6"
            ]
          },
          "metadata": {},
          "execution_count": 127
        }
      ]
    },
    {
      "cell_type": "code",
      "source": [
        "a = (1,(2,(3,(4,5,(6)))))\n",
        "a[1][1][1][2]"
      ],
      "metadata": {
        "colab": {
          "base_uri": "https://localhost:8080/"
        },
        "id": "Qj-bTmYQxC6y",
        "outputId": "d618c5e7-23b1-472d-f6f1-16d374692a2f"
      },
      "execution_count": null,
      "outputs": [
        {
          "output_type": "execute_result",
          "data": {
            "text/plain": [
              "6"
            ]
          },
          "metadata": {},
          "execution_count": 141
        }
      ]
    },
    {
      "cell_type": "code",
      "source": [
        "a = (1,2,3,(4,5,6),(7,8))\n",
        "#extract 8 from tuple\n",
        "a[4][1]"
      ],
      "metadata": {
        "colab": {
          "base_uri": "https://localhost:8080/"
        },
        "id": "MFZhV9ztxr89",
        "outputId": "d100dd0f-a7ea-46c0-d185-e23ec8cfc947"
      },
      "execution_count": null,
      "outputs": [
        {
          "output_type": "execute_result",
          "data": {
            "text/plain": [
              "8"
            ]
          },
          "metadata": {},
          "execution_count": 142
        }
      ]
    },
    {
      "cell_type": "code",
      "source": [
        "'''\n",
        "List: Max,min, len, \n",
        "# Display sliced list\n",
        "print(List[::-1])\n",
        " \n",
        "# Display sliced list\n",
        "print(List[::-3])\n",
        " \n",
        "# Display sliced list\n",
        "print(List[:1:-2])\n",
        "########\n",
        "# Initialize list\n",
        "List = [-999, 'G4G', 1706256, '^_^', 3.1496]\n",
        " \n",
        "# Show original list\n",
        "print(\"\\nOriginal List:\\n\", List)\n",
        " \n",
        "print(\"\\nSliced Lists: \")\n",
        " \n",
        "# Display sliced list\n",
        "print(List[10::2])\n",
        " \n",
        "# Display sliced list\n",
        "print(List[1:1:1])\n",
        " \n",
        "# Display sliced list\n",
        "print(List[-1:-1:-1])\n",
        " \n",
        "# Display sliced list\n",
        "print(List[:0:])\n",
        "########\n",
        "\n",
        "'''"
      ],
      "metadata": {
        "id": "Hd4W4MdFyqW5"
      },
      "execution_count": null,
      "outputs": []
    },
    {
      "cell_type": "markdown",
      "source": [
        "#This is Session 6\n",
        "  ![image.png](data:image/png;base64,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)"
      ],
      "metadata": {
        "id": "EJC8n7ASzzOR"
      }
    },
    {
      "cell_type": "code",
      "source": [
        "a = \"a b c d e f g\""
      ],
      "metadata": {
        "id": "Vad44llQz1lH"
      },
      "execution_count": null,
      "outputs": []
    },
    {
      "cell_type": "code",
      "source": [
        "print(a[::2]) #abcdefg\n",
        "print(a[::3]) #a d g "
      ],
      "metadata": {
        "colab": {
          "base_uri": "https://localhost:8080/"
        },
        "id": "oAlyivjozyfd",
        "outputId": "8f0d250d-aa0a-45f9-f9fb-2f4b865e02b5"
      },
      "execution_count": null,
      "outputs": [
        {
          "output_type": "stream",
          "name": "stdout",
          "text": [
            "abcdefg\n",
            "a d g\n"
          ]
        }
      ]
    },
    {
      "cell_type": "code",
      "source": [
        "a = \"12345678\"\n",
        "print(a[::-1]) #exp:1357\n",
        "print(a[::3]) #exp:147"
      ],
      "metadata": {
        "colab": {
          "base_uri": "https://localhost:8080/"
        },
        "id": "FW75g-Zpz2Ga",
        "outputId": "df7dfa7c-76fa-4866-e49b-9b9dfd6fb9bc"
      },
      "execution_count": null,
      "outputs": [
        {
          "output_type": "stream",
          "name": "stdout",
          "text": [
            "12345678\n",
            "147\n"
          ]
        }
      ]
    },
    {
      "cell_type": "code",
      "source": [
        "a = [1,2,3,4,5,6,7,8,9,10,11,12,13,14,15]\n",
        "print(a[-1:-10:-2])"
      ],
      "metadata": {
        "colab": {
          "base_uri": "https://localhost:8080/"
        },
        "id": "4ZhQ2CLh2jJL",
        "outputId": "9cdf8acc-9c8d-426d-bcbf-b3f4176c7750"
      },
      "execution_count": null,
      "outputs": [
        {
          "output_type": "stream",
          "name": "stdout",
          "text": [
            "[15, 13, 11, 9, 7]\n"
          ]
        }
      ]
    },
    {
      "cell_type": "code",
      "source": [
        "a[-10:-1:2]"
      ],
      "metadata": {
        "colab": {
          "base_uri": "https://localhost:8080/"
        },
        "id": "lIJDDVDF4p6Z",
        "outputId": "bc38af25-88a5-4d95-de6a-fdcd15fa3a71"
      },
      "execution_count": null,
      "outputs": [
        {
          "output_type": "execute_result",
          "data": {
            "text/plain": [
              "[6, 8, 10, 12, 14]"
            ]
          },
          "metadata": {},
          "execution_count": 10
        }
      ]
    },
    {
      "cell_type": "code",
      "source": [
        "a = [1,2,3]"
      ],
      "metadata": {
        "id": "qm-bPtZF5rP3"
      },
      "execution_count": null,
      "outputs": []
    },
    {
      "cell_type": "code",
      "source": [
        "a = [1,2,3,(7,8,9),10]\n",
        "#9\n",
        "a[3][2]"
      ],
      "metadata": {
        "colab": {
          "base_uri": "https://localhost:8080/"
        },
        "id": "UEGLtr-Q7sdM",
        "outputId": "0c08d734-e117-47a4-e944-86c580478752"
      },
      "execution_count": null,
      "outputs": [
        {
          "output_type": "execute_result",
          "data": {
            "text/plain": [
              "9"
            ]
          },
          "metadata": {},
          "execution_count": 15
        }
      ]
    },
    {
      "cell_type": "code",
      "source": [
        "a = [1,2,3,(4),(5),(6),(7,8),(9,10,11)]\n",
        "#9\n",
        "a[7][0]"
      ],
      "metadata": {
        "id": "Whw5lZO-9Vss",
        "colab": {
          "base_uri": "https://localhost:8080/"
        },
        "outputId": "d894b5f8-220e-4018-cf09-9828e0c1de6e"
      },
      "execution_count": null,
      "outputs": [
        {
          "output_type": "execute_result",
          "data": {
            "text/plain": [
              "9"
            ]
          },
          "metadata": {},
          "execution_count": 23
        }
      ]
    },
    {
      "cell_type": "code",
      "source": [
        "a"
      ],
      "metadata": {
        "colab": {
          "base_uri": "https://localhost:8080/"
        },
        "id": "dtM6gDTR-VTz",
        "outputId": "1caaf627-8f03-4823-89cd-16da3aec1782"
      },
      "execution_count": null,
      "outputs": [
        {
          "output_type": "execute_result",
          "data": {
            "text/plain": [
              "[1, 2, 3, 4, 5, 6, (7, 8), (9, 10, 11)]"
            ]
          },
          "metadata": {},
          "execution_count": 17
        }
      ]
    },
    {
      "cell_type": "code",
      "source": [
        "#10\n",
        "a[7][1]"
      ],
      "metadata": {
        "colab": {
          "base_uri": "https://localhost:8080/"
        },
        "id": "QuJhumbF-WK5",
        "outputId": "14ebb118-ec2b-435c-adb9-7fb28fc67e1d"
      },
      "execution_count": null,
      "outputs": [
        {
          "output_type": "execute_result",
          "data": {
            "text/plain": [
              "10"
            ]
          },
          "metadata": {},
          "execution_count": 18
        }
      ]
    },
    {
      "cell_type": "code",
      "source": [
        "a = [1,2,3,(6,7,8),{\"Naga\":32}] #8\n",
        "a[3][2]\n",
        "#32\n",
        "a[4][\"Naga\"]"
      ],
      "metadata": {
        "colab": {
          "base_uri": "https://localhost:8080/"
        },
        "id": "P3SGxJFw-nSi",
        "outputId": "deb9c8eb-7579-4d73-ce61-80021202c2ee"
      },
      "execution_count": null,
      "outputs": [
        {
          "output_type": "execute_result",
          "data": {
            "text/plain": [
              "32"
            ]
          },
          "metadata": {},
          "execution_count": 27
        }
      ]
    },
    {
      "cell_type": "code",
      "source": [
        "a = [\"Naga\",\"Arjun\",\"Sreenivasulu\",(\"Jacks\",\"Technologies\")]\n",
        "#print => Jacks Technologies \n",
        "#Use String concatenation\n",
        "a[3][0] + \" \" + a[3][1]\n",
        "type(a)"
      ],
      "metadata": {
        "colab": {
          "base_uri": "https://localhost:8080/"
        },
        "id": "LZwtUlqE_M2d",
        "outputId": "e91a914d-cd34-4c96-c150-1e7b2c27c3e3"
      },
      "execution_count": null,
      "outputs": [
        {
          "output_type": "execute_result",
          "data": {
            "text/plain": [
              "list"
            ]
          },
          "metadata": {},
          "execution_count": 30
        }
      ]
    },
    {
      "cell_type": "code",
      "source": [
        "a = {\"Institute_FirstName\":\"Jacks\",\"Institute_SecondName\":\"Technologies\"}\n",
        "#print => Jacks Technologies \n",
        "a[\"Institute_FirstName\"] + \" \" + a[\"Institute_SecondName\"]\n",
        "type(a)\n",
        "a.keys()"
      ],
      "metadata": {
        "colab": {
          "base_uri": "https://localhost:8080/"
        },
        "id": "fLBi13SL_4N4",
        "outputId": "d31d8986-bbfe-4d16-cebc-c5e41a9c3cf5"
      },
      "execution_count": null,
      "outputs": [
        {
          "output_type": "execute_result",
          "data": {
            "text/plain": [
              "dict_keys(['Institute_FirstName', 'Institute_SecondName'])"
            ]
          },
          "metadata": {},
          "execution_count": 38
        }
      ]
    },
    {
      "cell_type": "code",
      "source": [
        "a = [{\"Institute_FirstName\":\"Jacks\",\"Institute_SecondName\":\"Technologies\"}]\n",
        "#print => Jacks Technologies\n",
        "type(a[0])\n",
        "a[0][\"Institute_FirstName\"] + \" \" + a[0][\"Institute_SecondName\"]"
      ],
      "metadata": {
        "colab": {
          "base_uri": "https://localhost:8080/",
          "height": 35
        },
        "id": "C3mltV05ACCY",
        "outputId": "b640337f-f6c9-4590-98bd-3c0e9b7bec19"
      },
      "execution_count": null,
      "outputs": [
        {
          "output_type": "execute_result",
          "data": {
            "text/plain": [
              "'Jacks Technologies'"
            ],
            "application/vnd.google.colaboratory.intrinsic+json": {
              "type": "string"
            }
          },
          "metadata": {},
          "execution_count": 35
        }
      ]
    },
    {
      "cell_type": "code",
      "source": [
        "a = ({\"Naga\":32,\"Marks\":[50,50,65,75]},[\"a\",\"b\",\"c\",4134],(\"Naga\"),{\"Name\":(\"Naga\",\"Arjun\")})\n",
        "#Name of Candidate is Naga and his marks in 3rd subject is 65\n",
        "#Registered number is : 4134\n",
        "#Full name is NagaArjun\n",
        "#a[0][\"Marks\"][2]\n",
        "x = a[3][\"Name\"][0]\n",
        "y = a[0][\"Marks\"][2]\n",
        "print(\"Name of the Candidate is {0} and his marks in 3rd subject is {1}\".format(x,y))\n",
        "print(\"Registered number is {b:}\".format(b=a[1][3]))"
      ],
      "metadata": {
        "colab": {
          "base_uri": "https://localhost:8080/"
        },
        "id": "BzcmjSTUBbmX",
        "outputId": "9d251996-86e3-4f03-c775-20d92387ba6f"
      },
      "execution_count": null,
      "outputs": [
        {
          "output_type": "stream",
          "name": "stdout",
          "text": [
            "Name of the Candidate is Naga and his marks in 3rd subject is 65\n",
            "Registered number is 4134\n"
          ]
        }
      ]
    },
    {
      "cell_type": "code",
      "source": [
        "a = \"Naga\"\n",
        "b = \"Arjuna\"\n",
        "print(\"Name of the Candidate : {0} {1}\".format(a,b))"
      ],
      "metadata": {
        "colab": {
          "base_uri": "https://localhost:8080/"
        },
        "id": "f67mx2t3D_V-",
        "outputId": "f5600231-9fe8-48ac-cdb2-8dd902bd5149"
      },
      "execution_count": null,
      "outputs": [
        {
          "output_type": "stream",
          "name": "stdout",
          "text": [
            "Name of the Candidate : Naga Arjuna\n"
          ]
        }
      ]
    },
    {
      "cell_type": "code",
      "source": [
        "a = [\\\n",
        "[1,2,3],\\\n",
        "{\"Fav_Animals\":[\"Tiger\",\"Cow\",\"Lion\",\"Elephant\"]},\\\n",
        "{\"Fav_Birds\":(\"Pigeon\",\"Peacock\",\"Eagle\",\"Sparrow\",\"Kingfisher\")},\\\n",
        "{\"Fav_Shows\":[{\"Prime\":(\"Movie_1\",\"Movie_2\")},{\"Netflix\":[\"Money_Heist\",\"Show2\"]}]}\n",
        "]\n",
        "#Counter  shall increment as 1,2,3\n",
        "#My Fav Show in Prime is Movie_2\n",
        "#My Fav Show in Netflix is Money_Heist\n",
        "#One of my Fav Animals is Lion\n",
        "#One of my Fav Birds is KingFisher\n",
        "print(\"Counter shall increment as {}, {}, {}\".format(a[0][0],a[0][1],a[0][2]))"
      ],
      "metadata": {
        "id": "AY4hZdUTGa7c",
        "colab": {
          "base_uri": "https://localhost:8080/"
        },
        "outputId": "33b43917-dd53-4ed8-8a9d-0a57bf101b41"
      },
      "execution_count": null,
      "outputs": [
        {
          "output_type": "stream",
          "name": "stdout",
          "text": [
            "Counter shall increment as 1, 2, 3\n"
          ]
        }
      ]
    },
    {
      "cell_type": "code",
      "source": [
        ""
      ],
      "metadata": {
        "id": "ohd1GA5sHCf7"
      },
      "execution_count": null,
      "outputs": []
    },
    {
      "cell_type": "markdown",
      "source": [
        "#Python : This is session 7\n",
        "1. Sets: Some more functions\n",
        "2. String : Some more functions\n",
        "3. Conditional operators"
      ],
      "metadata": {
        "id": "tUAMczqAoVVC"
      }
    },
    {
      "cell_type": "code",
      "source": [
        "a = {1,2,3,4,5,6,\"Naga\",1,2,3,4}"
      ],
      "metadata": {
        "id": "98pArmjyocHN"
      },
      "execution_count": null,
      "outputs": []
    },
    {
      "cell_type": "code",
      "source": [
        "a"
      ],
      "metadata": {
        "colab": {
          "base_uri": "https://localhost:8080/"
        },
        "id": "6XiFFQ1CF0MG",
        "outputId": "2deeac9d-47d9-460c-9f1b-e124e380a4d0"
      },
      "execution_count": null,
      "outputs": [
        {
          "output_type": "execute_result",
          "data": {
            "text/plain": [
              "{1, 2, 3, 4, 5, 6, 'Naga'}"
            ]
          },
          "metadata": {},
          "execution_count": 29
        }
      ]
    },
    {
      "cell_type": "code",
      "source": [
        "a.add(7)"
      ],
      "metadata": {
        "id": "9hblT2YxF1Ah"
      },
      "execution_count": null,
      "outputs": []
    },
    {
      "cell_type": "code",
      "source": [
        "a"
      ],
      "metadata": {
        "colab": {
          "base_uri": "https://localhost:8080/"
        },
        "id": "QrX64lXqF7Is",
        "outputId": "776c44bf-d228-49ae-bf2c-ad6861cbfbce"
      },
      "execution_count": null,
      "outputs": [
        {
          "output_type": "execute_result",
          "data": {
            "text/plain": [
              "{1, 2, 3, 4, 5, 6, 7, 'Arjun', 'Naga'}"
            ]
          },
          "metadata": {},
          "execution_count": 35
        }
      ]
    },
    {
      "cell_type": "code",
      "source": [
        "a.clear()\n",
        "a"
      ],
      "metadata": {
        "colab": {
          "base_uri": "https://localhost:8080/"
        },
        "id": "tHvmV70YF7jQ",
        "outputId": "186537ea-ecd2-480a-d219-ec052029d888"
      },
      "execution_count": null,
      "outputs": [
        {
          "output_type": "execute_result",
          "data": {
            "text/plain": [
              "set()"
            ]
          },
          "metadata": {},
          "execution_count": 39
        }
      ]
    },
    {
      "cell_type": "code",
      "source": [
        "a.update({1,2,3})"
      ],
      "metadata": {
        "id": "C98AXr62GEEs"
      },
      "execution_count": null,
      "outputs": []
    },
    {
      "cell_type": "code",
      "source": [
        "a"
      ],
      "metadata": {
        "colab": {
          "base_uri": "https://localhost:8080/"
        },
        "id": "3LK8s-SSGMHF",
        "outputId": "92ee7063-4915-46fc-951f-49ba6084e481"
      },
      "execution_count": null,
      "outputs": [
        {
          "output_type": "execute_result",
          "data": {
            "text/plain": [
              "{1, 2, 3}"
            ]
          },
          "metadata": {},
          "execution_count": 41
        }
      ]
    },
    {
      "cell_type": "code",
      "source": [
        "b = {3,4,5}\n",
        "a.intersection(b)"
      ],
      "metadata": {
        "colab": {
          "base_uri": "https://localhost:8080/"
        },
        "id": "1ZMeO8CHGMjB",
        "outputId": "0cf55179-6604-43c2-c246-26edbe32dc99"
      },
      "execution_count": null,
      "outputs": [
        {
          "output_type": "execute_result",
          "data": {
            "text/plain": [
              "{3}"
            ]
          },
          "metadata": {},
          "execution_count": 42
        }
      ]
    },
    {
      "cell_type": "code",
      "source": [
        "a.union(b)"
      ],
      "metadata": {
        "colab": {
          "base_uri": "https://localhost:8080/"
        },
        "id": "V4PnqvVvGqev",
        "outputId": "bfaea3e4-2fde-48ef-ac71-58e967943b5e"
      },
      "execution_count": null,
      "outputs": [
        {
          "output_type": "execute_result",
          "data": {
            "text/plain": [
              "{1, 2, 3, 4, 5}"
            ]
          },
          "metadata": {},
          "execution_count": 43
        }
      ]
    },
    {
      "cell_type": "code",
      "source": [
        "a.pop()"
      ],
      "metadata": {
        "colab": {
          "base_uri": "https://localhost:8080/"
        },
        "id": "AqVXoecPG1g8",
        "outputId": "c1ce3c28-18f1-4a44-ffbc-83b9009aacb0"
      },
      "execution_count": null,
      "outputs": [
        {
          "output_type": "execute_result",
          "data": {
            "text/plain": [
              "1"
            ]
          },
          "metadata": {},
          "execution_count": 44
        }
      ]
    },
    {
      "cell_type": "code",
      "source": [
        "a.pop()"
      ],
      "metadata": {
        "colab": {
          "base_uri": "https://localhost:8080/"
        },
        "id": "UBFbw-8pG7TJ",
        "outputId": "84efbf69-b004-4bbd-c498-268590188dcf"
      },
      "execution_count": null,
      "outputs": [
        {
          "output_type": "execute_result",
          "data": {
            "text/plain": [
              "2"
            ]
          },
          "metadata": {},
          "execution_count": 46
        }
      ]
    },
    {
      "cell_type": "code",
      "source": [
        "a"
      ],
      "metadata": {
        "colab": {
          "base_uri": "https://localhost:8080/"
        },
        "id": "zqF2-ZS6G82H",
        "outputId": "d5a01aaa-75b7-445d-80b3-58c8990b32ea"
      },
      "execution_count": null,
      "outputs": [
        {
          "output_type": "execute_result",
          "data": {
            "text/plain": [
              "{3}"
            ]
          },
          "metadata": {},
          "execution_count": 47
        }
      ]
    },
    {
      "cell_type": "code",
      "source": [
        "a = [1,2,3]\n",
        "a.pop()"
      ],
      "metadata": {
        "colab": {
          "base_uri": "https://localhost:8080/"
        },
        "id": "O37QoG7uG_Nn",
        "outputId": "b64eaa2a-4814-45cb-d2f5-7554d6bb7676"
      },
      "execution_count": null,
      "outputs": [
        {
          "output_type": "execute_result",
          "data": {
            "text/plain": [
              "3"
            ]
          },
          "metadata": {},
          "execution_count": 48
        }
      ]
    },
    {
      "cell_type": "code",
      "source": [
        "b = {1,2,3}\n",
        "b.pop()"
      ],
      "metadata": {
        "colab": {
          "base_uri": "https://localhost:8080/"
        },
        "id": "KZAeHhVOHBxA",
        "outputId": "5280aeb2-0373-419a-cb3f-fc4c6637cad1"
      },
      "execution_count": null,
      "outputs": [
        {
          "output_type": "execute_result",
          "data": {
            "text/plain": [
              "1"
            ]
          },
          "metadata": {},
          "execution_count": 49
        }
      ]
    },
    {
      "cell_type": "code",
      "source": [
        "a.pop()"
      ],
      "metadata": {
        "colab": {
          "base_uri": "https://localhost:8080/"
        },
        "id": "2OcyTX-tHDwR",
        "outputId": "0227d00a-8c71-4568-cfda-b92980e4b53d"
      },
      "execution_count": null,
      "outputs": [
        {
          "output_type": "execute_result",
          "data": {
            "text/plain": [
              "1"
            ]
          },
          "metadata": {},
          "execution_count": 58
        }
      ]
    },
    {
      "cell_type": "code",
      "source": [
        "b"
      ],
      "metadata": {
        "colab": {
          "base_uri": "https://localhost:8080/"
        },
        "id": "2uL4qkQ1HHu8",
        "outputId": "afe89f2f-b149-4090-a4ec-e58c8032cb1c"
      },
      "execution_count": null,
      "outputs": [
        {
          "output_type": "execute_result",
          "data": {
            "text/plain": [
              "{2, 3}"
            ]
          },
          "metadata": {},
          "execution_count": 51
        }
      ]
    },
    {
      "cell_type": "code",
      "source": [
        "b.pop()"
      ],
      "metadata": {
        "colab": {
          "base_uri": "https://localhost:8080/"
        },
        "id": "iaoY9dCWHIcR",
        "outputId": "0b458015-e5cb-46f1-9e50-d563b708c15a"
      },
      "execution_count": null,
      "outputs": [
        {
          "output_type": "execute_result",
          "data": {
            "text/plain": [
              "2"
            ]
          },
          "metadata": {},
          "execution_count": 54
        }
      ]
    },
    {
      "cell_type": "code",
      "source": [
        "b"
      ],
      "metadata": {
        "colab": {
          "base_uri": "https://localhost:8080/"
        },
        "id": "xTauYICzHQ0L",
        "outputId": "f7a92068-0b42-4ac5-ba97-0311702bcd5c"
      },
      "execution_count": null,
      "outputs": [
        {
          "output_type": "execute_result",
          "data": {
            "text/plain": [
              "{3}"
            ]
          },
          "metadata": {},
          "execution_count": 59
        }
      ]
    },
    {
      "cell_type": "code",
      "source": [
        "x = {1,2,3}"
      ],
      "metadata": {
        "id": "kAl5wUEkHc_P"
      },
      "execution_count": null,
      "outputs": []
    },
    {
      "cell_type": "code",
      "source": [
        "y = {1,2,3}\n",
        "y.issubset(x)"
      ],
      "metadata": {
        "colab": {
          "base_uri": "https://localhost:8080/"
        },
        "id": "jfT3vHoyHgKN",
        "outputId": "6d8817eb-ddb6-48e5-f31f-d303aa2075d6"
      },
      "execution_count": null,
      "outputs": [
        {
          "output_type": "execute_result",
          "data": {
            "text/plain": [
              "True"
            ]
          },
          "metadata": {},
          "execution_count": 66
        }
      ]
    },
    {
      "cell_type": "code",
      "source": [
        "a = \"naga is a tutor. he is also a student\"\n",
        "b = a.capitalize()\n",
        "a"
      ],
      "metadata": {
        "colab": {
          "base_uri": "https://localhost:8080/",
          "height": 36
        },
        "id": "9JJYYMHJHqZW",
        "outputId": "3d6b94b4-338a-4134-8d0c-7879ee39c40e"
      },
      "execution_count": null,
      "outputs": [
        {
          "output_type": "execute_result",
          "data": {
            "text/plain": [
              "'naga is a tutor. he is also a student'"
            ],
            "application/vnd.google.colaboratory.intrinsic+json": {
              "type": "string"
            }
          },
          "metadata": {},
          "execution_count": 84
        }
      ]
    },
    {
      "cell_type": "code",
      "source": [
        "a.count(\"tutor\")\n",
        "a.count(\"is\")"
      ],
      "metadata": {
        "colab": {
          "base_uri": "https://localhost:8080/"
        },
        "id": "xK7kP-TXI00I",
        "outputId": "314923e4-4e5c-4d6c-a72a-f5a7128004c4"
      },
      "execution_count": null,
      "outputs": [
        {
          "output_type": "execute_result",
          "data": {
            "text/plain": [
              "2"
            ]
          },
          "metadata": {},
          "execution_count": 74
        }
      ]
    },
    {
      "cell_type": "code",
      "source": [
        "a.find(\"is\",6)"
      ],
      "metadata": {
        "colab": {
          "base_uri": "https://localhost:8080/"
        },
        "id": "JFyMkfUHJLXh",
        "outputId": "2490b4c0-6c34-4a8d-e20a-c5591e1ba26c"
      },
      "execution_count": null,
      "outputs": [
        {
          "output_type": "execute_result",
          "data": {
            "text/plain": [
              "20"
            ]
          },
          "metadata": {},
          "execution_count": 76
        }
      ]
    },
    {
      "cell_type": "code",
      "source": [
        "a.islower()"
      ],
      "metadata": {
        "colab": {
          "base_uri": "https://localhost:8080/"
        },
        "id": "swxqZIYPJgLB",
        "outputId": "a3a7c330-8c7a-4b22-a8a7-1163ee4028d8"
      },
      "execution_count": null,
      "outputs": [
        {
          "output_type": "execute_result",
          "data": {
            "text/plain": [
              "True"
            ]
          },
          "metadata": {},
          "execution_count": 81
        }
      ]
    },
    {
      "cell_type": "code",
      "source": [
        "a"
      ],
      "metadata": {
        "colab": {
          "base_uri": "https://localhost:8080/",
          "height": 36
        },
        "id": "9jmqeovoJ4qY",
        "outputId": "25cc043d-813b-400b-c5e2-84dcf328c5c0"
      },
      "execution_count": null,
      "outputs": [
        {
          "output_type": "execute_result",
          "data": {
            "text/plain": [
              "'naga is a tutor. he is also a student'"
            ],
            "application/vnd.google.colaboratory.intrinsic+json": {
              "type": "string"
            }
          },
          "metadata": {},
          "execution_count": 85
        }
      ]
    },
    {
      "cell_type": "code",
      "source": [
        "a.join()"
      ],
      "metadata": {
        "colab": {
          "base_uri": "https://localhost:8080/",
          "height": 36
        },
        "id": "CwL2ndyFKI6A",
        "outputId": "7a4fbca0-74b5-4bdb-c8ea-b4e709a326bb"
      },
      "execution_count": null,
      "outputs": [
        {
          "output_type": "execute_result",
          "data": {
            "text/plain": [
              "'naga is a tutor. he is also a student'"
            ],
            "application/vnd.google.colaboratory.intrinsic+json": {
              "type": "string"
            }
          },
          "metadata": {},
          "execution_count": 90
        }
      ]
    },
    {
      "cell_type": "code",
      "source": [
        "a"
      ],
      "metadata": {
        "colab": {
          "base_uri": "https://localhost:8080/",
          "height": 36
        },
        "id": "weGqkPAxKOVY",
        "outputId": "0b67c2af-bc14-4119-fc4d-ec35d4fb7253"
      },
      "execution_count": null,
      "outputs": [
        {
          "output_type": "execute_result",
          "data": {
            "text/plain": [
              "'naga is a tutor. he is also a student'"
            ],
            "application/vnd.google.colaboratory.intrinsic+json": {
              "type": "string"
            }
          },
          "metadata": {},
          "execution_count": 87
        }
      ]
    },
    {
      "cell_type": "code",
      "source": [
        "'.'.join([\"192\",\"168\",\"50\",\"100\"])"
      ],
      "metadata": {
        "colab": {
          "base_uri": "https://localhost:8080/",
          "height": 36
        },
        "id": "uIEA1k1wKO_E",
        "outputId": "c6a33fad-ba85-4d5d-a8ac-7654bdee662d"
      },
      "execution_count": null,
      "outputs": [
        {
          "output_type": "execute_result",
          "data": {
            "text/plain": [
              "'192.168.50.100'"
            ],
            "application/vnd.google.colaboratory.intrinsic+json": {
              "type": "string"
            }
          },
          "metadata": {},
          "execution_count": 92
        }
      ]
    },
    {
      "cell_type": "code",
      "source": [
        "a = \"abcd\"\n",
        "','.join(a)"
      ],
      "metadata": {
        "colab": {
          "base_uri": "https://localhost:8080/",
          "height": 36
        },
        "id": "27ND_DoOK3B3",
        "outputId": "24cbcc1b-9da7-4cc4-a841-95c979f4e648"
      },
      "execution_count": null,
      "outputs": [
        {
          "output_type": "execute_result",
          "data": {
            "text/plain": [
              "'a,b,c,d'"
            ],
            "application/vnd.google.colaboratory.intrinsic+json": {
              "type": "string"
            }
          },
          "metadata": {},
          "execution_count": 93
        }
      ]
    },
    {
      "cell_type": "code",
      "source": [
        "x = \"Naga is a student ?\"\n",
        "x.endswith(\"?\")"
      ],
      "metadata": {
        "colab": {
          "base_uri": "https://localhost:8080/"
        },
        "id": "f09HMN4ULHbq",
        "outputId": "5b973c24-e0c3-40fb-8f3b-0d62702b0f07"
      },
      "execution_count": null,
      "outputs": [
        {
          "output_type": "execute_result",
          "data": {
            "text/plain": [
              "True"
            ]
          },
          "metadata": {},
          "execution_count": 104
        }
      ]
    },
    {
      "cell_type": "markdown",
      "source": [
        "#Conditional Operators\n",
        "#==\n",
        "#>=\n",
        "#<=\n",
        "#>\n",
        "#<\n",
        "#!="
      ],
      "metadata": {
        "id": "SweIkKzlM0UG"
      }
    },
    {
      "cell_type": "code",
      "source": [
        "a = 8\n",
        "b = 8\n",
        "if(a>b):#True/False\n",
        "  #do something in case of condition True\n",
        "  print(\"a is greater\")\n",
        "  print(\"go to else in case a isnot greater.\")\n",
        "elif(b>a):\n",
        "  #do something else in case of condition False\n",
        "  print(\"b is greater\")\n",
        "else:\n",
        "  print(\"a and b are equal\")\n",
        "#print(\"a is greater\")"
      ],
      "metadata": {
        "colab": {
          "base_uri": "https://localhost:8080/"
        },
        "id": "cAA35a9oLVvS",
        "outputId": "9a3a3037-e100-4a02-e3bf-917beedd033e"
      },
      "execution_count": null,
      "outputs": [
        {
          "output_type": "stream",
          "name": "stdout",
          "text": [
            "a and b are equal\n"
          ]
        }
      ]
    },
    {
      "cell_type": "markdown",
      "source": [
        "#Write a program to determine if a given data is a number"
      ],
      "metadata": {
        "id": "EyDdU7S0PFHj"
      }
    },
    {
      "cell_type": "code",
      "source": [
        "a = \"123\"\n",
        "type(a)"
      ],
      "metadata": {
        "colab": {
          "base_uri": "https://localhost:8080/"
        },
        "id": "UJZtM6t4MUvH",
        "outputId": "452d753f-b735-409d-b0f3-191f1da4566c"
      },
      "execution_count": null,
      "outputs": [
        {
          "output_type": "execute_result",
          "data": {
            "text/plain": [
              "str"
            ]
          },
          "metadata": {},
          "execution_count": 131
        }
      ]
    },
    {
      "cell_type": "code",
      "source": [
        "if(type(a) == int):\n",
        "  print(\"Given a is an integer\")\n",
        "else:\n",
        "  print(\"Given a is not an integer\")"
      ],
      "metadata": {
        "colab": {
          "base_uri": "https://localhost:8080/"
        },
        "id": "0fERhp--MV35",
        "outputId": "f6621e74-4e79-49e0-cc96-0b5080897dbb"
      },
      "execution_count": null,
      "outputs": [
        {
          "output_type": "stream",
          "name": "stdout",
          "text": [
            "Given a is not an integer\n"
          ]
        }
      ]
    },
    {
      "cell_type": "markdown",
      "source": [
        "#Write a program to determine if string is lower or upper"
      ],
      "metadata": {
        "id": "SJMGL7hNQJwd"
      }
    },
    {
      "cell_type": "code",
      "source": [
        "a = \"Naga1234\"\n",
        "if(a.islower()):\n",
        "  print(\"a is in lower case\")\n",
        "else:\n",
        "  print(\"No. a is not in lower case\")"
      ],
      "metadata": {
        "colab": {
          "base_uri": "https://localhost:8080/"
        },
        "id": "68OkwxmQPbF5",
        "outputId": "86328316-9b25-4f70-fa62-bde0bac88fbd"
      },
      "execution_count": null,
      "outputs": [
        {
          "output_type": "stream",
          "name": "stdout",
          "text": [
            "No. a is not in lower case\n"
          ]
        }
      ]
    },
    {
      "cell_type": "markdown",
      "source": [
        "#Write a program to determine if a given string is alphanum"
      ],
      "metadata": {
        "id": "pV-FplW0Qk8a"
      }
    },
    {
      "cell_type": "code",
      "source": [
        "if(a.isalnum()):\n",
        "  print(\"Yes a is alphanumeric\")\n",
        "else:\n",
        "\n",
        "  print(\"No. as is not alphanumeric\")"
      ],
      "metadata": {
        "colab": {
          "base_uri": "https://localhost:8080/"
        },
        "id": "eUlhJGtJQbYq",
        "outputId": "29e9b37e-3349-4902-c81e-ef6d524acbb5"
      },
      "execution_count": null,
      "outputs": [
        {
          "output_type": "stream",
          "name": "stdout",
          "text": [
            "Yes a is alphanumeric\n"
          ]
        }
      ]
    },
    {
      "cell_type": "code",
      "source": [
        "#Determine if a given list is empty ot not empty\n",
        "a = [1,2,3,4]\n",
        "if(len(a) == 0):\n",
        "  print(\"given list a is empty\")\n",
        "else:\n",
        "  print(\"No. GIven list a has elements in it\")"
      ],
      "metadata": {
        "colab": {
          "base_uri": "https://localhost:8080/"
        },
        "id": "50vsuSyfQzGa",
        "outputId": "c09f412e-ab68-41fc-fd70-db110fc61a72"
      },
      "execution_count": null,
      "outputs": [
        {
          "output_type": "stream",
          "name": "stdout",
          "text": [
            "No. GIven list a has elements in it\n"
          ]
        }
      ]
    },
    {
      "cell_type": "code",
      "source": [
        "a = (1,2,3,[4,5,6])\n",
        "#if a contains a list in it\n",
        "if(type(a[3] is list)):\n",
        "  print(\"Yes. a contains list\")\n",
        "else:\n",
        "  print(\"a donot contain lsit\")"
      ],
      "metadata": {
        "colab": {
          "base_uri": "https://localhost:8080/"
        },
        "id": "apOaKoaWRPHX",
        "outputId": "c4f09837-73c0-4c64-8284-0e150d50f1d3"
      },
      "execution_count": null,
      "outputs": [
        {
          "output_type": "stream",
          "name": "stdout",
          "text": [
            "Yes. a contains list\n"
          ]
        }
      ]
    },
    {
      "cell_type": "code",
      "source": [
        ""
      ],
      "metadata": {
        "id": "Y_9fqMsuS40J"
      },
      "execution_count": null,
      "outputs": []
    },
    {
      "cell_type": "markdown",
      "source": [
        "#19th April 2022\n",
        "#Conditional statements and some more programs"
      ],
      "metadata": {
        "id": "sGyzFMYS-7AA"
      }
    },
    {
      "cell_type": "code",
      "source": [
        "#Comments and indendation\n",
        "#This is a sample Program for conditional statements \n",
        "#Below logic is for calculation of Compound interest or a Loan Interest based on the Principle amount and tenure\n",
        "#1. Input from User : Principle and tenure\n",
        "#2. Storing the inputs from UI to variables and Submitting them in the formulae\n",
        "#3. Calculate the logic as per formulae\n",
        "#4. Print the interest component : User UI\n",
        "\n",
        "#Indendation: Plays an important role in Python for it to interpret the logic correctly. \n",
        "#def Sum_Two_numbers():\n",
        "#    a = 1\n",
        "#    b = 2\n",
        "#    c = a+b\n",
        "#    print(c) "
      ],
      "metadata": {
        "id": "CNWnKLgGEunl"
      },
      "execution_count": null,
      "outputs": []
    },
    {
      "cell_type": "code",
      "source": [
        "#input()\n",
        "#Take input from User and determine if its a non zero value.\n",
        "a = input(\"Enter a number to determine is it is a non zero value:\")\n",
        "type(a)\n",
        "if(int(a) != 0):\n",
        "  print(\"Entered number {}  is a non zero value\".format(a))\n",
        "else:\n",
        "  print(\"Entered number {}  is a zero value\".format(a))"
      ],
      "metadata": {
        "colab": {
          "base_uri": "https://localhost:8080/"
        },
        "id": "1iYGQ67xHOs7",
        "outputId": "f7f5af42-b62c-4e54-d1fd-7f96e093f3b1"
      },
      "execution_count": null,
      "outputs": [
        {
          "output_type": "stream",
          "name": "stdout",
          "text": [
            "Enter a number to determine is it is a non zero value:-1000\n",
            "Entered number -1000  is a non zero value\n"
          ]
        }
      ]
    },
    {
      "cell_type": "code",
      "source": [
        "#take input form user and do type casting\n",
        "a = input(\"Enter a number\")\n",
        "b = int(a)\n",
        "print(b)"
      ],
      "metadata": {
        "colab": {
          "base_uri": "https://localhost:8080/"
        },
        "id": "Llj2uq4GNxd8",
        "outputId": "4da53b45-0a46-43a2-dcfc-5e9f4bd37e03"
      },
      "execution_count": null,
      "outputs": [
        {
          "output_type": "stream",
          "name": "stdout",
          "text": [
            "Enter a number7\n",
            "7\n"
          ]
        }
      ]
    },
    {
      "cell_type": "code",
      "source": [
        "#Determine if the given 3 numbers can be a fit for forming a triangle\n",
        "#a + b >= c\n",
        "#b + c >= a\n",
        "#c + a >= b\n",
        "first_side = int(input(\"Enter the first side: \"))\n",
        "Second_side = int(input(\"Enter the second side: \"))\n",
        "Third_side = int(input(\"Enter the third side: \"))\n",
        "if((first_side <= 0) or (Second_side <= 0) or (Third_side <= 0)):\n",
        "  print(\"Enter proper values.\")\n",
        "else:\n",
        "  if((first_side + Second_side >= Third_side) and (Second_side + Third_side >= first_side) and (first_side + Third_side >= Second_side)):\n",
        "    print(\"Entered data or sides can form a triangle\")\n",
        "  else:\n",
        "    print(\"Entered data or sides cannot form a triangle\")\n",
        "print(\"Please continue running it to check fora different combo\")"
      ],
      "metadata": {
        "id": "7DqjC6bf-9P-",
        "colab": {
          "base_uri": "https://localhost:8080/"
        },
        "outputId": "6a70d690-ddb3-4f33-f47e-bb298e15e72a"
      },
      "execution_count": null,
      "outputs": [
        {
          "output_type": "stream",
          "name": "stdout",
          "text": [
            "Enter the first side: -1\n",
            "Enter the second side: -2\n",
            "Enter the third side: -3\n",
            "Enter proper values.\n",
            "Please continue running it to check fora different combo\n"
          ]
        }
      ]
    },
    {
      "cell_type": "code",
      "source": [
        "#Determine type of Triangle based on the 3 sides given\n",
        "#Equilateral : if all the 3 sides are equal\n",
        "#Isosceles : if any two sides are equal\n",
        "#Scalene : If none of the sides are equal\n",
        "\n",
        "#Steps will determine if the given inputs values can form a triangle or not\n",
        "first_side = int(input(\"Enter the first side: \"))\n",
        "Second_side = int(input(\"Enter the second side: \"))\n",
        "Third_side = int(input(\"Enter the third side: \"))\n",
        "\n",
        "#First validate the inputs data : Check for non zero and check for positive values\n",
        "if((first_side <= 0) or (Second_side <= 0) or (Third_side <= 0)):\n",
        "  print(\"Enter proper values.\")\n",
        "else:\n",
        "  #If the given sides form a triangle or not \n",
        "  if((first_side + Second_side >= Third_side) and (Second_side + Third_side >= first_side) and (first_side + Third_side >= Second_side)):\n",
        "    print(\"Entered data or sides can form a triangle\")\n",
        "    #Steps for determining the type of triangle\n",
        "    if(first_side == Second_side):\n",
        "      if(first_side == Third_side):\n",
        "        print(\"Given sides are an equilateral triangle\")\n",
        "      else:\n",
        "        print(\"Given sidea form an isosceles triangle\")\n",
        "    else:\n",
        "      if(Second_side == Third_side):\n",
        "        print(\"Given sidea form an isosceles triangle\")\n",
        "      else:\n",
        "        print(\"Given sidea form a scalene triangle\")\n",
        "  else:\n",
        "    print(\"Entered data or sides cannot form a triangle\")\n",
        "print(\"Please continue running it to check fora different combo\")"
      ],
      "metadata": {
        "id": "MDTR_zwI_Hgr",
        "colab": {
          "base_uri": "https://localhost:8080/"
        },
        "outputId": "34026aaa-6591-49b5-c10a-88aa9a5a51e2"
      },
      "execution_count": null,
      "outputs": [
        {
          "output_type": "stream",
          "name": "stdout",
          "text": [
            "Enter the first side: -1\n",
            "Enter the second side: -1\n",
            "Enter the third side: -1\n",
            "Enter proper values.\n",
            "Please continue running it to check fora different combo\n"
          ]
        }
      ]
    },
    {
      "cell_type": "code",
      "source": [
        "#Determine if a given number is a even or odd number\n",
        "#even -> number divisible by 2 => reminder when divided by 2 is 0\n",
        "#odd -> number not divisible by 2 => reminder when divided by 2 is 1\n",
        "a = input(\"Enter the number to be determined as even or odd:\")\n",
        "b = int(a)\n",
        "if(b%2 == 0):\n",
        "  print(\"Entered number is even number\")\n",
        "else:\n",
        "  print(\"Entered number is odd number\")"
      ],
      "metadata": {
        "id": "jYtbi_G9_YV-",
        "colab": {
          "base_uri": "https://localhost:8080/"
        },
        "outputId": "95d3013b-5f05-4a5b-bf78-5ff26523af7b"
      },
      "execution_count": null,
      "outputs": [
        {
          "output_type": "stream",
          "name": "stdout",
          "text": [
            "Enter the number to be determined as even or odd:2\n",
            "Entered number is even number\n"
          ]
        }
      ]
    },
    {
      "cell_type": "code",
      "source": [
        "#Palindrome => xyx, aka, rotor, refer, redivider, kayak\n",
        "a = input(\"Enter a string to be determined as a palindrome: \")\n",
        "#print(a)\n",
        "#print(b)\n",
        "if(len(a) > 1):\n",
        "  b = a[::-1]\n",
        "  if(a == b):\n",
        "    print(\"Given string is a Palindrome\")\n",
        "  else:\n",
        "    print(\"Given string is not a Palindrome\")\n",
        "else:\n",
        "  print(\"Enter a valid input\")"
      ],
      "metadata": {
        "id": "OlarqGbU_XXf",
        "colab": {
          "base_uri": "https://localhost:8080/"
        },
        "outputId": "3555f530-f7ab-42c5-f20b-420d68e2ca92"
      },
      "execution_count": null,
      "outputs": [
        {
          "output_type": "stream",
          "name": "stdout",
          "text": [
            "Enter a string to be determined as a palindrome: 121\n",
            "Given string is a Palindrome\n"
          ]
        }
      ]
    },
    {
      "cell_type": "code",
      "source": [
        "#Determine the fitness of a person based on BMI\n",
        "#BMI = Weight/Height**2\n",
        "#Underweight = <18.5\n",
        "#Normal weight = 18.5–24.9\n",
        "#Overweight = 25–29.9\n",
        "#Obesity = BMI of 30 or greater\n",
        "Weight = float(input(\"Enter your weight in Kgs: \"))\n",
        "Height = float(input(\"Enter your height in meters: \"))\n",
        "BMI = Weight/Height**2\n",
        "if(BMI < 18.5):\n",
        "  print(\"You are Underweght\")\n",
        "elif(BMI >=18.5 and BMI<=24.9):\n",
        "  print(\"You are Normal Weight\")\n",
        "elif(BMI>24.9 and BMI<=29.9):\n",
        "  print(\"You are Overweight\")\n",
        "else:\n",
        "  print(\"You are obese\")"
      ],
      "metadata": {
        "colab": {
          "base_uri": "https://localhost:8080/"
        },
        "id": "oIhfZIMIYe8y",
        "outputId": "1daefb26-4f04-4176-e7f2-aeaea3f454db"
      },
      "execution_count": null,
      "outputs": [
        {
          "output_type": "stream",
          "name": "stdout",
          "text": [
            "Enter your weight in Kgs: 70\n",
            "Enter your height in meters: 1.67\n",
            "You are Overweight\n"
          ]
        }
      ]
    },
    {
      "cell_type": "code",
      "source": [
        "#Determine the pass fail in exams based on the average percentage entered by the user\n",
        "#Percentage >=85 => Distinction\n",
        "#Percentage >=75 and <85 => A grade\n",
        "#Percentage >=65 and <75 => B grade\n",
        "#Percentage >=55 and <65 => C grade\n",
        "#Percentage >=40 and <55 => D grade\n",
        "#Percenrage < 40 => Fail\n",
        "a = int(input(\"Enter The percentage for determining the pass / fail: \"))\n",
        "if(a >= 85):\n",
        "  print(\"You have passed in Distinction\")\n",
        "elif(a >=75 and a<85):\n",
        "  print(\"You have passed with A grade\")\n",
        "elif(a >=65 and a<75):\n",
        "  print(\"You have passed with B grade\")\n",
        "elif(a >=55 and a<65):\n",
        "  print(\"You have passed with C grade\")\n",
        "elif(a >=40 and a<55):\n",
        "  print(\"You have passed with D grade\")\n",
        "else:\n",
        "  print(\"Sorry.You are Failed.\")"
      ],
      "metadata": {
        "id": "eW6JHizDZphl",
        "colab": {
          "base_uri": "https://localhost:8080/"
        },
        "outputId": "f7e2283a-b709-4c35-e990-7bd4e64d251a"
      },
      "execution_count": null,
      "outputs": [
        {
          "output_type": "stream",
          "name": "stdout",
          "text": [
            "Enter The percentage for determining the pass / fail: 55\n",
            "You have passed with C grade\n"
          ]
        }
      ]
    },
    {
      "cell_type": "markdown",
      "source": [
        "#20 April 2022\n",
        "#Lambda functionality\n",
        "#Some More programs in if else and elif"
      ],
      "metadata": {
        "id": "nQBdrQituZz6"
      }
    },
    {
      "cell_type": "code",
      "source": [
        "#nested if\n",
        "'''\n",
        "if(condition1):\n",
        "   if(condition2):\n",
        "        do something steps\n",
        "   else:\n",
        "        do some other handler steps\n",
        "else:\n",
        "  do nothing steps\n",
        "  if(condition):    \n",
        "'''\n",
        "#write a program to divide two numbers using if else:\n",
        "numr = int(input(\"Enter the numerator\"))\n",
        "deno = int(input(\"Enter the denominator\"))\n",
        "if(deno == 0):\n",
        "  print(\"Please enter a non zero denominator for avoiding run time issues\")\n",
        "else:\n",
        "  print(numr/deno)"
      ],
      "metadata": {
        "id": "8B-JQwXcctnv",
        "colab": {
          "base_uri": "https://localhost:8080/"
        },
        "outputId": "f433874d-5fde-4092-f999-0c1117458050"
      },
      "execution_count": null,
      "outputs": [
        {
          "output_type": "stream",
          "name": "stdout",
          "text": [
            "Enter the numerator2\n",
            "Enter the denominator3\n",
            "0.6666666666666666\n"
          ]
        }
      ]
    },
    {
      "cell_type": "code",
      "source": [
        "#Employee : Age retirement yrs left\n",
        "#input : Employee's age\n",
        "#processing: determine the yrs left => 65 - input\n",
        "#output: printing the same on output consolde/pop up\n",
        "Employee_Age = int(input(\"Enter the age to determine your yrs left for retirement\"))\n",
        "if(65-Employee_Age <= 0):\n",
        "  print(\"Sorry. You are already retired.\")\n",
        "else:\n",
        "  print(\"You have still {} years more to go\".format(65 - Employee_Age))"
      ],
      "metadata": {
        "colab": {
          "base_uri": "https://localhost:8080/"
        },
        "id": "GDHOUfZ_UrgX",
        "outputId": "c8b1f49b-0819-4d42-8da1-833a1ee2d526"
      },
      "execution_count": null,
      "outputs": [
        {
          "output_type": "stream",
          "name": "stdout",
          "text": [
            "Enter the age to determine your yrs left for retirement66\n",
            "Sorry. You are already retired.\n"
          ]
        }
      ]
    },
    {
      "cell_type": "code",
      "source": [
        "#first set = {1,2,3}\n",
        "#second set = {2,3}\n",
        "#DEtermine the which is the subset of superset/disjoint sets\n",
        "first_set = set(input(\"Enter your first set: \"))\n",
        "second_set = set(input(\"Enter your second set: \"))\n",
        "if((len(first_set) !=0) and (len(second_set)!=0)):\n",
        "  if(first_set == second_set):\n",
        "    print(\"Both the given sets are equal\")\n",
        "  else:\n",
        "    if(first_set.issubset(second_set)):\n",
        "      print(\"first set is thesubset to second set.\")\n",
        "    elif(second_set.issubset(first_set)):\n",
        "      print(\"second set is thesubset to first set.\")\n",
        "    else:\n",
        "      print(\"Given sets are not subset to any other\")\n",
        "else:\n",
        "  print(\"Please enter non empty Sets\")"
      ],
      "metadata": {
        "colab": {
          "base_uri": "https://localhost:8080/"
        },
        "id": "8isYX7LRbXEx",
        "outputId": "498f6bf4-87ed-489e-8b57-22cf7c97a59b"
      },
      "execution_count": null,
      "outputs": [
        {
          "output_type": "stream",
          "name": "stdout",
          "text": [
            "Enter your first set: {1,2,3}\n",
            "Enter your second set: {1,2}\n",
            "second set is thesubset to first set.\n"
          ]
        }
      ]
    },
    {
      "cell_type": "code",
      "source": [
        "a = {1,2,3}\n",
        "b = {1,2,3}"
      ],
      "metadata": {
        "colab": {
          "base_uri": "https://localhost:8080/"
        },
        "id": "r35a4PG6cSdq",
        "outputId": "1102d677-5cee-494b-8068-e167290ee3af"
      },
      "execution_count": null,
      "outputs": [
        {
          "output_type": "stream",
          "name": "stdout",
          "text": [
            "True\n"
          ]
        }
      ]
    },
    {
      "cell_type": "code",
      "source": [
        "a = \"Naga\""
      ],
      "metadata": {
        "id": "1Ojdbxg3c_iD"
      },
      "execution_count": null,
      "outputs": []
    },
    {
      "cell_type": "code",
      "source": [
        "a = 1"
      ],
      "metadata": {
        "id": "yLlyBmIsgO85"
      },
      "execution_count": null,
      "outputs": []
    },
    {
      "cell_type": "code",
      "source": [
        "#a = 0\n",
        "##if(a=0):\n",
        "#  print(\"passed\")\n",
        "#if(a==0)"
      ],
      "metadata": {
        "colab": {
          "base_uri": "https://localhost:8080/",
          "height": 131
        },
        "id": "eiEgCoFIgP64",
        "outputId": "7aae48e0-0b62-4186-db5d-701f3046f452"
      },
      "execution_count": null,
      "outputs": [
        {
          "output_type": "error",
          "ename": "SyntaxError",
          "evalue": "ignored",
          "traceback": [
            "\u001b[0;36m  File \u001b[0;32m\"<ipython-input-31-7f3c9769d8b8>\"\u001b[0;36m, line \u001b[0;32m2\u001b[0m\n\u001b[0;31m    if(a=0):\u001b[0m\n\u001b[0m        ^\u001b[0m\n\u001b[0;31mSyntaxError\u001b[0m\u001b[0;31m:\u001b[0m invalid syntax\n"
          ]
        }
      ]
    },
    {
      "cell_type": "code",
      "source": [
        "#password = alphanumeric\n",
        "password = input(\"Enter your password:\")\n",
        "if(password.isnumeric()):\n",
        "  #print(\"Entered password is not in correct format\")\n",
        "  if(password.isalpha()):\n",
        "    print(\"Entered password is in correct format\")\n",
        "  else:\n",
        "    print(\"Entered password is not in correct format\")  \n",
        "else:\n",
        "  print(\"Entered password is not in correct format\")"
      ],
      "metadata": {
        "colab": {
          "base_uri": "https://localhost:8080/"
        },
        "id": "vntOkDIOhPwO",
        "outputId": "2b848b19-b27d-4914-d6c4-78f393e42e64"
      },
      "execution_count": null,
      "outputs": [
        {
          "output_type": "stream",
          "name": "stdout",
          "text": [
            "Enter your password:naga4134\n",
            "Entered password is not in correct format\n"
          ]
        }
      ]
    },
    {
      "cell_type": "code",
      "source": [
        "a = \"Naga\"\n",
        "a.isalnum()"
      ],
      "metadata": {
        "colab": {
          "base_uri": "https://localhost:8080/"
        },
        "id": "HKSR8D5QjRIM",
        "outputId": "debda73e-b520-41e1-9d61-af29b01a8eba"
      },
      "execution_count": null,
      "outputs": [
        {
          "output_type": "execute_result",
          "data": {
            "text/plain": [
              "True"
            ]
          },
          "metadata": {},
          "execution_count": 41
        }
      ]
    },
    {
      "cell_type": "code",
      "source": [
        "#password \n",
        "#Special characters : @#$&\n",
        "#Alphabets : atleast 1 Capital, atelast 1 small\n",
        "#Atleast 1 number\n",
        "#overall : length 8"
      ],
      "metadata": {
        "id": "4pAKoazdkVM4"
      },
      "execution_count": null,
      "outputs": []
    },
    {
      "cell_type": "code",
      "source": [
        "a = {1,2,3}"
      ],
      "metadata": {
        "id": "RD8UXEIgl2wz"
      },
      "execution_count": null,
      "outputs": []
    },
    {
      "cell_type": "markdown",
      "source": [
        "#21st April 2022"
      ],
      "metadata": {
        "id": "lDuuW8E7YnyQ"
      }
    },
    {
      "cell_type": "code",
      "source": [
        "#password \n",
        "#Special characters : @#$& => Park side\n",
        "#Alphabets : atleast 1 Capital, atelast 1 small\n",
        "#Atleast 1 number\n",
        "#overall : length 8\n",
        "password = input(\"Enter a password: \")\n",
        "if(password.isnumeric()):#if cond 1 => Check for number is present or not in the given password\n",
        "  #Password contains number\n",
        "  if(password.isalpha()):#if cond 2 => Check for password contians alphabets or not\n",
        "    #Password contains alphabets\n",
        "    if(password.isupper()):\n",
        "      #Password contains upper cases : atleast one upper case\n",
        "      if(password.islower()):\n",
        "        #Password contains upper cases : atleast one lower case\n",
        "        print(\"Entered password is in correct format\")\n",
        "      else:\n",
        "        print(\"Entered password is not in correct format due to no lower case\")  \n",
        "    else:\n",
        "      print(\"Entered password is not in correct format due to no upper case\") \n",
        "  else:\n",
        "    print(\"Entered password is not in correct format due to no alphabets\")   \n",
        "else:\n",
        "  print(\"Entered password is not in correct format due to no numbers\")"
      ],
      "metadata": {
        "colab": {
          "base_uri": "https://localhost:8080/"
        },
        "id": "DZ3WwMEQYqDA",
        "outputId": "5a3eaca9-c8e5-40a1-a731-4be380fed44a"
      },
      "execution_count": null,
      "outputs": [
        {
          "output_type": "stream",
          "name": "stdout",
          "text": [
            "Enter a password: Naga4134\n",
            "Entered password is not in correct format due to no numbers\n"
          ]
        }
      ]
    },
    {
      "cell_type": "code",
      "source": [
        ""
      ],
      "metadata": {
        "id": "QZ8N4RaNjKP6"
      },
      "execution_count": null,
      "outputs": []
    },
    {
      "cell_type": "markdown",
      "source": [
        "#Looping statement:-"
      ],
      "metadata": {
        "id": "He41jvKVkQ0i"
      }
    },
    {
      "cell_type": "code",
      "source": [
        "#For loop,while loop\n",
        "#3 * 2 => repeated addition\n",
        "#2 *3 => 3 + 3 / 2 + 2 + 2\n",
        "a = 2\n",
        "b = 3\n",
        "mul = 0# a * b\n",
        "for i in range(b):#0,1,2,3,4,5,6,7,8,9\n",
        "  mul = mul + a # a = a + a\n",
        "print(mul)"
      ],
      "metadata": {
        "colab": {
          "base_uri": "https://localhost:8080/"
        },
        "id": "6VnGyc8JkS4h",
        "outputId": "60d7dd46-12cf-4ded-8502-07c3a63ef8d3"
      },
      "execution_count": null,
      "outputs": [
        {
          "output_type": "stream",
          "name": "stdout",
          "text": [
            "6\n"
          ]
        }
      ]
    },
    {
      "cell_type": "code",
      "source": [
        "#For loop,while loop\n",
        "#3 * 2 => repeated addition\n",
        "a = 9\n",
        "b = 3\n",
        "#div = 10 -2 = 8\n",
        "#div = 8 - 2 = 6\n",
        "#div = 6 -2 = 4\n",
        "div = a#a/b\n",
        "counter = 0\n",
        "while(div >= 0):\n",
        "  div = div - b\n",
        "  counter = counter + 1\n",
        "print(counter -1)"
      ],
      "metadata": {
        "colab": {
          "base_uri": "https://localhost:8080/"
        },
        "id": "WU8u7bxIlYmC",
        "outputId": "2a06a934-7242-4a33-e895-693c987da2fd"
      },
      "execution_count": null,
      "outputs": [
        {
          "output_type": "stream",
          "name": "stdout",
          "text": [
            "3\n"
          ]
        }
      ]
    },
    {
      "cell_type": "code",
      "source": [
        "a = [1,2,3,4,5]\n",
        "for i in range(len(a)):\n",
        "  print(a[i])"
      ],
      "metadata": {
        "colab": {
          "base_uri": "https://localhost:8080/"
        },
        "id": "ZMYrYsbJnH70",
        "outputId": "ff0ac1b1-9f6c-4e17-968f-3be391a878a0"
      },
      "execution_count": null,
      "outputs": [
        {
          "output_type": "stream",
          "name": "stdout",
          "text": [
            "1\n",
            "2\n",
            "3\n",
            "4\n",
            "5\n"
          ]
        }
      ]
    },
    {
      "cell_type": "code",
      "source": [
        "a = [1,2,3,4,5]\n",
        "for i in range(len(a)):\n",
        "  if(i % 2 != 0):\n",
        "    print(a[i])"
      ],
      "metadata": {
        "colab": {
          "base_uri": "https://localhost:8080/"
        },
        "id": "g2x6PQk4oVTY",
        "outputId": "4df2fbfa-7ed0-4a8b-ac1c-a62202762d44"
      },
      "execution_count": null,
      "outputs": [
        {
          "output_type": "stream",
          "name": "stdout",
          "text": [
            "2\n",
            "4\n"
          ]
        }
      ]
    },
    {
      "cell_type": "code",
      "source": [
        "1 % 2"
      ],
      "metadata": {
        "colab": {
          "base_uri": "https://localhost:8080/"
        },
        "id": "w276JlP7ok8X",
        "outputId": "8a8dec69-56f5-431c-a8af-23bde91fb65f"
      },
      "execution_count": null,
      "outputs": [
        {
          "output_type": "execute_result",
          "data": {
            "text/plain": [
              "1"
            ]
          },
          "metadata": {},
          "execution_count": 37
        }
      ]
    },
    {
      "cell_type": "code",
      "source": [
        "a = [1,2,3,4,5]\n",
        "i = 0\n",
        "while i != len(a):\n",
        "  print(a[i])\n",
        "  i+= 1\n",
        "#while and if goes in similar manner in terms of condition  "
      ],
      "metadata": {
        "colab": {
          "base_uri": "https://localhost:8080/"
        },
        "id": "BEIoAytAoo_K",
        "outputId": "f7bfc9a8-e5b8-48e9-dc2f-c0df75224117"
      },
      "execution_count": null,
      "outputs": [
        {
          "output_type": "stream",
          "name": "stdout",
          "text": [
            "1\n",
            "2\n",
            "3\n",
            "4\n",
            "5\n"
          ]
        }
      ]
    },
    {
      "cell_type": "code",
      "source": [
        "a=(1,2,3,4,5,6)\n",
        "for i in range(len(a)):\n",
        "  print(a[i])"
      ],
      "metadata": {
        "colab": {
          "base_uri": "https://localhost:8080/"
        },
        "id": "nW7GKPV9pYPj",
        "outputId": "3c97dd84-6a48-4125-c1b6-b7914d0ceafd"
      },
      "execution_count": null,
      "outputs": [
        {
          "output_type": "stream",
          "name": "stdout",
          "text": [
            "1\n",
            "2\n",
            "3\n",
            "4\n",
            "5\n",
            "6\n"
          ]
        }
      ]
    },
    {
      "cell_type": "code",
      "source": [
        "a=(1,2,3,4,5,6)\n",
        "for i in range(len(a)):\n",
        "  if(i %2 != 0): \n",
        "   print(a[i])"
      ],
      "metadata": {
        "colab": {
          "base_uri": "https://localhost:8080/"
        },
        "id": "UsYq5OTWrpBq",
        "outputId": "dc1d6e73-3426-49fe-eedb-1357483bf716"
      },
      "execution_count": null,
      "outputs": [
        {
          "output_type": "stream",
          "name": "stdout",
          "text": [
            "2\n",
            "4\n",
            "6\n"
          ]
        }
      ]
    },
    {
      "cell_type": "code",
      "source": [
        "given_str = \"motor\"\n",
        "str_search = \"o\"\n",
        "#for i in range(len(given_str)):\n",
        "count = 0\n",
        "for i in given_str:\n",
        "  if(i == str_search):\n",
        "    count+= 1\n",
        "print(count)"
      ],
      "metadata": {
        "colab": {
          "base_uri": "https://localhost:8080/"
        },
        "id": "zqGy8jkosbfD",
        "outputId": "2d0dbb9b-751f-4288-a942-bf0c338f5c9d"
      },
      "execution_count": null,
      "outputs": [
        {
          "output_type": "stream",
          "name": "stdout",
          "text": [
            "2\n"
          ]
        }
      ]
    },
    {
      "cell_type": "code",
      "source": [
        "#Sum of first n numbers\n",
        "n = int(input(\"Enter a number: \"))\n",
        "j = 0\n",
        "for i in range(1,n+1):\n",
        "    j = j+i\n",
        "print(j)\n",
        "\n",
        "#while( i < )\\"
      ],
      "metadata": {
        "colab": {
          "base_uri": "https://localhost:8080/"
        },
        "id": "7_VBPOPys9KL",
        "outputId": "e01c5968-17b0-45d6-8527-9adddfdae9b9"
      },
      "execution_count": null,
      "outputs": [
        {
          "output_type": "stream",
          "name": "stdout",
          "text": [
            "Enter a number: 100\n",
            "5050\n"
          ]
        }
      ]
    },
    {
      "cell_type": "markdown",
      "source": [
        "n\n",
        "n*(n-1)*(n-1)*(n-2)*.......n = 1\n",
        "5 = 5*4*3*2*1\n"
      ],
      "metadata": {
        "id": "Vw7ofzgxyR6_"
      }
    },
    {
      "cell_type": "code",
      "source": [
        "#Factorial\n",
        "n = int(input(\"Enter a number: \"))\n",
        "j = 1\n",
        "for i in range(1,n+1):\n",
        "    j = j*i\n",
        "print(j)"
      ],
      "metadata": {
        "colab": {
          "base_uri": "https://localhost:8080/"
        },
        "id": "7AyQp-d9xOeF",
        "outputId": "f1057731-d40c-4f8f-8a94-ba41dbaf28a8"
      },
      "execution_count": null,
      "outputs": [
        {
          "output_type": "stream",
          "name": "stdout",
          "text": [
            "Enter a number: 5\n",
            "120\n"
          ]
        }
      ]
    },
    {
      "cell_type": "code",
      "source": [
        "#22nd April 2022"
      ],
      "metadata": {
        "id": "KylKqZA_xifp"
      },
      "execution_count": null,
      "outputs": []
    },
    {
      "cell_type": "code",
      "source": [
        "i = 1\n",
        "while i < 6:\n",
        "  print(i)\n",
        "  i += 1\n",
        "else:\n",
        "  print(\"Count down stopped\")\n",
        "print(\"Count down is finished\")"
      ],
      "metadata": {
        "colab": {
          "base_uri": "https://localhost:8080/"
        },
        "id": "6cYlkZAyk2G5",
        "outputId": "a06a41b6-fc32-4be1-eb87-99106ba208a7"
      },
      "execution_count": null,
      "outputs": [
        {
          "output_type": "stream",
          "name": "stdout",
          "text": [
            "1\n",
            "2\n",
            "3\n",
            "4\n",
            "5\n",
            "Count down stopped\n",
            "Count down is finished\n"
          ]
        }
      ]
    },
    {
      "cell_type": "code",
      "source": [
        "i = 1\n",
        "while i < 6:\n",
        "  print(i)\n",
        "  if (i == 3):\n",
        "    break\n",
        "  i += 1"
      ],
      "metadata": {
        "colab": {
          "base_uri": "https://localhost:8080/"
        },
        "id": "5jnKmaEqk3jC",
        "outputId": "3c20f213-4567-4054-9515-42d10654ef72"
      },
      "execution_count": null,
      "outputs": [
        {
          "output_type": "stream",
          "name": "stdout",
          "text": [
            "1\n",
            "2\n",
            "3\n"
          ]
        }
      ]
    },
    {
      "cell_type": "code",
      "source": [
        "i = 0\n",
        "while i < 11:\n",
        "  i += 1\n",
        "  if i%2 == 0:#i == 3:\n",
        "    #print(i)\n",
        "    continue\n",
        "  print(i)\n",
        "\n",
        "# Note that number 3 is missing in the result"
      ],
      "metadata": {
        "colab": {
          "base_uri": "https://localhost:8080/"
        },
        "id": "tc3UFn95k6I9",
        "outputId": "b629ec6c-eca8-489a-be6f-c74dc9619889"
      },
      "execution_count": null,
      "outputs": [
        {
          "output_type": "stream",
          "name": "stdout",
          "text": [
            "1\n",
            "3\n",
            "5\n",
            "7\n",
            "9\n",
            "11\n"
          ]
        }
      ]
    },
    {
      "cell_type": "code",
      "source": [
        "password = \"12345678\"\n",
        "counter = 0\n",
        "\n",
        "while True:\n",
        "    word = input(\"Enter the secret word: \").lower()\n",
        "    counter = counter + 1\n",
        "    if word == password:\n",
        "        print(\"You have logged in successfully\")\n",
        "        break\n",
        "    if word != password and counter > 7: \n",
        "        print(\"Sorry you have exceeded\")\n",
        "        break"
      ],
      "metadata": {
        "colab": {
          "base_uri": "https://localhost:8080/"
        },
        "id": "Amsa1QQ3lUnX",
        "outputId": "3140d0da-0a3c-45d8-bf77-73b4f8ede899"
      },
      "execution_count": null,
      "outputs": [
        {
          "output_type": "stream",
          "name": "stdout",
          "text": [
            "Enter the secret word: 12345678\n",
            "You have logged in successfully\n"
          ]
        }
      ]
    },
    {
      "cell_type": "code",
      "source": [
        "#fact(n) = n*n-1*n-2*n-3*n-4 .... n=1\n",
        "#fact(4) = 4*3*2*1 = \n",
        "num = int(input(\"Enter the number for which you need to calcualte factorial: \"))\n",
        "fact = 1\n",
        "for i in range(1,num+1):\n",
        "  fact = fact * i\n",
        "print(fact)"
      ],
      "metadata": {
        "colab": {
          "base_uri": "https://localhost:8080/"
        },
        "id": "44BNo9c3oEHG",
        "outputId": "fa087bd3-f50f-421a-d5a4-ffaeec889beb"
      },
      "execution_count": null,
      "outputs": [
        {
          "output_type": "stream",
          "name": "stdout",
          "text": [
            "Enter the number for which you need to calcualte factorial: 4\n",
            "24\n"
          ]
        }
      ]
    },
    {
      "cell_type": "code",
      "source": [
        "str_search = \"Welcome                                 to      Jacks        technologies!!!\"\n",
        "output_str = \"\"\n",
        "for i in range(len(str_search)):\n",
        "  if(str_search[i] == \" \" and str_search[i+1] == \" \"):\n",
        "    #i+= 1\n",
        "    pass\n",
        "  else:\n",
        "    output_str = output_str + str_search[i]\n",
        "print(output_str)"
      ],
      "metadata": {
        "colab": {
          "base_uri": "https://localhost:8080/"
        },
        "id": "4XJsbrEjpwGS",
        "outputId": "77829fd3-920c-4b91-c359-5a5d4c633eb5"
      },
      "execution_count": null,
      "outputs": [
        {
          "output_type": "stream",
          "name": "stdout",
          "text": [
            "Welcome to Jacks technologies!!!\n"
          ]
        }
      ]
    },
    {
      "cell_type": "code",
      "source": [
        "str_search = \"banana apple strawberry blueberry pineapple\"\n",
        "#\" \" => \",\"\n",
        "output_str = \"\"\n",
        "for i in range(len(str_search)):\n",
        "  if(str_search[i] == \" \"):# and str_search[i+1] == \" \"):\n",
        "     output_str = output_str + \",\"\n",
        "  else:\n",
        "    output_str = output_str + str_search[i]\n",
        "print(output_str)"
      ],
      "metadata": {
        "colab": {
          "base_uri": "https://localhost:8080/"
        },
        "id": "2Lwx6Af9t_L9",
        "outputId": "51c2f586-bf8f-48c1-e166-1dddefe19fe0"
      },
      "execution_count": null,
      "outputs": [
        {
          "output_type": "stream",
          "name": "stdout",
          "text": [
            "banana,apple,strawberry,blueberry,pineapple\n"
          ]
        }
      ]
    },
    {
      "cell_type": "code",
      "source": [
        "#prime number\n",
        "#4 : 1,2,4 . composite\n",
        "#3 :1 and number itself  1 and 3 ; prime\n",
        "#6 : 1,2,3,6 => conposite\n",
        "#7,11,13,17,19 .... => prime\n",
        "num = int(input(\"Enter a number: \"))\n",
        "for i in range(2,num+1):\n",
        "  if((num % i) == 0):\n",
        "    break\n",
        "if(i == num):\n",
        "  print(\"Given number is a prime number\")\n",
        "else:\n",
        "  print(\"Given number is not a prime number\")"
      ],
      "metadata": {
        "colab": {
          "base_uri": "https://localhost:8080/"
        },
        "id": "0Crk2sdkuk56",
        "outputId": "0b733a9c-2f65-4014-bb08-81092afe617d"
      },
      "execution_count": null,
      "outputs": [
        {
          "output_type": "stream",
          "name": "stdout",
          "text": [
            "Enter a number: 15\n",
            "Given number is not a prime number\n"
          ]
        }
      ]
    },
    {
      "cell_type": "code",
      "source": [
        "num = int(input(\"Enter a number: \"))\n",
        "i = 1\n",
        "while(i < num):\n",
        "  i+= 1\n",
        "  if((num % i) == 0):\n",
        "    break\n",
        "\n",
        "if(i == num):\n",
        "  print(\"Given number is a prime number\")\n",
        "else:\n",
        "  print(\"Given number is not a prime number\")"
      ],
      "metadata": {
        "colab": {
          "base_uri": "https://localhost:8080/"
        },
        "id": "JXGGkWQG3W2A",
        "outputId": "78cd955c-37c9-4650-896d-dc455e6a32f7"
      },
      "execution_count": null,
      "outputs": [
        {
          "output_type": "stream",
          "name": "stdout",
          "text": [
            "Enter a number: 28\n",
            "Given number is not a prime number\n"
          ]
        }
      ]
    },
    {
      "cell_type": "code",
      "source": [
        ""
      ],
      "metadata": {
        "id": "iTbA6vh04mJ4"
      },
      "execution_count": null,
      "outputs": []
    },
    {
      "cell_type": "markdown",
      "source": [
        "#23rd April 2022\n",
        "Pass statement\n",
        "List and Dict comprehension\n",
        "Ternary operators\n",
        "Python is case sensitive\n",
        "Some references to Python\n",
        "Exercises.ipynb"
      ],
      "metadata": {
        "id": "BQkYbDvxSW9Z"
      }
    },
    {
      "cell_type": "markdown",
      "source": [
        ""
      ],
      "metadata": {
        "id": "b1RYE1HaSZAt"
      }
    },
    {
      "cell_type": "code",
      "source": [
        "#pass statement\n",
        "# Its like do nothing\n",
        "# > 85 Distinction\n",
        "# > 45 Passed\n",
        "#  < 45 Failed\n",
        "a = 46\n",
        "A = 90\n",
        "if(a > 85):\n",
        "  print(\"Pass in distinction\")\n",
        "elif(a > 45):\n",
        "  print(\"Passed\")\n",
        "  #pass\n",
        "elif(a < 45):\n",
        "  print(\"Failed\")\n",
        "else:\n",
        "  #do nothing\n",
        "  pass"
      ],
      "metadata": {
        "id": "RObBvMEeK14E",
        "colab": {
          "base_uri": "https://localhost:8080/"
        },
        "outputId": "19783505-708c-4950-dafb-dfaa40251e5e"
      },
      "execution_count": null,
      "outputs": [
        {
          "output_type": "stream",
          "name": "stdout",
          "text": [
            "Passed\n"
          ]
        }
      ]
    },
    {
      "cell_type": "code",
      "source": [
        "#List Comprehension\n",
        "fruits = [\"apple\",\"mango\",\"kiwi\",\"cherry\"]\n",
        "newlist = []\n",
        "#newlist = [x for x in fruits if 'a' in x]\n",
        "newlist = [x for x in fruits if \"a\" in x]\n",
        "    #newlist.append(x)\n",
        "newlist"
      ],
      "metadata": {
        "colab": {
          "base_uri": "https://localhost:8080/"
        },
        "id": "IFuMFeobL3VI",
        "outputId": "91e20b8a-df2e-44c4-819a-1184461e3817"
      },
      "execution_count": null,
      "outputs": [
        {
          "output_type": "execute_result",
          "data": {
            "text/plain": [
              "['apple', 'mango']"
            ]
          },
          "metadata": {},
          "execution_count": 4
        }
      ]
    },
    {
      "cell_type": "code",
      "source": [
        "a = [1,2,3,4,\"naga\",2.5]\n",
        "#Mutable : changed/editable\n",
        "a.append(2.8)\n",
        "a.pop()\n",
        "a\n",
        "for x in a:\n",
        "  print(x)"
      ],
      "metadata": {
        "colab": {
          "base_uri": "https://localhost:8080/"
        },
        "id": "oRB6aT5iODta",
        "outputId": "6f0f0713-44ef-474a-9db6-fe27e67f834e"
      },
      "execution_count": null,
      "outputs": [
        {
          "output_type": "stream",
          "name": "stdout",
          "text": [
            "1\n",
            "2\n",
            "3\n",
            "4\n",
            "naga\n",
            "2.5\n"
          ]
        }
      ]
    },
    {
      "cell_type": "code",
      "source": [
        "a = {\"Naga\":32,\"Arjun\":28}\n",
        "a[\"Naga\"]"
      ],
      "metadata": {
        "colab": {
          "base_uri": "https://localhost:8080/"
        },
        "id": "zkIQDiR8OuQZ",
        "outputId": "ee1b0650-608a-4e57-9cb2-fcfce33e6332"
      },
      "execution_count": null,
      "outputs": [
        {
          "output_type": "execute_result",
          "data": {
            "text/plain": [
              "32"
            ]
          },
          "metadata": {},
          "execution_count": 10
        }
      ]
    },
    {
      "cell_type": "code",
      "source": [
        "newlist = [x for x in fruits if(\"a\" in x)]"
      ],
      "metadata": {
        "id": "fZ8OTOi6NXSc"
      },
      "execution_count": null,
      "outputs": []
    },
    {
      "cell_type": "code",
      "source": [
        "for i in fruits:\n",
        "  if(\"a\" in i):\n",
        "    newlist.append(i)"
      ],
      "metadata": {
        "id": "WtnTFZnONhnJ"
      },
      "execution_count": null,
      "outputs": []
    },
    {
      "cell_type": "code",
      "source": [
        "newlist"
      ],
      "metadata": {
        "colab": {
          "base_uri": "https://localhost:8080/"
        },
        "id": "PDAWkSXeN4N6",
        "outputId": "d07e5bed-592a-4705-fff0-7453e4246c85"
      },
      "execution_count": null,
      "outputs": [
        {
          "output_type": "execute_result",
          "data": {
            "text/plain": [
              "['apple', 'mango']"
            ]
          },
          "metadata": {},
          "execution_count": 10
        }
      ]
    },
    {
      "cell_type": "code",
      "source": [
        "user_input = input(\"Enter your favourite Cuisine:\")\n",
        "menu = [\"Soup\",\"Salad\",\"Italian\",\"Meditterienan\",\"Japanese\",\"Asian\"]\n",
        "menu_detailed = {\"Soup\":[\"Tomato\",\"Corn\",\"Manchow\"],\"Salad\":[\"Green\",\"Vegetable\"],\"Italian\":[\"Pasta\"],\"Meditterienan\":[\"Pork\"],\"Japanese\":[\"Sushi\"],\"Asian\":[\"Spicy\"]}\n",
        "Order = []\n",
        "Specific_Order = {}\n",
        "#for x in menu:\n",
        "#  if(x == user_input):\n",
        "#    Order.append(x)\n",
        "#Order\n",
        "#for x in menu_detailed:\n",
        "#  if x == user_input:\n",
        "#    Specific_Order.update({x:menu_detailed[x]})\n",
        "Order = [x for x in menu if(x == user_input)]\n",
        "Specific_Order = {x:menu_detailed[x] for x in menu_detailed if x==user_input}\n",
        "print(Specific_Order)\n",
        "print(Order)"
      ],
      "metadata": {
        "colab": {
          "base_uri": "https://localhost:8080/"
        },
        "id": "Cg_Wvc-LN5_6",
        "outputId": "03f53682-befe-488e-939d-eeb2c0718321"
      },
      "execution_count": null,
      "outputs": [
        {
          "output_type": "stream",
          "name": "stdout",
          "text": [
            "Enter your favourite Cuisine:Soup\n",
            "{'Soup': ['Tomato', 'Corn', 'Manchow']}\n",
            "['Soup']\n"
          ]
        }
      ]
    },
    {
      "cell_type": "code",
      "source": [
        "newlist"
      ],
      "metadata": {
        "colab": {
          "base_uri": "https://localhost:8080/"
        },
        "id": "l-WmQhTgOame",
        "outputId": "866e73b8-b1f0-47d2-bd32-4177192c987a"
      },
      "execution_count": null,
      "outputs": [
        {
          "output_type": "execute_result",
          "data": {
            "text/plain": [
              "['apple', 'mango', 'Soup']"
            ]
          },
          "metadata": {},
          "execution_count": 15
        }
      ]
    },
    {
      "cell_type": "code",
      "source": [
        "#print a new list with all numbers < 5 using list comprehension within given lsit having <10 numbers\n",
        "new_list = [x for x in range(1,10) if(x % 2 == 0)]"
      ],
      "metadata": {
        "id": "mqDrzgpFOyB_"
      },
      "execution_count": null,
      "outputs": []
    },
    {
      "cell_type": "code",
      "source": [
        "new_list"
      ],
      "metadata": {
        "colab": {
          "base_uri": "https://localhost:8080/"
        },
        "id": "Ai2_zLKmQ85y",
        "outputId": "afe88127-5941-4e74-d081-5016938ba5b9"
      },
      "execution_count": null,
      "outputs": [
        {
          "output_type": "execute_result",
          "data": {
            "text/plain": [
              "[2, 4, 6, 8]"
            ]
          },
          "metadata": {},
          "execution_count": 30
        }
      ]
    },
    {
      "cell_type": "code",
      "source": [
        "new_dict = {x:x**0.5 for x in range(1,10)}"
      ],
      "metadata": {
        "id": "Aky6gB7-Q-Sr"
      },
      "execution_count": null,
      "outputs": []
    },
    {
      "cell_type": "code",
      "source": [
        "new_dict"
      ],
      "metadata": {
        "colab": {
          "base_uri": "https://localhost:8080/"
        },
        "id": "ELjZBN8JR5aP",
        "outputId": "fdb9aca6-9699-4f47-b8a8-328a4ac3e154"
      },
      "execution_count": null,
      "outputs": [
        {
          "output_type": "execute_result",
          "data": {
            "text/plain": [
              "{1: 1.0,\n",
              " 2: 1.4142135623730951,\n",
              " 3: 1.7320508075688772,\n",
              " 4: 2.0,\n",
              " 5: 2.23606797749979,\n",
              " 6: 2.449489742783178,\n",
              " 7: 2.6457513110645907,\n",
              " 8: 2.8284271247461903,\n",
              " 9: 3.0}"
            ]
          },
          "metadata": {},
          "execution_count": 51
        }
      ]
    },
    {
      "cell_type": "code",
      "source": [
        "a = [\"Naga\",\"Jack\",\"David\"]\n",
        "b = [\"Apple\",\"Mango\",\"Banana\"]\n",
        "#c = [x,y ]"
      ],
      "metadata": {
        "colab": {
          "base_uri": "https://localhost:8080/",
          "height": 236
        },
        "id": "jV_evswJSBSH",
        "outputId": "a3ada41a-8168-41bb-81a0-f06c8c7243bf"
      },
      "execution_count": null,
      "outputs": [
        {
          "output_type": "error",
          "ename": "TypeError",
          "evalue": "ignored",
          "traceback": [
            "\u001b[0;31m---------------------------------------------------------------------------\u001b[0m",
            "\u001b[0;31mTypeError\u001b[0m                                 Traceback (most recent call last)",
            "\u001b[0;32m<ipython-input-43-854eed61ff0a>\u001b[0m in \u001b[0;36m<module>\u001b[0;34m()\u001b[0m\n\u001b[1;32m      1\u001b[0m \u001b[0;31m#a = [\"Naga\",\"Jack\",\"David\"]\u001b[0m\u001b[0;34m\u001b[0m\u001b[0;34m\u001b[0m\u001b[0;34m\u001b[0m\u001b[0m\n\u001b[1;32m      2\u001b[0m \u001b[0;31m#b = [\"Apple\",\"Mango\",\"Banana\"]\u001b[0m\u001b[0;34m\u001b[0m\u001b[0;34m\u001b[0m\u001b[0;34m\u001b[0m\u001b[0m\n\u001b[0;32m----> 3\u001b[0;31m \u001b[0;32mfor\u001b[0m \u001b[0mx\u001b[0m\u001b[0;34m,\u001b[0m\u001b[0my\u001b[0m \u001b[0;32min\u001b[0m \u001b[0mnew_dict\u001b[0m\u001b[0;34m(\u001b[0m\u001b[0;34m)\u001b[0m\u001b[0;34m:\u001b[0m\u001b[0;34m\u001b[0m\u001b[0;34m\u001b[0m\u001b[0m\n\u001b[0m\u001b[1;32m      4\u001b[0m   \u001b[0mprint\u001b[0m\u001b[0;34m(\u001b[0m\u001b[0mx\u001b[0m\u001b[0;34m)\u001b[0m\u001b[0;34m\u001b[0m\u001b[0;34m\u001b[0m\u001b[0m\n\u001b[1;32m      5\u001b[0m   \u001b[0mprint\u001b[0m\u001b[0;34m(\u001b[0m\u001b[0my\u001b[0m\u001b[0;34m)\u001b[0m\u001b[0;34m\u001b[0m\u001b[0;34m\u001b[0m\u001b[0m\n",
            "\u001b[0;31mTypeError\u001b[0m: 'dict' object is not callable"
          ]
        }
      ]
    },
    {
      "cell_type": "code",
      "source": [
        "sample_dict = {\"Naga\":32,\"Jack\":28,\"David\":65}\n",
        "#for x in sample_dict:\n",
        " # print(sample_dict[x])\n",
        "new_list = [x for x in sample_dict if sample_dict[x] < 65]\n",
        "new_list"
      ],
      "metadata": {
        "colab": {
          "base_uri": "https://localhost:8080/"
        },
        "id": "MmvVHPNKSXSv",
        "outputId": "34bb7fe9-d37e-48cb-8ed8-f9fab42f36d0"
      },
      "execution_count": null,
      "outputs": [
        {
          "output_type": "execute_result",
          "data": {
            "text/plain": [
              "['Naga', 'Jack']"
            ]
          },
          "metadata": {},
          "execution_count": 55
        }
      ]
    },
    {
      "cell_type": "code",
      "source": [
        "#case seneitive and Case In-sensitive\n",
        "#Case sensitive : \n",
        "new_list = [1,2,3]\n",
        "New_list = [3,4,5]\n",
        "print(new_list)\n",
        "print(New_list)\n",
        "#Case Insensitive : "
      ],
      "metadata": {
        "colab": {
          "base_uri": "https://localhost:8080/"
        },
        "id": "xz2pj5ODUCc5",
        "outputId": "f7ee5d3f-6db8-403d-e626-2a3050418a0b"
      },
      "execution_count": null,
      "outputs": [
        {
          "output_type": "stream",
          "name": "stdout",
          "text": [
            "[1, 2, 3]\n",
            "[3, 4, 5]\n"
          ]
        }
      ]
    },
    {
      "cell_type": "code",
      "source": [
        "#python References : https://docs.python.org/3/tutorial/index.html"
      ],
      "metadata": {
        "id": "s9Y2TjstVESL"
      },
      "execution_count": null,
      "outputs": []
    },
    {
      "cell_type": "markdown",
      "source": [
        "26th April 2022"
      ],
      "metadata": {
        "id": "LCKkCDKAhL4J"
      }
    },
    {
      "cell_type": "code",
      "source": [
        "#Derive  a dictoinary : {num:num**2}\n",
        "#dict_new = {1:1,2:4,3:9} until num = int(input(\"Enter a number: \"))\n",
        "dict_new = {}\n",
        "user_input = int(input(\"Enter a number:\"))\n",
        "#for x in range(user_input):\n",
        "  #dict_new.update({x:x**2})\n",
        "dict_new = {x:x**2 for x in range(user_input)}\n",
        "dict_new"
      ],
      "metadata": {
        "id": "9wZozHG9WQ3W",
        "colab": {
          "base_uri": "https://localhost:8080/"
        },
        "outputId": "36013b86-018b-455b-ad45-55c5f7321bde"
      },
      "execution_count": null,
      "outputs": [
        {
          "name": "stdout",
          "output_type": "stream",
          "text": [
            "Enter a number:10\n"
          ]
        },
        {
          "output_type": "execute_result",
          "data": {
            "text/plain": [
              "{0: 0, 1: 1, 2: 4, 3: 9, 4: 16, 5: 25, 6: 36, 7: 49, 8: 64, 9: 81}"
            ]
          },
          "metadata": {},
          "execution_count": 24
        }
      ]
    },
    {
      "cell_type": "code",
      "source": [
        "database = {\"Naga\":32,\"Jack\":28,\"John\":21,\"Mavis\":20,\"Gru\":65,\"Udo\":64}#Name:Age\n",
        "retire_Dict = {}#Only consists of only members whose age is > 60\n",
        "#retire_Dict = {\"Gru\":65,\"Udo\":64}\n",
        "retire_Dict = {x:database[x] for x in database if database[x]>60}\n",
        "retire_Dict"
      ],
      "metadata": {
        "colab": {
          "base_uri": "https://localhost:8080/"
        },
        "id": "DnTmsbQ1USpe",
        "outputId": "4eeefb48-6bfd-4b4a-c47e-4d93abac077e"
      },
      "execution_count": null,
      "outputs": [
        {
          "output_type": "execute_result",
          "data": {
            "text/plain": [
              "{'Gru': 65, 'Udo': 64}"
            ]
          },
          "metadata": {},
          "execution_count": 29
        }
      ]
    },
    {
      "cell_type": "code",
      "source": [
        "a = 3\n",
        "b = 2\n",
        "if (a<b):\n",
        "  min = a\n",
        "else:\n",
        "  min = b\n",
        "min = a if a < b else b\n",
        "min"
      ],
      "metadata": {
        "colab": {
          "base_uri": "https://localhost:8080/"
        },
        "id": "gfUM6ynkWRBy",
        "outputId": "5b8d5d5c-2670-4e7c-8f96-d36035c98ac6"
      },
      "execution_count": null,
      "outputs": [
        {
          "output_type": "execute_result",
          "data": {
            "text/plain": [
              "2"
            ]
          },
          "metadata": {},
          "execution_count": 32
        }
      ]
    },
    {
      "cell_type": "code",
      "source": [
        "a,b = 10,20"
      ],
      "metadata": {
        "id": "VN5K3OhaX7Qb"
      },
      "execution_count": null,
      "outputs": []
    },
    {
      "cell_type": "code",
      "source": [
        "a"
      ],
      "metadata": {
        "colab": {
          "base_uri": "https://localhost:8080/"
        },
        "id": "Y3tYEbXTYWqB",
        "outputId": "88e158b0-17ab-4db1-b28c-5dc760193991"
      },
      "execution_count": null,
      "outputs": [
        {
          "output_type": "execute_result",
          "data": {
            "text/plain": [
              "10"
            ]
          },
          "metadata": {},
          "execution_count": 34
        }
      ]
    },
    {
      "cell_type": "code",
      "source": [
        "b"
      ],
      "metadata": {
        "colab": {
          "base_uri": "https://localhost:8080/"
        },
        "id": "HEXEIWneYYIZ",
        "outputId": "5aed5189-2307-41d4-e5fd-3f2b9b969a1b"
      },
      "execution_count": null,
      "outputs": [
        {
          "output_type": "execute_result",
          "data": {
            "text/plain": [
              "20"
            ]
          },
          "metadata": {},
          "execution_count": 35
        }
      ]
    },
    {
      "cell_type": "code",
      "source": [
        "a = 5\n",
        "b = 7\n",
        "print(\"a is greater\") if a >b else print(\"b is greater\")"
      ],
      "metadata": {
        "colab": {
          "base_uri": "https://localhost:8080/"
        },
        "id": "kjF2Ig9vYYf9",
        "outputId": "03166917-b998-4b0d-aa3b-1f3fe3c67703"
      },
      "execution_count": null,
      "outputs": [
        {
          "output_type": "stream",
          "name": "stdout",
          "text": [
            "b is greater\n"
          ]
        }
      ]
    },
    {
      "cell_type": "code",
      "source": [
        "a = 1\n",
        "b = 2\n",
        "c = 3\n",
        "print(\"a is grater\") if a>b  else(\"b is greater\") if  b>c  else(\"c is grater\")"
      ],
      "metadata": {
        "colab": {
          "base_uri": "https://localhost:8080/",
          "height": 35
        },
        "id": "CIXqJpyZYtBN",
        "outputId": "79b12397-fe9c-48c7-a648-5b81b4728bf2"
      },
      "execution_count": null,
      "outputs": [
        {
          "output_type": "execute_result",
          "data": {
            "text/plain": [
              "'c is grater'"
            ],
            "application/vnd.google.colaboratory.intrinsic+json": {
              "type": "string"
            }
          },
          "metadata": {},
          "execution_count": 40
        }
      ]
    },
    {
      "cell_type": "code",
      "source": [
        "a = \"Naga\"#4\n",
        "print(\"a is a string\") if (type(a) is str) else print(\"a is a num\") if (type(a) is int) else print(\"a is neither int nor string\")"
      ],
      "metadata": {
        "colab": {
          "base_uri": "https://localhost:8080/"
        },
        "id": "PIXGAtMQZv7l",
        "outputId": "879f75ee-3183-4611-c4e5-d42549da1681"
      },
      "execution_count": null,
      "outputs": [
        {
          "output_type": "stream",
          "name": "stdout",
          "text": [
            "a is a string\n"
          ]
        }
      ]
    },
    {
      "cell_type": "code",
      "source": [
        "#Functions and methods"
      ],
      "metadata": {
        "id": "r-7yyIrXbisH"
      },
      "execution_count": null,
      "outputs": []
    },
    {
      "cell_type": "code",
      "source": [
        "#Functions : user defined data types, user defined logic which can be enclosed only once and called any number of times."
      ],
      "metadata": {
        "id": "7dKF-qXlb8Hn"
      },
      "execution_count": null,
      "outputs": []
    },
    {
      "cell_type": "code",
      "source": [
        "def great_2_num(a = 0,b = 0):\n",
        "  if(a > b):\n",
        "    print(\"a is greater\")\n",
        "  else:\n",
        "    print(\"b is greater\")\n",
        "  return 0"
      ],
      "metadata": {
        "id": "0W1nhGGMcUw1"
      },
      "execution_count": null,
      "outputs": []
    },
    {
      "cell_type": "code",
      "source": [
        "great_2_num(2,3)"
      ],
      "metadata": {
        "colab": {
          "base_uri": "https://localhost:8080/"
        },
        "id": "YWmGQg4ecod-",
        "outputId": "c8b8c49d-d8c2-4f87-c6b3-24bead2a671f"
      },
      "execution_count": null,
      "outputs": [
        {
          "output_type": "stream",
          "name": "stdout",
          "text": [
            "b is greater\n"
          ]
        },
        {
          "output_type": "execute_result",
          "data": {
            "text/plain": [
              "0"
            ]
          },
          "metadata": {},
          "execution_count": 56
        }
      ]
    },
    {
      "cell_type": "code",
      "source": [
        "great_2_num(3,2)"
      ],
      "metadata": {
        "colab": {
          "base_uri": "https://localhost:8080/"
        },
        "id": "I2_RjO6cc0Kc",
        "outputId": "f8fe6563-3d2a-4d46-d207-713af85e35d9"
      },
      "execution_count": null,
      "outputs": [
        {
          "output_type": "stream",
          "name": "stdout",
          "text": [
            "a is greater\n"
          ]
        },
        {
          "output_type": "execute_result",
          "data": {
            "text/plain": [
              "0"
            ]
          },
          "metadata": {},
          "execution_count": 57
        }
      ]
    },
    {
      "cell_type": "code",
      "source": [
        "great_2_num(2)"
      ],
      "metadata": {
        "colab": {
          "base_uri": "https://localhost:8080/"
        },
        "id": "lt85Uj3Vc2Pl",
        "outputId": "48971425-3357-43ae-d225-f83ce89002e0"
      },
      "execution_count": null,
      "outputs": [
        {
          "output_type": "stream",
          "name": "stdout",
          "text": [
            "a is greater\n"
          ]
        },
        {
          "output_type": "execute_result",
          "data": {
            "text/plain": [
              "0"
            ]
          },
          "metadata": {},
          "execution_count": 58
        }
      ]
    },
    {
      "cell_type": "code",
      "source": [
        "#writea function for doing a sum of two numbers,User shall pass dynamically arguments while calling it\n",
        "#return the output value and print it on console\n",
        "def sum(a = 0, b = 0):\n",
        "  return a + b\n",
        "sum(2,3)"
      ],
      "metadata": {
        "colab": {
          "base_uri": "https://localhost:8080/"
        },
        "id": "4pIbTbI1dBWx",
        "outputId": "e9a09329-e38e-41e9-ece8-0136c274bdfe"
      },
      "execution_count": null,
      "outputs": [
        {
          "output_type": "execute_result",
          "data": {
            "text/plain": [
              "5"
            ]
          },
          "metadata": {},
          "execution_count": 60
        }
      ]
    },
    {
      "cell_type": "code",
      "source": [
        "#writea function for doing any arithmetic opn of two numbers, User shall pass dynamically arguments including arith opn while calling it\n",
        "#return the output value and print it on console\n",
        "def arith(a = 0, b = 0, oper = \"do nothing\"):#oper = sum, diff, mul, div, moddiv\n",
        "  if (oper == \"sum\"):\n",
        "    return a+b\n",
        "  elif (oper == \"diff\"):\n",
        "    return a-b\n",
        "  elif (oper == \"mul\"):\n",
        "    return a*b\n",
        "  elif (oper == \"div\"):\n",
        "    return a/b\n",
        "  elif (oper == \"moddiv\"):\n",
        "    return a%b\n",
        "  else:\n",
        "    return 0"
      ],
      "metadata": {
        "id": "sanDcvE1eFwm"
      },
      "execution_count": null,
      "outputs": []
    },
    {
      "cell_type": "code",
      "source": [
        "arith(2,3,\"sum\")"
      ],
      "metadata": {
        "colab": {
          "base_uri": "https://localhost:8080/"
        },
        "id": "pc80pfVIeUau",
        "outputId": "b8ccabb6-e591-4e06-c4a1-ab34e7d3a3fb"
      },
      "execution_count": null,
      "outputs": [
        {
          "output_type": "execute_result",
          "data": {
            "text/plain": [
              "5"
            ]
          },
          "metadata": {},
          "execution_count": 63
        }
      ]
    },
    {
      "cell_type": "code",
      "source": [
        "#27th April 2022"
      ],
      "metadata": {
        "id": "1aXwgi7vf2Zd"
      },
      "execution_count": null,
      "outputs": []
    },
    {
      "cell_type": "code",
      "source": [
        "def Sum(a,b):\n",
        "  return a+b\n",
        "c = Sum(2,3)"
      ],
      "metadata": {
        "id": "iw8dkDBbhP1R"
      },
      "execution_count": 1,
      "outputs": []
    },
    {
      "cell_type": "code",
      "source": [
        "c"
      ],
      "metadata": {
        "colab": {
          "base_uri": "https://localhost:8080/"
        },
        "id": "0NjvueglVJ1N",
        "outputId": "939dbcce-c9a1-4909-c53e-24423c3a2b92"
      },
      "execution_count": 2,
      "outputs": [
        {
          "output_type": "execute_result",
          "data": {
            "text/plain": [
              "5"
            ]
          },
          "metadata": {},
          "execution_count": 2
        }
      ]
    },
    {
      "cell_type": "code",
      "source": [
        "def div(num,den):\n",
        "  if(den!= 0):\n",
        "    return num/den\n",
        "  else:\n",
        "    print(\"Invalid input\")\n",
        "    return 0\n",
        "op = div(2,0)"
      ],
      "metadata": {
        "colab": {
          "base_uri": "https://localhost:8080/"
        },
        "id": "rNV125RNVK8R",
        "outputId": "7f3104ee-6bcc-45ac-d108-e2c714a88856"
      },
      "execution_count": 3,
      "outputs": [
        {
          "output_type": "stream",
          "name": "stdout",
          "text": [
            "Invalid input\n"
          ]
        }
      ]
    },
    {
      "cell_type": "code",
      "source": [
        "op"
      ],
      "metadata": {
        "colab": {
          "base_uri": "https://localhost:8080/"
        },
        "id": "rz-DFQeyVlPD",
        "outputId": "6349a684-551a-44ed-e7cb-fc1a35f6fa6a"
      },
      "execution_count": 4,
      "outputs": [
        {
          "output_type": "execute_result",
          "data": {
            "text/plain": [
              "0"
            ]
          },
          "metadata": {},
          "execution_count": 4
        }
      ]
    },
    {
      "cell_type": "code",
      "source": [
        "#Sum of first  n numbers\n",
        "def Sum_n_Num(num):\n",
        "  temp = 0\n",
        "  for i in range(1,num+1):\n",
        "    temp+= i\n",
        "  return temp"
      ],
      "metadata": {
        "id": "isJk5Iv1Vl2-"
      },
      "execution_count": 6,
      "outputs": []
    },
    {
      "cell_type": "code",
      "source": [
        "Sum_n_Num(10)"
      ],
      "metadata": {
        "colab": {
          "base_uri": "https://localhost:8080/"
        },
        "id": "Fo_Y95TWWmyQ",
        "outputId": "55e8e25e-5dba-410e-af1b-9af97e41424e"
      },
      "execution_count": 11,
      "outputs": [
        {
          "output_type": "execute_result",
          "data": {
            "text/plain": [
              "55"
            ]
          },
          "metadata": {},
          "execution_count": 11
        }
      ]
    },
    {
      "cell_type": "code",
      "source": [
        "def Sum_n_Num(num):\n",
        "  return int(num*(num+1)/2)"
      ],
      "metadata": {
        "id": "x7tDlMq5Wqv_"
      },
      "execution_count": 10,
      "outputs": []
    },
    {
      "cell_type": "code",
      "source": [
        "#func(str1,str2): return\n",
        "def func(str_a, str_b):\n",
        "  return str_a+\" \"+str_b "
      ],
      "metadata": {
        "id": "1wynRhaPW7mm"
      },
      "execution_count": 12,
      "outputs": []
    },
    {
      "cell_type": "code",
      "source": [
        "func(\"Jacks\",\"Technologies\")"
      ],
      "metadata": {
        "colab": {
          "base_uri": "https://localhost:8080/",
          "height": 35
        },
        "id": "-XZKYPgVYO3g",
        "outputId": "2f1ce035-3aa4-42f8-dfaf-5e1a6d1f09a6"
      },
      "execution_count": 13,
      "outputs": [
        {
          "output_type": "execute_result",
          "data": {
            "text/plain": [
              "'Jacks Technologies'"
            ],
            "application/vnd.google.colaboratory.intrinsic+json": {
              "type": "string"
            }
          },
          "metadata": {},
          "execution_count": 13
        }
      ]
    },
    {
      "cell_type": "code",
      "source": [
        "mylist = [1,2,3,4]\n",
        "#function : adding/remving print(mylist) and printthe same within the fcuntion\n",
        "def list_changer(lst = []):\n",
        "  mylist.extend(lst)\n",
        "  return mylist\n",
        "list_changer([4])"
      ],
      "metadata": {
        "colab": {
          "base_uri": "https://localhost:8080/"
        },
        "id": "MXa1GnuYYRgo",
        "outputId": "50f9f84d-fbc3-44cc-a25d-7a5c17a75714"
      },
      "execution_count": 14,
      "outputs": [
        {
          "output_type": "execute_result",
          "data": {
            "text/plain": [
              "[1, 2, 3, 4, 4]"
            ]
          },
          "metadata": {},
          "execution_count": 14
        }
      ]
    },
    {
      "cell_type": "code",
      "source": [
        "list_changer([5])"
      ],
      "metadata": {
        "colab": {
          "base_uri": "https://localhost:8080/"
        },
        "id": "NpKcKz_wZR5X",
        "outputId": "99a1cf2b-ce98-4850-db22-76a9975f1b46"
      },
      "execution_count": 15,
      "outputs": [
        {
          "output_type": "execute_result",
          "data": {
            "text/plain": [
              "[1, 2, 3, 4, 4, 5]"
            ]
          },
          "metadata": {},
          "execution_count": 15
        }
      ]
    },
    {
      "cell_type": "code",
      "source": [
        "dict_a = {}\n",
        "def func(key,value):\n",
        "  dict_a.update({key:value})\n",
        "  print(dict_a)\n",
        "func(\"Naga\",32)\n",
        "func(\"Jack\",28)\n",
        "func(\"Biden\",60)"
      ],
      "metadata": {
        "colab": {
          "base_uri": "https://localhost:8080/"
        },
        "id": "qPU18eKIZVrI",
        "outputId": "b41eefb3-f569-48f8-aa94-8829f2a4f57c"
      },
      "execution_count": 19,
      "outputs": [
        {
          "output_type": "stream",
          "name": "stdout",
          "text": [
            "{'Naga': 32}\n",
            "{'Naga': 32, 'Jack': 28}\n",
            "{'Naga': 32, 'Jack': 28, 'Biden': 60}\n"
          ]
        }
      ]
    },
    {
      "cell_type": "code",
      "source": [
        "dict_a"
      ],
      "metadata": {
        "colab": {
          "base_uri": "https://localhost:8080/"
        },
        "id": "qt67yF3RbgCM",
        "outputId": "026c7616-aa35-4db9-a619-78a54c8999ca"
      },
      "execution_count": 17,
      "outputs": [
        {
          "output_type": "execute_result",
          "data": {
            "text/plain": [
              "{'Naga': 32}"
            ]
          },
          "metadata": {},
          "execution_count": 17
        }
      ]
    },
    {
      "cell_type": "code",
      "source": [
        "#factorial of  num without using for loops\n",
        "def fact(num):\n",
        "  if(num > 0):\n",
        "    return num*fact(num - 1)\n",
        "  else:\n",
        "    return 1\n",
        "fact(5)"
      ],
      "metadata": {
        "colab": {
          "base_uri": "https://localhost:8080/"
        },
        "id": "L8sRbLAbbhYZ",
        "outputId": "f0d15306-85cc-4e68-a5f3-48a73f858a3e"
      },
      "execution_count": 22,
      "outputs": [
        {
          "output_type": "execute_result",
          "data": {
            "text/plain": [
              "120"
            ]
          },
          "metadata": {},
          "execution_count": 22
        }
      ]
    },
    {
      "cell_type": "code",
      "source": [
        "#factorial of a num without using if else conditional statements\n",
        "def fact(num):\n",
        "  temp = 1\n",
        "  for i in range(1,num+1):\n",
        "    temp = temp*i\n",
        "  return temp\n",
        "fact(5)\n",
        "#fact(num) = num*(num-1)*(num-2)*(num-3).......1\n",
        "#fact(3) = 3*2*1 = 6\n",
        "#fact(5) = 5*4*3*2*1 = 120"
      ],
      "metadata": {
        "colab": {
          "base_uri": "https://localhost:8080/"
        },
        "id": "tl2YSzF6d_qY",
        "outputId": "642cf311-ebdc-4b89-ca47-c1f0280cba92"
      },
      "execution_count": 26,
      "outputs": [
        {
          "output_type": "execute_result",
          "data": {
            "text/plain": [
              "120"
            ]
          },
          "metadata": {},
          "execution_count": 26
        }
      ]
    },
    {
      "cell_type": "code",
      "source": [
        "#prime or composite (num)\n",
        "def prime_comp(num):\n",
        "  for i in range(2,num):#2,3,4,........num-1\n",
        "    if(num % i == 0):\n",
        "      return True\n",
        "      break\n",
        "    else:\n",
        "      continue\n",
        "  return False  \n",
        "print(prime_comp(15))"
      ],
      "metadata": {
        "colab": {
          "base_uri": "https://localhost:8080/"
        },
        "id": "UwJMaskAeXEH",
        "outputId": "a5444952-7c35-4b5f-bed7-dd21e3962668"
      },
      "execution_count": 37,
      "outputs": [
        {
          "output_type": "stream",
          "name": "stdout",
          "text": [
            "False\n"
          ]
        }
      ]
    },
    {
      "cell_type": "code",
      "source": [
        "#prime or composite (num)\n",
        "def prime_comp(num):\n",
        "  x = []\n",
        "  x = [i for i in range(2,num) if(num % i == 0)]\n",
        "  return x\n",
        "\n",
        "if(prime_comp(3) != []):\n",
        "  print(\"Composite\")\n",
        "else:\n",
        "  print(\"Prime\")"
      ],
      "metadata": {
        "colab": {
          "base_uri": "https://localhost:8080/"
        },
        "id": "f1OHSLyggOPW",
        "outputId": "031976e2-e16d-4d85-8167-335081445d71"
      },
      "execution_count": 50,
      "outputs": [
        {
          "output_type": "stream",
          "name": "stdout",
          "text": [
            "Prime\n"
          ]
        }
      ]
    },
    {
      "cell_type": "code",
      "source": [
        "#prime or composite (num)\n",
        "def factors(num):\n",
        "  x = []\n",
        "  x = [i for i in range(2,num) if(num % i == 0)]\n",
        "  return x\n",
        "factors(6)"
      ],
      "metadata": {
        "colab": {
          "base_uri": "https://localhost:8080/"
        },
        "id": "PPePLZ4lg7ye",
        "outputId": "0a0a817b-380d-4a61-c9eb-8f93e894da43"
      },
      "execution_count": 51,
      "outputs": [
        {
          "output_type": "execute_result",
          "data": {
            "text/plain": [
              "[2, 3]"
            ]
          },
          "metadata": {},
          "execution_count": 51
        }
      ]
    },
    {
      "cell_type": "code",
      "source": [
        "#determine a num even or odd:\n",
        "def even_odd(num):\n",
        "  return num%2 == 0 \n",
        "x = even_odd(5)\n",
        "print(\"given num is even\") if x else print(\"given num is odd\")"
      ],
      "metadata": {
        "colab": {
          "base_uri": "https://localhost:8080/"
        },
        "id": "ABJ56MdPh9Fo",
        "outputId": "c2ba1dd3-1975-4ba6-d320-d026d05680ac"
      },
      "execution_count": 57,
      "outputs": [
        {
          "output_type": "stream",
          "name": "stdout",
          "text": [
            "given num is odd\n"
          ]
        }
      ]
    },
    {
      "cell_type": "code",
      "source": [
        "#absolute num of a given num\n",
        "#abs(num):\n",
        "# -2 = 2\n",
        "# 2 = 2\n",
        "def abs(num):\n",
        "  return -(num) if num<0 else num\n",
        "\n",
        "abs(-10)"
      ],
      "metadata": {
        "colab": {
          "base_uri": "https://localhost:8080/"
        },
        "id": "ScL9eNbhkuTz",
        "outputId": "48c70290-0fbc-4af9-e805-821284888396"
      },
      "execution_count": 62,
      "outputs": [
        {
          "output_type": "execute_result",
          "data": {
            "text/plain": [
              "10"
            ]
          },
          "metadata": {},
          "execution_count": 62
        }
      ]
    },
    {
      "cell_type": "code",
      "source": [
        ""
      ],
      "metadata": {
        "id": "7VRHK-Q5obl8"
      },
      "execution_count": null,
      "outputs": []
    },
    {
      "cell_type": "markdown",
      "source": [
        "#28th April 2022\n",
        "#Scope and life time of a variable\n",
        "#func(*args)\n",
        "#func(**kwrds)"
      ],
      "metadata": {
        "id": "xna3saNUl_2P"
      }
    }
  ]
}