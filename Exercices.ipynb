{
  "nbformat": 4,
  "nbformat_minor": 0,
  "metadata": {
    "colab": {
      "name": "Exercices.ipynb",
      "provenance": [],
      "collapsed_sections": [],
      "authorship_tag": "ABX9TyMcfy8R+uglM7qLu9Uo2dFD",
      "include_colab_link": true
    },
    "kernelspec": {
      "name": "python3",
      "display_name": "Python 3"
    },
    "language_info": {
      "name": "python"
    }
  },
  "cells": [
    {
      "cell_type": "markdown",
      "metadata": {
        "id": "view-in-github",
        "colab_type": "text"
      },
      "source": [
        "<a href=\"https://colab.research.google.com/github/NagaEmbitel/PythonSession/blob/develop/Exercices.ipynb\" target=\"_parent\"><img src=\"https://colab.research.google.com/assets/colab-badge.svg\" alt=\"Open In Colab\"/></a>"
      ]
    },
    {
      "cell_type": "markdown",
      "source": [
        "#17 April 2022\n",
        "#without using if else statements or for loops"
      ],
      "metadata": {
        "id": "4OQW3Ce-Zr2P"
      }
    },
    {
      "cell_type": "markdown",
      "source": [
        "#Write a program to Find the Maximum Edge of a Triangle.\n",
        "Note : You will be provided with two sides a triangle. You will have to determine the maximum possible third side.\n",
        "\n",
        "2\n",
        "3\n",
        "5"
      ],
      "metadata": {
        "id": "IKuDRUPgZtxq"
      }
    },
    {
      "cell_type": "code",
      "execution_count": null,
      "metadata": {
        "id": "okx1tS4rZo-s",
        "colab": {
          "base_uri": "https://localhost:8080/"
        },
        "outputId": "484fc5b2-75f2-4718-ab0c-0cc55f34d431"
      },
      "outputs": [
        {
          "output_type": "execute_result",
          "data": {
            "text/plain": [
              "5"
            ]
          },
          "metadata": {},
          "execution_count": 1
        }
      ],
      "source": [
        "first_side = 2\n",
        "second_side = 3\n",
        "third_side = first_side + second_side\n",
        "third_side"
      ]
    },
    {
      "cell_type": "markdown",
      "source": [
        "#Return Reminder of given two numbers"
      ],
      "metadata": {
        "id": "HKlNNz3MZ7KC"
      }
    },
    {
      "cell_type": "code",
      "source": [
        "first_num = 2\n",
        "second_num = 8\n",
        "c = second_num % first_num\n",
        "print(c)"
      ],
      "metadata": {
        "id": "lrhmitpoZ-d0",
        "colab": {
          "base_uri": "https://localhost:8080/"
        },
        "outputId": "f3f4a16c-f168-4870-908b-ed8e6134c341"
      },
      "execution_count": null,
      "outputs": [
        {
          "output_type": "stream",
          "name": "stdout",
          "text": [
            "0\n"
          ]
        }
      ]
    },
    {
      "cell_type": "markdown",
      "source": [
        "#Given a string a = \"a b c d e f\" remove string with spaces trimmed off in between the alphabets\n",
        "\n",
        "Note : You shall not use any if else or for loops"
      ],
      "metadata": {
        "id": "ONTQYChol6B_"
      }
    },
    {
      "cell_type": "code",
      "source": [
        "a = \"a b c d e f\"\n",
        "print(a[::2])"
      ],
      "metadata": {
        "id": "nvfIWMhEmCQu",
        "colab": {
          "base_uri": "https://localhost:8080/"
        },
        "outputId": "386fb5e7-770f-4a2d-905a-73ff501cc223"
      },
      "execution_count": null,
      "outputs": [
        {
          "output_type": "stream",
          "name": "stdout",
          "text": [
            "abcdef\n"
          ]
        }
      ]
    },
    {
      "cell_type": "markdown",
      "source": [
        "#Given a string a = \"jacks technologies\" => Print string in capital letters"
      ],
      "metadata": {
        "id": "ayi44KA4mC4b"
      }
    },
    {
      "cell_type": "code",
      "source": [
        "a = \"jacks technologies\"\n",
        "a.upper()"
      ],
      "metadata": {
        "id": "h-dH6EEAmMIu",
        "colab": {
          "base_uri": "https://localhost:8080/",
          "height": 35
        },
        "outputId": "b3772441-bbdf-4ce2-ec63-04d9f281c447"
      },
      "execution_count": null,
      "outputs": [
        {
          "output_type": "execute_result",
          "data": {
            "text/plain": [
              "'JACKS TECHNOLOGIES'"
            ],
            "application/vnd.google.colaboratory.intrinsic+json": {
              "type": "string"
            }
          },
          "metadata": {},
          "execution_count": 6
        }
      ]
    },
    {
      "cell_type": "markdown",
      "source": [
        "#Given a string \n",
        "a = \"Peter Piper picked a peck of pickled peppers, A peck of pickled peppers Peter Piper picked; If Peter Piper picked a peck of pickled peppers, Where's the peck of pickled peppers Peter Piper picked?\"\n",
        "#How many times did Peter repeat in the above string and print the answer with a python statement\n",
        "#Use string handling functions "
      ],
      "metadata": {
        "id": "LYHBci5umMxJ"
      }
    },
    {
      "cell_type": "code",
      "source": [
        "a = \"Peter Piper picked a peck of pickled peppers, A peck of pickled peppers Peter Piper picked; If Peter Piper picked a peck of pickled peppers, Where's the peck of pickled peppers Peter Piper picked?\"\n",
        "print(a.count(\"Peter\"))"
      ],
      "metadata": {
        "id": "XzkGftB1m7e3",
        "colab": {
          "base_uri": "https://localhost:8080/"
        },
        "outputId": "2c98b1bb-cfca-46aa-d623-41b3f91a99c9"
      },
      "execution_count": null,
      "outputs": [
        {
          "output_type": "stream",
          "name": "stdout",
          "text": [
            "4\n"
          ]
        }
      ]
    },
    {
      "cell_type": "markdown",
      "source": [
        "#In the above example \n",
        "a = \"Peter Piper picked a peck of pickled peppers, A peck of pickled peppers Peter Piper picked; If Peter Piper picked a peck of pickled peppers, Where's the peck of pickled peppers Peter Piper picked?\"\"\n",
        "#Replace all Piper with Parker\n",
        "#Use string handling fucntions"
      ],
      "metadata": {
        "id": "dGaSBcLZnJMF"
      }
    },
    {
      "cell_type": "code",
      "source": [
        "print(a.replace(\"Piper\",\"Parker\"))"
      ],
      "metadata": {
        "id": "1RvYpy0Bnw1X",
        "colab": {
          "base_uri": "https://localhost:8080/"
        },
        "outputId": "05e1f792-76d6-408f-bf3a-b45bba983cf0"
      },
      "execution_count": null,
      "outputs": [
        {
          "output_type": "stream",
          "name": "stdout",
          "text": [
            "Peter Parker picked a peck of pickled peppers, A peck of pickled peppers Peter Parker picked; If Peter Parker picked a peck of pickled peppers, Where's the peck of pickled peppers Peter Parker picked?\n"
          ]
        }
      ]
    },
    {
      "cell_type": "markdown",
      "source": [
        "#Given a password pwd = \"jacks@1234\"\n",
        "Password is always encrypted to maintain security standards. Encrypt the given string with heading 0000 forthe pwd mentioned above using string handling functions other than concatenation"
      ],
      "metadata": {
        "id": "KheoVK49qRTv"
      }
    },
    {
      "cell_type": "code",
      "source": [
        "pwd = \"jacks@1234\"\n",
        "pwd = \"0000\" + pwd\n",
        "pwd"
      ],
      "metadata": {
        "id": "xQHpA8Hkq1RG",
        "colab": {
          "base_uri": "https://localhost:8080/",
          "height": 35
        },
        "outputId": "2a7e3b72-9668-460f-ea33-347235b648dd"
      },
      "execution_count": null,
      "outputs": [
        {
          "output_type": "execute_result",
          "data": {
            "text/plain": [
              "'0000jacks@1234'"
            ],
            "application/vnd.google.colaboratory.intrinsic+json": {
              "type": "string"
            }
          },
          "metadata": {},
          "execution_count": 14
        }
      ]
    },
    {
      "cell_type": "markdown",
      "source": [
        "#Given a string a = \"jACKS tECHNOLOGIES\"\n",
        "Conver the lower case to upper case and upper case to lower case using a string handling functions"
      ],
      "metadata": {
        "id": "83IuuxUArDBV"
      }
    },
    {
      "cell_type": "code",
      "source": [
        "a = \"jACKS tECHNOLOGIES\"\n",
        "a.capitalize()"
      ],
      "metadata": {
        "id": "jhU_V209rQJ4",
        "colab": {
          "base_uri": "https://localhost:8080/",
          "height": 35
        },
        "outputId": "e97d098e-d3f3-40ad-c5b2-e25f61bca14d"
      },
      "execution_count": null,
      "outputs": [
        {
          "output_type": "execute_result",
          "data": {
            "text/plain": [
              "'Jacks technologies'"
            ],
            "application/vnd.google.colaboratory.intrinsic+json": {
              "type": "string"
            }
          },
          "metadata": {},
          "execution_count": 16
        }
      ]
    },
    {
      "cell_type": "markdown",
      "source": [
        ""
      ],
      "metadata": {
        "id": "PnV43C7-m8Hs"
      }
    },
    {
      "cell_type": "markdown",
      "source": [
        "1. Create an empty List say a = [ ]\n",
        "2. Add 3 elements : one element is of Integer type, one element is of Float type and another is a tuple type of size 4. \n",
        "len(tuple) = 4 => 4 elements\n",
        "3. Print 3rd element from tuple\n",
        "4. Try Deleting 2nd element in Tuple\n",
        "5. Try deleting last element from list a."
      ],
      "metadata": {
        "id": "4Cu9eowpZ-om"
      }
    },
    {
      "cell_type": "code",
      "source": [
        "a  = []\n",
        "a.append(1)\n",
        "a.append(2.5)\n",
        "a.append((1,2,3,4))\n",
        "#Step4 is not possible : tuple is immutable\n",
        "a.pop()\n",
        "a"
      ],
      "metadata": {
        "id": "m0oo3zrgbwKu",
        "colab": {
          "base_uri": "https://localhost:8080/"
        },
        "outputId": "d37ae118-ffb9-4620-9f2d-07be34919970"
      },
      "execution_count": null,
      "outputs": [
        {
          "output_type": "execute_result",
          "data": {
            "text/plain": [
              "[1, 2.5]"
            ]
          },
          "metadata": {},
          "execution_count": 23
        }
      ]
    },
    {
      "cell_type": "markdown",
      "source": [
        "# Given my_dict = {'First': 'Python', 'Second': 'Java', 'Third': 'Ruby'}\n",
        "Print its items correspondingly => \n",
        "* Keys in the given dictionary mydict is :\n",
        "* Values in the given dictionary is:"
      ],
      "metadata": {
        "id": "0dx220N4cgj8"
      }
    },
    {
      "cell_type": "code",
      "source": [
        "my_dict = {'First': 'Python', 'Second': 'Java', 'Third': 'Ruby'}\n",
        "print(\"Keys in the given dictionary mydict is : {}\".format(my_dict.keys()))\n",
        "print(\"Values in the given dictionary mydict is : {}\".format(my_dict.values()))"
      ],
      "metadata": {
        "id": "4TuA7johdHV0",
        "colab": {
          "base_uri": "https://localhost:8080/"
        },
        "outputId": "fb017b62-ecd1-4a96-91c3-a0f23d2a8de5"
      },
      "execution_count": null,
      "outputs": [
        {
          "output_type": "stream",
          "name": "stdout",
          "text": [
            "Keys in the given dictionary mydict is : dict_keys(['First', 'Second', 'Third'])\n",
            "Values in the given dictionary mydict is : dict_values(['Python', 'Java', 'Ruby'])\n"
          ]
        }
      ]
    },
    {
      "cell_type": "markdown",
      "source": [
        "#Given a list a = [1,[2,[3,[4,[5,]]]]] print value  5 on console"
      ],
      "metadata": {
        "id": "Fq_T0ttCfe-B"
      }
    },
    {
      "cell_type": "code",
      "source": [
        "a = [1,[2,[3,[4,[5,]]]]]\n",
        "a[1]\n",
        "a[1][1][1][1][0]"
      ],
      "metadata": {
        "id": "TKSeMBQHfv0z",
        "colab": {
          "base_uri": "https://localhost:8080/"
        },
        "outputId": "273c8f37-89c4-4a28-c935-3650308a1812"
      },
      "execution_count": null,
      "outputs": [
        {
          "output_type": "execute_result",
          "data": {
            "text/plain": [
              "5"
            ]
          },
          "metadata": {},
          "execution_count": 30
        }
      ]
    },
    {
      "cell_type": "markdown",
      "source": [
        "#Given a list a = [1,(2,3),(4),(5),[6,7],(8,9,10)] print value 10 on console"
      ],
      "metadata": {
        "id": "WNGGsMD2fxOz"
      }
    },
    {
      "cell_type": "code",
      "source": [
        "a = [1,(2,3),(4),(5),[6,7],(8,9,10)]\n",
        "a[5][2]"
      ],
      "metadata": {
        "id": "VG_FXcOQf_Tr",
        "colab": {
          "base_uri": "https://localhost:8080/"
        },
        "outputId": "52f41208-536a-4226-b408-11af33c16c8e"
      },
      "execution_count": null,
      "outputs": [
        {
          "output_type": "execute_result",
          "data": {
            "text/plain": [
              "10"
            ]
          },
          "metadata": {},
          "execution_count": 31
        }
      ]
    },
    {
      "cell_type": "markdown",
      "source": [
        "#Given a list a = [1,2,3,4,5,6,7,8,9,10] \n",
        "1. What is a[::-1]\n",
        "2. What is a[::2]\n",
        "3. What is a[::3]\n",
        "4. what is a[-1:-10:2]\n",
        "5. what is a[-1:-9:2]\n",
        "6. what is a[-10::-2]\n",
        "7. what is a[-10::2]\n",
        "#Try by not running the statement on console"
      ],
      "metadata": {
        "id": "HBJ0t42kgBGV"
      }
    },
    {
      "cell_type": "code",
      "source": [
        "a = [1,2,3,4,5,6,7,8,9,10] \n",
        "a[::-1]"
      ],
      "metadata": {
        "id": "UXDIZt1zghAy",
        "colab": {
          "base_uri": "https://localhost:8080/"
        },
        "outputId": "b0a85b9e-578f-4cbd-d202-a3301eaf7ce0"
      },
      "execution_count": null,
      "outputs": [
        {
          "output_type": "execute_result",
          "data": {
            "text/plain": [
              "[10, 9, 8, 7, 6, 5, 4, 3, 2, 1]"
            ]
          },
          "metadata": {},
          "execution_count": 32
        }
      ]
    },
    {
      "cell_type": "code",
      "source": [
        "a[::2]"
      ],
      "metadata": {
        "colab": {
          "base_uri": "https://localhost:8080/"
        },
        "id": "jd49hQz8dqFH",
        "outputId": "0f06e7d1-d6ca-4aec-82d6-52f4084cefe9"
      },
      "execution_count": null,
      "outputs": [
        {
          "output_type": "execute_result",
          "data": {
            "text/plain": [
              "[1, 3, 5, 7, 9]"
            ]
          },
          "metadata": {},
          "execution_count": 33
        }
      ]
    },
    {
      "cell_type": "code",
      "source": [
        "a[::3]"
      ],
      "metadata": {
        "colab": {
          "base_uri": "https://localhost:8080/"
        },
        "id": "5DEH5W73dxK8",
        "outputId": "959af835-45a2-4079-d683-30fbe0a340c4"
      },
      "execution_count": null,
      "outputs": [
        {
          "output_type": "execute_result",
          "data": {
            "text/plain": [
              "[1, 4, 7, 10]"
            ]
          },
          "metadata": {},
          "execution_count": 34
        }
      ]
    },
    {
      "cell_type": "code",
      "source": [
        "a[-1:-10:2]"
      ],
      "metadata": {
        "colab": {
          "base_uri": "https://localhost:8080/"
        },
        "id": "oKOTXKjNd3Kf",
        "outputId": "6ee96157-3597-44e2-aff0-c094f1dd827e"
      },
      "execution_count": null,
      "outputs": [
        {
          "output_type": "execute_result",
          "data": {
            "text/plain": [
              "[]"
            ]
          },
          "metadata": {},
          "execution_count": 35
        }
      ]
    },
    {
      "cell_type": "code",
      "source": [
        "a[-1:-9:2]"
      ],
      "metadata": {
        "colab": {
          "base_uri": "https://localhost:8080/"
        },
        "id": "g9_yhKzLeQy3",
        "outputId": "9fe2b488-ac58-4e23-c020-775bb704ab0c"
      },
      "execution_count": null,
      "outputs": [
        {
          "output_type": "execute_result",
          "data": {
            "text/plain": [
              "[]"
            ]
          },
          "metadata": {},
          "execution_count": 36
        }
      ]
    },
    {
      "cell_type": "code",
      "source": [
        "a[-5::-2]"
      ],
      "metadata": {
        "colab": {
          "base_uri": "https://localhost:8080/"
        },
        "id": "o4_BRF_eeUTR",
        "outputId": "cd0ac43e-c1d7-47e9-ecba-f8be46e66c21"
      },
      "execution_count": null,
      "outputs": [
        {
          "output_type": "execute_result",
          "data": {
            "text/plain": [
              "[6, 4, 2]"
            ]
          },
          "metadata": {},
          "execution_count": 44
        }
      ]
    },
    {
      "cell_type": "code",
      "source": [
        "a[-10::2]"
      ],
      "metadata": {
        "colab": {
          "base_uri": "https://localhost:8080/"
        },
        "id": "4lABaUI-fWPA",
        "outputId": "e1c78b2c-a5a4-4294-e235-81ce0bb757a5"
      },
      "execution_count": null,
      "outputs": [
        {
          "output_type": "execute_result",
          "data": {
            "text/plain": [
              "[1, 3, 5, 7, 9]"
            ]
          },
          "metadata": {},
          "execution_count": 45
        }
      ]
    },
    {
      "cell_type": "markdown",
      "source": [
        "#Check the below dictionary and write input statements for printing as shown below:\n",
        "1. Counter  shall increment as 1,2,3 \n",
        "2. My Fav Show in Prime is Movie_2 \n",
        "3. My Fav Show in Netflix is Money_Heist\n",
        "4. One of my Fav Animals is Lion\n",
        "5. One of my Fav Birds is KingFisher"
      ],
      "metadata": {
        "id": "pabHeljUbwqF"
      }
    },
    {
      "cell_type": "code",
      "source": [
        "a = [\\\n",
        "[1,2,3],\\\n",
        "{\"Fav_Animals\":[\"Tiger\",\"Cow\",\"Lion\",\"Elephant\"]},\\\n",
        "{\"Fav_Birds\":(\"Pigeon\",\"Peacock\",\"Eagle\",\"Sparrow\",\"Kingfisher\")},\\\n",
        "{\"Fav_Shows\":[{\"Prime\":(\"Movie_1\",\"Movie_2\")},{\"Netflix\":[\"Money_Heist\",\"Show2\"]}]}\n",
        "]\n",
        "print(\"Count Down:{}\".format(a[0][0]))\n",
        "print(\"Count Down:{}\".format(a[0][1]))\n",
        "print(\"Count Down:{}\".format(a[0][2]))\n",
        "print(\"My Fav Show in Prime is : {}\".format(a[3][\"Fav_Shows\"][0][\"Prime\"][1]))"
      ],
      "metadata": {
        "id": "U9uFPuo9c_Tr",
        "colab": {
          "base_uri": "https://localhost:8080/"
        },
        "outputId": "f3aea568-4b6a-44c3-f87f-b271276eedfa"
      },
      "execution_count": null,
      "outputs": [
        {
          "output_type": "stream",
          "name": "stdout",
          "text": [
            "Count Down:1\n",
            "Count Down:2\n",
            "Count Down:3\n",
            "My Fav Show in Prime is : Movie_2\n"
          ]
        }
      ]
    },
    {
      "cell_type": "markdown",
      "source": [
        "#Given a tuple a = (1,(2,(3,(4,(5))))) print 5 from the tuple"
      ],
      "metadata": {
        "id": "uRUcxUX6uqX9"
      }
    },
    {
      "cell_type": "code",
      "source": [
        "a = (1,(2,(3,(4,(5)))))\n",
        "a[1][1][1][1]"
      ],
      "metadata": {
        "id": "LUK5Q3-Tu1gL",
        "colab": {
          "base_uri": "https://localhost:8080/",
          "height": 184
        },
        "outputId": "12d5eca0-5f01-4a82-e4bf-84cb763d89be"
      },
      "execution_count": 3,
      "outputs": [
        {
          "output_type": "error",
          "ename": "TypeError",
          "evalue": "ignored",
          "traceback": [
            "\u001b[0;31m---------------------------------------------------------------------------\u001b[0m",
            "\u001b[0;31mTypeError\u001b[0m                                 Traceback (most recent call last)",
            "\u001b[0;32m<ipython-input-3-141fd06ecd8a>\u001b[0m in \u001b[0;36m<module>\u001b[0;34m()\u001b[0m\n\u001b[1;32m      1\u001b[0m \u001b[0ma\u001b[0m \u001b[0;34m=\u001b[0m \u001b[0;34m(\u001b[0m\u001b[0;36m1\u001b[0m\u001b[0;34m,\u001b[0m\u001b[0;34m(\u001b[0m\u001b[0;36m2\u001b[0m\u001b[0;34m,\u001b[0m\u001b[0;34m(\u001b[0m\u001b[0;36m3\u001b[0m\u001b[0;34m,\u001b[0m\u001b[0;34m(\u001b[0m\u001b[0;36m4\u001b[0m\u001b[0;34m,\u001b[0m\u001b[0;34m(\u001b[0m\u001b[0;36m5\u001b[0m\u001b[0;34m)\u001b[0m\u001b[0;34m)\u001b[0m\u001b[0;34m)\u001b[0m\u001b[0;34m)\u001b[0m\u001b[0;34m)\u001b[0m\u001b[0;34m\u001b[0m\u001b[0;34m\u001b[0m\u001b[0m\n\u001b[0;32m----> 2\u001b[0;31m \u001b[0ma\u001b[0m\u001b[0;34m[\u001b[0m\u001b[0;36m1\u001b[0m\u001b[0;34m]\u001b[0m\u001b[0;34m[\u001b[0m\u001b[0;36m1\u001b[0m\u001b[0;34m]\u001b[0m\u001b[0;34m[\u001b[0m\u001b[0;36m1\u001b[0m\u001b[0;34m]\u001b[0m\u001b[0;34m[\u001b[0m\u001b[0;36m1\u001b[0m\u001b[0;34m]\u001b[0m\u001b[0;34m[\u001b[0m\u001b[0;36m0\u001b[0m\u001b[0;34m]\u001b[0m\u001b[0;34m\u001b[0m\u001b[0;34m\u001b[0m\u001b[0m\n\u001b[0m",
            "\u001b[0;31mTypeError\u001b[0m: 'int' object is not subscriptable"
          ]
        }
      ]
    },
    {
      "cell_type": "markdown",
      "source": [
        "a = [\"Naga\",\"Arjun\",\"Sreenivasulu\",(\"Jacks\",\"Technologies\")]\n",
        "#print => Jacks Technologies "
      ],
      "metadata": {
        "id": "16q0qKfMFS6j"
      }
    },
    {
      "cell_type": "code",
      "source": [
        "a = [\"Naga\",\"Arjun\",\"Sreenivasulu\",(\"Jacks\",\"Technologies\")]\n",
        "print(a[3][0] + \" \" + a[3][1])"
      ],
      "metadata": {
        "id": "78DuiZlAFUx1",
        "colab": {
          "base_uri": "https://localhost:8080/"
        },
        "outputId": "eaa78d90-4dd4-4017-a66a-16b1778ad182"
      },
      "execution_count": 5,
      "outputs": [
        {
          "output_type": "stream",
          "name": "stdout",
          "text": [
            "Jacks Technologies\n"
          ]
        }
      ]
    },
    {
      "cell_type": "markdown",
      "source": [
        "a = {\"Institute_FirstName\":\"Jacks\",\"Institute_SecondName\":\"Technologies\"}\n",
        "#print => Jacks Technologies"
      ],
      "metadata": {
        "id": "uYt6NYUxFVml"
      }
    },
    {
      "cell_type": "code",
      "source": [
        "a = {\"Institute_FirstName\":\"Jacks\",\"Institute_SecondName\":\"Technologies\"}\n",
        "print(a[\"Institute_FirstName\"] + \" \" + a[\"Institute_SecondName\"])"
      ],
      "metadata": {
        "id": "afvFqpVEFUNU",
        "colab": {
          "base_uri": "https://localhost:8080/"
        },
        "outputId": "4a9cb2d4-2963-44bc-9092-68d71474ff4a"
      },
      "execution_count": 6,
      "outputs": [
        {
          "output_type": "stream",
          "name": "stdout",
          "text": [
            "Jacks Technologies\n"
          ]
        }
      ]
    },
    {
      "cell_type": "markdown",
      "source": [
        "a = [{\"Institute_FirstName\":\"Jacks\",\"Institute_SecondName\":\"Technologies\"}]\n",
        "#print => Jacks Technologies"
      ],
      "metadata": {
        "id": "3pw3n5LGFbdG"
      }
    },
    {
      "cell_type": "code",
      "source": [
        "a = [{\"Institute_FirstName\":\"Jacks\",\"Institute_SecondName\":\"Technologies\"}]\n",
        "print(a[0][\"Institute_FirstName\"] + \" \" + a[0][\"Institute_SecondName\"])"
      ],
      "metadata": {
        "id": "Qoq4XBGGFdMH",
        "colab": {
          "base_uri": "https://localhost:8080/"
        },
        "outputId": "bf254d83-de2c-4350-86de-16231323f92f"
      },
      "execution_count": 7,
      "outputs": [
        {
          "output_type": "stream",
          "name": "stdout",
          "text": [
            "Jacks Technologies\n"
          ]
        }
      ]
    },
    {
      "cell_type": "markdown",
      "source": [
        "a = ({\"Naga\":32,\"Marks\":[50,50,65,75]},[\"a\",\"b\",\"c\",4134],(\"Naga\"),{\"Name\":(\"Naga\",\"Arjun\")})\n",
        "#Name of Candidate is Naga and his marks in 3rd subject is 65\n",
        "#Registered number is : 4134\n",
        "#Full name is NagaArjun"
      ],
      "metadata": {
        "id": "dErE_fynFepU"
      }
    },
    {
      "cell_type": "code",
      "source": [
        "a = ({\"Naga\":32,\"Marks\":[50,50,65,75]},[\"a\",\"b\",\"c\",4134],(\"Naga\"),{\"Name\":(\"Naga\",\"Arjun\")})\n",
        "print(\"Name of Candidate is {0} and his marks in 3rd subject is {1}\".format(a[2],a[0][\"Marks\"][2]))\n",
        "print(\"Registered number is : {0}\".format(a[1][3]))\n",
        "print(\"Full name is {0}{1}\".format(a[3][\"Name\"][0],a[3][\"Name\"][1]))"
      ],
      "metadata": {
        "id": "RzZYxQg_Fh4O",
        "colab": {
          "base_uri": "https://localhost:8080/"
        },
        "outputId": "f081e705-bbd4-4f89-e679-b548aa30d112"
      },
      "execution_count": 11,
      "outputs": [
        {
          "output_type": "stream",
          "name": "stdout",
          "text": [
            "Name of Candidate is Naga and his marks in 3rd subject is 65\n",
            "Registered number is : 4134\n",
            "Full name is NagaArjun\n"
          ]
        }
      ]
    },
    {
      "cell_type": "markdown",
      "source": [
        "#Week 2\n",
        "Questions related to Sets,Strings, Conditional and Looping statements"
      ],
      "metadata": {
        "id": "zCBfzq4rImdo"
      }
    },
    {
      "cell_type": "markdown",
      "source": [
        "Differentiate between lists and tuples.\n",
        "A. List is mutable and Tuple is immutable"
      ],
      "metadata": {
        "id": "0nrMaJVMRYJ4"
      }
    },
    {
      "cell_type": "markdown",
      "source": [
        "What are negative indices?\n"
      ],
      "metadata": {
        "id": "-Yl65kRjRacw"
      }
    },
    {
      "cell_type": "markdown",
      "source": [
        "Is Python case-sensitive?\n",
        "Yes. Python is case-sensitive.\n",
        "Because Python can differentiate given two variables :var, Var, vAr"
      ],
      "metadata": {
        "id": "dPhKB19XRqS2"
      }
    },
    {
      "cell_type": "markdown",
      "source": [
        "What are various key words used in Python?\n",
        "True, False, and , or, is, else, if, for, while, ...."
      ],
      "metadata": {
        "id": "fP0E3GTFRyIU"
      }
    },
    {
      "cell_type": "markdown",
      "source": [
        "How would you convert a string into lowercase?\n",
        "a = \"Naga\"\n",
        "a.lower()"
      ],
      "metadata": {
        "id": "HkJADk2iR7ZR"
      }
    },
    {
      "cell_type": "markdown",
      "source": [
        "What is the pass statement in Python?\n",
        "do nothing"
      ],
      "metadata": {
        "id": "AVmmy4UDR-Ix"
      }
    },
    {
      "cell_type": "markdown",
      "source": [
        ""
      ],
      "metadata": {
        "id": "YnzpXjGASEi5"
      }
    },
    {
      "cell_type": "code",
      "source": [
        "#Write a program for Fibonacci series ?"
      ],
      "metadata": {
        "id": "OP0tkG-OSfzp"
      },
      "execution_count": null,
      "outputs": []
    },
    {
      "cell_type": "markdown",
      "source": [
        "What is slicing?\n"
      ],
      "metadata": {
        "id": "Om4MpQxBS0OW"
      }
    },
    {
      "cell_type": "markdown",
      "source": [
        "How would you declare a comment in Python?\n",
        "#"
      ],
      "metadata": {
        "id": "fpCkFgUgS3pf"
      }
    },
    {
      "cell_type": "code",
      "source": [
        "# Inside function and factory function."
      ],
      "metadata": {
        "id": "bRuavQSETaBi"
      },
      "execution_count": null,
      "outputs": []
    },
    {
      "cell_type": "markdown",
      "source": [
        "positional arguments vs keyword arguments\n",
        "*args, **kwrds"
      ],
      "metadata": {
        "id": "KAALmGF_kCFs"
      }
    },
    {
      "cell_type": "code",
      "source": [
        ""
      ],
      "metadata": {
        "id": "TkI7-9DVl6MA"
      },
      "execution_count": null,
      "outputs": []
    }
  ]
}