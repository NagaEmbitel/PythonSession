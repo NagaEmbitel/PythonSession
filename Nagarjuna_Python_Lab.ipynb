{
  "nbformat": 4,
  "nbformat_minor": 0,
  "metadata": {
    "colab": {
      "name": "Nagarjuna_Python_Lab.ipynb",
      "provenance": [],
      "collapsed_sections": [],
      "authorship_tag": "ABX9TyPvrG9IE5FkHimLkgTUSEXp",
      "include_colab_link": true
    },
    "kernelspec": {
      "name": "python3",
      "display_name": "Python 3"
    },
    "language_info": {
      "name": "python"
    }
  },
  "cells": [
    {
      "cell_type": "markdown",
      "metadata": {
        "id": "view-in-github",
        "colab_type": "text"
      },
      "source": [
        "<a href=\"https://colab.research.google.com/github/NagaEmbitel/PythonSession/blob/develop/Nagarjuna_Python_Lab.ipynb\" target=\"_parent\"><img src=\"https://colab.research.google.com/assets/colab-badge.svg\" alt=\"Open In Colab\"/></a>"
      ]
    },
    {
      "cell_type": "markdown",
      "source": [
        "```\n",
        "# This is Session 4\n",
        "```\n",
        "List : Ordered and Mutable DS => \n",
        "        Indexing => U can invoke the element / data by its position\n",
        "        Mutable => Editable/Can be changed.As below List_a[any index] = Any value\n",
        "        List_a = [1,2,3,4,5,6] \n",
        "        list_b = []\n",
        "Tuple : Ordered and Immutable\n",
        "        Indexing => U can invoke the element / data by its position\n",
        "        Mutable => cant be Editable/Cant be changed. There are very limited functionalities with tuple.\n",
        "\n",
        "Dictionary : Unordered DS and Mutable\n",
        "\n",
        "\n"
      ],
      "metadata": {
        "id": "TbvNQxeReeGF"
      }
    },
    {
      "cell_type": "code",
      "execution_count": null,
      "metadata": {
        "colab": {
          "base_uri": "https://localhost:8080/"
        },
        "id": "_Mrg6ywiW8Xl",
        "outputId": "93c68f94-0e02-46b8-d770-5c9a8eceb190"
      },
      "outputs": [
        {
          "output_type": "stream",
          "name": "stdout",
          "text": [
            "Hello World\n"
          ]
        }
      ],
      "source": [
        "print(\"Hello World\")"
      ]
    },
    {
      "cell_type": "code",
      "source": [
        ""
      ],
      "metadata": {
        "id": "h2LEWnSuhIzV"
      },
      "execution_count": null,
      "outputs": []
    },
    {
      "cell_type": "code",
      "source": [
        "print(\"This is beautiful world!!!\")"
      ],
      "metadata": {
        "colab": {
          "base_uri": "https://localhost:8080/"
        },
        "id": "Z2S19eOEXeYi",
        "outputId": "8784a6ed-e945-4b9a-f5ba-bfc3af253ac7"
      },
      "execution_count": null,
      "outputs": [
        {
          "output_type": "stream",
          "name": "stdout",
          "text": [
            "This is beautiful world!!!\n"
          ]
        }
      ]
    },
    {
      "cell_type": "code",
      "source": [
        "a = 1"
      ],
      "metadata": {
        "id": "O_Adbb41XhTd"
      },
      "execution_count": null,
      "outputs": []
    },
    {
      "cell_type": "code",
      "source": [
        "a = 2"
      ],
      "metadata": {
        "id": "-UOdykcNaj2w"
      },
      "execution_count": null,
      "outputs": []
    },
    {
      "cell_type": "code",
      "source": [
        "a = 20\n",
        "b = 10\n",
        "c = a+ b/2 + 2\n",
        "print(c)\n",
        "c = b%2\n",
        "print(c)"
      ],
      "metadata": {
        "colab": {
          "base_uri": "https://localhost:8080/"
        },
        "id": "wcJT9_0-akln",
        "outputId": "3bd36cbb-58ba-4bb9-eee6-6340fab8086d"
      },
      "execution_count": null,
      "outputs": [
        {
          "output_type": "stream",
          "name": "stdout",
          "text": [
            "27.0\n",
            "0\n"
          ]
        }
      ]
    },
    {
      "cell_type": "code",
      "source": [
        "a = \"This is Nagarjuna\"\n",
        "b = \"\\nHello World\"\n",
        "c = a+b\n",
        "print(c)"
      ],
      "metadata": {
        "colab": {
          "base_uri": "https://localhost:8080/"
        },
        "id": "cbhvlnEMdLiW",
        "outputId": "d3c0e907-dffa-412b-b80a-be9189a285c1"
      },
      "execution_count": null,
      "outputs": [
        {
          "output_type": "stream",
          "name": "stdout",
          "text": [
            "This is Nagarjuna\n",
            "Hello World\n"
          ]
        }
      ]
    },
    {
      "cell_type": "code",
      "source": [
        "a\n",
        "type(a)"
      ],
      "metadata": {
        "colab": {
          "base_uri": "https://localhost:8080/"
        },
        "id": "yp7LEpGBfPrt",
        "outputId": "826fb01c-c581-47f9-e455-4b9debcd2f9f"
      },
      "execution_count": null,
      "outputs": [
        {
          "output_type": "execute_result",
          "data": {
            "text/plain": [
              "str"
            ]
          },
          "metadata": {},
          "execution_count": 38
        }
      ]
    },
    {
      "cell_type": "code",
      "source": [
        "help(print)"
      ],
      "metadata": {
        "colab": {
          "base_uri": "https://localhost:8080/"
        },
        "id": "1wUJQeOwffZ-",
        "outputId": "0598fd9e-81bf-4d0a-d215-6e5ffc17b2d3"
      },
      "execution_count": null,
      "outputs": [
        {
          "output_type": "stream",
          "name": "stdout",
          "text": [
            "Help on built-in function print in module builtins:\n",
            "\n",
            "print(...)\n",
            "    print(value, ..., sep=' ', end='\\n', file=sys.stdout, flush=False)\n",
            "    \n",
            "    Prints the values to a stream, or to sys.stdout by default.\n",
            "    Optional keyword arguments:\n",
            "    file:  a file-like object (stream); defaults to the current sys.stdout.\n",
            "    sep:   string inserted between values, default a space.\n",
            "    end:   string appended after the last value, default a newline.\n",
            "    flush: whether to forcibly flush the stream.\n",
            "\n"
          ]
        }
      ]
    },
    {
      "cell_type": "code",
      "source": [
        "a"
      ],
      "metadata": {
        "colab": {
          "base_uri": "https://localhost:8080/",
          "height": 35
        },
        "id": "qE2_lwGMfaGU",
        "outputId": "846f2254-0b5e-4c7c-b9d2-293db8da69cb"
      },
      "execution_count": null,
      "outputs": [
        {
          "output_type": "execute_result",
          "data": {
            "text/plain": [
              "'This is Nagarjuna'"
            ],
            "application/vnd.google.colaboratory.intrinsic+json": {
              "type": "string"
            }
          },
          "metadata": {},
          "execution_count": 40
        }
      ]
    },
    {
      "cell_type": "code",
      "source": [
        "a.__add__(\"Hello World\")"
      ],
      "metadata": {
        "colab": {
          "base_uri": "https://localhost:8080/",
          "height": 35
        },
        "id": "0TmyYWJvfdvF",
        "outputId": "e1459518-9b64-4897-c62b-38e06c0de201"
      },
      "execution_count": null,
      "outputs": [
        {
          "output_type": "execute_result",
          "data": {
            "text/plain": [
              "'This is NagarjunaHello World'"
            ],
            "application/vnd.google.colaboratory.intrinsic+json": {
              "type": "string"
            }
          },
          "metadata": {},
          "execution_count": 41
        }
      ]
    },
    {
      "cell_type": "code",
      "source": [
        "b = \"Naga\"\n",
        "b.__eq__(\"Naga\")"
      ],
      "metadata": {
        "colab": {
          "base_uri": "https://localhost:8080/"
        },
        "id": "169XWl9Eglil",
        "outputId": "2f91af5a-25fa-4a1a-e3f5-64c2b087eaa3"
      },
      "execution_count": null,
      "outputs": [
        {
          "output_type": "execute_result",
          "data": {
            "text/plain": [
              "True"
            ]
          },
          "metadata": {},
          "execution_count": 42
        }
      ]
    },
    {
      "cell_type": "code",
      "source": [
        "a.__contains__(\"Nagarjuna\")"
      ],
      "metadata": {
        "colab": {
          "base_uri": "https://localhost:8080/"
        },
        "id": "H4AbVH1KiEwT",
        "outputId": "9aa76640-6d63-41f6-ca82-230d42c27d0e"
      },
      "execution_count": null,
      "outputs": [
        {
          "output_type": "execute_result",
          "data": {
            "text/plain": [
              "True"
            ]
          },
          "metadata": {},
          "execution_count": 43
        }
      ]
    },
    {
      "cell_type": "code",
      "source": [
        "a = \"This is fourth Session of Python\"\n",
        "a.__contains__(\"PYTHON\")"
      ],
      "metadata": {
        "colab": {
          "base_uri": "https://localhost:8080/"
        },
        "id": "ijtdLfC0iiUU",
        "outputId": "1619890d-4a6a-42ec-8a39-8d3bc09bafa1"
      },
      "execution_count": null,
      "outputs": [
        {
          "output_type": "execute_result",
          "data": {
            "text/plain": [
              "False"
            ]
          },
          "metadata": {},
          "execution_count": 44
        }
      ]
    },
    {
      "cell_type": "code",
      "source": [
        "a.__hash__()"
      ],
      "metadata": {
        "colab": {
          "base_uri": "https://localhost:8080/"
        },
        "id": "FAsS2DyHi00O",
        "outputId": "c6028a08-5efd-40fd-9bce-abd8f9767061"
      },
      "execution_count": null,
      "outputs": [
        {
          "output_type": "execute_result",
          "data": {
            "text/plain": [
              "4934217556980177188"
            ]
          },
          "metadata": {},
          "execution_count": 45
        }
      ]
    },
    {
      "cell_type": "code",
      "source": [
        "a.find(\"Python\")"
      ],
      "metadata": {
        "colab": {
          "base_uri": "https://localhost:8080/"
        },
        "id": "S3hj_LS5i-zq",
        "outputId": "15d5c7e8-2daa-4639-9229-34b9ef03b674"
      },
      "execution_count": null,
      "outputs": [
        {
          "output_type": "execute_result",
          "data": {
            "text/plain": [
              "26"
            ]
          },
          "metadata": {},
          "execution_count": 46
        }
      ]
    },
    {
      "cell_type": "code",
      "source": [
        "#Indexing\n",
        "print(a[0])\n",
        "print(a[1])\n",
        "print(a[10])\n",
        "print(a[26])"
      ],
      "metadata": {
        "colab": {
          "base_uri": "https://localhost:8080/"
        },
        "id": "ItgYAJaZjI-W",
        "outputId": "ee3e59af-0263-4c54-e4e9-9b4bef661036"
      },
      "execution_count": null,
      "outputs": [
        {
          "output_type": "stream",
          "name": "stdout",
          "text": [
            "T\n",
            "h\n",
            "u\n",
            "P\n"
          ]
        }
      ]
    },
    {
      "cell_type": "code",
      "source": [
        "#Slicing\n",
        "a[8:15]"
      ],
      "metadata": {
        "colab": {
          "base_uri": "https://localhost:8080/",
          "height": 35
        },
        "id": "SpG6fBNekHZI",
        "outputId": "fada0a72-f437-47e3-a981-4a8c83476d30"
      },
      "execution_count": null,
      "outputs": [
        {
          "output_type": "execute_result",
          "data": {
            "text/plain": [
              "'fourth '"
            ],
            "application/vnd.google.colaboratory.intrinsic+json": {
              "type": "string"
            }
          },
          "metadata": {},
          "execution_count": 48
        }
      ]
    },
    {
      "cell_type": "code",
      "source": [
        "a[-10:-6]"
      ],
      "metadata": {
        "id": "3-I0Ghr0kdAt",
        "colab": {
          "base_uri": "https://localhost:8080/",
          "height": 35
        },
        "outputId": "d79b6876-1804-48cd-efea-c58db760e64b"
      },
      "execution_count": null,
      "outputs": [
        {
          "output_type": "execute_result",
          "data": {
            "text/plain": [
              "' of '"
            ],
            "application/vnd.google.colaboratory.intrinsic+json": {
              "type": "string"
            }
          },
          "metadata": {},
          "execution_count": 49
        }
      ]
    },
    {
      "cell_type": "code",
      "source": [
        "a = \"a b c d e f g\""
      ],
      "metadata": {
        "id": "-vWpxsIslNnR"
      },
      "execution_count": null,
      "outputs": []
    },
    {
      "cell_type": "code",
      "source": [
        "a[2]"
      ],
      "metadata": {
        "colab": {
          "base_uri": "https://localhost:8080/",
          "height": 35
        },
        "id": "uy4JJXhkfTEt",
        "outputId": "9f03ce46-1073-467e-a62d-7aab0f866c93"
      },
      "execution_count": null,
      "outputs": [
        {
          "output_type": "execute_result",
          "data": {
            "text/plain": [
              "'b'"
            ],
            "application/vnd.google.colaboratory.intrinsic+json": {
              "type": "string"
            }
          },
          "metadata": {},
          "execution_count": 51
        }
      ]
    },
    {
      "cell_type": "code",
      "source": [
        "a[::2]"
      ],
      "metadata": {
        "colab": {
          "base_uri": "https://localhost:8080/",
          "height": 35
        },
        "id": "NSecgckMml1L",
        "outputId": "88e81dc1-e2d7-4724-ac59-87cf67dcc5cd"
      },
      "execution_count": null,
      "outputs": [
        {
          "output_type": "execute_result",
          "data": {
            "text/plain": [
              "'abcdefg'"
            ],
            "application/vnd.google.colaboratory.intrinsic+json": {
              "type": "string"
            }
          },
          "metadata": {},
          "execution_count": 52
        }
      ]
    },
    {
      "cell_type": "code",
      "source": [
        "a[::3]"
      ],
      "metadata": {
        "colab": {
          "base_uri": "https://localhost:8080/",
          "height": 35
        },
        "id": "GJq8ASULg3wO",
        "outputId": "49fc5924-ebac-421b-ba83-174ec26d954d"
      },
      "execution_count": null,
      "outputs": [
        {
          "output_type": "execute_result",
          "data": {
            "text/plain": [
              "'a d g'"
            ],
            "application/vnd.google.colaboratory.intrinsic+json": {
              "type": "string"
            }
          },
          "metadata": {},
          "execution_count": 53
        }
      ]
    },
    {
      "cell_type": "code",
      "source": [
        "a[::4]"
      ],
      "metadata": {
        "colab": {
          "base_uri": "https://localhost:8080/",
          "height": 35
        },
        "id": "Q62TSzP_mxQu",
        "outputId": "30688786-3162-4790-c51f-6d78d6d79e45"
      },
      "execution_count": null,
      "outputs": [
        {
          "output_type": "execute_result",
          "data": {
            "text/plain": [
              "'aceg'"
            ],
            "application/vnd.google.colaboratory.intrinsic+json": {
              "type": "string"
            }
          },
          "metadata": {},
          "execution_count": 54
        }
      ]
    },
    {
      "cell_type": "code",
      "source": [
        "a[::5]"
      ],
      "metadata": {
        "colab": {
          "base_uri": "https://localhost:8080/",
          "height": 35
        },
        "id": "iluxOuUAhDrN",
        "outputId": "6e88ade7-e0c1-44a5-c9d3-e2b816d80a5b"
      },
      "execution_count": null,
      "outputs": [
        {
          "output_type": "execute_result",
          "data": {
            "text/plain": [
              "'a f'"
            ],
            "application/vnd.google.colaboratory.intrinsic+json": {
              "type": "string"
            }
          },
          "metadata": {},
          "execution_count": 55
        }
      ]
    },
    {
      "cell_type": "code",
      "source": [
        "a[::-1]"
      ],
      "metadata": {
        "colab": {
          "base_uri": "https://localhost:8080/",
          "height": 35
        },
        "id": "iXcJYtIMm2Y3",
        "outputId": "d9d631ae-23c4-49e7-ae8b-4c3f1df3a94a"
      },
      "execution_count": null,
      "outputs": [
        {
          "output_type": "execute_result",
          "data": {
            "text/plain": [
              "'g f e d c b a'"
            ],
            "application/vnd.google.colaboratory.intrinsic+json": {
              "type": "string"
            }
          },
          "metadata": {},
          "execution_count": 56
        }
      ]
    },
    {
      "cell_type": "code",
      "source": [
        "a[::-2]"
      ],
      "metadata": {
        "colab": {
          "base_uri": "https://localhost:8080/",
          "height": 35
        },
        "id": "6WGS97rQoBG7",
        "outputId": "21decdbf-829e-4274-d575-30c751d4b9ea"
      },
      "execution_count": null,
      "outputs": [
        {
          "output_type": "execute_result",
          "data": {
            "text/plain": [
              "'gfedcba'"
            ],
            "application/vnd.google.colaboratory.intrinsic+json": {
              "type": "string"
            }
          },
          "metadata": {},
          "execution_count": 57
        }
      ]
    },
    {
      "cell_type": "code",
      "source": [
        "a[::-3]"
      ],
      "metadata": {
        "colab": {
          "base_uri": "https://localhost:8080/",
          "height": 35
        },
        "id": "V-Vlsk-KoXAE",
        "outputId": "3b75b9c7-f3ff-4fe6-b9ac-f959b3e51332"
      },
      "execution_count": null,
      "outputs": [
        {
          "output_type": "execute_result",
          "data": {
            "text/plain": [
              "'g d a'"
            ],
            "application/vnd.google.colaboratory.intrinsic+json": {
              "type": "string"
            }
          },
          "metadata": {},
          "execution_count": 58
        }
      ]
    },
    {
      "cell_type": "code",
      "source": [
        "print(\"Hello \\nWorld\")"
      ],
      "metadata": {
        "colab": {
          "base_uri": "https://localhost:8080/"
        },
        "id": "IkMuPZUhoYlg",
        "outputId": "6157bceb-b37b-4546-e8e6-de6ea8e83a4e"
      },
      "execution_count": null,
      "outputs": [
        {
          "output_type": "stream",
          "name": "stdout",
          "text": [
            "Hello \n",
            "World\n"
          ]
        }
      ]
    },
    {
      "cell_type": "code",
      "source": [
        "print(\"Hello \\tWorld\")"
      ],
      "metadata": {
        "colab": {
          "base_uri": "https://localhost:8080/"
        },
        "id": "YJxnsCFnpPbZ",
        "outputId": "eddc252e-e742-4d0b-f655-135fe39cbfad"
      },
      "execution_count": null,
      "outputs": [
        {
          "output_type": "stream",
          "name": "stdout",
          "text": [
            "Hello \tWorld\n"
          ]
        }
      ]
    },
    {
      "cell_type": "code",
      "source": [
        "a = [1,2,3,4,5,6,7,8,9,10,11,12,13] #ordered but mutable"
      ],
      "metadata": {
        "id": "iEuJiYvvpUSE"
      },
      "execution_count": null,
      "outputs": []
    },
    {
      "cell_type": "code",
      "source": [
        "a.append(7)\n",
        "a"
      ],
      "metadata": {
        "id": "9OdaWOYuqbqd",
        "colab": {
          "base_uri": "https://localhost:8080/"
        },
        "outputId": "ad76b491-3050-42a9-8af5-5fc874c44c01"
      },
      "execution_count": null,
      "outputs": [
        {
          "output_type": "execute_result",
          "data": {
            "text/plain": [
              "[1, 2, 3, 4, 5, 6, 7, 8, 9, 10, 11, 12, 13, 7]"
            ]
          },
          "metadata": {},
          "execution_count": 62
        }
      ]
    },
    {
      "cell_type": "code",
      "source": [
        "b = a[::-2]\n",
        "b"
      ],
      "metadata": {
        "colab": {
          "base_uri": "https://localhost:8080/"
        },
        "id": "UsYWy07Zld97",
        "outputId": "7a1ff5d8-ae3e-49ff-a70c-237b8d93908f"
      },
      "execution_count": null,
      "outputs": [
        {
          "output_type": "execute_result",
          "data": {
            "text/plain": [
              "[7, 12, 10, 8, 6, 4, 2]"
            ]
          },
          "metadata": {},
          "execution_count": 63
        }
      ]
    },
    {
      "cell_type": "code",
      "source": [
        "b = a[::2]\n",
        "b"
      ],
      "metadata": {
        "colab": {
          "base_uri": "https://localhost:8080/"
        },
        "id": "vpIRt-LpnHkX",
        "outputId": "42cebfb7-01ac-4d32-c82b-2a4cb23dc5c6"
      },
      "execution_count": null,
      "outputs": [
        {
          "output_type": "execute_result",
          "data": {
            "text/plain": [
              "[1, 3, 5, 7, 9, 11, 13]"
            ]
          },
          "metadata": {},
          "execution_count": 64
        }
      ]
    },
    {
      "cell_type": "code",
      "source": [
        "a.pop()"
      ],
      "metadata": {
        "colab": {
          "base_uri": "https://localhost:8080/"
        },
        "id": "6ykxkJlXjypC",
        "outputId": "1ccb467f-c46a-45ad-f19a-d403d0c825d5"
      },
      "execution_count": null,
      "outputs": [
        {
          "output_type": "execute_result",
          "data": {
            "text/plain": [
              "7"
            ]
          },
          "metadata": {},
          "execution_count": 65
        }
      ]
    },
    {
      "cell_type": "code",
      "source": [
        "a"
      ],
      "metadata": {
        "colab": {
          "base_uri": "https://localhost:8080/"
        },
        "id": "MGGOBmC7kWkc",
        "outputId": "25a91ded-1cd6-407d-815f-635f41170c72"
      },
      "execution_count": null,
      "outputs": [
        {
          "output_type": "execute_result",
          "data": {
            "text/plain": [
              "[1, 2, 3, 4, 5, 6, 7, 8, 9, 10, 11, 12, 13]"
            ]
          },
          "metadata": {},
          "execution_count": 66
        }
      ]
    },
    {
      "cell_type": "code",
      "source": [
        "a.pop(-1)"
      ],
      "metadata": {
        "colab": {
          "base_uri": "https://localhost:8080/"
        },
        "id": "0cCCwHO3kZDF",
        "outputId": "e2b53d85-d963-4558-804f-66adedc678bc"
      },
      "execution_count": null,
      "outputs": [
        {
          "output_type": "execute_result",
          "data": {
            "text/plain": [
              "13"
            ]
          },
          "metadata": {},
          "execution_count": 67
        }
      ]
    },
    {
      "cell_type": "code",
      "source": [
        "a"
      ],
      "metadata": {
        "colab": {
          "base_uri": "https://localhost:8080/"
        },
        "id": "_Sr3ZOLAkmvl",
        "outputId": "ff658fed-2486-4cb2-b885-7289785716a2"
      },
      "execution_count": null,
      "outputs": [
        {
          "output_type": "execute_result",
          "data": {
            "text/plain": [
              "[1, 2, 3, 4, 5, 6, 7, 8, 9, 10, 11, 12]"
            ]
          },
          "metadata": {},
          "execution_count": 68
        }
      ]
    },
    {
      "cell_type": "code",
      "source": [
        "b = (1,2,3,4,5,6) #ordered but immutable"
      ],
      "metadata": {
        "id": "RukjCrV6pZXi"
      },
      "execution_count": null,
      "outputs": []
    },
    {
      "cell_type": "code",
      "source": [
        "c = {1,2,3,4,5,6,1,2,3,4,5,6} #oredered and Unique entries\n",
        "c"
      ],
      "metadata": {
        "colab": {
          "base_uri": "https://localhost:8080/"
        },
        "id": "RrQXg0Q1pc-W",
        "outputId": "7bac39db-18cf-43cb-89c8-bafa1b3e3697"
      },
      "execution_count": null,
      "outputs": [
        {
          "output_type": "execute_result",
          "data": {
            "text/plain": [
              "{1, 2, 3, 4, 5, 6}"
            ]
          },
          "metadata": {},
          "execution_count": 70
        }
      ]
    },
    {
      "cell_type": "code",
      "source": [
        "d = {\"Name\":\"Naga\", \"Age\":32}"
      ],
      "metadata": {
        "id": "xLhdppgLp-JK"
      },
      "execution_count": null,
      "outputs": []
    },
    {
      "cell_type": "code",
      "source": [
        "a.count(3)"
      ],
      "metadata": {
        "colab": {
          "base_uri": "https://localhost:8080/"
        },
        "id": "G0E_f9FWqJSo",
        "outputId": "3ea123f9-b02d-4e77-e266-849953fa1e16"
      },
      "execution_count": null,
      "outputs": [
        {
          "output_type": "execute_result",
          "data": {
            "text/plain": [
              "1"
            ]
          },
          "metadata": {},
          "execution_count": 72
        }
      ]
    },
    {
      "cell_type": "code",
      "source": [
        "a"
      ],
      "metadata": {
        "colab": {
          "base_uri": "https://localhost:8080/"
        },
        "id": "3Pb_FLolqbJS",
        "outputId": "0c759c15-294b-4ae7-ea92-cf41537ee09d"
      },
      "execution_count": null,
      "outputs": [
        {
          "output_type": "execute_result",
          "data": {
            "text/plain": [
              "[1, 2, 3, 4, 5, 6, 7, 8, 9, 10, 11, 12]"
            ]
          },
          "metadata": {},
          "execution_count": 73
        }
      ]
    },
    {
      "cell_type": "code",
      "source": [
        "a"
      ],
      "metadata": {
        "colab": {
          "base_uri": "https://localhost:8080/"
        },
        "id": "U3PxlimorVlO",
        "outputId": "38d09788-54d9-4da6-c11b-f11158eae1d2"
      },
      "execution_count": null,
      "outputs": [
        {
          "output_type": "execute_result",
          "data": {
            "text/plain": [
              "[1, 2, 3, 4, 5, 6, 7, 8, 9, 10, 11, 12]"
            ]
          },
          "metadata": {},
          "execution_count": 74
        }
      ]
    },
    {
      "cell_type": "code",
      "source": [
        "b = []\n",
        "b.append(a[1])"
      ],
      "metadata": {
        "id": "WB8eqp6ZrWn_"
      },
      "execution_count": null,
      "outputs": []
    },
    {
      "cell_type": "code",
      "source": [
        "b\n",
        "b.append(a[2])"
      ],
      "metadata": {
        "id": "dkvYkmLRri5B"
      },
      "execution_count": null,
      "outputs": []
    },
    {
      "cell_type": "code",
      "source": [
        "b"
      ],
      "metadata": {
        "colab": {
          "base_uri": "https://localhost:8080/"
        },
        "id": "aUmIqUIPrjWW",
        "outputId": "879baea4-71d8-4fc2-c195-03397c80974c"
      },
      "execution_count": null,
      "outputs": [
        {
          "output_type": "execute_result",
          "data": {
            "text/plain": [
              "[2, 3]"
            ]
          },
          "metadata": {},
          "execution_count": 77
        }
      ]
    },
    {
      "cell_type": "code",
      "source": [
        "b[0]"
      ],
      "metadata": {
        "colab": {
          "base_uri": "https://localhost:8080/"
        },
        "id": "YQ0UUc6XrqmH",
        "outputId": "ad41f5be-e847-40b8-d96e-5cf75c14a760"
      },
      "execution_count": null,
      "outputs": [
        {
          "output_type": "execute_result",
          "data": {
            "text/plain": [
              "2"
            ]
          },
          "metadata": {},
          "execution_count": 78
        }
      ]
    },
    {
      "cell_type": "code",
      "source": [
        "b[1]"
      ],
      "metadata": {
        "colab": {
          "base_uri": "https://localhost:8080/"
        },
        "id": "X4nsXzXXrrjf",
        "outputId": "2a0cba48-457f-492b-9846-023be03236a0"
      },
      "execution_count": null,
      "outputs": [
        {
          "output_type": "execute_result",
          "data": {
            "text/plain": [
              "3"
            ]
          },
          "metadata": {},
          "execution_count": 79
        }
      ]
    },
    {
      "cell_type": "code",
      "source": [
        "b[2]"
      ],
      "metadata": {
        "colab": {
          "base_uri": "https://localhost:8080/",
          "height": 166
        },
        "id": "iSat4VUcr3aG",
        "outputId": "8aa0f8ed-52ed-4441-eb64-bb7baf8639a3"
      },
      "execution_count": null,
      "outputs": [
        {
          "output_type": "error",
          "ename": "IndexError",
          "evalue": "ignored",
          "traceback": [
            "\u001b[0;31m---------------------------------------------------------------------------\u001b[0m",
            "\u001b[0;31mIndexError\u001b[0m                                Traceback (most recent call last)",
            "\u001b[0;32m<ipython-input-80-973c42954ce6>\u001b[0m in \u001b[0;36m<module>\u001b[0;34m()\u001b[0m\n\u001b[0;32m----> 1\u001b[0;31m \u001b[0mb\u001b[0m\u001b[0;34m[\u001b[0m\u001b[0;36m2\u001b[0m\u001b[0;34m]\u001b[0m\u001b[0;34m\u001b[0m\u001b[0;34m\u001b[0m\u001b[0m\n\u001b[0m",
            "\u001b[0;31mIndexError\u001b[0m: list index out of range"
          ]
        }
      ]
    },
    {
      "cell_type": "code",
      "source": [
        "b.append(a[5])"
      ],
      "metadata": {
        "id": "6NLYZAz4r4Z7"
      },
      "execution_count": null,
      "outputs": []
    },
    {
      "cell_type": "code",
      "source": [
        "b"
      ],
      "metadata": {
        "id": "KIez6sMSr6hs"
      },
      "execution_count": null,
      "outputs": []
    },
    {
      "cell_type": "code",
      "source": [
        "len(b)"
      ],
      "metadata": {
        "id": "UG4f2ZGsr7HC"
      },
      "execution_count": null,
      "outputs": []
    },
    {
      "cell_type": "code",
      "source": [
        "a = \"This\"\n",
        "len(a)"
      ],
      "metadata": {
        "id": "KyJzDQZQr8oB"
      },
      "execution_count": null,
      "outputs": []
    },
    {
      "cell_type": "code",
      "source": [
        "b.clear()"
      ],
      "metadata": {
        "id": "7G8gZdjWsEZk"
      },
      "execution_count": null,
      "outputs": []
    },
    {
      "cell_type": "code",
      "source": [
        "b"
      ],
      "metadata": {
        "id": "4ho19l_tsI4h"
      },
      "execution_count": null,
      "outputs": []
    },
    {
      "cell_type": "code",
      "source": [
        "b.extend([1,2,3])"
      ],
      "metadata": {
        "id": "wl6tAIrSswRs"
      },
      "execution_count": null,
      "outputs": []
    },
    {
      "cell_type": "code",
      "source": [
        "b"
      ],
      "metadata": {
        "id": "ktUPuusLsJq3"
      },
      "execution_count": null,
      "outputs": []
    },
    {
      "cell_type": "code",
      "source": [
        "b.append(4)"
      ],
      "metadata": {
        "id": "HdAOYqAgs19R"
      },
      "execution_count": null,
      "outputs": []
    },
    {
      "cell_type": "code",
      "source": [
        "b.extend([5,6,7,8])"
      ],
      "metadata": {
        "id": "iI-NTGNLs5w-"
      },
      "execution_count": null,
      "outputs": []
    },
    {
      "cell_type": "code",
      "source": [
        "b"
      ],
      "metadata": {
        "id": "_95x-TFEs9uE"
      },
      "execution_count": null,
      "outputs": []
    },
    {
      "cell_type": "code",
      "source": [
        "a = b.copy()"
      ],
      "metadata": {
        "id": "nvBoiOZBs-VN"
      },
      "execution_count": null,
      "outputs": []
    },
    {
      "cell_type": "code",
      "source": [
        "a"
      ],
      "metadata": {
        "id": "aPzuYFqMtOci"
      },
      "execution_count": null,
      "outputs": []
    },
    {
      "cell_type": "code",
      "source": [
        "c = b.copy()\n",
        "c"
      ],
      "metadata": {
        "id": "GoZhBtvmtMgD"
      },
      "execution_count": null,
      "outputs": []
    },
    {
      "cell_type": "code",
      "source": [
        "c.pop()"
      ],
      "metadata": {
        "id": "VwpkM8STtR0O"
      },
      "execution_count": null,
      "outputs": []
    },
    {
      "cell_type": "code",
      "source": [
        "c"
      ],
      "metadata": {
        "id": "p-F_3Mvetm7p"
      },
      "execution_count": null,
      "outputs": []
    },
    {
      "cell_type": "code",
      "source": [
        "c.pop()"
      ],
      "metadata": {
        "id": "-ZqeIS0jtpfr"
      },
      "execution_count": null,
      "outputs": []
    },
    {
      "cell_type": "code",
      "source": [
        "c"
      ],
      "metadata": {
        "id": "r-r1vtZBtut8"
      },
      "execution_count": null,
      "outputs": []
    },
    {
      "cell_type": "code",
      "source": [
        "c.reverse()"
      ],
      "metadata": {
        "id": "PpWCncehtvXq"
      },
      "execution_count": null,
      "outputs": []
    },
    {
      "cell_type": "code",
      "source": [
        "c"
      ],
      "metadata": {
        "id": "zJ4aTBretyIK"
      },
      "execution_count": null,
      "outputs": []
    },
    {
      "cell_type": "code",
      "source": [
        "c.index(6)"
      ],
      "metadata": {
        "id": "xi0vMTbCty1x"
      },
      "execution_count": null,
      "outputs": []
    },
    {
      "cell_type": "code",
      "source": [
        "c = (1,2,3,4,5,6)"
      ],
      "metadata": {
        "id": "QiO4g3o2t1NX"
      },
      "execution_count": null,
      "outputs": []
    },
    {
      "cell_type": "code",
      "source": [
        "c.index(5)"
      ],
      "metadata": {
        "id": "9D6l_Qejt62f"
      },
      "execution_count": null,
      "outputs": []
    },
    {
      "cell_type": "code",
      "source": [
        "c.count(4)"
      ],
      "metadata": {
        "id": "e2BiCEPLt8lE"
      },
      "execution_count": null,
      "outputs": []
    },
    {
      "cell_type": "code",
      "source": [
        "c.pop()"
      ],
      "metadata": {
        "id": "ZTk0CBZouDKS"
      },
      "execution_count": null,
      "outputs": []
    },
    {
      "cell_type": "code",
      "source": [
        "d = {\"Name\":\"Naga\", \"Age\":32}"
      ],
      "metadata": {
        "id": "Q7e8O4YMuFDg"
      },
      "execution_count": null,
      "outputs": []
    },
    {
      "cell_type": "code",
      "source": [
        "d.keys()"
      ],
      "metadata": {
        "id": "BcXdXrFOuQl6"
      },
      "execution_count": null,
      "outputs": []
    },
    {
      "cell_type": "code",
      "source": [
        "d.values()"
      ],
      "metadata": {
        "id": "82jxiz-huTVl"
      },
      "execution_count": null,
      "outputs": []
    },
    {
      "cell_type": "code",
      "source": [
        "d.items()"
      ],
      "metadata": {
        "id": "OBw_8WUdubUi"
      },
      "execution_count": null,
      "outputs": []
    },
    {
      "cell_type": "code",
      "source": [
        "type(d.items())"
      ],
      "metadata": {
        "id": "_6PSlnzOueMV"
      },
      "execution_count": null,
      "outputs": []
    },
    {
      "cell_type": "code",
      "source": [
        "a = d.keys()\n",
        "a"
      ],
      "metadata": {
        "id": "e6NOH6bcupAB"
      },
      "execution_count": null,
      "outputs": []
    },
    {
      "cell_type": "code",
      "source": [
        "a = d.values()\n",
        "a"
      ],
      "metadata": {
        "id": "Q6KivV3Duy95"
      },
      "execution_count": null,
      "outputs": []
    },
    {
      "cell_type": "code",
      "source": [
        "d.pop(\"Age\")"
      ],
      "metadata": {
        "id": "iangd1b8u95w"
      },
      "execution_count": null,
      "outputs": []
    },
    {
      "cell_type": "code",
      "source": [
        "d"
      ],
      "metadata": {
        "id": "3ebipz6bvLIg"
      },
      "execution_count": null,
      "outputs": []
    },
    {
      "cell_type": "code",
      "source": [
        "d.update({\"Age\":32})"
      ],
      "metadata": {
        "id": "ykIqOporvhP8"
      },
      "execution_count": null,
      "outputs": []
    },
    {
      "cell_type": "code",
      "source": [
        "d"
      ],
      "metadata": {
        "id": "E3kqTUFnvyrS"
      },
      "execution_count": null,
      "outputs": []
    },
    {
      "cell_type": "code",
      "source": [
        "d.update({\"Gender\":\"M\"})"
      ],
      "metadata": {
        "id": "ZrsNJ11Zvzad"
      },
      "execution_count": null,
      "outputs": []
    },
    {
      "cell_type": "code",
      "source": [
        "d"
      ],
      "metadata": {
        "id": "9V3ziJxEv8Zx"
      },
      "execution_count": null,
      "outputs": []
    },
    {
      "cell_type": "code",
      "source": [
        "a = []\n",
        "b = ()\n",
        "c = {}\n",
        "a.append(1)\n",
        "a"
      ],
      "metadata": {
        "id": "7NJhZfGlv8zz"
      },
      "execution_count": null,
      "outputs": []
    },
    {
      "cell_type": "code",
      "source": [
        "a.pop()"
      ],
      "metadata": {
        "id": "vHQdmBWbxWVA"
      },
      "execution_count": null,
      "outputs": []
    },
    {
      "cell_type": "code",
      "source": [
        "a.extend([50,45,43,42])"
      ],
      "metadata": {
        "id": "4sBDpn9FxfV0"
      },
      "execution_count": null,
      "outputs": []
    },
    {
      "cell_type": "code",
      "source": [
        "c.update({\"Marks\":a})"
      ],
      "metadata": {
        "id": "PYNJNvtixith"
      },
      "execution_count": null,
      "outputs": []
    },
    {
      "cell_type": "code",
      "source": [
        "c"
      ],
      "metadata": {
        "id": "Tceq1iuaxp7y"
      },
      "execution_count": null,
      "outputs": []
    },
    {
      "cell_type": "code",
      "source": [
        "a.extend([c])"
      ],
      "metadata": {
        "id": "D5woZv7_xqeu"
      },
      "execution_count": null,
      "outputs": []
    },
    {
      "cell_type": "code",
      "source": [
        "a\n"
      ],
      "metadata": {
        "id": "A4iX0Dm8xwnV"
      },
      "execution_count": null,
      "outputs": []
    },
    {
      "cell_type": "code",
      "source": [
        "a.pop()"
      ],
      "metadata": {
        "id": "pHjQpryzxxTo"
      },
      "execution_count": null,
      "outputs": []
    },
    {
      "cell_type": "code",
      "source": [
        "a.pop()"
      ],
      "metadata": {
        "id": "ijuZGQklx1Pn"
      },
      "execution_count": null,
      "outputs": []
    },
    {
      "cell_type": "code",
      "source": [
        "a"
      ],
      "metadata": {
        "id": "CXN3Q-GEyGdJ"
      },
      "execution_count": null,
      "outputs": []
    },
    {
      "cell_type": "code",
      "source": [
        "b = (a)"
      ],
      "metadata": {
        "id": "4B-eJ6blyH3e"
      },
      "execution_count": null,
      "outputs": []
    },
    {
      "cell_type": "code",
      "source": [
        "b = (0,a)"
      ],
      "metadata": {
        "id": "xpLCr6YByLFz"
      },
      "execution_count": null,
      "outputs": []
    },
    {
      "cell_type": "code",
      "source": [
        "b"
      ],
      "metadata": {
        "id": "KxtbXqiwyMUD"
      },
      "execution_count": null,
      "outputs": []
    },
    {
      "cell_type": "code",
      "source": [
        "len(b[1])"
      ],
      "metadata": {
        "id": "DBSjw0mlyQAg"
      },
      "execution_count": null,
      "outputs": []
    },
    {
      "cell_type": "code",
      "source": [
        "b[1][2]"
      ],
      "metadata": {
        "id": "GDYVoSg8ySm0"
      },
      "execution_count": null,
      "outputs": []
    },
    {
      "cell_type": "code",
      "source": [
        "a = [1,2,3,4,[5,6,7],8,9,[10,11]]"
      ],
      "metadata": {
        "id": "dULMeZwNyhXF"
      },
      "execution_count": null,
      "outputs": []
    },
    {
      "cell_type": "code",
      "source": [
        "type(a.pop())"
      ],
      "metadata": {
        "id": "h6P9Ob3kyrj1"
      },
      "execution_count": null,
      "outputs": []
    },
    {
      "cell_type": "code",
      "source": [
        "type(a[4])"
      ],
      "metadata": {
        "id": "4zEFenBFyuGY"
      },
      "execution_count": null,
      "outputs": []
    },
    {
      "cell_type": "code",
      "source": [
        "type(a[5])"
      ],
      "metadata": {
        "id": "Zuz5V2tpy3kE"
      },
      "execution_count": null,
      "outputs": []
    },
    {
      "cell_type": "code",
      "source": [
        ""
      ],
      "metadata": {
        "id": "pKC9BytCy6Ss"
      },
      "execution_count": null,
      "outputs": []
    },
    {
      "cell_type": "markdown",
      "source": [
        ""
      ],
      "metadata": {
        "id": "EpGuJnPMetK6"
      }
    },
    {
      "cell_type": "markdown",
      "source": [
        "```\n",
        "# This is Session 5\n",
        "```"
      ],
      "metadata": {
        "id": "TUNCn18getaB"
      }
    },
    {
      "cell_type": "code",
      "source": [
        "a = [1,2,3,4,5,6,7,8,9]\n",
        "a[::2]"
      ],
      "metadata": {
        "id": "mpktciinexKi"
      },
      "execution_count": null,
      "outputs": []
    },
    {
      "cell_type": "code",
      "source": [
        "a[::3]"
      ],
      "metadata": {
        "id": "_qmBs48qe5v2"
      },
      "execution_count": null,
      "outputs": []
    },
    {
      "cell_type": "code",
      "source": [
        "a[::4]"
      ],
      "metadata": {
        "id": "X9IWVZlce7K1"
      },
      "execution_count": null,
      "outputs": []
    },
    {
      "cell_type": "code",
      "source": [
        "y = (1,2,3,4,5,6,7,8,9,\"Naga\",True,2.5)"
      ],
      "metadata": {
        "id": "lwVNyN3JfANR"
      },
      "execution_count": null,
      "outputs": []
    },
    {
      "cell_type": "code",
      "source": [
        "len(y)"
      ],
      "metadata": {
        "id": "3z-5xzrwp9Ki"
      },
      "execution_count": null,
      "outputs": []
    },
    {
      "cell_type": "code",
      "source": [
        "y.index(9)"
      ],
      "metadata": {
        "id": "rxqfwlaTp-Ir"
      },
      "execution_count": null,
      "outputs": []
    },
    {
      "cell_type": "code",
      "source": [
        "y.count(1)"
      ],
      "metadata": {
        "id": "HWF7IJ0AqAkp"
      },
      "execution_count": null,
      "outputs": []
    },
    {
      "cell_type": "code",
      "source": [
        "y.pop()"
      ],
      "metadata": {
        "id": "4ddWKhnFqDKX"
      },
      "execution_count": null,
      "outputs": []
    },
    {
      "cell_type": "code",
      "source": [
        "y.append(4)"
      ],
      "metadata": {
        "id": "psP3nfu8qFd0"
      },
      "execution_count": null,
      "outputs": []
    },
    {
      "cell_type": "code",
      "source": [
        "z = {\"Name\" : \"Naga\",\"Age\":32}\n",
        "z[\"Age\"]"
      ],
      "metadata": {
        "id": "TU59tQp2qLFg"
      },
      "execution_count": null,
      "outputs": []
    },
    {
      "cell_type": "code",
      "source": [
        "z.items()"
      ],
      "metadata": {
        "id": "H4U4hUeRqbEI"
      },
      "execution_count": null,
      "outputs": []
    },
    {
      "cell_type": "code",
      "source": [
        "z.keys()"
      ],
      "metadata": {
        "id": "eN8XQ5kVqfBu"
      },
      "execution_count": null,
      "outputs": []
    },
    {
      "cell_type": "code",
      "source": [
        "z.values()"
      ],
      "metadata": {
        "id": "_chWNm1eq4lM"
      },
      "execution_count": null,
      "outputs": []
    },
    {
      "cell_type": "code",
      "source": [
        "z.clear()"
      ],
      "metadata": {
        "id": "Hs7CXN9bq5R3"
      },
      "execution_count": null,
      "outputs": []
    },
    {
      "cell_type": "code",
      "source": [
        "z.pop(\"Name\")"
      ],
      "metadata": {
        "id": "mGA1mqXYq8sh"
      },
      "execution_count": null,
      "outputs": []
    },
    {
      "cell_type": "code",
      "source": [
        "z.update({\"Gender\":\"M\"})"
      ],
      "metadata": {
        "id": "5nq5Jkmzq73B"
      },
      "execution_count": null,
      "outputs": []
    },
    {
      "cell_type": "code",
      "source": [
        "z"
      ],
      "metadata": {
        "id": "-icZ3UhRrq_g"
      },
      "execution_count": null,
      "outputs": []
    },
    {
      "cell_type": "code",
      "source": [
        "z.update({\"ID\":4134})"
      ],
      "metadata": {
        "id": "HTrbxgyTrrvY"
      },
      "execution_count": null,
      "outputs": []
    },
    {
      "cell_type": "code",
      "source": [
        "z"
      ],
      "metadata": {
        "id": "0muYJxK4rxnx"
      },
      "execution_count": null,
      "outputs": []
    },
    {
      "cell_type": "code",
      "source": [
        "a = [1,[2,[3,[4,[5,[6]]]]]]\n",
        "a[0]"
      ],
      "metadata": {
        "id": "Q7TJ0VUYr5l3"
      },
      "execution_count": null,
      "outputs": []
    },
    {
      "cell_type": "code",
      "source": [
        "b = a[1]\n",
        "b"
      ],
      "metadata": {
        "id": "QsYT9f1kuAkj"
      },
      "execution_count": null,
      "outputs": []
    },
    {
      "cell_type": "code",
      "source": [
        "b[0]"
      ],
      "metadata": {
        "id": "BfPHHDvCuB1Z"
      },
      "execution_count": null,
      "outputs": []
    },
    {
      "cell_type": "code",
      "source": [
        "b[1]"
      ],
      "metadata": {
        "id": "zwj4pkBLuHs7"
      },
      "execution_count": null,
      "outputs": []
    },
    {
      "cell_type": "code",
      "source": [
        "a[1][1]"
      ],
      "metadata": {
        "id": "OBsMn2rbuI3u"
      },
      "execution_count": null,
      "outputs": []
    },
    {
      "cell_type": "code",
      "source": [
        "c = b[1]"
      ],
      "metadata": {
        "id": "vRAPrzDRuMFn"
      },
      "execution_count": null,
      "outputs": []
    },
    {
      "cell_type": "code",
      "source": [
        "c"
      ],
      "metadata": {
        "id": "C00-iIDnuSFp"
      },
      "execution_count": null,
      "outputs": []
    },
    {
      "cell_type": "code",
      "source": [
        "d = c[1]\n",
        "d"
      ],
      "metadata": {
        "id": "wNwQsCxWuSqC"
      },
      "execution_count": null,
      "outputs": []
    },
    {
      "cell_type": "code",
      "source": [
        "a[1][1][1]"
      ],
      "metadata": {
        "id": "oUtzNMiOuUr6"
      },
      "execution_count": null,
      "outputs": []
    },
    {
      "cell_type": "code",
      "source": [
        "e = d[1]\n",
        "e[0]"
      ],
      "metadata": {
        "id": "TKMkrUAHuaYS"
      },
      "execution_count": null,
      "outputs": []
    },
    {
      "cell_type": "code",
      "source": [
        "a[1][1][1][1][0]"
      ],
      "metadata": {
        "id": "iZb0lvVduckv"
      },
      "execution_count": null,
      "outputs": []
    },
    {
      "cell_type": "code",
      "source": [
        "a = [1,2,3,[4,5,6]]"
      ],
      "metadata": {
        "id": "3_jczTUwukoy"
      },
      "execution_count": null,
      "outputs": []
    },
    {
      "cell_type": "code",
      "source": [
        "a[0]"
      ],
      "metadata": {
        "id": "uy8GRjZSuoQu"
      },
      "execution_count": null,
      "outputs": []
    },
    {
      "cell_type": "code",
      "source": [
        "a[3][0]"
      ],
      "metadata": {
        "id": "7ItVuO3EuqA4"
      },
      "execution_count": null,
      "outputs": []
    },
    {
      "cell_type": "code",
      "source": [
        "a = [1,[2,[3,[4,[5,[6]]]]]]\n",
        "b = a[1]\n",
        "c = b[1]\n",
        "d = c[1]\n",
        "e = d[1]\n",
        "f = e[1]"
      ],
      "metadata": {
        "id": "rXC7KMF-urvg"
      },
      "execution_count": null,
      "outputs": []
    },
    {
      "cell_type": "code",
      "source": [
        "a[1][1][1][1][1][0]"
      ],
      "metadata": {
        "id": "mIfuOF-bw6P5"
      },
      "execution_count": null,
      "outputs": []
    },
    {
      "cell_type": "code",
      "source": [
        "a = (1,(2,(3,(4,5,(6)))))\n",
        "a[1][1][1][2]"
      ],
      "metadata": {
        "id": "Qj-bTmYQxC6y"
      },
      "execution_count": null,
      "outputs": []
    },
    {
      "cell_type": "code",
      "source": [
        "a = (1,2,3,(4,5,6),(7,8))\n",
        "#extract 8 from tuple\n",
        "a[4][1]"
      ],
      "metadata": {
        "id": "MFZhV9ztxr89"
      },
      "execution_count": null,
      "outputs": []
    },
    {
      "cell_type": "code",
      "source": [
        "'''\n",
        "List: Max,min, len, \n",
        "# Display sliced list\n",
        "print(List[::-1])\n",
        " \n",
        "# Display sliced list\n",
        "print(List[::-3])\n",
        " \n",
        "# Display sliced list\n",
        "print(List[:1:-2])\n",
        "########\n",
        "# Initialize list\n",
        "List = [-999, 'G4G', 1706256, '^_^', 3.1496]\n",
        " \n",
        "# Show original list\n",
        "print(\"\\nOriginal List:\\n\", List)\n",
        " \n",
        "print(\"\\nSliced Lists: \")\n",
        " \n",
        "# Display sliced list\n",
        "print(List[10::2])\n",
        " \n",
        "# Display sliced list\n",
        "print(List[1:1:1])\n",
        " \n",
        "# Display sliced list\n",
        "print(List[-1:-1:-1])\n",
        " \n",
        "# Display sliced list\n",
        "print(List[:0:])\n",
        "########\n",
        "\n",
        "'''"
      ],
      "metadata": {
        "id": "Hd4W4MdFyqW5"
      },
      "execution_count": null,
      "outputs": []
    },
    {
      "cell_type": "markdown",
      "source": [
        "#This is Session 6\n",
        "  ![image.png](data:image/png;base64,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)"
      ],
      "metadata": {
        "id": "EJC8n7ASzzOR"
      }
    },
    {
      "cell_type": "code",
      "source": [
        "a = \"a b c d e f g\""
      ],
      "metadata": {
        "id": "Vad44llQz1lH"
      },
      "execution_count": null,
      "outputs": []
    },
    {
      "cell_type": "code",
      "source": [
        "print(a[::2]) #abcdefg\n",
        "print(a[::3]) #a d g "
      ],
      "metadata": {
        "id": "oAlyivjozyfd"
      },
      "execution_count": null,
      "outputs": []
    },
    {
      "cell_type": "code",
      "source": [
        "a = \"12345678\"\n",
        "print(a[::-1]) #exp:1357\n",
        "print(a[::3]) #exp:147"
      ],
      "metadata": {
        "id": "FW75g-Zpz2Ga"
      },
      "execution_count": null,
      "outputs": []
    },
    {
      "cell_type": "code",
      "source": [
        "a = [1,2,3,4,5,6,7,8,9,10,11,12,13,14,15]\n",
        "print(a[-1:-10:-2])"
      ],
      "metadata": {
        "id": "4ZhQ2CLh2jJL"
      },
      "execution_count": null,
      "outputs": []
    },
    {
      "cell_type": "code",
      "source": [
        "a[-10:-1:2]"
      ],
      "metadata": {
        "id": "lIJDDVDF4p6Z"
      },
      "execution_count": null,
      "outputs": []
    },
    {
      "cell_type": "code",
      "source": [
        "a = [1,2,3]"
      ],
      "metadata": {
        "id": "qm-bPtZF5rP3"
      },
      "execution_count": null,
      "outputs": []
    },
    {
      "cell_type": "code",
      "source": [
        "a = [1,2,3,(7,8,9),10]\n",
        "#9\n",
        "a[3][2]"
      ],
      "metadata": {
        "id": "UEGLtr-Q7sdM"
      },
      "execution_count": null,
      "outputs": []
    },
    {
      "cell_type": "code",
      "source": [
        "a = [1,2,3,(4),(5),(6),(7,8),(9,10,11)]\n",
        "#9\n",
        "a[7][0]"
      ],
      "metadata": {
        "id": "Whw5lZO-9Vss"
      },
      "execution_count": null,
      "outputs": []
    },
    {
      "cell_type": "code",
      "source": [
        "a"
      ],
      "metadata": {
        "id": "dtM6gDTR-VTz"
      },
      "execution_count": null,
      "outputs": []
    },
    {
      "cell_type": "code",
      "source": [
        "#10\n",
        "a[7][1]"
      ],
      "metadata": {
        "id": "QuJhumbF-WK5"
      },
      "execution_count": null,
      "outputs": []
    },
    {
      "cell_type": "code",
      "source": [
        "a = [1,2,3,(6,7,8),{\"Naga\":32}] #8\n",
        "a[3][2]\n",
        "#32\n",
        "a[4][\"Naga\"]"
      ],
      "metadata": {
        "id": "P3SGxJFw-nSi"
      },
      "execution_count": null,
      "outputs": []
    },
    {
      "cell_type": "code",
      "source": [
        "a = [\"Naga\",\"Arjun\",\"Sreenivasulu\",(\"Jacks\",\"Technologies\")]\n",
        "#print => Jacks Technologies \n",
        "#Use String concatenation\n",
        "a[3][0] + \" \" + a[3][1]\n",
        "type(a)"
      ],
      "metadata": {
        "id": "LZwtUlqE_M2d"
      },
      "execution_count": null,
      "outputs": []
    },
    {
      "cell_type": "code",
      "source": [
        "a = {\"Institute_FirstName\":\"Jacks\",\"Institute_SecondName\":\"Technologies\"}\n",
        "#print => Jacks Technologies \n",
        "a[\"Institute_FirstName\"] + \" \" + a[\"Institute_SecondName\"]\n",
        "type(a)\n",
        "a.keys()"
      ],
      "metadata": {
        "id": "fLBi13SL_4N4"
      },
      "execution_count": null,
      "outputs": []
    },
    {
      "cell_type": "code",
      "source": [
        "a = [{\"Institute_FirstName\":\"Jacks\",\"Institute_SecondName\":\"Technologies\"}]\n",
        "#print => Jacks Technologies\n",
        "type(a[0])\n",
        "a[0][\"Institute_FirstName\"] + \" \" + a[0][\"Institute_SecondName\"]"
      ],
      "metadata": {
        "id": "C3mltV05ACCY"
      },
      "execution_count": null,
      "outputs": []
    },
    {
      "cell_type": "code",
      "source": [
        "a = ({\"Naga\":32,\"Marks\":[50,50,65,75]},[\"a\",\"b\",\"c\",4134],(\"Naga\"),{\"Name\":(\"Naga\",\"Arjun\")})\n",
        "#Name of Candidate is Naga and his marks in 3rd subject is 65\n",
        "#Registered number is : 4134\n",
        "#Full name is NagaArjun\n",
        "#a[0][\"Marks\"][2]\n",
        "x = a[3][\"Name\"][0]\n",
        "y = a[0][\"Marks\"][2]\n",
        "print(\"Name of the Candidate is {0} and his marks in 3rd subject is {1}\".format(x,y))\n",
        "print(\"Registered number is {b:}\".format(b=a[1][3]))"
      ],
      "metadata": {
        "id": "BzcmjSTUBbmX"
      },
      "execution_count": null,
      "outputs": []
    },
    {
      "cell_type": "code",
      "source": [
        "a = \"Naga\"\n",
        "b = \"Arjuna\"\n",
        "print(\"Name of the Candidate : {0} {1}\".format(a,b))"
      ],
      "metadata": {
        "id": "f67mx2t3D_V-"
      },
      "execution_count": null,
      "outputs": []
    },
    {
      "cell_type": "code",
      "source": [
        "a = [\\\n",
        "[1,2,3],\\\n",
        "{\"Fav_Animals\":[\"Tiger\",\"Cow\",\"Lion\",\"Elephant\"]},\\\n",
        "{\"Fav_Birds\":(\"Pigeon\",\"Peacock\",\"Eagle\",\"Sparrow\",\"Kingfisher\")},\\\n",
        "{\"Fav_Shows\":[{\"Prime\":(\"Movie_1\",\"Movie_2\")},{\"Netflix\":[\"Money_Heist\",\"Show2\"]}]}\n",
        "]\n",
        "#Counter  shall increment as 1,2,3\n",
        "#My Fav Show in Prime is Movie_2\n",
        "#My Fav Show in Netflix is Money_Heist\n",
        "#One of my Fav Animals is Lion\n",
        "#One of my Fav Birds is KingFisher\n",
        "print(\"Counter shall increment as {}, {}, {}\".format(a[0][0],a[0][1],a[0][2]))"
      ],
      "metadata": {
        "id": "AY4hZdUTGa7c"
      },
      "execution_count": null,
      "outputs": []
    },
    {
      "cell_type": "code",
      "source": [
        ""
      ],
      "metadata": {
        "id": "ohd1GA5sHCf7"
      },
      "execution_count": null,
      "outputs": []
    },
    {
      "cell_type": "markdown",
      "source": [
        "#Python : This is session 7\n",
        "1. Sets: Some more functions\n",
        "2. String : Some more functions\n",
        "3. Conditional operators"
      ],
      "metadata": {
        "id": "tUAMczqAoVVC"
      }
    },
    {
      "cell_type": "code",
      "source": [
        "a = {1,2,3,4,5,6,\"Naga\",1,2,3,4}"
      ],
      "metadata": {
        "id": "98pArmjyocHN"
      },
      "execution_count": null,
      "outputs": []
    },
    {
      "cell_type": "code",
      "source": [
        "a"
      ],
      "metadata": {
        "id": "6XiFFQ1CF0MG"
      },
      "execution_count": null,
      "outputs": []
    },
    {
      "cell_type": "code",
      "source": [
        "a.add(7)"
      ],
      "metadata": {
        "id": "9hblT2YxF1Ah"
      },
      "execution_count": null,
      "outputs": []
    },
    {
      "cell_type": "code",
      "source": [
        "a"
      ],
      "metadata": {
        "id": "QrX64lXqF7Is"
      },
      "execution_count": null,
      "outputs": []
    },
    {
      "cell_type": "code",
      "source": [
        "a.clear()\n",
        "a"
      ],
      "metadata": {
        "id": "tHvmV70YF7jQ"
      },
      "execution_count": null,
      "outputs": []
    },
    {
      "cell_type": "code",
      "source": [
        "a.update({1,2,3})"
      ],
      "metadata": {
        "id": "C98AXr62GEEs"
      },
      "execution_count": null,
      "outputs": []
    },
    {
      "cell_type": "code",
      "source": [
        "a"
      ],
      "metadata": {
        "id": "3LK8s-SSGMHF"
      },
      "execution_count": null,
      "outputs": []
    },
    {
      "cell_type": "code",
      "source": [
        "b = {3,4,5}\n",
        "a.intersection(b)"
      ],
      "metadata": {
        "id": "1ZMeO8CHGMjB"
      },
      "execution_count": null,
      "outputs": []
    },
    {
      "cell_type": "code",
      "source": [
        "a.union(b)"
      ],
      "metadata": {
        "id": "V4PnqvVvGqev"
      },
      "execution_count": null,
      "outputs": []
    },
    {
      "cell_type": "code",
      "source": [
        "a.pop()"
      ],
      "metadata": {
        "id": "AqVXoecPG1g8"
      },
      "execution_count": null,
      "outputs": []
    },
    {
      "cell_type": "code",
      "source": [
        "a.pop()"
      ],
      "metadata": {
        "id": "UBFbw-8pG7TJ"
      },
      "execution_count": null,
      "outputs": []
    },
    {
      "cell_type": "code",
      "source": [
        "a"
      ],
      "metadata": {
        "id": "zqF2-ZS6G82H"
      },
      "execution_count": null,
      "outputs": []
    },
    {
      "cell_type": "code",
      "source": [
        "a = [1,2,3]\n",
        "a.pop()"
      ],
      "metadata": {
        "id": "O37QoG7uG_Nn"
      },
      "execution_count": null,
      "outputs": []
    },
    {
      "cell_type": "code",
      "source": [
        "b = {1,2,3}\n",
        "b.pop()"
      ],
      "metadata": {
        "id": "KZAeHhVOHBxA"
      },
      "execution_count": null,
      "outputs": []
    },
    {
      "cell_type": "code",
      "source": [
        "a.pop()"
      ],
      "metadata": {
        "id": "2OcyTX-tHDwR"
      },
      "execution_count": null,
      "outputs": []
    },
    {
      "cell_type": "code",
      "source": [
        "b"
      ],
      "metadata": {
        "id": "2uL4qkQ1HHu8"
      },
      "execution_count": null,
      "outputs": []
    },
    {
      "cell_type": "code",
      "source": [
        "b.pop()"
      ],
      "metadata": {
        "id": "iaoY9dCWHIcR"
      },
      "execution_count": null,
      "outputs": []
    },
    {
      "cell_type": "code",
      "source": [
        "b"
      ],
      "metadata": {
        "id": "xTauYICzHQ0L"
      },
      "execution_count": null,
      "outputs": []
    },
    {
      "cell_type": "code",
      "source": [
        "x = {1,2,3}"
      ],
      "metadata": {
        "id": "kAl5wUEkHc_P"
      },
      "execution_count": null,
      "outputs": []
    },
    {
      "cell_type": "code",
      "source": [
        "y = {1,2,3}\n",
        "y.issubset(x)"
      ],
      "metadata": {
        "id": "jfT3vHoyHgKN"
      },
      "execution_count": null,
      "outputs": []
    },
    {
      "cell_type": "code",
      "source": [
        "a = \"naga is a tutor. he is also a student\"\n",
        "b = a.capitalize()\n",
        "a"
      ],
      "metadata": {
        "id": "9JJYYMHJHqZW"
      },
      "execution_count": null,
      "outputs": []
    },
    {
      "cell_type": "code",
      "source": [
        "a.count(\"tutor\")\n",
        "a.count(\"is\")"
      ],
      "metadata": {
        "id": "xK7kP-TXI00I"
      },
      "execution_count": null,
      "outputs": []
    },
    {
      "cell_type": "code",
      "source": [
        "a.find(\"is\",6)"
      ],
      "metadata": {
        "id": "JFyMkfUHJLXh"
      },
      "execution_count": null,
      "outputs": []
    },
    {
      "cell_type": "code",
      "source": [
        "a.islower()"
      ],
      "metadata": {
        "id": "swxqZIYPJgLB"
      },
      "execution_count": null,
      "outputs": []
    },
    {
      "cell_type": "code",
      "source": [
        "a"
      ],
      "metadata": {
        "id": "9jmqeovoJ4qY"
      },
      "execution_count": null,
      "outputs": []
    },
    {
      "cell_type": "code",
      "source": [
        "a.join()"
      ],
      "metadata": {
        "id": "CwL2ndyFKI6A"
      },
      "execution_count": null,
      "outputs": []
    },
    {
      "cell_type": "code",
      "source": [
        "a"
      ],
      "metadata": {
        "id": "weGqkPAxKOVY"
      },
      "execution_count": null,
      "outputs": []
    },
    {
      "cell_type": "code",
      "source": [
        "'.'.join([\"192\",\"168\",\"50\",\"100\"])"
      ],
      "metadata": {
        "id": "uIEA1k1wKO_E"
      },
      "execution_count": null,
      "outputs": []
    },
    {
      "cell_type": "code",
      "source": [
        "a = \"abcd\"\n",
        "','.join(a)"
      ],
      "metadata": {
        "id": "27ND_DoOK3B3"
      },
      "execution_count": null,
      "outputs": []
    },
    {
      "cell_type": "code",
      "source": [
        "x = \"Naga is a student ?\"\n",
        "x.endswith(\"?\")"
      ],
      "metadata": {
        "id": "f09HMN4ULHbq"
      },
      "execution_count": null,
      "outputs": []
    },
    {
      "cell_type": "markdown",
      "source": [
        "#Conditional Operators\n",
        "#==\n",
        "#>=\n",
        "#<=\n",
        "#>\n",
        "#<\n",
        "#!="
      ],
      "metadata": {
        "id": "SweIkKzlM0UG"
      }
    },
    {
      "cell_type": "code",
      "source": [
        "a = 8\n",
        "b = 8\n",
        "if(a>b):#True/False\n",
        "  #do something in case of condition True\n",
        "  print(\"a is greater\")\n",
        "  print(\"go to else in case a isnot greater.\")\n",
        "elif(b>a):\n",
        "  #do something else in case of condition False\n",
        "  print(\"b is greater\")\n",
        "else:\n",
        "  print(\"a and b are equal\")\n",
        "#print(\"a is greater\")"
      ],
      "metadata": {
        "id": "cAA35a9oLVvS"
      },
      "execution_count": null,
      "outputs": []
    },
    {
      "cell_type": "markdown",
      "source": [
        "#Write a program to determine if a given data is a number"
      ],
      "metadata": {
        "id": "EyDdU7S0PFHj"
      }
    },
    {
      "cell_type": "code",
      "source": [
        "a = \"123\"\n",
        "type(a)"
      ],
      "metadata": {
        "id": "UJZtM6t4MUvH"
      },
      "execution_count": null,
      "outputs": []
    },
    {
      "cell_type": "code",
      "source": [
        "if(type(a) == int):\n",
        "  print(\"Given a is an integer\")\n",
        "else:\n",
        "  print(\"Given a is not an integer\")"
      ],
      "metadata": {
        "id": "0fERhp--MV35"
      },
      "execution_count": null,
      "outputs": []
    },
    {
      "cell_type": "markdown",
      "source": [
        "#Write a program to determine if string is lower or upper"
      ],
      "metadata": {
        "id": "SJMGL7hNQJwd"
      }
    },
    {
      "cell_type": "code",
      "source": [
        "a = \"Naga1234\"\n",
        "if(a.islower()):\n",
        "  print(\"a is in lower case\")\n",
        "else:\n",
        "  print(\"No. a is not in lower case\")"
      ],
      "metadata": {
        "id": "68OkwxmQPbF5"
      },
      "execution_count": null,
      "outputs": []
    },
    {
      "cell_type": "markdown",
      "source": [
        "#Write a program to determine if a given string is alphanum"
      ],
      "metadata": {
        "id": "pV-FplW0Qk8a"
      }
    },
    {
      "cell_type": "code",
      "source": [
        "if(a.isalnum()):\n",
        "  print(\"Yes a is alphanumeric\")\n",
        "else:\n",
        "\n",
        "  print(\"No. as is not alphanumeric\")"
      ],
      "metadata": {
        "id": "eUlhJGtJQbYq"
      },
      "execution_count": null,
      "outputs": []
    },
    {
      "cell_type": "code",
      "source": [
        "#Determine if a given list is empty ot not empty\n",
        "a = [1,2,3,4]\n",
        "if(len(a) == 0):\n",
        "  print(\"given list a is empty\")\n",
        "else:\n",
        "  print(\"No. GIven list a has elements in it\")"
      ],
      "metadata": {
        "id": "50vsuSyfQzGa"
      },
      "execution_count": null,
      "outputs": []
    },
    {
      "cell_type": "code",
      "source": [
        "a = (1,2,3,[4,5,6])\n",
        "#if a contains a list in it\n",
        "if(type(a[3] is list)):\n",
        "  print(\"Yes. a contains list\")\n",
        "else:\n",
        "  print(\"a donot contain lsit\")"
      ],
      "metadata": {
        "id": "apOaKoaWRPHX"
      },
      "execution_count": null,
      "outputs": []
    },
    {
      "cell_type": "code",
      "source": [
        ""
      ],
      "metadata": {
        "id": "Y_9fqMsuS40J"
      },
      "execution_count": null,
      "outputs": []
    },
    {
      "cell_type": "markdown",
      "source": [
        "#19th April 2022\n",
        "#Conditional statements and some more programs"
      ],
      "metadata": {
        "id": "sGyzFMYS-7AA"
      }
    },
    {
      "cell_type": "code",
      "source": [
        "#Comments and indendation\n",
        "#This is a sample Program for conditional statements \n",
        "#Below logic is for calculation of Compound interest or a Loan Interest based on the Principle amount and tenure\n",
        "#1. Input from User : Principle and tenure\n",
        "#2. Storing the inputs from UI to variables and Submitting them in the formulae\n",
        "#3. Calculate the logic as per formulae\n",
        "#4. Print the interest component : User UI\n",
        "\n",
        "#Indendation: Plays an important role in Python for it to interpret the logic correctly. \n",
        "#def Sum_Two_numbers():\n",
        "#    a = 1\n",
        "#    b = 2\n",
        "#    c = a+b\n",
        "#    print(c) "
      ],
      "metadata": {
        "id": "CNWnKLgGEunl"
      },
      "execution_count": null,
      "outputs": []
    },
    {
      "cell_type": "code",
      "source": [
        "#input()\n",
        "#Take input from User and determine if its a non zero value.\n",
        "a = input(\"Enter a number to determine is it is a non zero value:\")\n",
        "type(a)\n",
        "if(int(a) != 0):\n",
        "  print(\"Entered number {}  is a non zero value\".format(a))\n",
        "else:\n",
        "  print(\"Entered number {}  is a zero value\".format(a))"
      ],
      "metadata": {
        "id": "1iYGQ67xHOs7"
      },
      "execution_count": null,
      "outputs": []
    },
    {
      "cell_type": "code",
      "source": [
        "#take input form user and do type casting\n",
        "a = input(\"Enter a number\")\n",
        "b = int(a)\n",
        "print(b)"
      ],
      "metadata": {
        "id": "Llj2uq4GNxd8"
      },
      "execution_count": null,
      "outputs": []
    },
    {
      "cell_type": "code",
      "source": [
        "#Determine if the given 3 numbers can be a fit for forming a triangle\n",
        "#a + b >= c\n",
        "#b + c >= a\n",
        "#c + a >= b\n",
        "first_side = int(input(\"Enter the first side: \"))\n",
        "Second_side = int(input(\"Enter the second side: \"))\n",
        "Third_side = int(input(\"Enter the third side: \"))\n",
        "if((first_side <= 0) or (Second_side <= 0) or (Third_side <= 0)):\n",
        "  print(\"Enter proper values.\")\n",
        "else:\n",
        "  if((first_side + Second_side >= Third_side) and (Second_side + Third_side >= first_side) and (first_side + Third_side >= Second_side)):\n",
        "    print(\"Entered data or sides can form a triangle\")\n",
        "  else:\n",
        "    print(\"Entered data or sides cannot form a triangle\")\n",
        "print(\"Please continue running it to check fora different combo\")"
      ],
      "metadata": {
        "id": "7DqjC6bf-9P-"
      },
      "execution_count": null,
      "outputs": []
    },
    {
      "cell_type": "code",
      "source": [
        "#Determine type of Triangle based on the 3 sides given\n",
        "#Equilateral : if all the 3 sides are equal\n",
        "#Isosceles : if any two sides are equal\n",
        "#Scalene : If none of the sides are equal\n",
        "\n",
        "#Steps will determine if the given inputs values can form a triangle or not\n",
        "first_side = int(input(\"Enter the first side: \"))\n",
        "Second_side = int(input(\"Enter the second side: \"))\n",
        "Third_side = int(input(\"Enter the third side: \"))\n",
        "\n",
        "#First validate the inputs data : Check for non zero and check for positive values\n",
        "if((first_side <= 0) or (Second_side <= 0) or (Third_side <= 0)):\n",
        "  print(\"Enter proper values.\")\n",
        "else:\n",
        "  #If the given sides form a triangle or not \n",
        "  if((first_side + Second_side >= Third_side) and (Second_side + Third_side >= first_side) and (first_side + Third_side >= Second_side)):\n",
        "    print(\"Entered data or sides can form a triangle\")\n",
        "    #Steps for determining the type of triangle\n",
        "    if(first_side == Second_side):\n",
        "      if(first_side == Third_side):\n",
        "        print(\"Given sides are an equilateral triangle\")\n",
        "      else:\n",
        "        print(\"Given sidea form an isosceles triangle\")\n",
        "    else:\n",
        "      if(Second_side == Third_side):\n",
        "        print(\"Given sidea form an isosceles triangle\")\n",
        "      else:\n",
        "        print(\"Given sidea form a scalene triangle\")\n",
        "  else:\n",
        "    print(\"Entered data or sides cannot form a triangle\")\n",
        "print(\"Please continue running it to check fora different combo\")"
      ],
      "metadata": {
        "id": "MDTR_zwI_Hgr"
      },
      "execution_count": null,
      "outputs": []
    },
    {
      "cell_type": "code",
      "source": [
        "#Determine if a given number is a even or odd number\n",
        "#even -> number divisible by 2 => reminder when divided by 2 is 0\n",
        "#odd -> number not divisible by 2 => reminder when divided by 2 is 1\n",
        "a = input(\"Enter the number to be determined as even or odd:\")\n",
        "b = int(a)\n",
        "if(b%2 == 0):\n",
        "  print(\"Entered number is even number\")\n",
        "else:\n",
        "  print(\"Entered number is odd number\")"
      ],
      "metadata": {
        "id": "jYtbi_G9_YV-"
      },
      "execution_count": null,
      "outputs": []
    },
    {
      "cell_type": "code",
      "source": [
        "#Palindrome => xyx, aka, rotor, refer, redivider, kayak\n",
        "a = input(\"Enter a string to be determined as a palindrome: \")\n",
        "#print(a)\n",
        "#print(b)\n",
        "if(len(a) > 1):\n",
        "  b = a[::-1]\n",
        "  if(a == b):\n",
        "    print(\"Given string is a Palindrome\")\n",
        "  else:\n",
        "    print(\"Given string is not a Palindrome\")\n",
        "else:\n",
        "  print(\"Enter a valid input\")"
      ],
      "metadata": {
        "id": "OlarqGbU_XXf"
      },
      "execution_count": null,
      "outputs": []
    },
    {
      "cell_type": "code",
      "source": [
        "#Determine the fitness of a person based on BMI\n",
        "#BMI = Weight/Height**2\n",
        "#Underweight = <18.5\n",
        "#Normal weight = 18.5–24.9\n",
        "#Overweight = 25–29.9\n",
        "#Obesity = BMI of 30 or greater\n",
        "Weight = float(input(\"Enter your weight in Kgs: \"))\n",
        "Height = float(input(\"Enter your height in meters: \"))\n",
        "BMI = Weight/Height**2\n",
        "if(BMI < 18.5):\n",
        "  print(\"You are Underweght\")\n",
        "elif(BMI >=18.5 and BMI<=24.9):\n",
        "  print(\"You are Normal Weight\")\n",
        "elif(BMI>24.9 and BMI<=29.9):\n",
        "  print(\"You are Overweight\")\n",
        "else:\n",
        "  print(\"You are obese\")"
      ],
      "metadata": {
        "id": "oIhfZIMIYe8y"
      },
      "execution_count": null,
      "outputs": []
    },
    {
      "cell_type": "code",
      "source": [
        "#Determine the pass fail in exams based on the average percentage entered by the user\n",
        "#Percentage >=85 => Distinction\n",
        "#Percentage >=75 and <85 => A grade\n",
        "#Percentage >=65 and <75 => B grade\n",
        "#Percentage >=55 and <65 => C grade\n",
        "#Percentage >=40 and <55 => D grade\n",
        "#Percenrage < 40 => Fail\n",
        "a = int(input(\"Enter The percentage for determining the pass / fail: \"))\n",
        "if(a >= 85):\n",
        "  print(\"You have passed in Distinction\")\n",
        "elif(a >=75 and a<85):\n",
        "  print(\"You have passed with A grade\")\n",
        "elif(a >=65 and a<75):\n",
        "  print(\"You have passed with B grade\")\n",
        "elif(a >=55 and a<65):\n",
        "  print(\"You have passed with C grade\")\n",
        "elif(a >=40 and a<55):\n",
        "  print(\"You have passed with D grade\")\n",
        "else:\n",
        "  print(\"Sorry.You are Failed.\")"
      ],
      "metadata": {
        "id": "eW6JHizDZphl"
      },
      "execution_count": null,
      "outputs": []
    },
    {
      "cell_type": "markdown",
      "source": [
        "#20 April 2022\n",
        "#Lambda functionality\n",
        "#Some More programs in if else and elif"
      ],
      "metadata": {
        "id": "nQBdrQituZz6"
      }
    },
    {
      "cell_type": "code",
      "source": [
        "#nested if\n",
        "'''\n",
        "if(condition1):\n",
        "   if(condition2):\n",
        "        do something steps\n",
        "   else:\n",
        "        do some other handler steps\n",
        "else:\n",
        "  do nothing steps\n",
        "  if(condition):    \n",
        "'''\n",
        "#write a program to divide two numbers using if else:\n",
        "numr = int(input(\"Enter the numerator\"))\n",
        "deno = int(input(\"Enter the denominator\"))\n",
        "if(deno == 0):\n",
        "  print(\"Please enter a non zero denominator for avoiding run time issues\")\n",
        "else:\n",
        "  print(numr/deno)"
      ],
      "metadata": {
        "id": "8B-JQwXcctnv"
      },
      "execution_count": null,
      "outputs": []
    },
    {
      "cell_type": "code",
      "source": [
        "#Employee : Age retirement yrs left\n",
        "#input : Employee's age\n",
        "#processing: determine the yrs left => 65 - input\n",
        "#output: printing the same on output consolde/pop up\n",
        "Employee_Age = int(input(\"Enter the age to determine your yrs left for retirement\"))\n",
        "if(65-Employee_Age <= 0):\n",
        "  print(\"Sorry. You are already retired.\")\n",
        "else:\n",
        "  print(\"You have still {} years more to go\".format(65 - Employee_Age))"
      ],
      "metadata": {
        "id": "GDHOUfZ_UrgX"
      },
      "execution_count": null,
      "outputs": []
    },
    {
      "cell_type": "code",
      "source": [
        "#first set = {1,2,3}\n",
        "#second set = {2,3}\n",
        "#DEtermine the which is the subset of superset/disjoint sets\n",
        "first_set = set(input(\"Enter your first set: \"))\n",
        "second_set = set(input(\"Enter your second set: \"))\n",
        "if((len(first_set) !=0) and (len(second_set)!=0)):\n",
        "  if(first_set == second_set):\n",
        "    print(\"Both the given sets are equal\")\n",
        "  else:\n",
        "    if(first_set.issubset(second_set)):\n",
        "      print(\"first set is thesubset to second set.\")\n",
        "    elif(second_set.issubset(first_set)):\n",
        "      print(\"second set is thesubset to first set.\")\n",
        "    else:\n",
        "      print(\"Given sets are not subset to any other\")\n",
        "else:\n",
        "  print(\"Please enter non empty Sets\")"
      ],
      "metadata": {
        "id": "8isYX7LRbXEx"
      },
      "execution_count": null,
      "outputs": []
    },
    {
      "cell_type": "code",
      "source": [
        "a = {1,2,3}\n",
        "b = {1,2,3}"
      ],
      "metadata": {
        "id": "r35a4PG6cSdq"
      },
      "execution_count": null,
      "outputs": []
    },
    {
      "cell_type": "code",
      "source": [
        "a = \"Naga\""
      ],
      "metadata": {
        "id": "1Ojdbxg3c_iD"
      },
      "execution_count": null,
      "outputs": []
    },
    {
      "cell_type": "code",
      "source": [
        "a = 1"
      ],
      "metadata": {
        "id": "yLlyBmIsgO85"
      },
      "execution_count": null,
      "outputs": []
    },
    {
      "cell_type": "code",
      "source": [
        "#a = 0\n",
        "##if(a=0):\n",
        "#  print(\"passed\")\n",
        "#if(a==0)"
      ],
      "metadata": {
        "id": "eiEgCoFIgP64"
      },
      "execution_count": null,
      "outputs": []
    },
    {
      "cell_type": "code",
      "source": [
        "#password = alphanumeric\n",
        "password = input(\"Enter your password:\")\n",
        "if(password.isnumeric()):\n",
        "  #print(\"Entered password is not in correct format\")\n",
        "  if(password.isalpha()):\n",
        "    print(\"Entered password is in correct format\")\n",
        "  else:\n",
        "    print(\"Entered password is not in correct format\")  \n",
        "else:\n",
        "  print(\"Entered password is not in correct format\")"
      ],
      "metadata": {
        "id": "vntOkDIOhPwO"
      },
      "execution_count": null,
      "outputs": []
    },
    {
      "cell_type": "code",
      "source": [
        "a = \"Naga\"\n",
        "a.isalnum()"
      ],
      "metadata": {
        "id": "HKSR8D5QjRIM"
      },
      "execution_count": null,
      "outputs": []
    },
    {
      "cell_type": "code",
      "source": [
        "#password \n",
        "#Special characters : @#$&\n",
        "#Alphabets : atleast 1 Capital, atelast 1 small\n",
        "#Atleast 1 number\n",
        "#overall : length 8"
      ],
      "metadata": {
        "id": "4pAKoazdkVM4"
      },
      "execution_count": null,
      "outputs": []
    },
    {
      "cell_type": "code",
      "source": [
        "a = {1,2,3}"
      ],
      "metadata": {
        "id": "RD8UXEIgl2wz"
      },
      "execution_count": null,
      "outputs": []
    },
    {
      "cell_type": "markdown",
      "source": [
        "#21st April 2022"
      ],
      "metadata": {
        "id": "lDuuW8E7YnyQ"
      }
    },
    {
      "cell_type": "code",
      "source": [
        "#password \n",
        "#Special characters : @#$& => Park side\n",
        "#Alphabets : atleast 1 Capital, atelast 1 small\n",
        "#Atleast 1 number\n",
        "#overall : length 8\n",
        "password = input(\"Enter a password: \")\n",
        "if(password.isnumeric()):#if cond 1 => Check for number is present or not in the given password\n",
        "  #Password contains number\n",
        "  if(password.isalpha()):#if cond 2 => Check for password contians alphabets or not\n",
        "    #Password contains alphabets\n",
        "    if(password.isupper()):\n",
        "      #Password contains upper cases : atleast one upper case\n",
        "      if(password.islower()):\n",
        "        #Password contains upper cases : atleast one lower case\n",
        "        print(\"Entered password is in correct format\")\n",
        "      else:\n",
        "        print(\"Entered password is not in correct format due to no lower case\")  \n",
        "    else:\n",
        "      print(\"Entered password is not in correct format due to no upper case\") \n",
        "  else:\n",
        "    print(\"Entered password is not in correct format due to no alphabets\")   \n",
        "else:\n",
        "  print(\"Entered password is not in correct format due to no numbers\")"
      ],
      "metadata": {
        "id": "DZ3WwMEQYqDA"
      },
      "execution_count": null,
      "outputs": []
    },
    {
      "cell_type": "code",
      "source": [
        ""
      ],
      "metadata": {
        "id": "QZ8N4RaNjKP6"
      },
      "execution_count": null,
      "outputs": []
    },
    {
      "cell_type": "markdown",
      "source": [
        "#Looping statement:-"
      ],
      "metadata": {
        "id": "He41jvKVkQ0i"
      }
    },
    {
      "cell_type": "code",
      "source": [
        "#For loop,while loop\n",
        "#3 * 2 => repeated addition\n",
        "#2 *3 => 3 + 3 / 2 + 2 + 2\n",
        "a = 2\n",
        "b = 3\n",
        "mul = 0# a * b\n",
        "for i in range(b):#0,1,2,3,4,5,6,7,8,9\n",
        "  mul = mul + a # a = a + a\n",
        "print(mul)"
      ],
      "metadata": {
        "id": "6VnGyc8JkS4h"
      },
      "execution_count": null,
      "outputs": []
    },
    {
      "cell_type": "code",
      "source": [
        "#For loop,while loop\n",
        "#3 * 2 => repeated addition\n",
        "a = 9\n",
        "b = 3\n",
        "#div = 10 -2 = 8\n",
        "#div = 8 - 2 = 6\n",
        "#div = 6 -2 = 4\n",
        "div = a#a/b\n",
        "counter = 0\n",
        "while(div >= 0):\n",
        "  div = div - b\n",
        "  counter = counter + 1\n",
        "print(counter -1)"
      ],
      "metadata": {
        "id": "WU8u7bxIlYmC"
      },
      "execution_count": null,
      "outputs": []
    },
    {
      "cell_type": "code",
      "source": [
        "a = [1,2,3,4,5]\n",
        "for i in range(len(a)):\n",
        "  print(a[i])"
      ],
      "metadata": {
        "id": "ZMYrYsbJnH70"
      },
      "execution_count": null,
      "outputs": []
    },
    {
      "cell_type": "code",
      "source": [
        "a = [1,2,3,4,5]\n",
        "for i in range(len(a)):\n",
        "  if(i % 2 != 0):\n",
        "    print(a[i])"
      ],
      "metadata": {
        "id": "g2x6PQk4oVTY"
      },
      "execution_count": null,
      "outputs": []
    },
    {
      "cell_type": "code",
      "source": [
        "1 % 2"
      ],
      "metadata": {
        "id": "w276JlP7ok8X"
      },
      "execution_count": null,
      "outputs": []
    },
    {
      "cell_type": "code",
      "source": [
        "a = [1,2,3,4,5]\n",
        "i = 0\n",
        "while i != len(a):\n",
        "  print(a[i])\n",
        "  i+= 1\n",
        "#while and if goes in similar manner in terms of condition  "
      ],
      "metadata": {
        "id": "BEIoAytAoo_K"
      },
      "execution_count": null,
      "outputs": []
    },
    {
      "cell_type": "code",
      "source": [
        "a=(1,2,3,4,5,6)\n",
        "for i in range(len(a)):\n",
        "  print(a[i])"
      ],
      "metadata": {
        "id": "nW7GKPV9pYPj"
      },
      "execution_count": null,
      "outputs": []
    },
    {
      "cell_type": "code",
      "source": [
        "a=(1,2,3,4,5,6)\n",
        "for i in range(len(a)):\n",
        "  if(i %2 != 0): \n",
        "   print(a[i])"
      ],
      "metadata": {
        "id": "UsYq5OTWrpBq"
      },
      "execution_count": null,
      "outputs": []
    },
    {
      "cell_type": "code",
      "source": [
        "given_str = \"motor\"\n",
        "str_search = \"o\"\n",
        "#for i in range(len(given_str)):\n",
        "count = 0\n",
        "for i in given_str:\n",
        "  if(i == str_search):\n",
        "    count+= 1\n",
        "print(count)"
      ],
      "metadata": {
        "id": "zqGy8jkosbfD"
      },
      "execution_count": null,
      "outputs": []
    },
    {
      "cell_type": "code",
      "source": [
        "#Sum of first n numbers\n",
        "n = int(input(\"Enter a number: \"))\n",
        "j = 0\n",
        "for i in range(1,n+1):\n",
        "    j = j+i\n",
        "print(j)\n",
        "\n",
        "#while( i < )\\"
      ],
      "metadata": {
        "id": "7_VBPOPys9KL"
      },
      "execution_count": null,
      "outputs": []
    },
    {
      "cell_type": "markdown",
      "source": [
        "n\n",
        "n*(n-1)*(n-1)*(n-2)*.......n = 1\n",
        "5 = 5*4*3*2*1\n"
      ],
      "metadata": {
        "id": "Vw7ofzgxyR6_"
      }
    },
    {
      "cell_type": "code",
      "source": [
        "#Factorial\n",
        "n = int(input(\"Enter a number: \"))\n",
        "j = 1\n",
        "for i in range(1,n+1):\n",
        "    j = j*i\n",
        "print(j)"
      ],
      "metadata": {
        "id": "7AyQp-d9xOeF"
      },
      "execution_count": null,
      "outputs": []
    },
    {
      "cell_type": "code",
      "source": [
        "#22nd April 2022"
      ],
      "metadata": {
        "id": "KylKqZA_xifp"
      },
      "execution_count": null,
      "outputs": []
    },
    {
      "cell_type": "code",
      "source": [
        "i = 1\n",
        "while i < 6:\n",
        "  print(i)\n",
        "  i += 1\n",
        "else:\n",
        "  print(\"Count down stopped\")\n",
        "print(\"Count down is finished\")"
      ],
      "metadata": {
        "id": "6cYlkZAyk2G5"
      },
      "execution_count": null,
      "outputs": []
    },
    {
      "cell_type": "code",
      "source": [
        "i = 1\n",
        "while i < 6:\n",
        "  print(i)\n",
        "  if (i == 3):\n",
        "    break\n",
        "  i += 1"
      ],
      "metadata": {
        "id": "5jnKmaEqk3jC"
      },
      "execution_count": null,
      "outputs": []
    },
    {
      "cell_type": "code",
      "source": [
        "i = 0\n",
        "while i < 11:\n",
        "  i += 1\n",
        "  if i%2 == 0:#i == 3:\n",
        "    #print(i)\n",
        "    continue\n",
        "  print(i)\n",
        "\n",
        "# Note that number 3 is missing in the result"
      ],
      "metadata": {
        "id": "tc3UFn95k6I9"
      },
      "execution_count": null,
      "outputs": []
    },
    {
      "cell_type": "code",
      "source": [
        "password = \"12345678\"\n",
        "counter = 0\n",
        "\n",
        "while True:\n",
        "    word = input(\"Enter the secret word: \").lower()\n",
        "    counter = counter + 1\n",
        "    if word == password:\n",
        "        print(\"You have logged in successfully\")\n",
        "        break\n",
        "    if word != password and counter > 7: \n",
        "        print(\"Sorry you have exceeded\")\n",
        "        break"
      ],
      "metadata": {
        "id": "Amsa1QQ3lUnX"
      },
      "execution_count": null,
      "outputs": []
    },
    {
      "cell_type": "code",
      "source": [
        "#fact(n) = n*n-1*n-2*n-3*n-4 .... n=1\n",
        "#fact(4) = 4*3*2*1 = \n",
        "num = int(input(\"Enter the number for which you need to calcualte factorial: \"))\n",
        "fact = 1\n",
        "for i in range(1,num+1):\n",
        "  fact = fact * i\n",
        "print(fact)"
      ],
      "metadata": {
        "id": "44BNo9c3oEHG"
      },
      "execution_count": null,
      "outputs": []
    },
    {
      "cell_type": "code",
      "source": [
        "str_search = \"Welcome                                 to      Jacks        technologies!!!\"\n",
        "output_str = \"\"\n",
        "for i in range(len(str_search)):\n",
        "  if(str_search[i] == \" \" and str_search[i+1] == \" \"):\n",
        "    #i+= 1\n",
        "    pass\n",
        "  else:\n",
        "    output_str = output_str + str_search[i]\n",
        "print(output_str)"
      ],
      "metadata": {
        "id": "4XJsbrEjpwGS"
      },
      "execution_count": null,
      "outputs": []
    },
    {
      "cell_type": "code",
      "source": [
        "str_search = \"banana apple strawberry blueberry pineapple\"\n",
        "#\" \" => \",\"\n",
        "output_str = \"\"\n",
        "for i in range(len(str_search)):\n",
        "  if(str_search[i] == \" \"):# and str_search[i+1] == \" \"):\n",
        "     output_str = output_str + \",\"\n",
        "  else:\n",
        "    output_str = output_str + str_search[i]\n",
        "print(output_str)"
      ],
      "metadata": {
        "id": "2Lwx6Af9t_L9"
      },
      "execution_count": null,
      "outputs": []
    },
    {
      "cell_type": "code",
      "source": [
        "#prime number\n",
        "#4 : 1,2,4 . composite\n",
        "#3 :1 and number itself  1 and 3 ; prime\n",
        "#6 : 1,2,3,6 => conposite\n",
        "#7,11,13,17,19 .... => prime\n",
        "num = int(input(\"Enter a number: \"))\n",
        "for i in range(2,num+1):\n",
        "  if((num % i) == 0):\n",
        "    break\n",
        "if(i == num):\n",
        "  print(\"Given number is a prime number\")\n",
        "else:\n",
        "  print(\"Given number is not a prime number\")"
      ],
      "metadata": {
        "id": "0Crk2sdkuk56"
      },
      "execution_count": null,
      "outputs": []
    },
    {
      "cell_type": "code",
      "source": [
        "num = int(input(\"Enter a number: \"))\n",
        "i = 1\n",
        "while(i < num):\n",
        "  i+= 1\n",
        "  if((num % i) == 0):\n",
        "    break\n",
        "\n",
        "if(i == num):\n",
        "  print(\"Given number is a prime number\")\n",
        "else:\n",
        "  print(\"Given number is not a prime number\")"
      ],
      "metadata": {
        "id": "JXGGkWQG3W2A"
      },
      "execution_count": null,
      "outputs": []
    },
    {
      "cell_type": "code",
      "source": [
        ""
      ],
      "metadata": {
        "id": "iTbA6vh04mJ4"
      },
      "execution_count": null,
      "outputs": []
    },
    {
      "cell_type": "markdown",
      "source": [
        "#23rd April 2022\n",
        "Pass statement\n",
        "List and Dict comprehension\n",
        "Ternary operators\n",
        "Python is case sensitive\n",
        "Some references to Python\n",
        "Exercises.ipynb"
      ],
      "metadata": {
        "id": "BQkYbDvxSW9Z"
      }
    },
    {
      "cell_type": "markdown",
      "source": [
        ""
      ],
      "metadata": {
        "id": "b1RYE1HaSZAt"
      }
    },
    {
      "cell_type": "code",
      "source": [
        "#pass statement\n",
        "# Its like do nothing\n",
        "# > 85 Distinction\n",
        "# > 45 Passed\n",
        "#  < 45 Failed\n",
        "a = 46\n",
        "A = 90\n",
        "if(a > 85):\n",
        "  print(\"Pass in distinction\")\n",
        "elif(a > 45):\n",
        "  print(\"Passed\")\n",
        "  #pass\n",
        "elif(a < 45):\n",
        "  print(\"Failed\")\n",
        "else:\n",
        "  #do nothing\n",
        "  pass"
      ],
      "metadata": {
        "id": "RObBvMEeK14E"
      },
      "execution_count": null,
      "outputs": []
    },
    {
      "cell_type": "code",
      "source": [
        "#List Comprehension\n",
        "fruits = [\"apple\",\"mango\",\"kiwi\",\"cherry\"]\n",
        "newlist = []\n",
        "#newlist = [x for x in fruits if 'a' in x]\n",
        "newlist = [x for x in fruits if \"a\" in x]\n",
        "    #newlist.append(x)\n",
        "newlist"
      ],
      "metadata": {
        "id": "IFuMFeobL3VI"
      },
      "execution_count": null,
      "outputs": []
    },
    {
      "cell_type": "code",
      "source": [
        "a = [1,2,3,4,\"naga\",2.5]\n",
        "#Mutable : changed/editable\n",
        "a.append(2.8)\n",
        "a.pop()\n",
        "a\n",
        "for x in a:\n",
        "  print(x)"
      ],
      "metadata": {
        "id": "oRB6aT5iODta"
      },
      "execution_count": null,
      "outputs": []
    },
    {
      "cell_type": "code",
      "source": [
        "a = {\"Naga\":32,\"Arjun\":28}\n",
        "a[\"Naga\"]"
      ],
      "metadata": {
        "id": "zkIQDiR8OuQZ"
      },
      "execution_count": null,
      "outputs": []
    },
    {
      "cell_type": "code",
      "source": [
        "newlist = [x for x in fruits if(\"a\" in x)]"
      ],
      "metadata": {
        "id": "fZ8OTOi6NXSc"
      },
      "execution_count": null,
      "outputs": []
    },
    {
      "cell_type": "code",
      "source": [
        "for i in fruits:\n",
        "  if(\"a\" in i):\n",
        "    newlist.append(i)"
      ],
      "metadata": {
        "id": "WtnTFZnONhnJ"
      },
      "execution_count": null,
      "outputs": []
    },
    {
      "cell_type": "code",
      "source": [
        "newlist"
      ],
      "metadata": {
        "id": "PDAWkSXeN4N6"
      },
      "execution_count": null,
      "outputs": []
    },
    {
      "cell_type": "code",
      "source": [
        "user_input = input(\"Enter your favourite Cuisine:\")\n",
        "menu = [\"Soup\",\"Salad\",\"Italian\",\"Meditterienan\",\"Japanese\",\"Asian\"]\n",
        "menu_detailed = {\"Soup\":[\"Tomato\",\"Corn\",\"Manchow\"],\"Salad\":[\"Green\",\"Vegetable\"],\"Italian\":[\"Pasta\"],\"Meditterienan\":[\"Pork\"],\"Japanese\":[\"Sushi\"],\"Asian\":[\"Spicy\"]}\n",
        "Order = []\n",
        "Specific_Order = {}\n",
        "#for x in menu:\n",
        "#  if(x == user_input):\n",
        "#    Order.append(x)\n",
        "#Order\n",
        "#for x in menu_detailed:\n",
        "#  if x == user_input:\n",
        "#    Specific_Order.update({x:menu_detailed[x]})\n",
        "Order = [x for x in menu if(x == user_input)]\n",
        "Specific_Order = {x:menu_detailed[x] for x in menu_detailed if x==user_input}\n",
        "print(Specific_Order)\n",
        "print(Order)"
      ],
      "metadata": {
        "id": "Cg_Wvc-LN5_6"
      },
      "execution_count": null,
      "outputs": []
    },
    {
      "cell_type": "code",
      "source": [
        "newlist"
      ],
      "metadata": {
        "id": "l-WmQhTgOame"
      },
      "execution_count": null,
      "outputs": []
    },
    {
      "cell_type": "code",
      "source": [
        "#print a new list with all numbers < 5 using list comprehension within given lsit having <10 numbers\n",
        "new_list = [x for x in range(1,10) if(x % 2 == 0)]"
      ],
      "metadata": {
        "id": "mqDrzgpFOyB_"
      },
      "execution_count": null,
      "outputs": []
    },
    {
      "cell_type": "code",
      "source": [
        "new_list"
      ],
      "metadata": {
        "id": "Ai2_zLKmQ85y"
      },
      "execution_count": null,
      "outputs": []
    },
    {
      "cell_type": "code",
      "source": [
        "new_dict = {x:x**0.5 for x in range(1,10)}"
      ],
      "metadata": {
        "id": "Aky6gB7-Q-Sr"
      },
      "execution_count": null,
      "outputs": []
    },
    {
      "cell_type": "code",
      "source": [
        "new_dict"
      ],
      "metadata": {
        "id": "ELjZBN8JR5aP"
      },
      "execution_count": null,
      "outputs": []
    },
    {
      "cell_type": "code",
      "source": [
        "a = [\"Naga\",\"Jack\",\"David\"]\n",
        "b = [\"Apple\",\"Mango\",\"Banana\"]\n",
        "#c = [x,y ]"
      ],
      "metadata": {
        "id": "jV_evswJSBSH"
      },
      "execution_count": null,
      "outputs": []
    },
    {
      "cell_type": "code",
      "source": [
        "sample_dict = {\"Naga\":32,\"Jack\":28,\"David\":65}\n",
        "#for x in sample_dict:\n",
        " # print(sample_dict[x])\n",
        "new_list = [x for x in sample_dict if sample_dict[x] < 65]\n",
        "new_list"
      ],
      "metadata": {
        "id": "MmvVHPNKSXSv"
      },
      "execution_count": null,
      "outputs": []
    },
    {
      "cell_type": "code",
      "source": [
        "#case seneitive and Case In-sensitive\n",
        "#Case sensitive : \n",
        "new_list = [1,2,3]\n",
        "New_list = [3,4,5]\n",
        "print(new_list)\n",
        "print(New_list)\n",
        "#Case Insensitive : "
      ],
      "metadata": {
        "id": "xz2pj5ODUCc5"
      },
      "execution_count": null,
      "outputs": []
    },
    {
      "cell_type": "code",
      "source": [
        "#python References : https://docs.python.org/3/tutorial/index.html"
      ],
      "metadata": {
        "id": "s9Y2TjstVESL"
      },
      "execution_count": null,
      "outputs": []
    },
    {
      "cell_type": "markdown",
      "source": [
        "26th April 2022"
      ],
      "metadata": {
        "id": "LCKkCDKAhL4J"
      }
    },
    {
      "cell_type": "code",
      "source": [
        "#Derive  a dictoinary : {num:num**2}\n",
        "#dict_new = {1:1,2:4,3:9} until num = int(input(\"Enter a number: \"))\n",
        "dict_new = {}\n",
        "user_input = int(input(\"Enter a number:\"))\n",
        "#for x in range(user_input):\n",
        "  #dict_new.update({x:x**2})\n",
        "dict_new = {x:x**2 for x in range(user_input)}\n",
        "dict_new"
      ],
      "metadata": {
        "id": "9wZozHG9WQ3W"
      },
      "execution_count": null,
      "outputs": []
    },
    {
      "cell_type": "code",
      "source": [
        "database = {\"Naga\":32,\"Jack\":28,\"John\":21,\"Mavis\":20,\"Gru\":65,\"Udo\":64}#Name:Age\n",
        "retire_Dict = {}#Only consists of only members whose age is > 60\n",
        "#retire_Dict = {\"Gru\":65,\"Udo\":64}\n",
        "retire_Dict = {x:database[x] for x in database if database[x]>60}\n",
        "retire_Dict"
      ],
      "metadata": {
        "id": "DnTmsbQ1USpe"
      },
      "execution_count": null,
      "outputs": []
    },
    {
      "cell_type": "code",
      "source": [
        "a = 3\n",
        "b = 2\n",
        "if (a<b):\n",
        "  min = a\n",
        "else:\n",
        "  min = b\n",
        "min = a if a < b else b\n",
        "min"
      ],
      "metadata": {
        "id": "gfUM6ynkWRBy"
      },
      "execution_count": null,
      "outputs": []
    },
    {
      "cell_type": "code",
      "source": [
        "a,b = 10,20"
      ],
      "metadata": {
        "id": "VN5K3OhaX7Qb"
      },
      "execution_count": null,
      "outputs": []
    },
    {
      "cell_type": "code",
      "source": [
        "a"
      ],
      "metadata": {
        "id": "Y3tYEbXTYWqB"
      },
      "execution_count": null,
      "outputs": []
    },
    {
      "cell_type": "code",
      "source": [
        "b"
      ],
      "metadata": {
        "id": "HEXEIWneYYIZ"
      },
      "execution_count": null,
      "outputs": []
    },
    {
      "cell_type": "code",
      "source": [
        "a = 5\n",
        "b = 7\n",
        "print(\"a is greater\") if a >b else print(\"b is greater\")"
      ],
      "metadata": {
        "id": "kjF2Ig9vYYf9"
      },
      "execution_count": null,
      "outputs": []
    },
    {
      "cell_type": "code",
      "source": [
        "a = 1\n",
        "b = 2\n",
        "c = 3\n",
        "print(\"a is grater\") if a>b  else(\"b is greater\") if  b>c  else(\"c is grater\")"
      ],
      "metadata": {
        "id": "CIXqJpyZYtBN"
      },
      "execution_count": null,
      "outputs": []
    },
    {
      "cell_type": "code",
      "source": [
        "a = \"Naga\"#4\n",
        "print(\"a is a string\") if (type(a) is str) else print(\"a is a num\") if (type(a) is int) else print(\"a is neither int nor string\")"
      ],
      "metadata": {
        "id": "PIXGAtMQZv7l"
      },
      "execution_count": null,
      "outputs": []
    },
    {
      "cell_type": "code",
      "source": [
        "#Functions and methods"
      ],
      "metadata": {
        "id": "r-7yyIrXbisH"
      },
      "execution_count": null,
      "outputs": []
    },
    {
      "cell_type": "code",
      "source": [
        "#Functions : user defined data types, user defined logic which can be enclosed only once and called any number of times."
      ],
      "metadata": {
        "id": "7dKF-qXlb8Hn"
      },
      "execution_count": null,
      "outputs": []
    },
    {
      "cell_type": "code",
      "source": [
        "def great_2_num(a = 0,b = 0):\n",
        "  if(a > b):\n",
        "    print(\"a is greater\")\n",
        "  else:\n",
        "    print(\"b is greater\")\n",
        "  return 0"
      ],
      "metadata": {
        "id": "0W1nhGGMcUw1"
      },
      "execution_count": null,
      "outputs": []
    },
    {
      "cell_type": "code",
      "source": [
        "great_2_num(2,3)"
      ],
      "metadata": {
        "id": "YWmGQg4ecod-"
      },
      "execution_count": null,
      "outputs": []
    },
    {
      "cell_type": "code",
      "source": [
        "great_2_num(3,2)"
      ],
      "metadata": {
        "id": "I2_RjO6cc0Kc"
      },
      "execution_count": null,
      "outputs": []
    },
    {
      "cell_type": "code",
      "source": [
        "great_2_num(2)"
      ],
      "metadata": {
        "id": "lt85Uj3Vc2Pl"
      },
      "execution_count": null,
      "outputs": []
    },
    {
      "cell_type": "code",
      "source": [
        "#writea function for doing a sum of two numbers,User shall pass dynamically arguments while calling it\n",
        "#return the output value and print it on console\n",
        "def sum(a = 0, b = 0):\n",
        "  return a + b\n",
        "sum(2,3)"
      ],
      "metadata": {
        "id": "4pIbTbI1dBWx"
      },
      "execution_count": null,
      "outputs": []
    },
    {
      "cell_type": "code",
      "source": [
        "#writea function for doing any arithmetic opn of two numbers, User shall pass dynamically arguments including arith opn while calling it\n",
        "#return the output value and print it on console\n",
        "def arith(a = 0, b = 0, oper = \"do nothing\"):#oper = sum, diff, mul, div, moddiv\n",
        "  if (oper == \"sum\"):\n",
        "    return a+b\n",
        "  elif (oper == \"diff\"):\n",
        "    return a-b\n",
        "  elif (oper == \"mul\"):\n",
        "    return a*b\n",
        "  elif (oper == \"div\"):\n",
        "    return a/b\n",
        "  elif (oper == \"moddiv\"):\n",
        "    return a%b\n",
        "  else:\n",
        "    return 0"
      ],
      "metadata": {
        "id": "sanDcvE1eFwm"
      },
      "execution_count": null,
      "outputs": []
    },
    {
      "cell_type": "code",
      "source": [
        "arith(2,3,\"sum\")"
      ],
      "metadata": {
        "id": "pc80pfVIeUau"
      },
      "execution_count": null,
      "outputs": []
    },
    {
      "cell_type": "code",
      "source": [
        "#27th April 2022"
      ],
      "metadata": {
        "id": "1aXwgi7vf2Zd"
      },
      "execution_count": null,
      "outputs": []
    },
    {
      "cell_type": "code",
      "source": [
        "def Sum(a,b):\n",
        "  return a+b\n",
        "c = Sum(2,3)"
      ],
      "metadata": {
        "id": "iw8dkDBbhP1R"
      },
      "execution_count": null,
      "outputs": []
    },
    {
      "cell_type": "code",
      "source": [
        "c"
      ],
      "metadata": {
        "id": "0NjvueglVJ1N"
      },
      "execution_count": null,
      "outputs": []
    },
    {
      "cell_type": "code",
      "source": [
        "def div(num,den):\n",
        "  if(den!= 0):\n",
        "    return num/den\n",
        "  else:\n",
        "    print(\"Invalid input\")\n",
        "    return 0\n",
        "op = div(2,0)"
      ],
      "metadata": {
        "id": "rNV125RNVK8R"
      },
      "execution_count": null,
      "outputs": []
    },
    {
      "cell_type": "code",
      "source": [
        "op"
      ],
      "metadata": {
        "id": "rz-DFQeyVlPD"
      },
      "execution_count": null,
      "outputs": []
    },
    {
      "cell_type": "code",
      "source": [
        "#Sum of first  n numbers\n",
        "def Sum_n_Num(num):\n",
        "  temp = 0\n",
        "  for i in range(1,num+1):\n",
        "    temp+= i\n",
        "  return temp"
      ],
      "metadata": {
        "id": "isJk5Iv1Vl2-"
      },
      "execution_count": null,
      "outputs": []
    },
    {
      "cell_type": "code",
      "source": [
        "Sum_n_Num(10)"
      ],
      "metadata": {
        "id": "Fo_Y95TWWmyQ"
      },
      "execution_count": null,
      "outputs": []
    },
    {
      "cell_type": "code",
      "source": [
        "def Sum_n_Num(num):\n",
        "  return int(num*(num+1)/2)"
      ],
      "metadata": {
        "id": "x7tDlMq5Wqv_"
      },
      "execution_count": null,
      "outputs": []
    },
    {
      "cell_type": "code",
      "source": [
        "#func(str1,str2): return\n",
        "def func(str_a, str_b):\n",
        "  return str_a+\" \"+str_b "
      ],
      "metadata": {
        "id": "1wynRhaPW7mm"
      },
      "execution_count": null,
      "outputs": []
    },
    {
      "cell_type": "code",
      "source": [
        "func(\"Jacks\",\"Technologies\")"
      ],
      "metadata": {
        "id": "-XZKYPgVYO3g"
      },
      "execution_count": null,
      "outputs": []
    },
    {
      "cell_type": "code",
      "source": [
        "mylist = [1,2,3,4]\n",
        "#function : adding/remving print(mylist) and printthe same within the fcuntion\n",
        "def list_changer(lst = []):\n",
        "  mylist.extend(lst)\n",
        "  return mylist\n",
        "list_changer([4])"
      ],
      "metadata": {
        "id": "MXa1GnuYYRgo"
      },
      "execution_count": null,
      "outputs": []
    },
    {
      "cell_type": "code",
      "source": [
        "list_changer([5])"
      ],
      "metadata": {
        "id": "NpKcKz_wZR5X"
      },
      "execution_count": null,
      "outputs": []
    },
    {
      "cell_type": "code",
      "source": [
        "dict_a = {}\n",
        "def func(key,value):\n",
        "  dict_a.update({key:value})\n",
        "  print(dict_a)\n",
        "func(\"Naga\",32)\n",
        "func(\"Jack\",28)\n",
        "func(\"Biden\",60)"
      ],
      "metadata": {
        "id": "qPU18eKIZVrI"
      },
      "execution_count": null,
      "outputs": []
    },
    {
      "cell_type": "code",
      "source": [
        "dict_a"
      ],
      "metadata": {
        "id": "qt67yF3RbgCM"
      },
      "execution_count": null,
      "outputs": []
    },
    {
      "cell_type": "code",
      "source": [
        "#factorial of  num without using for loops\n",
        "def fact(num):\n",
        "  if(num > 0):\n",
        "    return num*fact(num - 1)\n",
        "  else:\n",
        "    return 1\n",
        "fact(5)"
      ],
      "metadata": {
        "id": "L8sRbLAbbhYZ"
      },
      "execution_count": null,
      "outputs": []
    },
    {
      "cell_type": "code",
      "source": [
        "#factorial of a num without using if else conditional statements\n",
        "def fact(num):\n",
        "  temp = 1\n",
        "  for i in range(1,num+1):\n",
        "    temp = temp*i\n",
        "  return temp\n",
        "fact(5)\n",
        "#fact(num) = num*(num-1)*(num-2)*(num-3).......1\n",
        "#fact(3) = 3*2*1 = 6\n",
        "#fact(5) = 5*4*3*2*1 = 120"
      ],
      "metadata": {
        "id": "tl2YSzF6d_qY"
      },
      "execution_count": null,
      "outputs": []
    },
    {
      "cell_type": "code",
      "source": [
        "#prime or composite (num)\n",
        "def prime_comp(num):\n",
        "  for i in range(2,num):#2,3,4,........num-1\n",
        "    if(num % i == 0):\n",
        "      return True\n",
        "      break\n",
        "    else:\n",
        "      continue\n",
        "  return False  \n",
        "print(prime_comp(15))"
      ],
      "metadata": {
        "id": "UwJMaskAeXEH"
      },
      "execution_count": null,
      "outputs": []
    },
    {
      "cell_type": "code",
      "source": [
        "#prime or composite (num)\n",
        "def prime_comp(num):\n",
        "  x = []\n",
        "  x = [i for i in range(2,num) if(num % i == 0)]\n",
        "  return x\n",
        "\n",
        "if(prime_comp(3) != []):\n",
        "  print(\"Composite\")\n",
        "else:\n",
        "  print(\"Prime\")"
      ],
      "metadata": {
        "id": "f1OHSLyggOPW"
      },
      "execution_count": null,
      "outputs": []
    },
    {
      "cell_type": "code",
      "source": [
        "#prime or composite (num)\n",
        "def factors(num):\n",
        "  x = []\n",
        "  x = [i for i in range(2,num) if(num % i == 0)]\n",
        "  return x\n",
        "factors(6)"
      ],
      "metadata": {
        "id": "PPePLZ4lg7ye"
      },
      "execution_count": null,
      "outputs": []
    },
    {
      "cell_type": "code",
      "source": [
        "#determine a num even or odd:\n",
        "def even_odd(num):\n",
        "  return num%2 == 0 \n",
        "x = even_odd(5)\n",
        "print(\"given num is even\") if x else print(\"given num is odd\")"
      ],
      "metadata": {
        "id": "ABJ56MdPh9Fo"
      },
      "execution_count": null,
      "outputs": []
    },
    {
      "cell_type": "code",
      "source": [
        "#absolute num of a given num\n",
        "#abs(num):\n",
        "# -2 = 2\n",
        "# 2 = 2\n",
        "def abs(num):\n",
        "  return -(num) if num<0 else num\n",
        "\n",
        "abs(-10)"
      ],
      "metadata": {
        "id": "ScL9eNbhkuTz"
      },
      "execution_count": null,
      "outputs": []
    },
    {
      "cell_type": "code",
      "source": [
        ""
      ],
      "metadata": {
        "id": "7VRHK-Q5obl8"
      },
      "execution_count": null,
      "outputs": []
    },
    {
      "cell_type": "markdown",
      "source": [
        "#28th April 2022\n",
        "#Scope and life time of a variable\n",
        "#func(*args)\n",
        "#func(**kwrds)\n",
        "\n"
      ],
      "metadata": {
        "id": "xna3saNUl_2P"
      }
    },
    {
      "cell_type": "code",
      "source": [
        "b = 1\n",
        "def sample():\n",
        "  b = 2\n",
        "  print(\"Inside the function: \",b)\n",
        "\n",
        "#print(b)\n",
        "sample()\n",
        "#print(b)"
      ],
      "metadata": {
        "id": "W_wxB_jgpMpg"
      },
      "execution_count": null,
      "outputs": []
    },
    {
      "cell_type": "code",
      "source": [
        "a = 4\n",
        "c = a*2\n",
        "def sample_1():\n",
        "    c = a*3\n",
        "    print(id(c))\n",
        "    print(c)\n",
        "\n",
        "print(c)\n",
        "print(id(c))\n",
        "sample_1()\n",
        "print(c)"
      ],
      "metadata": {
        "id": "9xCfZPMcpw_h"
      },
      "execution_count": null,
      "outputs": []
    },
    {
      "cell_type": "code",
      "source": [
        "x  = 300\n",
        "def sample_2():\n",
        "  print(x,id(x))\n",
        "\n",
        "print(x,id(x))\n",
        "sample_2()"
      ],
      "metadata": {
        "id": "srmR7wVLrdW-"
      },
      "execution_count": null,
      "outputs": []
    },
    {
      "cell_type": "code",
      "source": [
        "x = 300\n",
        "print(x,id(x))\n",
        "print(x,id(x))\n",
        "x = 200\n",
        "print(x,id(x))\n",
        "x = 100\n",
        "print(x,id(x))"
      ],
      "metadata": {
        "id": "KJO28YIsstZF"
      },
      "execution_count": null,
      "outputs": []
    },
    {
      "cell_type": "code",
      "source": [
        "message = \"Hello World!!\"\n",
        "def encypt_1():\n",
        "  method = 1\n",
        "  print(message.encode(method))\n",
        "\n",
        "def encrupt_2():\n",
        "  method = 2\n",
        "  print(message.encode(method))\n",
        "\n",
        "y = m*x + c\n",
        "def y_intercept_1():\n",
        "  c = 0\n",
        "  y = \n",
        "\n",
        "def y_intercept_2():\n",
        "  c = 1\n",
        "  y = "
      ],
      "metadata": {
        "id": "RxX9M36ctIJh"
      },
      "execution_count": null,
      "outputs": []
    },
    {
      "cell_type": "code",
      "source": [
        "CRC = 0\n",
        "def Checksum_8():\n",
        "  CRC = first_byte*0.5+second_byte*0.25\n",
        "\n",
        "def Checksum_16():\n",
        "  CRC = first_byte*0.5*0.5+second_byte*0.25*0.25"
      ],
      "metadata": {
        "id": "9KyLWiHHu0jG"
      },
      "execution_count": null,
      "outputs": []
    },
    {
      "cell_type": "code",
      "source": [
        "#*args\n",
        "#**kwargs\n",
        "def myBiodata(*argv):\n",
        "  for arg in argv:\n",
        "    print(arg)\n",
        "\n",
        "myOrder(\"Naga\",\"32\",\"TrackPant\",\"Shoes\")\n",
        "print(\"****************************************\")\n",
        "myOrder(\"Jack:\",\"Laptop\",\"Charger\",\"Extra RAM Board\",\"keyBoard\")"
      ],
      "metadata": {
        "id": "lyTRNJ0ow5KS"
      },
      "execution_count": null,
      "outputs": []
    },
    {
      "cell_type": "code",
      "source": [
        "def SumofNNum(*Num):\n",
        "  Sum = 0\n",
        "  for i in Num:\n",
        "      Sum = Sum + i\n",
        "  print(Sum)\n",
        "\n",
        "SumofNNum(4,2,6,8,10,25)"
      ],
      "metadata": {
        "id": "NQNkDf0lx6ZM"
      },
      "execution_count": null,
      "outputs": []
    },
    {
      "cell_type": "code",
      "source": [
        "Sum = 0\n",
        "def SumofNNum1(*Num):\n",
        "  for i in Num:\n",
        "      Sum = Sum + i\n",
        "  print(Sum)\n",
        "\n",
        "SumofNNum(4,2,6,8,10,25)"
      ],
      "metadata": {
        "id": "Xu4aDvdY5hNV"
      },
      "execution_count": null,
      "outputs": []
    },
    {
      "cell_type": "code",
      "source": [
        "def update_list(*argc):\n",
        "  student = []\n",
        "  for arg in argc:\n",
        "    student.append(arg)\n",
        "  print(student)\n",
        "\n",
        "update_list(91,90,89,88,85,67)\n",
        "update_list(90,\"-\",85,99,90,100,35)#6 - 1=  5\n",
        "update_list(90,\"-\",85,99,90,100,75)#5 - 1 = 4\n",
        "update_list(90,\"-\",85,99,50)"
      ],
      "metadata": {
        "id": "fqb9X35Pz10D"
      },
      "execution_count": null,
      "outputs": []
    },
    {
      "cell_type": "code",
      "source": [
        "def myFunc(**kwargs):\n",
        "  for key,value in kwargs.items():\n",
        "    print(\"{0} = {1}\".format(key,value))\n",
        "\n",
        "myFunc(Name = \"Raja\",Age = \"32\", Occupation = \"Self_employed\")"
      ],
      "metadata": {
        "id": "YRMmS4k11CRp"
      },
      "execution_count": null,
      "outputs": []
    },
    {
      "cell_type": "code",
      "source": [
        "def student_database(*args,**kwargs):\n",
        "  print(\"args: \",args)\n",
        "  print(\"keywords: \",kwargs)\n",
        "\n",
        "student_database(\"Mamatha\",25,Name = \"Naga\",Marks_SSC = 89,Marks_HSC = 90,Languages = [])"
      ],
      "metadata": {
        "id": "PhOBnRbD3QGz"
      },
      "execution_count": null,
      "outputs": []
    },
    {
      "cell_type": "code",
      "source": [
        "#Create a function : calculate ur bill\n",
        "#Fruits : banana : 30,mango : 100, pomeg:120 = amoutn : 250\n",
        "#total_fruits(banana : 30,mango : 100, pomeg:120)\n",
        "#amount = 250\n",
        "def total_fruits(**fruits):\n",
        "  total_amount = 0\n",
        "  for fruit in fruits.values():\n",
        "    total_amount += fruit\n",
        "  print(total_amount)\n",
        "\n",
        "total_fruits(banana = 30,mango = 100, pomeg=120)\n",
        "total_fruits(banana = 25,beans = 50, onions=20,tomatoes = 40, kiwi = 90)"
      ],
      "metadata": {
        "id": "oGScfDh04Bun"
      },
      "execution_count": null,
      "outputs": []
    },
    {
      "cell_type": "code",
      "source": [
        "#Book stall & stationary\n",
        "#Books : 3 (mech, elec,comp)\n",
        "#Stationary : Pen:, Pencils: Caryons: bags :\n",
        "def udpate_cart(*CustomerDetails,**Items_Itenary):\n",
        "  total_amount = 0\n",
        "  for Item in Items_Itenary.values():\n",
        "    total_amount += Item\n",
        "  print(CustomerDetails[0],\":\",total_amount)\n",
        "  #send_msg(\"Name\",\"contact num\",\"Hi Dear Custoemr name. Thanks for visiting. please visit again\")\n",
        "\n",
        "udpate_cart(\"Naga\",+91-9876543210,Book1 = 30,Book2 = 100, Book3=200)\n",
        "udpate_cart(\"Jack\",Pen = 25,Crayons = 50, Eraser=20,Charts = 40, StickyNotes = 90)"
      ],
      "metadata": {
        "id": "Kj45m7Fy63ig"
      },
      "execution_count": null,
      "outputs": []
    },
    {
      "cell_type": "code",
      "source": [
        "def print_msg(msg):\n",
        "  def printing():\n",
        "    print(msg)\n",
        "  printing()\n",
        "\n",
        "print_msg(\"Hello World!!!\")"
      ],
      "metadata": {
        "id": "nPXUudy881qE"
      },
      "execution_count": null,
      "outputs": []
    },
    {
      "cell_type": "code",
      "source": [
        "def print_msg(msg):\n",
        "  def printing():\n",
        "    print(msg)\n",
        "  return printing\n",
        "\n",
        "another = print_msg(\"Hello World\")\n",
        "another()"
      ],
      "metadata": {
        "id": "1RDWOa3Lh12W"
      },
      "execution_count": null,
      "outputs": []
    },
    {
      "cell_type": "markdown",
      "source": [
        "#functions - nested functions, inner functions\n",
        "#functions as arguments in DS\n",
        "#positional arguments and keyword arguments\n",
        "#factory functions"
      ],
      "metadata": {
        "id": "Ecfs2Vsrh2m8"
      }
    },
    {
      "cell_type": "code",
      "source": [
        "#positional arugments and Keyword arguments\n",
        "#Positonal  must be in the correct order\n",
        "#Keyword : Sicne we are using name/labels so itdonot matter whichever might be the order u pass the args inside the fn call.\n",
        "def print_func(first_Word = \"Hi!!!\", second_word = \"\"):\n",
        "    print(first_Word,\" \",second_word)\n",
        "\n",
        "print_func(second_word = \"Naga\",first_Word=\"Hello!!!\")"
      ],
      "metadata": {
        "id": "FGSofRJK3410"
      },
      "execution_count": null,
      "outputs": []
    },
    {
      "cell_type": "code",
      "source": [
        "def sum(a ,b):\n",
        "  print(a)\n",
        "  print(a+b)\n",
        "sum(2)"
      ],
      "metadata": {
        "id": "3JQh7HUuA--T"
      },
      "execution_count": null,
      "outputs": []
    },
    {
      "cell_type": "code",
      "source": [
        "#1x + 2y = 0\n",
        "#2X + 3y = 3\n",
        "\n",
        "#1 + 2j\n",
        "#3 + 4j"
      ],
      "metadata": {
        "id": "coXEfVCvBN6D"
      },
      "execution_count": null,
      "outputs": []
    },
    {
      "cell_type": "code",
      "source": [
        "#area of rectangle = l * b\n",
        "#are_of_rect(b = 2,l = 2) #jeyword as ur calling it with labels\n",
        "#are_of_rect(2,3) #positional arguments "
      ],
      "metadata": {
        "id": "5bMv60ECD8XF"
      },
      "execution_count": null,
      "outputs": []
    },
    {
      "cell_type": "code",
      "source": [
        "def main():\n",
        "  print(\"Hello World\")\n",
        "\n",
        "if __name__ == \"__main__\":\n",
        "  main()"
      ],
      "metadata": {
        "id": "cccdWsW3Fu7x"
      },
      "execution_count": null,
      "outputs": []
    },
    {
      "cell_type": "code",
      "source": [
        "#lambda :; alias to ur functions\n",
        "#sum(4,5)\n",
        "sum = lambda x,y : x+y\n",
        "sum(2,3)"
      ],
      "metadata": {
        "id": "aAzd2CD7GLwR"
      },
      "execution_count": null,
      "outputs": []
    },
    {
      "cell_type": "code",
      "source": [
        "mul = lambda x,y : x*y\n",
        "mul(9,10)"
      ],
      "metadata": {
        "id": "k33GfjKDKISB"
      },
      "execution_count": null,
      "outputs": []
    },
    {
      "cell_type": "code",
      "source": [
        "#lambda arguments : expression\n",
        "double = lambda x : x*2\n",
        "double(9)"
      ],
      "metadata": {
        "id": "7AfPbMPNKXab"
      },
      "execution_count": null,
      "outputs": []
    },
    {
      "cell_type": "code",
      "source": [
        "def sum(a,b):\n",
        "  return a+b\n",
        "a = [2,3, sum(2,3)]\n",
        "\n",
        "print(a)"
      ],
      "metadata": {
        "id": "D-I6ISmPKm8n"
      },
      "execution_count": null,
      "outputs": []
    },
    {
      "cell_type": "code",
      "source": [
        "def aggregate(lst = []):\n",
        "  total = 0\n",
        "  for i in lst:\n",
        "    total = total + i\n",
        "  return total/len(lst)\n",
        "\n",
        "def update_list(*argc):\n",
        "  student = []\n",
        "  for arg in argc:\n",
        "    if arg is not \"-\":\n",
        "      student.append(arg)\n",
        "  student.append(aggregate(student))\n",
        "  print(student)\n",
        "\n",
        "update_list(91,90,89,88,85,67)\n",
        "update_list(90,\"-\",85,99,90,100,35)#6 - 1=  5\n",
        "update_list(90,\"-\",85,99,90,100,75)#5 - 1 = 4\n",
        "update_list(90,\"-\",85,99,50)"
      ],
      "metadata": {
        "id": "G9q-Sc4-Lx5W"
      },
      "execution_count": null,
      "outputs": []
    },
    {
      "cell_type": "markdown",
      "source": [
        "#2nd May 2022\n"
      ],
      "metadata": {
        "id": "O33zggg4_PEM"
      }
    },
    {
      "cell_type": "code",
      "source": [
        "#write a sample program for lambda  for determining multiplication of two numbers\n",
        "mul_2_num = lambda x,y : x*y\n",
        "mul_2_num(2,3)"
      ],
      "metadata": {
        "colab": {
          "base_uri": "https://localhost:8080/"
        },
        "id": "_aFcRk3Y_Q8k",
        "outputId": "2dcd42ee-c477-4964-c766-a0165caba809"
      },
      "execution_count": null,
      "outputs": [
        {
          "output_type": "execute_result",
          "data": {
            "text/plain": [
              "6"
            ]
          },
          "metadata": {},
          "execution_count": 2
        }
      ]
    },
    {
      "cell_type": "code",
      "source": [
        "#radians to degrees\n",
        "#degrees to radians\n",
        "#deg(num)#num is  in radians => a value in degrees\n",
        "#rad(num) #num is is degrees => a value in radians\n",
        "#deg(0.5) => 0.5*180/3.14 => 90/3.14 ~= 30\n",
        "deg = lambda x : x*57.295 #given num is radians\n",
        "rad = lambda x : x/57.295 #given num is degrees\n",
        "deg(0.525)\n",
        "lambda pi : 3.14\n",
        "deg = lambda x : (float(x*180)/float(pi))\n",
        "deg(0.525)"
      ],
      "metadata": {
        "colab": {
          "base_uri": "https://localhost:8080/"
        },
        "id": "zdI2FNNJHCMB",
        "outputId": "c75de444-aea8-49af-ad00-cbcd3dab06ca"
      },
      "execution_count": null,
      "outputs": [
        {
          "output_type": "execute_result",
          "data": {
            "text/plain": [
              "30.095541401273884"
            ]
          },
          "metadata": {},
          "execution_count": 11
        }
      ]
    },
    {
      "cell_type": "code",
      "source": [
        "#lambda : returning square root of a given number\n",
        "sq_rt = lambda x : x**0.5\n",
        "sq_rt(7)"
      ],
      "metadata": {
        "colab": {
          "base_uri": "https://localhost:8080/"
        },
        "id": "XpU4Fu1qIVlJ",
        "outputId": "96cf9980-5810-49f7-8887-28dcf9fcded3"
      },
      "execution_count": null,
      "outputs": [
        {
          "output_type": "execute_result",
          "data": {
            "text/plain": [
              "2.6457513110645907"
            ]
          },
          "metadata": {},
          "execution_count": 14
        }
      ]
    },
    {
      "cell_type": "code",
      "source": [
        "2**3"
      ],
      "metadata": {
        "colab": {
          "base_uri": "https://localhost:8080/"
        },
        "id": "_-AIQv3sJMn2",
        "outputId": "017d8fe4-5c86-4c1a-f7c3-d2e79458460f"
      },
      "execution_count": null,
      "outputs": [
        {
          "output_type": "execute_result",
          "data": {
            "text/plain": [
              "8"
            ]
          },
          "metadata": {},
          "execution_count": 15
        }
      ]
    },
    {
      "cell_type": "code",
      "source": [
        "#Home work : lambda function (not using in built functions)\n",
        "reverse_lst = lambda x : x[::-1]"
      ],
      "metadata": {
        "id": "vSudQvSMKw8l"
      },
      "execution_count": null,
      "outputs": []
    },
    {
      "cell_type": "code",
      "source": [
        "reverse_lst([1,2,3])"
      ],
      "metadata": {
        "colab": {
          "base_uri": "https://localhost:8080/"
        },
        "id": "cH2108F1LJKf",
        "outputId": "bb24af9f-e1c4-437c-f444-8f908d8ba2e6"
      },
      "execution_count": null,
      "outputs": [
        {
          "output_type": "execute_result",
          "data": {
            "text/plain": [
              "[3, 2, 1]"
            ]
          },
          "metadata": {},
          "execution_count": 18
        }
      ]
    },
    {
      "cell_type": "code",
      "source": [
        "pop_lst = lambda x:x[:-1]\n",
        "a  = [1,2,3,4]\n",
        "b =  pop_lst(a)\n",
        "b"
      ],
      "metadata": {
        "colab": {
          "base_uri": "https://localhost:8080/"
        },
        "id": "QpPmpq-1LLRP",
        "outputId": "abac20d2-edb7-49fb-8d0e-18f980e6be67"
      },
      "execution_count": null,
      "outputs": [
        {
          "output_type": "execute_result",
          "data": {
            "text/plain": [
              "[1, 2, 3]"
            ]
          },
          "metadata": {},
          "execution_count": 22
        }
      ]
    },
    {
      "cell_type": "code",
      "source": [
        "a"
      ],
      "metadata": {
        "colab": {
          "base_uri": "https://localhost:8080/"
        },
        "id": "-ihGIVyAL1gF",
        "outputId": "01d93246-d3ec-4f04-8213-ee7fa8df4912"
      },
      "execution_count": null,
      "outputs": [
        {
          "output_type": "execute_result",
          "data": {
            "text/plain": [
              "[1, 2, 3]"
            ]
          },
          "metadata": {},
          "execution_count": 20
        }
      ]
    },
    {
      "cell_type": "code",
      "source": [
        "#inner fucntions\n",
        "def func1(x):#outer\n",
        "  y = 0.5\n",
        "  def func2():#inner\n",
        "    return x**y\n",
        "  a = func2()\n",
        "  print(a)\n",
        "\n",
        "func1(16)"
      ],
      "metadata": {
        "colab": {
          "base_uri": "https://localhost:8080/"
        },
        "id": "ZPS4lis4L2Yc",
        "outputId": "2cffbc0b-7712-40de-db6f-6404198b52d2"
      },
      "execution_count": null,
      "outputs": [
        {
          "output_type": "stream",
          "name": "stdout",
          "text": [
            "4.0\n"
          ]
        }
      ]
    },
    {
      "cell_type": "code",
      "source": [
        "def outer_fn(text):\n",
        "  def inner_fn():\n",
        "    print(text)\n",
        "  inner_fn()\n",
        "\n",
        "#inner_fn(\"Hello World\")"
      ],
      "metadata": {
        "colab": {
          "base_uri": "https://localhost:8080/",
          "height": 201
        },
        "id": "ToOu4C3GORlW",
        "outputId": "0ef2476a-2b3e-4c41-bf8a-ccb59dbf64b7"
      },
      "execution_count": null,
      "outputs": [
        {
          "output_type": "error",
          "ename": "NameError",
          "evalue": "ignored",
          "traceback": [
            "\u001b[0;31m---------------------------------------------------------------------------\u001b[0m",
            "\u001b[0;31mNameError\u001b[0m                                 Traceback (most recent call last)",
            "\u001b[0;32m<ipython-input-34-d645e7f366f9>\u001b[0m in \u001b[0;36m<module>\u001b[0;34m()\u001b[0m\n\u001b[1;32m      4\u001b[0m   \u001b[0minner_fn\u001b[0m\u001b[0;34m(\u001b[0m\u001b[0;34m)\u001b[0m\u001b[0;34m\u001b[0m\u001b[0;34m\u001b[0m\u001b[0m\n\u001b[1;32m      5\u001b[0m \u001b[0;34m\u001b[0m\u001b[0m\n\u001b[0;32m----> 6\u001b[0;31m \u001b[0minner_fn\u001b[0m\u001b[0;34m(\u001b[0m\u001b[0;34m\"Hello World\"\u001b[0m\u001b[0;34m)\u001b[0m\u001b[0;34m\u001b[0m\u001b[0;34m\u001b[0m\u001b[0m\n\u001b[0m",
            "\u001b[0;31mNameError\u001b[0m: name 'inner_fn' is not defined"
          ]
        }
      ]
    },
    {
      "cell_type": "code",
      "source": [
        "#Variables of outerfunction is not changed in the below program:\n",
        "def f1():\n",
        "  s = \"I love JacksTechnlogies\"\n",
        "  def f2():\n",
        "    s = \"Me too\"\n",
        "    print(s)\n",
        "  f2()\n",
        "  print(s)\n",
        "\n",
        "f1()"
      ],
      "metadata": {
        "colab": {
          "base_uri": "https://localhost:8080/"
        },
        "id": "-ycQHN4TPpNT",
        "outputId": "30f94ef1-0f9d-4fe9-f08a-8f05e990013f"
      },
      "execution_count": null,
      "outputs": [
        {
          "output_type": "stream",
          "name": "stdout",
          "text": [
            "Me too\n",
            "I love JacksTechnlogies\n"
          ]
        }
      ]
    },
    {
      "cell_type": "code",
      "source": [
        "#However Variables of outerfunction can be changed in the below program:\n",
        "#using a iterable\n",
        "def f1():\n",
        "  s = [\"I love JacksTechnlogies\"]\n",
        "  def f2():\n",
        "    s[0] = \"Me too\"\n",
        "    print(s)\n",
        "  f2()\n",
        "  print(s)\n",
        "\n",
        "f1()"
      ],
      "metadata": {
        "colab": {
          "base_uri": "https://localhost:8080/"
        },
        "id": "y5IWcL5zQjt_",
        "outputId": "4bd40554-e8be-493e-d229-77a0081bd1c2"
      },
      "execution_count": null,
      "outputs": [
        {
          "output_type": "stream",
          "name": "stdout",
          "text": [
            "['Me too']\n",
            "['Me too']\n"
          ]
        }
      ]
    },
    {
      "cell_type": "code",
      "source": [
        "#using a keyword => nonlocal\n",
        "def f1():\n",
        "  s = \"I love JacksTechnlogies\"\n",
        "  def f2():\n",
        "    nonlocal s\n",
        "    s = \"Me too\"\n",
        "    print(s)\n",
        "  f2()\n",
        "  print(s)\n",
        "\n",
        "f1()"
      ],
      "metadata": {
        "colab": {
          "base_uri": "https://localhost:8080/"
        },
        "id": "l5bvTe1nRGLO",
        "outputId": "a6d379b4-6690-4018-c143-0248bbb217fd"
      },
      "execution_count": null,
      "outputs": [
        {
          "output_type": "stream",
          "name": "stdout",
          "text": [
            "Me too\n",
            "Me too\n"
          ]
        }
      ]
    },
    {
      "cell_type": "code",
      "source": [
        "def num1(x):\n",
        "  def num2(y):\n",
        "    return x*y\n",
        "  return num2\n",
        "\n",
        "res = num1(10)\n",
        "print(type(res))\n",
        "print(res(5))"
      ],
      "metadata": {
        "colab": {
          "base_uri": "https://localhost:8080/"
        },
        "id": "qbWaijgERf79",
        "outputId": "ab93a64a-e4a2-4593-feb3-e8db76618a08"
      },
      "execution_count": null,
      "outputs": [
        {
          "output_type": "stream",
          "name": "stdout",
          "text": [
            "<class 'function'>\n",
            "50\n"
          ]
        }
      ]
    },
    {
      "cell_type": "code",
      "source": [
        "def sum(x,y):\n",
        "  return x+y\n",
        "\n",
        "def given_2_num(x,y):\n",
        "  return sum\n",
        "\n",
        "c = given_2_num(2,3)\n",
        "print(type(c))\n",
        "print(c(2,3))"
      ],
      "metadata": {
        "colab": {
          "base_uri": "https://localhost:8080/"
        },
        "id": "ag64MAJDSovu",
        "outputId": "84b720fe-3a93-42b9-82c6-e7e78e70e276"
      },
      "execution_count": null,
      "outputs": [
        {
          "output_type": "stream",
          "name": "stdout",
          "text": [
            "<class 'function'>\n",
            "5\n"
          ]
        }
      ]
    },
    {
      "cell_type": "code",
      "source": [
        "def given_2_num(x,y):\n",
        "  def sum(x,y):\n",
        "    return x+y\n",
        "\n",
        "  return sum(x,y)\n",
        "\n",
        "c = given_2_num(2,3)\n",
        "print(type(c))\n",
        "print(c)"
      ],
      "metadata": {
        "colab": {
          "base_uri": "https://localhost:8080/"
        },
        "id": "AQK4zTudTB4E",
        "outputId": "958bfbbe-f820-4535-d4bd-a1c608674b1d"
      },
      "execution_count": null,
      "outputs": [
        {
          "output_type": "stream",
          "name": "stdout",
          "text": [
            "<class 'int'>\n",
            "5\n"
          ]
        }
      ]
    },
    {
      "cell_type": "code",
      "source": [
        "def func1():\n",
        "  a = 10\n",
        "  def func2(b):\n",
        "    a = 6\n",
        "    print(a+b)\n",
        "  print(a)\n",
        "  func2(3)\n",
        "\n",
        "func1()"
      ],
      "metadata": {
        "colab": {
          "base_uri": "https://localhost:8080/"
        },
        "id": "0UMqRf-JTpOR",
        "outputId": "bf1d6fc3-445a-4300-b45b-df4c64b6ac57"
      },
      "execution_count": null,
      "outputs": [
        {
          "output_type": "stream",
          "name": "stdout",
          "text": [
            "10\n",
            "9\n"
          ]
        }
      ]
    },
    {
      "cell_type": "code",
      "source": [
        "def fun():\n",
        "  var1 = 10\n",
        "  def gun():\n",
        "    nonlocal var1\n",
        "    var1 = var1 + 10\n",
        "    print(var1)\n",
        "  gun()\n",
        "fun()"
      ],
      "metadata": {
        "colab": {
          "base_uri": "https://localhost:8080/"
        },
        "id": "61MET4RoWdfI",
        "outputId": "3d5523fb-941c-4e34-f5ed-5224c79ba808"
      },
      "execution_count": null,
      "outputs": [
        {
          "output_type": "stream",
          "name": "stdout",
          "text": [
            "20\n"
          ]
        }
      ]
    },
    {
      "cell_type": "code",
      "source": [
        "g = g+1"
      ],
      "metadata": {
        "id": "GvkBY0ixXoFl"
      },
      "execution_count": null,
      "outputs": []
    },
    {
      "cell_type": "code",
      "source": [
        ""
      ],
      "metadata": {
        "id": "y9v4Eor1XyyV"
      },
      "execution_count": null,
      "outputs": []
    },
    {
      "cell_type": "markdown",
      "source": [
        "#import methods"
      ],
      "metadata": {
        "id": "MszP_4OL2rCp"
      }
    },
    {
      "cell_type": "markdown",
      "source": [
        "#Sys module in Python provides various functions and variables that are used to manipulate different parts of the Python runtime environment. Sys modules provides access to variables and functions/methods that interact strongly with the interpreter"
      ],
      "metadata": {
        "id": "fb_Q35CLlXlW"
      }
    },
    {
      "cell_type": "code",
      "source": [
        "import sys\n",
        "print(sys.version)"
      ],
      "metadata": {
        "id": "Yol1aH0h2sAW",
        "colab": {
          "base_uri": "https://localhost:8080/"
        },
        "outputId": "2ff067ba-dc4c-436c-9dba-df615fe425e3"
      },
      "execution_count": null,
      "outputs": [
        {
          "output_type": "stream",
          "name": "stdout",
          "text": [
            "3.7.13 (default, Apr 24 2022, 01:04:09) \n",
            "[GCC 7.5.0]\n"
          ]
        }
      ]
    },
    {
      "cell_type": "code",
      "source": [
        "#sys.stdin\n",
        "#sys.argv\n",
        "#sys.stdout"
      ],
      "metadata": {
        "id": "xNQkckbWl5yj"
      },
      "execution_count": null,
      "outputs": []
    },
    {
      "cell_type": "code",
      "source": [
        "a = \"Naga\"\n",
        "a.__contains__(\"a\")"
      ],
      "metadata": {
        "colab": {
          "base_uri": "https://localhost:8080/"
        },
        "id": "cSJg5WJH19DH",
        "outputId": "96a74203-7106-44bb-c9fa-17eb27c2c839"
      },
      "execution_count": null,
      "outputs": [
        {
          "output_type": "execute_result",
          "data": {
            "text/plain": [
              "True"
            ]
          },
          "metadata": {},
          "execution_count": 2
        }
      ]
    },
    {
      "cell_type": "code",
      "source": [
        ""
      ],
      "metadata": {
        "id": "be6zBXQK2ACw"
      },
      "execution_count": null,
      "outputs": []
    },
    {
      "cell_type": "markdown",
      "source": [
        "#9th May 2022\n",
        "Import OS"
      ],
      "metadata": {
        "id": "6j63gwCQHN8r"
      }
    },
    {
      "cell_type": "code",
      "source": [
        ""
      ],
      "metadata": {
        "id": "s6A4z-2kHQpD"
      },
      "execution_count": null,
      "outputs": []
    },
    {
      "cell_type": "code",
      "source": [
        "#Getting current working directory\n",
        "#The currently working directory is the folder in which the python script is saved and being run from.\n",
        "\n",
        "import os\n",
        "os.getcwd()"
      ],
      "metadata": {
        "id": "K1JT8jFGHREb"
      },
      "execution_count": null,
      "outputs": []
    },
    {
      "cell_type": "code",
      "source": [
        "#Creating a directory\n",
        "import os\n",
        "os.mkdir(\"D:\\\\Tutorialspoint\")"
      ],
      "metadata": {
        "id": "BPansFGpHSsV"
      },
      "execution_count": null,
      "outputs": []
    },
    {
      "cell_type": "code",
      "source": [
        "#Deleting a directory\n",
        "#Now that you know how to create a folder, let us learn about how you can delete one.\n",
        "\n",
        "#In order to delete a directory, we will be using the rmdir() function, it stands for remove directory.\n",
        "\n",
        "import os\n",
        "os.rmdir(\"D:\\\\Tutorialspoint\")"
      ],
      "metadata": {
        "id": "2czzQh-0HduO"
      },
      "execution_count": null,
      "outputs": []
    },
    {
      "cell_type": "code",
      "source": [
        "#Renaming a directory\n",
        "#In order to rename a folder, we use the rename function present in the os module.\n",
        "\n",
        "import os\n",
        "os.mkdir(\"D:\\\\Tutorialspoint\")\n",
        "os.rename(\"D:\\\\Tutorialspoint\",\"D:\\\\Tutorialspoint2\")"
      ],
      "metadata": {
        "id": "DSbC8MGBHkY3"
      },
      "execution_count": null,
      "outputs": []
    },
    {
      "cell_type": "code",
      "source": [
        "#Basic file manipulation\n",
        "#Now that you know how to work around with folders, let us look into file manipulation.\n",
        "\n",
        "Creating a file\n",
        "file = os.popen(\"Hello.txt\", 'w')"
      ],
      "metadata": {
        "id": "LgoX4sa3H2UV"
      },
      "execution_count": null,
      "outputs": []
    },
    {
      "cell_type": "code",
      "source": [
        "#Adding content to the created file\n",
        "file = os.popen(\"Hello.txt\", 'w')\n",
        "file.write(\"Hello there! This is a tutorialspoint article\")"
      ],
      "metadata": {
        "id": "keK9aik-H6pW"
      },
      "execution_count": null,
      "outputs": []
    },
    {
      "cell_type": "markdown",
      "source": [
        "#11th May 2022\n",
        "Exception Handling : Handling any run time error in the program so that the program donot crash/do not interrupt/getstuck in a loop\n",
        "Run time error vs compile time error: \n",
        "Whileprogram is getting executed if any error happens to occur => A run time error\n",
        "On the other hand if any error occurs durinng compile time => compile time error\n",
        "c = a/b ; b = 0 => run time error\n",
        "a = []\n",
        "a.update => Compile time issue\n",
        "\n",
        "Whenever any exception occur, Python interpreter stops the current process and passes it to the calling process (except) until it is handled. \n",
        "\n"
      ],
      "metadata": {
        "id": "F5qZ9ZAPe5UR"
      }
    },
    {
      "cell_type": "code",
      "source": [
        "c = 100\n",
        "b = 0\n",
        "print(c/b)\n",
        "print(\"Hello world\")"
      ],
      "metadata": {
        "colab": {
          "base_uri": "https://localhost:8080/",
          "height": 226
        },
        "id": "3DbISW6Efs-q",
        "outputId": "d2401c97-be59-4b89-e9bc-73969aedd9ea"
      },
      "execution_count": null,
      "outputs": [
        {
          "output_type": "error",
          "ename": "ZeroDivisionError",
          "evalue": "ignored",
          "traceback": [
            "\u001b[0;31m---------------------------------------------------------------------------\u001b[0m",
            "\u001b[0;31mZeroDivisionError\u001b[0m                         Traceback (most recent call last)",
            "\u001b[0;32m<ipython-input-3-d62d531afb7b>\u001b[0m in \u001b[0;36m<module>\u001b[0;34m()\u001b[0m\n\u001b[1;32m      1\u001b[0m \u001b[0mc\u001b[0m \u001b[0;34m=\u001b[0m \u001b[0;36m100\u001b[0m\u001b[0;34m\u001b[0m\u001b[0;34m\u001b[0m\u001b[0m\n\u001b[1;32m      2\u001b[0m \u001b[0mb\u001b[0m \u001b[0;34m=\u001b[0m \u001b[0;36m0\u001b[0m\u001b[0;34m\u001b[0m\u001b[0;34m\u001b[0m\u001b[0m\n\u001b[0;32m----> 3\u001b[0;31m \u001b[0mprint\u001b[0m\u001b[0;34m(\u001b[0m\u001b[0mc\u001b[0m\u001b[0;34m/\u001b[0m\u001b[0mb\u001b[0m\u001b[0;34m)\u001b[0m\u001b[0;34m\u001b[0m\u001b[0;34m\u001b[0m\u001b[0m\n\u001b[0m\u001b[1;32m      4\u001b[0m \u001b[0mprint\u001b[0m\u001b[0;34m(\u001b[0m\u001b[0;34m\"Hello world\"\u001b[0m\u001b[0;34m)\u001b[0m\u001b[0;34m\u001b[0m\u001b[0;34m\u001b[0m\u001b[0m\n",
            "\u001b[0;31mZeroDivisionError\u001b[0m: division by zero"
          ]
        }
      ]
    },
    {
      "cell_type": "code",
      "source": [
        "#try : a = c/b #can raise exceptions\n",
        "#except:print(\"Hello ! you have entered an in valid datainput\") # handle the exception\n",
        "try:\n",
        "  c = int(input(\"Please enter the num:\"))\n",
        "  b = int(input(\"Please enter the den:\"))\n",
        "  a = c/b\n",
        "  print(a)\n",
        "except:\n",
        "  print(\"Hello You have entered an invalid data\")"
      ],
      "metadata": {
        "colab": {
          "base_uri": "https://localhost:8080/"
        },
        "id": "EOlh03pJgk41",
        "outputId": "86e5b93e-d249-40e7-c800-1e6f8a031334"
      },
      "execution_count": null,
      "outputs": [
        {
          "output_type": "stream",
          "name": "stdout",
          "text": [
            "Please enter the num:1000\n",
            "Please enter the den:0\n",
            "Hello You have entered an invalid data\n"
          ]
        }
      ]
    },
    {
      "cell_type": "code",
      "source": [
        "c = int(input(\"Please enter the num:\"))\n",
        "b = int(input(\"Please enter the den:\"))\n",
        "if (type(a) != str and type(b) != str):\n",
        "  if(b != 0):\n",
        "    c = a/b\n",
        "    print(c)\n",
        "  else:\n",
        "    print(\"Den is zero.Enter any non zero value\")\n",
        "else:\n",
        "  print(\"Enter valid data\")"
      ],
      "metadata": {
        "colab": {
          "base_uri": "https://localhost:8080/"
        },
        "id": "D51QGFJThh3A",
        "outputId": "3ab944f5-3677-48bf-b630-6257ddca04a1"
      },
      "execution_count": null,
      "outputs": [
        {
          "output_type": "stream",
          "name": "stdout",
          "text": [
            "Please enter the num:1000\n",
            "Please enter the den:0\n",
            "Den is zero.Enter any non zero value\n"
          ]
        }
      ]
    },
    {
      "cell_type": "code",
      "source": [
        "a = [1,2,3,4]\n",
        "print(\"first elem:{0}\".format(a[0]))\n",
        "print(\"Second elem:{0}\".format(a[1]))\n",
        "print(\"Third elem:{0}\".format(a[2]))\n",
        "print(\"Fourth elem:{0}\".format(a[3]))\n",
        "print(\"Fifth elem:{0}\".format(a[4]))"
      ],
      "metadata": {
        "colab": {
          "base_uri": "https://localhost:8080/",
          "height": 281
        },
        "id": "wNCRXa9iiy1t",
        "outputId": "0fab4855-8595-4750-872f-68327be60f02"
      },
      "execution_count": null,
      "outputs": [
        {
          "output_type": "stream",
          "name": "stdout",
          "text": [
            "first elem:1\n",
            "Second elem:2\n",
            "Third elem:3\n",
            "Fourth elem:4\n"
          ]
        },
        {
          "output_type": "error",
          "ename": "IndexError",
          "evalue": "ignored",
          "traceback": [
            "\u001b[0;31m---------------------------------------------------------------------------\u001b[0m",
            "\u001b[0;31mIndexError\u001b[0m                                Traceback (most recent call last)",
            "\u001b[0;32m<ipython-input-13-01e0c6f9c0f9>\u001b[0m in \u001b[0;36m<module>\u001b[0;34m()\u001b[0m\n\u001b[1;32m      4\u001b[0m \u001b[0mprint\u001b[0m\u001b[0;34m(\u001b[0m\u001b[0;34m\"Third elem:{0}\"\u001b[0m\u001b[0;34m.\u001b[0m\u001b[0mformat\u001b[0m\u001b[0;34m(\u001b[0m\u001b[0ma\u001b[0m\u001b[0;34m[\u001b[0m\u001b[0;36m2\u001b[0m\u001b[0;34m]\u001b[0m\u001b[0;34m)\u001b[0m\u001b[0;34m)\u001b[0m\u001b[0;34m\u001b[0m\u001b[0;34m\u001b[0m\u001b[0m\n\u001b[1;32m      5\u001b[0m \u001b[0mprint\u001b[0m\u001b[0;34m(\u001b[0m\u001b[0;34m\"Fourth elem:{0}\"\u001b[0m\u001b[0;34m.\u001b[0m\u001b[0mformat\u001b[0m\u001b[0;34m(\u001b[0m\u001b[0ma\u001b[0m\u001b[0;34m[\u001b[0m\u001b[0;36m3\u001b[0m\u001b[0;34m]\u001b[0m\u001b[0;34m)\u001b[0m\u001b[0;34m)\u001b[0m\u001b[0;34m\u001b[0m\u001b[0;34m\u001b[0m\u001b[0m\n\u001b[0;32m----> 6\u001b[0;31m \u001b[0mprint\u001b[0m\u001b[0;34m(\u001b[0m\u001b[0;34m\"Fifth elem:{0}\"\u001b[0m\u001b[0;34m.\u001b[0m\u001b[0mformat\u001b[0m\u001b[0;34m(\u001b[0m\u001b[0ma\u001b[0m\u001b[0;34m[\u001b[0m\u001b[0;36m4\u001b[0m\u001b[0;34m]\u001b[0m\u001b[0;34m)\u001b[0m\u001b[0;34m)\u001b[0m\u001b[0;34m\u001b[0m\u001b[0;34m\u001b[0m\u001b[0m\n\u001b[0m",
            "\u001b[0;31mIndexError\u001b[0m: list index out of range"
          ]
        }
      ]
    },
    {
      "cell_type": "code",
      "source": [
        "a = [1,2,3,4]\n",
        "try:\n",
        "  print(\"first elem:{0}\".format(a[0]))\n",
        "  print(\"Second elem:{0}\".format(a[1]))\n",
        "  print(\"Third elem:{0}\".format(a[2]))\n",
        "  print(\"Fourth elem:{0}\".format(a[3]))\n",
        "  print(\"Fifth elem:{0}\".format(a[4]))\n",
        "except:\n",
        "  print(\"IndexError: list index out of range\")"
      ],
      "metadata": {
        "colab": {
          "base_uri": "https://localhost:8080/"
        },
        "id": "GGzaHca7l6lO",
        "outputId": "eaa53a13-221b-480a-f22b-2e1ecd5bc31b"
      },
      "execution_count": null,
      "outputs": [
        {
          "output_type": "stream",
          "name": "stdout",
          "text": [
            "first elem:1\n",
            "Second elem:2\n",
            "Third elem:3\n",
            "Fourth elem:4\n",
            "IndexError: list index out of range\n"
          ]
        }
      ]
    },
    {
      "cell_type": "code",
      "source": [
        "def func(a,b):\n",
        "  return a/b\n",
        "\n",
        "try:\n",
        "  c = func(2,\"1\")\n",
        "  print(c)\n",
        "except ZeroDivisionError:\n",
        "  print(\"zero denomitator given\")\n",
        "except TypeError:\n",
        "  print(\"Entered data contains strings\")\n",
        "except:\n",
        "  print(\"Enter valid data\")"
      ],
      "metadata": {
        "colab": {
          "base_uri": "https://localhost:8080/"
        },
        "id": "rvIGkp79mQBv",
        "outputId": "11486d82-6173-4f8c-9088-cfd419b5ee1e"
      },
      "execution_count": null,
      "outputs": [
        {
          "output_type": "stream",
          "name": "stdout",
          "text": [
            "Entered data contains strings\n"
          ]
        }
      ]
    },
    {
      "cell_type": "code",
      "source": [
        "a = 2/\"1\""
      ],
      "metadata": {
        "colab": {
          "base_uri": "https://localhost:8080/",
          "height": 171
        },
        "id": "v0N2Ne_smy3H",
        "outputId": "072016b8-caee-40fc-82e6-d6aa1bd5ed9b"
      },
      "execution_count": null,
      "outputs": [
        {
          "output_type": "error",
          "ename": "TypeError",
          "evalue": "ignored",
          "traceback": [
            "\u001b[0;31m---------------------------------------------------------------------------\u001b[0m",
            "\u001b[0;31mTypeError\u001b[0m                                 Traceback (most recent call last)",
            "\u001b[0;32m<ipython-input-19-5224f2dde09f>\u001b[0m in \u001b[0;36m<module>\u001b[0;34m()\u001b[0m\n\u001b[0;32m----> 1\u001b[0;31m \u001b[0ma\u001b[0m \u001b[0;34m=\u001b[0m \u001b[0;36m2\u001b[0m\u001b[0;34m/\u001b[0m\u001b[0;34m\"1\"\u001b[0m\u001b[0;34m\u001b[0m\u001b[0;34m\u001b[0m\u001b[0m\n\u001b[0m",
            "\u001b[0;31mTypeError\u001b[0m: unsupported operand type(s) for /: 'int' and 'str'"
          ]
        }
      ]
    },
    {
      "cell_type": "code",
      "source": [
        "def func(a,b):\n",
        "  c = ((a+b)/(a-b))\n",
        "  return c\n",
        "\n",
        "try:\n",
        "  d = func(2,0)\n",
        "  print(d)\n",
        "except ZeroDivisionError:\n",
        "  print(\"zero denominator during the functioncall\")"
      ],
      "metadata": {
        "colab": {
          "base_uri": "https://localhost:8080/"
        },
        "id": "FSnFAdY7nXn7",
        "outputId": "68ef8b98-47f8-4e8b-82fa-652ec95ce814"
      },
      "execution_count": null,
      "outputs": [
        {
          "output_type": "stream",
          "name": "stdout",
          "text": [
            "1.0\n"
          ]
        }
      ]
    },
    {
      "cell_type": "code",
      "source": [
        "try:\n",
        "  c = 2 + 2\n",
        "except TypeError:\n",
        "  print(\"Enter valid input for above operation\")\n",
        "else:\n",
        "  print(\"Operation performed successfully\")\n",
        "finally:\n",
        "  #post conditions\n",
        "  pass"
      ],
      "metadata": {
        "colab": {
          "base_uri": "https://localhost:8080/"
        },
        "id": "7uu0UEKTo8yE",
        "outputId": "791f17da-67d4-4579-dcb1-9345863ee5a2"
      },
      "execution_count": null,
      "outputs": [
        {
          "output_type": "stream",
          "name": "stdout",
          "text": [
            "Enter valid input for above operation\n"
          ]
        }
      ]
    },
    {
      "cell_type": "code",
      "source": [
        "#ArithmeticError\n",
        "#OverflowError\n",
        "#FloatingPointError \n",
        "#IndexError\n",
        "c = [1,2,3,4,5]\n",
        "a = []\n",
        "try:\n",
        "  for i in range(len(c)+1):\n",
        "    a.append(c[i])\n",
        "except:\n",
        "  print(\"Appending elements out of range\")"
      ],
      "metadata": {
        "colab": {
          "base_uri": "https://localhost:8080/"
        },
        "id": "6HEUu9mbp8Rc",
        "outputId": "6c2b2b20-ada9-49e9-d5f9-e8f9dd301ec1"
      },
      "execution_count": null,
      "outputs": [
        {
          "output_type": "stream",
          "name": "stdout",
          "text": [
            "Appending elements out of range\n"
          ]
        }
      ]
    },
    {
      "cell_type": "code",
      "source": [
        "c = [1,2,3,4,5]\n",
        "try:\n",
        "  for i in range(len(c)):\n",
        "    c.pop()\n",
        "except:\n",
        "  print(\"You are trying to remove element from an empty list\")"
      ],
      "metadata": {
        "id": "bir_CfRDua1D"
      },
      "execution_count": null,
      "outputs": []
    },
    {
      "cell_type": "code",
      "source": [
        "c = {\"Name\":\"Naga\",\"Age\":32}\n",
        "c[\"Age1\"]"
      ],
      "metadata": {
        "colab": {
          "base_uri": "https://localhost:8080/",
          "height": 190
        },
        "id": "sR3HMQ_2uxH1",
        "outputId": "504b5eb2-c9bb-4af0-a7dc-42d09a46ddc6"
      },
      "execution_count": null,
      "outputs": [
        {
          "output_type": "error",
          "ename": "KeyError",
          "evalue": "ignored",
          "traceback": [
            "\u001b[0;31m---------------------------------------------------------------------------\u001b[0m",
            "\u001b[0;31mKeyError\u001b[0m                                  Traceback (most recent call last)",
            "\u001b[0;32m<ipython-input-31-1e33097ce1f7>\u001b[0m in \u001b[0;36m<module>\u001b[0;34m()\u001b[0m\n\u001b[1;32m      1\u001b[0m \u001b[0mc\u001b[0m \u001b[0;34m=\u001b[0m \u001b[0;34m{\u001b[0m\u001b[0;34m\"Name\"\u001b[0m\u001b[0;34m:\u001b[0m\u001b[0;34m\"Naga\"\u001b[0m\u001b[0;34m,\u001b[0m\u001b[0;34m\"Age\"\u001b[0m\u001b[0;34m:\u001b[0m\u001b[0;36m32\u001b[0m\u001b[0;34m}\u001b[0m\u001b[0;34m\u001b[0m\u001b[0;34m\u001b[0m\u001b[0m\n\u001b[0;32m----> 2\u001b[0;31m \u001b[0mc\u001b[0m\u001b[0;34m[\u001b[0m\u001b[0;34m\"Age1\"\u001b[0m\u001b[0;34m]\u001b[0m\u001b[0;34m\u001b[0m\u001b[0;34m\u001b[0m\u001b[0m\n\u001b[0m",
            "\u001b[0;31mKeyError\u001b[0m: 'Age1'"
          ]
        }
      ]
    },
    {
      "cell_type": "code",
      "source": [
        "#Exception Handlind  - Finally and else statements\n",
        "#Exceptions in the else clause are not handled by the precesing except clauses\n",
        "try:\n",
        "  num = int(input(\"Enter a number: \"))\n",
        "  assert num%2 == 0\n",
        "except:\n",
        "  print(\"Not an even number\")\n",
        "else:#optional \n",
        "  print(1/num)\n",
        "finally:#optional => It is executed no matter what try / except has been executed.\n",
        "  pass"
      ],
      "metadata": {
        "id": "G-kXbuzmu-Zi",
        "colab": {
          "base_uri": "https://localhost:8080/"
        },
        "outputId": "e00d8147-f262-4e08-dac5-c25e8d0174bd"
      },
      "execution_count": null,
      "outputs": [
        {
          "output_type": "stream",
          "name": "stdout",
          "text": [
            "Enter a number: 1\n",
            "Not an even number\n"
          ]
        }
      ]
    },
    {
      "cell_type": "markdown",
      "source": [
        ""
      ],
      "metadata": {
        "id": "kLrdhmmzwcE3"
      }
    },
    {
      "cell_type": "code",
      "source": [
        "def func(a,b):\n",
        "  c = ((a+b)/(a-b))\n",
        "  return c\n",
        "\n",
        "try:\n",
        "  d = func(2,2)\n",
        "except ZeroDivisionError:\n",
        "  print(\"zero denominator during the functioncall\")\n",
        "else:\n",
        "  print(d)"
      ],
      "metadata": {
        "colab": {
          "base_uri": "https://localhost:8080/"
        },
        "id": "NKhlX36Lzt48",
        "outputId": "7308484b-756b-47d7-bdea-86437b9f82bd"
      },
      "execution_count": null,
      "outputs": [
        {
          "output_type": "stream",
          "name": "stdout",
          "text": [
            "zero denominator during the functioncall\n"
          ]
        }
      ]
    },
    {
      "cell_type": "code",
      "source": [
        "try:\n",
        "  k = 5/0\n",
        "  print(k)\n",
        "except:\n",
        "  print(\"Cant divide by zero\")\n",
        "finally:\n",
        "  print(\"This is executed after the above code is executed\")"
      ],
      "metadata": {
        "colab": {
          "base_uri": "https://localhost:8080/"
        },
        "id": "9VZWzn-dzxkJ",
        "outputId": "3058549a-2a36-4e04-8a93-3557a949487f"
      },
      "execution_count": null,
      "outputs": [
        {
          "output_type": "stream",
          "name": "stdout",
          "text": [
            "Cant divide by zero\n",
            "This is executed after the above code is executed\n"
          ]
        }
      ]
    },
    {
      "cell_type": "code",
      "source": [
        "import sys\n",
        "try:\n",
        "  c = 2/0\n",
        "except:\n",
        "  print(\"Please check: \",sys.exc_info()[0])\n",
        "finally:#optional and post conditions\n",
        "  print(help(sys.exc_info))"
      ],
      "metadata": {
        "colab": {
          "base_uri": "https://localhost:8080/"
        },
        "id": "lCjfX_P52PjL",
        "outputId": "020287fb-be67-41b4-9c64-1e3f7c5ddfa3"
      },
      "execution_count": null,
      "outputs": [
        {
          "output_type": "stream",
          "name": "stdout",
          "text": [
            "Please check:  <class 'ZeroDivisionError'>\n",
            "Help on built-in function exc_info in module sys:\n",
            "\n",
            "exc_info(...)\n",
            "    exc_info() -> (type, value, traceback)\n",
            "    \n",
            "    Return information about the most recent exception caught by an except\n",
            "    clause in the current stack frame or in an older stack frame.\n",
            "\n",
            "None\n"
          ]
        }
      ]
    },
    {
      "cell_type": "code",
      "source": [
        "import sys\n",
        "a = [1,2,'a',0]\n",
        "#For loop for iterating across the above a list\n",
        "#try except : 1/i  \n",
        "for i in a:\n",
        "  try:\n",
        "    r = 1/i\n",
        "  except:\n",
        "    print(\"Please check :\",sys.exc_info()[0])\n",
        "  finally:\n",
        "    print(\"the reversal of value that is lastly fetched :\",r)"
      ],
      "metadata": {
        "colab": {
          "base_uri": "https://localhost:8080/"
        },
        "id": "1yc36Ykp2koY",
        "outputId": "2a485bd7-96d0-405a-fffd-3311f317e358"
      },
      "execution_count": null,
      "outputs": [
        {
          "output_type": "stream",
          "name": "stdout",
          "text": [
            "the reversal of value that is lastly fetched : 1.0\n",
            "the reversal of value that is lastly fetched : 0.5\n",
            "Please check : <class 'TypeError'>\n",
            "the reversal of value that is lastly fetched : 0.5\n",
            "Please check : <class 'ZeroDivisionError'>\n",
            "the reversal of value that is lastly fetched : 0.5\n"
          ]
        }
      ]
    },
    {
      "cell_type": "code",
      "source": [
        "#Raise : Exception can be raised when errors occur at runtime. We can also manually raise exceptions using riase keyword.\n",
        "#ZeroDivissionError\n",
        "#ValueError\n",
        "#NameError\n",
        "#TypeError\n",
        "import sys\n",
        "try:\n",
        "  a = int(input(\"Ener a positive integer\"))\n",
        "  if a <= 0:\n",
        "    raise ValueError(\"This is not a positive number!!\")\n",
        "except ValueError:\n",
        "  print(sys.exc_info()[0])"
      ],
      "metadata": {
        "colab": {
          "base_uri": "https://localhost:8080/"
        },
        "id": "rwejEm7W5OBL",
        "outputId": "9747a9ba-b277-49df-f571-a132a4580750"
      },
      "execution_count": null,
      "outputs": [
        {
          "output_type": "stream",
          "name": "stdout",
          "text": [
            "Ener a positive integer-2\n",
            "<class 'ValueError'>\n"
          ]
        }
      ]
    },
    {
      "cell_type": "code",
      "source": [
        "a = input(\"Enter a string: \") #Hello \n",
        "# verify if Hello entered in the string \n",
        "#Raise an exception => ValueError\n",
        "try:\n",
        "  if a.__contains__(\"Hello\"):\n",
        "    pass\n",
        "  else:\n",
        "    raise ValueError(\"Entered string donot containss a Hello\")\n",
        "except ValueError:\n",
        "  print(sys.exc_info()[0])\n",
        "else:\n",
        "  print(\"Entered string is correct. It contain Hello\")"
      ],
      "metadata": {
        "colab": {
          "base_uri": "https://localhost:8080/"
        },
        "id": "4f0EekVR7rr2",
        "outputId": "822364d0-e842-4ab3-9656-3ea87a3f1bbb"
      },
      "execution_count": null,
      "outputs": [
        {
          "output_type": "stream",
          "name": "stdout",
          "text": [
            "Enter a string: Hi Naveen\n",
            "<class 'ValueError'>\n"
          ]
        }
      ]
    },
    {
      "cell_type": "code",
      "source": [
        "a = \"Hello World\"\n",
        "print(a.__contains__(\"Hello\"))"
      ],
      "metadata": {
        "colab": {
          "base_uri": "https://localhost:8080/"
        },
        "id": "47179m359Jhl",
        "outputId": "5595841c-4fc4-4844-c71d-475111df2f35"
      },
      "execution_count": null,
      "outputs": [
        {
          "output_type": "stream",
          "name": "stdout",
          "text": [
            "True\n"
          ]
        }
      ]
    },
    {
      "cell_type": "code",
      "source": [
        "import sys\n",
        "c = []\n",
        "#if value entered isa integer (and not a string) type\n",
        "#  c.append(a)\n",
        "#raise exception\n",
        "for i in range(5):\n",
        "  try:\n",
        "    a = int(input(\"Enter a value\"))\n",
        "    if type(a) is int:\n",
        "      c.append(a)\n",
        "    else:\n",
        "      raise ValueError\n",
        "  except ValueError:\n",
        "    print(\"Entered value is not an integer:\",sys.exc_info()[0])\n",
        "  except:\n",
        "    print(\"Entered data is incorrect due to \",sys.exc_info()[0])\n",
        "  finally:\n",
        "    #print(\"5 chances are over\")\n",
        "    print(c)"
      ],
      "metadata": {
        "colab": {
          "base_uri": "https://localhost:8080/"
        },
        "id": "JmR2pA6V9P-Z",
        "outputId": "b4197ecd-b66d-4f05-97b8-fcaf62c9cf2c"
      },
      "execution_count": null,
      "outputs": [
        {
          "output_type": "stream",
          "name": "stdout",
          "text": [
            "Enter a value1\n",
            "[1]\n",
            "Enter a valuehello\n",
            "Entered value is not an integer: <class 'ValueError'>\n",
            "[1]\n",
            "Enter a value3\n",
            "[1, 3]\n",
            "Enter a value5\n",
            "[1, 3, 5]\n",
            "Enter a value6\n",
            "[1, 3, 5, 6]\n"
          ]
        }
      ]
    },
    {
      "cell_type": "code",
      "source": [
        "#Exception handling : some more programs\n",
        "#Uer defined exceptions : Class and objects\n",
        "#Oops Intro"
      ],
      "metadata": {
        "id": "F2OZeC1VA3pm"
      },
      "execution_count": null,
      "outputs": []
    },
    {
      "cell_type": "code",
      "source": [
        "#Update Dictionary using Exception handling\n",
        "#Validate Key value pair if that is Key:Value format or not\n",
        "import sys\n",
        "c = {}\n",
        "#if value entered is a integer (and not a string) type\n",
        "#  c.append(a)\n",
        "#raise exception\n",
        "for i in range(5):\n",
        "  try:\n",
        "    a = input(\"Enter a Key Value Pair\")#string\n",
        "    c.update({a.split(\":\")[0]:a.split(\":\")[1]})\n",
        "  except Exception as e:\n",
        "    print(\"Entered value is not in a format of key value pair:\",sys.exc_info()[0])\n",
        "  except:\n",
        "    print(\"Entered data is incorrect due to \",sys.exc_info()[0])\n",
        "  finally:\n",
        "    #print(\"5 chances are over\")\n",
        "    print(c)"
      ],
      "metadata": {
        "id": "puJHCE4UVkdt",
        "colab": {
          "base_uri": "https://localhost:8080/"
        },
        "outputId": "fd88542e-4ce3-4f51-c7e1-18344afdd218"
      },
      "execution_count": null,
      "outputs": [
        {
          "output_type": "stream",
          "name": "stdout",
          "text": [
            "Enter a Key Value PairName:Naga\n",
            "{'Name': 'Naga'}\n",
            "Enter a Key Value PairName;Naga\n",
            "Entered value is not an integer: <class 'IndexError'>\n",
            "{'Name': 'Naga'}\n",
            "Enter a Key Value PairAge:32\n",
            "{'Name': 'Naga', 'Age': '32'}\n",
            "Enter a Key Value Pair3\n",
            "Entered value is not an integer: <class 'IndexError'>\n",
            "{'Name': 'Naga', 'Age': '32'}\n",
            "Enter a Key Value PairHeight:5.5\n",
            "{'Name': 'Naga', 'Age': '32', 'Height': '5.5'}\n"
          ]
        }
      ]
    },
    {
      "cell_type": "code",
      "source": [
        "a = \"Name:Naga\"\n",
        "a.split(\":\")"
      ],
      "metadata": {
        "id": "yY9b_mHZVhXO",
        "colab": {
          "base_uri": "https://localhost:8080/"
        },
        "outputId": "3639640d-6410-4fa5-be8c-cbb3e32fecba"
      },
      "execution_count": null,
      "outputs": [
        {
          "output_type": "execute_result",
          "data": {
            "text/plain": [
              "['Name', 'Naga']"
            ]
          },
          "metadata": {},
          "execution_count": 1
        }
      ]
    },
    {
      "cell_type": "code",
      "source": [
        "c = {}\n",
        "c.update({\"Nama\":\"Naga\"})"
      ],
      "metadata": {
        "id": "Ze6CMUr9WvJM"
      },
      "execution_count": null,
      "outputs": []
    },
    {
      "cell_type": "code",
      "source": [
        "#Exception handling  : Files and files operation => Pending"
      ],
      "metadata": {
        "id": "7GT80wNHXGIO"
      },
      "execution_count": null,
      "outputs": []
    },
    {
      "cell_type": "code",
      "source": [
        "#Programming designs\n",
        "#OOPS: class and object\n",
        "#POPS : Sequential and step by step\n",
        "#main ()\n",
        "\n",
        "#Address main : program Counter (00001)\n",
        "#includes \n",
        "#void main ()\n",
        "# {\n",
        "    #func1 \n",
        "    #func2\n",
        "    #func3\n",
        "#}"
      ],
      "metadata": {
        "id": "-yjltFcxaEGT"
      },
      "execution_count": null,
      "outputs": []
    },
    {
      "cell_type": "markdown",
      "source": [
        "![image.png](data:image/png;base64,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)"
      ],
      "metadata": {
        "id": "3VjMY-cLeV1H"
      }
    },
    {
      "cell_type": "code",
      "source": [
        ""
      ],
      "metadata": {
        "id": "yXY-Qw7oeX7l"
      },
      "execution_count": null,
      "outputs": []
    },
    {
      "cell_type": "markdown",
      "source": [
        "#OOPS : Object oriented programming.\n",
        "a Programming design based on the concept of \"objects\". object can contain for eg., User's properties(variables), methods(functions/logic).\n",
        "data and code.\n",
        "data : user data in the form of fields\n",
        "code : logic/procedures\n",
        "OOPS organizes software design around the data/objects rather than functions and logics.\n",
        "\n",
        "OOPS : well aligned with your software architecture. once you derive your SW architecture you are almost done with the high level design and will be ready with your low level design easily\n",
        "POPS: Is more of functions and logic. Not well aligned with your SW architecture. and HLD and LLD are complex in POPS.\n",
        "\n",
        "OOPS : Used to structure software program into simple, re-usable prices of code (classes) => which is intern used to instantiate object\n",
        "\n",
        "Applications of OOPS:\n",
        "*Client - server systems\n",
        "*Real time system design\n",
        "*Simulation and modelling system\n",
        "*Office automation systems\n",
        "\n",
        "Examples of OOPS : Java, C++, Python\n",
        "\n",
        "Concepts in OOPS:\n",
        "=> Class\n",
        "=> Object\n",
        "=> Encapsulation\n",
        "=> Abstraction\n",
        "=> Inheritance\n",
        "=> Polymorphism\n",
        "\n",
        "Class :\n",
        "A class is a collection of objects. A class contains a blueprint or prototype from which objects are being created. It is a logical entity that contains some properties and methods.\n",
        "Let's say you wanted to calculate aggregate of given 6 subjects from a user. Let us suppose 100 users are there => How would you know which elemet is supposed to which? What is you want to add 1 more subject. \n",
        "\n",
        "class ClassName:\n",
        "  Statement 1 : can be a property declaration/method definition\n",
        "  Statement 2 \n",
        "  Statement 3\n",
        "eg.,\n",
        "class UserData:#Naga, Naveen, Mamatha\n",
        "  Name = \"\"\n",
        "  Age = 0\n",
        "  Marks = []\n",
        "  def func:\n",
        "     total = sum(sub+sub+.....sub6)\n",
        "     aggre = total/6\n",
        "     print(aggre)\n",
        "\n",
        "Naga = UserData()\n",
        "Naga.Name = \"Naga\"\n",
        "Naga.Age = 32\n",
        "Naga.func()\n",
        "Naveen = UserData()\n",
        "\n",
        "Object: Is an entity that has a state and behavior associated with it. It is an instance of a class. It is a zerox of class. It may be a real world object => like user data.\n",
        "Object : State, Behaviour, Identity\n",
        "State: reflect the properties ofan object\n",
        "Behavior : Reflets the methods of the object\n",
        "Identity : Uniue name to object and enables one object to interact with other.\n",
        "\n",
        "Identiy : Name of the User\n",
        "State : Age, Height, Colour,\n",
        "Behav: Education => Academics behaviour. Good/Avg/Above Avg/BelowAvg/Fail\n",
        "\n",
        "POPS vs OOPS\n",
        "1) POPS is more of functions and variables whereas OOPS is more of classes and objects, properties and methods\n",
        "2) POPS is not well aligned with your SW architecture whereas OOPS is well aligned with your SW architecture => LLD (low level deisgn) is easier in OOPS and LLD is little difficult in POPS\n",
        "3)When you are working in teams POPS is very diffcult whereas OOPS is easy\n",
        "\n",
        "HLD : High level Design\n",
        "LLD : Low level Design"
      ],
      "metadata": {
        "id": "7hbGsbW7gHsf"
      }
    },
    {
      "cell_type": "markdown",
      "source": [
        "For eg., SW => Calcualate In hand from Gross pay. \n",
        "Employee is the class name\n",
        "properties : \n",
        "        Name\n",
        "        Age\n",
        "        Dept\n",
        "        Salary (Gross)\n",
        "methods:\n",
        "        Calculate_In_Hand():\n",
        "          Salaray gross as input and prints In hand as output\n",
        "          => 10% of my gross is In hand\n",
        "          for eg., 5L is the gross and 10% is taxation => In Hand = 4,50,000"
      ],
      "metadata": {
        "id": "V7xCIQ_5h2qT"
      }
    },
    {
      "cell_type": "markdown",
      "source": [
        "For eg., \n",
        "SW which would maintain student database (School / College). Scholarship provision\n",
        "Class Student():\n",
        "  properties:\n",
        "        Name\n",
        "        Age\n",
        "        Class\n",
        "        Section\n",
        "        Marks\n",
        "  methods:\n",
        "        Scholarship()\n",
        "        Calc_Agregrate()"
      ],
      "metadata": {
        "id": "SctMt8CQjf9j"
      }
    },
    {
      "cell_type": "markdown",
      "source": [
        "SW : Employee Bonus Calculation. Bonus Based on his yrs of exp, yrs of service in the company, Rating, Salary.\n",
        "\n",
        "class Employee():\n",
        "  properties:\n",
        "    Name\n",
        "    Age\n",
        "    Dept\n",
        "    Salary\n",
        "    Total_Exp_Yrs\n",
        "    DOJ_Curr_Company\n",
        "    Rating_Database\n",
        "  methods:\n",
        "    Bonus_Calc()\n",
        "    Yrs_Service_Curr_Comp(): DOJ\n",
        "    "
      ],
      "metadata": {
        "id": "vsYpSp6TjiGR"
      }
    },
    {
      "cell_type": "markdown",
      "source": [
        "SW : Zoo (How many wild and domestic animals). \n",
        "     Birds ?\n",
        "\n",
        "Zoo : Animals and Birds => \n",
        "      Animals => Wild Animals and Domestic\n",
        "      Birds => Domestic and Wild\n",
        "      Wild => Carnivorous and Herbiorous\n",
        "      Domestic => Carnivorous and Herbiorous\n",
        "      Animals and Birds => Based on type(Name of animal)\n",
        "      Count()\n",
        "\n",
        "class Birds():\n",
        "    properties:\n",
        "        ID : \n",
        "        Type : wild_Domestic\n",
        "        Zoo_Keeper : \n",
        "    methods:\n",
        "        Food_Amount():\n",
        "\n",
        "Tiger1 = Animals()\n",
        "Tiger2 = Animals()\n",
        "Deer = Animals()\n",
        "Parrot = Birds()\n",
        "\n",
        "Tiger1.ID = \"AT101\"\n",
        "Tiger1.Type = \"Wild\"\n",
        "Tiger1.Zoo_Keeper = \"KT1\"\n",
        "\n",
        "Tiger2.ID = \"AT102\"\n",
        "Tiger2.Type = \"Wild\"\n",
        "Tiger2.Zoo_Keeper = \"KT1\"\n",
        "\n",
        "Deer.ID = \"AD100\"\n",
        "Deer.Type = \"Wild\"\n",
        "Deep.Zoo_Keeper = \"KD2\""
      ],
      "metadata": {
        "id": "uV1HOocTkr5R"
      }
    },
    {
      "cell_type": "code",
      "source": [
        "#Home work\n",
        "#class Animals():\n",
        "#    #properties:\n",
        "#    def __init__(self,ID = \"\",Type = \"\",Zoo_Keeper = \"\")\n",
        "#        self.ID  =  ID\n",
        "#        Type : wild_Domestic\n",
        "#        Zoo_Keeper : \n",
        "#    methods:\n",
        "#        Food_Amount():\n",
        "\n"
      ],
      "metadata": {
        "id": "2Pu4QNEiwdIK"
      },
      "execution_count": null,
      "outputs": []
    },
    {
      "cell_type": "markdown",
      "source": [
        "SW : People around in a city are vaccinated? (Arogya Sethu)\n",
        "\n",
        "class People:\n",
        "      properties:\n",
        "          Name\n",
        "          Age\n",
        "          mobile_number\n",
        "          blood_grp\n",
        "          Aadhar ID\n",
        "      methods:\n",
        "          Log_vaccination\n",
        "          Fully_partly_Vaccinated\n",
        "          Riskometer\n",
        "          Calc_next_Vaccination\n",
        "          Book_Slot"
      ],
      "metadata": {
        "id": "k531MeWjnUtH"
      }
    },
    {
      "cell_type": "code",
      "source": [
        "class student():\n",
        "  #properties\n",
        "  Name = \"\"\n",
        "  ID = \"\"\n",
        "  Marks = []\n",
        "  #methods\n",
        "  def calc_Aggregate(self,Marks):\n",
        "    Total = 0\n",
        "    Aggregate = 0.0\n",
        "    for i in Marks:\n",
        "      Total += i #Total = Total + i\n",
        "    Aggregate = Total/len(Marks)\n",
        "    return Aggregate \n",
        "\n",
        "stu1 = student()\n",
        "stu1.Name = \"Naveen\"\n",
        "stu1.ID = \"JTPY0101\"\n",
        "stu1.Marks = [90,89,88,87,98,100]\n",
        "aggre_marks  = stu1.calc_Aggregate(stu1.Marks)# => student.calc_Aggregate(stu1)\n",
        "print(\"Aggregate of {} whose ID is {} is {}\".format(stu1.Name,stu1.ID,aggre_marks))"
      ],
      "metadata": {
        "colab": {
          "base_uri": "https://localhost:8080/"
        },
        "id": "ZBDZXBhxptaB",
        "outputId": "9dcd49f5-8755-49d7-e898-73201c9df7ef"
      },
      "execution_count": null,
      "outputs": [
        {
          "output_type": "stream",
          "name": "stdout",
          "text": [
            "Aggregate of Naveen whose ID is JTPY0101 is 92.0\n"
          ]
        }
      ]
    },
    {
      "cell_type": "code",
      "source": [
        "class student():\n",
        "  #properties\n",
        "  def __init__(self,name = \"\",id = \"\",marks=[]):# Class functions that begin with double underscore are special functions as they have special meaning.\n",
        "  #out of them __init__() method. THis special function gets called whenever a new object is instantiated.\n",
        "  # Constructor\n",
        "    self.Name = name\n",
        "    self.ID = id\n",
        "    self.Marks = marks\n",
        "  #methods\n",
        "  def calc_Aggregate(self,Marks):\n",
        "    Total = 0\n",
        "    Aggregate = 0.0\n",
        "    for i in Marks:\n",
        "      Total += i #Total = Total + i\n",
        "    Aggregate = Total/len(Marks)\n",
        "    return Aggregate \n",
        "\n",
        "stu1 = student(\"Naveen\",\"JTPY0101\",[98,90,98,99,100,85])\n",
        "print(stu1.Name)\n",
        "print(\"Aggregate of {} whose ID is {} is {}\".format(stu1.Name,stu1.ID,stu1.calc_Aggregate(stu1.Marks)))"
      ],
      "metadata": {
        "colab": {
          "base_uri": "https://localhost:8080/"
        },
        "id": "a9E2CI0Rqx7I",
        "outputId": "7760b3bf-380e-477d-c983-75069c774412"
      },
      "execution_count": null,
      "outputs": [
        {
          "output_type": "stream",
          "name": "stdout",
          "text": [
            "Naveen\n",
            "Aggregate of Naveen whose ID is JTPY0101 is 95.0\n"
          ]
        }
      ]
    },
    {
      "cell_type": "code",
      "source": [
        ""
      ],
      "metadata": {
        "id": "JWtXoeuGuwZb"
      },
      "execution_count": null,
      "outputs": []
    },
    {
      "cell_type": "markdown",
      "source": [
        "#19th May 2022\n",
        "Polymorphism: \n",
        "It refers to the use of single type entity (method, operator, or object) to represent different types in different scenarios. \n",
        "Eg.,\n",
        "len() : len(string) => \n",
        "len(List) => \n",
        "len(dict) => \n",
        "\n",
        "Area : Sqaure,Circle, Rectangle\n",
        "class Sqaure:\n",
        "  def Area(side):\n",
        "    return side**2\n",
        "class Cirle:\n",
        "  def Area(radius):\n",
        "    return pi*radius**2\n",
        "\n",
        "+ : "
      ],
      "metadata": {
        "id": "HftwwSrzo12g"
      }
    },
    {
      "cell_type": "code",
      "source": [
        "string1 = \"Naga\"\n",
        "len(string1)"
      ],
      "metadata": {
        "colab": {
          "base_uri": "https://localhost:8080/"
        },
        "id": "WbhHjPKX04Ug",
        "outputId": "3e28dad7-52d6-424b-91cf-559344ce0179"
      },
      "execution_count": null,
      "outputs": [
        {
          "output_type": "execute_result",
          "data": {
            "text/plain": [
              "4"
            ]
          },
          "metadata": {},
          "execution_count": 6
        }
      ]
    },
    {
      "cell_type": "code",
      "source": [
        "a = [1,2,3,4]\n",
        "len(a)"
      ],
      "metadata": {
        "colab": {
          "base_uri": "https://localhost:8080/"
        },
        "id": "CN5E7F82061I",
        "outputId": "ab06cd65-516f-4a41-ead9-ebf22493d163"
      },
      "execution_count": null,
      "outputs": [
        {
          "output_type": "execute_result",
          "data": {
            "text/plain": [
              "4"
            ]
          },
          "metadata": {},
          "execution_count": 7
        }
      ]
    },
    {
      "cell_type": "code",
      "source": [
        "a = \"2\"\n",
        "b = \"3\"\n",
        "sum1 = a+b\n",
        "sum1"
      ],
      "metadata": {
        "colab": {
          "base_uri": "https://localhost:8080/",
          "height": 36
        },
        "id": "TCqJNfEN09CN",
        "outputId": "f6034d61-3ed9-4e23-fad5-1233c5e38212"
      },
      "execution_count": null,
      "outputs": [
        {
          "output_type": "execute_result",
          "data": {
            "text/plain": [
              "'23'"
            ],
            "application/vnd.google.colaboratory.intrinsic+json": {
              "type": "string"
            }
          },
          "metadata": {},
          "execution_count": 10
        }
      ]
    },
    {
      "cell_type": "code",
      "source": [
        "class Square:\n",
        "  def __init__(self,side):\n",
        "    self.Side = side\n",
        "  \n",
        "  def Area(self):\n",
        "    return self.Side**2\n",
        "\n",
        "class Circle:\n",
        "  def __init__(self,radius):\n",
        "    self.Radius = radius\n",
        "  \n",
        "  def Area(self,pi):\n",
        "    return pi*self.Radius**2 \n",
        "\n",
        "sq_field = Square(4)#4M\n",
        "areof_my_field = sq_field.Area()\n",
        "print(areof_my_field)\n",
        "\n",
        "circle_field = Circle(6)#6m\n",
        "areof_my_field = circle_field.Area(3.14)\n",
        "print(areof_my_field)"
      ],
      "metadata": {
        "colab": {
          "base_uri": "https://localhost:8080/"
        },
        "id": "Ydg7fF902MnH",
        "outputId": "3adb6a38-8f15-4a2b-aac1-804241cfee3c"
      },
      "execution_count": null,
      "outputs": [
        {
          "output_type": "stream",
          "name": "stdout",
          "text": [
            "16\n",
            "113.04\n"
          ]
        }
      ]
    },
    {
      "cell_type": "code",
      "source": [
        "#Cat and Dog\n",
        "#sound() : meow and Bow Bow \n",
        "class Cat:\n",
        "  def __init__(self):\n",
        "    print(\"This is a Cat class\")\n",
        "  \n",
        "  def sound(self):\n",
        "    print(\"Sound made by a cat is Meow\")\n",
        "\n",
        "class Dog:\n",
        "  def __init__(self):\n",
        "    print(\"This is a Dog class\")\n",
        "  \n",
        "  def sound(self):\n",
        "    print(\"Sound made by a Dog is Bow Bow\")\n",
        "\n",
        "Jimmy = Dog()\n",
        "Tom = Cat()\n",
        "Jimmy.sound()\n",
        "Tom.sound()"
      ],
      "metadata": {
        "colab": {
          "base_uri": "https://localhost:8080/"
        },
        "id": "N9U_uT3G3CUl",
        "outputId": "29068995-98e1-4853-dc6e-049161ef6a57"
      },
      "execution_count": null,
      "outputs": [
        {
          "output_type": "stream",
          "name": "stdout",
          "text": [
            "This is a Dog class\n",
            "This is a Cat class\n",
            "Sound made by a Dog is Bow Bow\n",
            "Sound made by a cat is Meow\n"
          ]
        }
      ]
    },
    {
      "cell_type": "code",
      "source": [
        "#Ferrari : Petrol\n",
        "#BMW : Diesel\n",
        "#fuel_type()\n",
        "\n",
        "class Ferrari:\n",
        "  def __init__(self):\n",
        "    self.fuel_type()\n",
        "\n",
        "  def fuel_type(self):\n",
        "    print(\"The fuel type of Ferrari is Petrol\")\n",
        "  \n",
        "class BMW:\n",
        "  def __init__(self):\n",
        "    self.fuel_type()\n",
        "    \n",
        "  def fuel_type(self):\n",
        "    print(\"The fuel type of BMW is Diesel\")\n",
        "\n",
        "Ferrari1 = Ferrari()\n",
        "BMW1 = BMW()"
      ],
      "metadata": {
        "colab": {
          "base_uri": "https://localhost:8080/"
        },
        "id": "s_jSU1DJ5ywD",
        "outputId": "aff9d456-9f74-4bb5-bc37-a38792c9dfbb"
      },
      "execution_count": null,
      "outputs": [
        {
          "output_type": "stream",
          "name": "stdout",
          "text": [
            "The fuel type of Ferrari is Petrol\n",
            "The fuel type of BMW is Diesel\n"
          ]
        }
      ]
    },
    {
      "cell_type": "code",
      "source": [
        ""
      ],
      "metadata": {
        "id": "WGHD3cSp7WDT"
      },
      "execution_count": null,
      "outputs": []
    },
    {
      "cell_type": "markdown",
      "source": [
        "#Inheritance\n",
        "Refers to defining a new class with minimal or no modifications to an existing class. New class is called derived class. and one from which you inherited is called base class.\n",
        "\n",
        "class Circle: #Base class\n",
        "  #proeprties\n",
        "  radius\n",
        "  #method\n",
        "  def Area():\n",
        "    return pi*radius**2\n",
        "\n",
        "class Cylinder(Circle):#derived class /child class\n",
        "  #properties\n",
        "  height\n",
        "  #methods\n",
        "  \n",
        "  def Volume(self):\n",
        "    return self.Area()*height\n",
        "\n",
        "DErived class inheritsfeatures from the base class where new features can be added to it. This results in re-usability of code."
      ],
      "metadata": {
        "id": "zUFCLAbkzG4Q"
      }
    },
    {
      "cell_type": "code",
      "source": [
        "class Circle:\n",
        "  def __init__(self,radius):\n",
        "    self.Radius = radius\n",
        "  \n",
        "  def Area(self):\n",
        "    return 3.14*self.Radius**2#pi * r **2\n",
        "\n",
        "class Cylinder(Circle):\n",
        "  def __init__(self,height,radius):\n",
        "    self.Height = height\n",
        "    self.Radius = radius\n",
        "\n",
        "  def Volume(self):\n",
        "    return self.Area()*self.Height#pi * r**2 * h\n",
        "\n",
        "base_glass = Circle(4)\n",
        "glass = Cylinder(1,10)\n",
        "Vol = glass.Volume()\n",
        "print(Vol)"
      ],
      "metadata": {
        "colab": {
          "base_uri": "https://localhost:8080/"
        },
        "id": "saViBo9d1xcM",
        "outputId": "d276a3af-2268-4306-e168-b06d416c717b"
      },
      "execution_count": null,
      "outputs": [
        {
          "output_type": "stream",
          "name": "stdout",
          "text": [
            "314.0\n"
          ]
        }
      ]
    },
    {
      "cell_type": "code",
      "source": [
        "class Sum_2_numbers:#base class\n",
        "  def __init__(self,a,b):\n",
        "    self.First_num = a\n",
        "    self.Second_num = b\n",
        "\n",
        "  def sum_2(self):\n",
        "    return self.First_num + self.Second_num\n",
        "\n",
        "class Sum_3_numbers(Sum_2_numbers):\n",
        "  def __init__(self,a,b,c):\n",
        "    self.First_num = a\n",
        "    self.Second_num = b\n",
        "    self.Third_num = c\n",
        "  \n",
        "  def sum_3(self):\n",
        "    return self.sum_2()+self.Third_num\n",
        "\n",
        "my_3_num_sum = Sum_3_numbers(2,3,4)\n",
        "a = my_3_num_sum.sum_3()\n",
        "print(a)"
      ],
      "metadata": {
        "colab": {
          "base_uri": "https://localhost:8080/"
        },
        "id": "dzYF_0BT5HMK",
        "outputId": "9b0908c5-2faa-403b-9dff-1c17ef015992"
      },
      "execution_count": null,
      "outputs": [
        {
          "output_type": "stream",
          "name": "stdout",
          "text": [
            "9\n"
          ]
        }
      ]
    },
    {
      "cell_type": "code",
      "source": [
        "#Person : base class\n",
        "#isEmployee() : return False\n",
        "#Employee : child class\n",
        "#isEmployee() : return True\n",
        "\n",
        "class Person:\n",
        "  def isEmployee(self):\n",
        "    print(\"No need that you are an employee\")\n",
        "\n",
        "class Employee(Person):\n",
        "  def isEmployee(self):\n",
        "    print(\"Yes! you are an employee\")\n",
        "\n",
        "Naga = Person()\n",
        "naveen = Employee()\n",
        "Naga.isEmployee()\n",
        "naveen.isEmployee()"
      ],
      "metadata": {
        "colab": {
          "base_uri": "https://localhost:8080/"
        },
        "id": "EiUPZjca8TdQ",
        "outputId": "676f4a86-7b2b-448a-c2f4-f514aa21e908"
      },
      "execution_count": null,
      "outputs": [
        {
          "output_type": "stream",
          "name": "stdout",
          "text": [
            "No need that you are an employee\n",
            "Yes! you are an employee\n"
          ]
        }
      ]
    },
    {
      "cell_type": "code",
      "source": [
        "#Person : printName()\n",
        "#Student : pass\n",
        "class Person:\n",
        "  def __init__(self,firstname,secondname):\n",
        "    self.FirstName = firstname\n",
        "    self.SecondName = secondname\n",
        "\n",
        "  def printName(self):\n",
        "    print(self.FirstName,self.SecondName)\n",
        "\n",
        "class Student(Person):\n",
        "  pass\n",
        "  # => \n",
        "'''\n",
        "  def __init__(self,firstname,secondname):\n",
        "    self.FirstName = firstname\n",
        "    self.SecondName = secondname\n",
        "\n",
        "  def printName(self):\n",
        "    print(self.FirstName,self.SecondName)\n",
        "'''\n",
        "\n",
        "Naga = Student(\"Naga\",\"Arjun\")\n",
        "Naga.printName()"
      ],
      "metadata": {
        "colab": {
          "base_uri": "https://localhost:8080/"
        },
        "id": "MWgyM1a2-36G",
        "outputId": "18ef2835-1945-4477-af92-e79296010698"
      },
      "execution_count": null,
      "outputs": [
        {
          "output_type": "stream",
          "name": "stdout",
          "text": [
            "Naga Arjun\n"
          ]
        }
      ]
    },
    {
      "cell_type": "code",
      "source": [
        "#Types of inheritance => Simple, Multi Level, Multiple Inheritance and Heirarchial Inheritance\n",
        "#Simple Inheritance\n",
        "#MultiLevel\n",
        "class GrandParent:#Base class\n",
        "  #properties\n",
        "  def __init__(self,Name,Age,LStatus):\n",
        "    self.Name =  Name\n",
        "    self.Age = Age\n",
        "    self.Living_status = LStatus\n",
        "  \n",
        "  #Methods\n",
        "\n",
        "class Parent(GrandParent):#Derived class to GrandParent but a base class to child class\n",
        "    def __init__(self,Name,Age,LStatus,Job):\n",
        "      super().__init__(Name,Age,LStatus)\n",
        "      self.Job = Job\n",
        "  \n",
        "class child(Parent):#Derived class to Parent class but a base class to Grand Child class\n",
        "  pass\n",
        "\n",
        "class GrandChild(child):# Derived class\n",
        "  pass\n",
        "\n",
        "p1 = GrandChild(\"Naga\",32,\"Alive\",\"IT\")\n",
        "print(p1.Age)\n",
        "print(p1.Living_status)\n",
        "print(p1.Name)\n",
        "print(p1.Job)"
      ],
      "metadata": {
        "id": "b71_sQ6xAwa9",
        "colab": {
          "base_uri": "https://localhost:8080/"
        },
        "outputId": "d9fff660-a9cd-485a-d94d-b7ccacbd19f2"
      },
      "execution_count": 22,
      "outputs": [
        {
          "output_type": "stream",
          "name": "stdout",
          "text": [
            "32\n",
            "Alive\n",
            "Naga\n",
            "IT\n"
          ]
        }
      ]
    },
    {
      "cell_type": "code",
      "source": [
        "class Circle:\n",
        "  def __init__(self,radius):\n",
        "    self.Radius = radius\n",
        "  \n",
        "  def Area(self):\n",
        "    return 3.14*self.Radius**2#pi * r **2\n",
        "\n",
        "class Cylinder(Circle):\n",
        "  def __init__(self,height,radius):\n",
        "    #Circle.__init__(self,radius)\n",
        "    super().__init__(radius)\n",
        "    self.Height = height\n",
        "    #self.Radius = radius\n",
        "\n",
        "  def Volume(self):\n",
        "    return self.Area()*self.Height#pi * r**2 * h\n",
        "\n",
        "class Pyramid(Cylinder):\n",
        "  def Volume(self):\n",
        "    return self.Area()*self.Height/3#pi * r**2 * h/3\n",
        "\n",
        "class Trap(Pyramid):\n",
        "  pass\n",
        "\n",
        "#base_glass = Circle(4)\n",
        "Bigger_Cone = Trap(1,10)\n",
        "Smaller_Cone = Trap(0.5,5)\n",
        "Vol_Big = Bigger_Cone.Volume()\n",
        "Vol_Small = Smaller_Cone.Volume()\n",
        "print(\"Volume of Trap is : \",Vol_Big - Vol_Small)"
      ],
      "metadata": {
        "colab": {
          "base_uri": "https://localhost:8080/"
        },
        "id": "M-uIpJ8jS8B8",
        "outputId": "3d171e5e-a5ff-471f-8482-b5ed46bc88fb"
      },
      "execution_count": 19,
      "outputs": [
        {
          "output_type": "stream",
          "name": "stdout",
          "text": [
            "Volume of Trap is :  91.58333333333334\n"
          ]
        }
      ]
    },
    {
      "cell_type": "code",
      "source": [
        ""
      ],
      "metadata": {
        "id": "UJ1SEJizWanS"
      },
      "execution_count": null,
      "outputs": []
    },
    {
      "cell_type": "code",
      "source": [
        "#Multiple INheritance\n",
        "class Father:#Base class\n",
        "  def __init__(self,Height,Fairness,Interests):\n",
        "    self.Height = Height\n",
        "    self.Fairness = Fairness\n",
        "    self.Interests = Interests\n",
        "\n",
        "class Mother:#Derived class to GrandParent but a base class to child class\n",
        "  def __init__(self,Attitude, Hobbies):\n",
        "    self.Attitude = Attitude\n",
        "    self.Hobbies = Hobbies\n",
        "\n",
        "class child(Father, Mother):#Derived class to Parent class but a base class to Grand Child class\n",
        "  def __init__(self, Height, Fairness, Interests, Attitude, Hobbies):\n",
        "    Father.__init__(self,Height,Fairness,Interests)\n",
        "    Mother.__init__(self,Attitude,Hobbies)\n",
        "\n",
        "Naveen = child(5.7,\"Fair\",\"Cricket\",\"StraighFwd\", \"Exploring\")\n",
        "print(Naveen.Attitude)"
      ],
      "metadata": {
        "id": "Yc6I54H8CEGq",
        "colab": {
          "base_uri": "https://localhost:8080/"
        },
        "outputId": "7398b737-bec3-47dc-ceee-20ed0fa7919a"
      },
      "execution_count": 27,
      "outputs": [
        {
          "output_type": "stream",
          "name": "stdout",
          "text": [
            "StraighFwd\n"
          ]
        }
      ]
    },
    {
      "cell_type": "code",
      "source": [
        "class Mul:\n",
        "  def mul_method(self,a,b):\n",
        "    print(\"MUl of two number :\", a*b)\n",
        "\n",
        "class Div:\n",
        "  def div_method(self,a,b):\n",
        "    print(\"Div of two number :\", a/b)\n",
        "\n",
        "class Arith(Mul, Div):\n",
        "  #def func(self,a,b)        \n",
        "  pass\n",
        "\n",
        "simple_op = Arith()\n",
        "simple_op.mul_method(2,3)\n",
        "simple_op.div_method(1,2)"
      ],
      "metadata": {
        "colab": {
          "base_uri": "https://localhost:8080/"
        },
        "id": "PxzjN-3ycjNg",
        "outputId": "9bbd9dc4-a5ff-47fb-d331-2631fc71a83a"
      },
      "execution_count": 30,
      "outputs": [
        {
          "output_type": "stream",
          "name": "stdout",
          "text": [
            "MUl of two number : 6\n",
            "Div of two number : 0.5\n"
          ]
        }
      ]
    },
    {
      "cell_type": "code",
      "source": [
        "#Heirarchial INheritance\n",
        "class Parent:\n",
        "  def __init__(self,Name,Age,Hobbies, Interests):\n",
        "    self.Name = Name\n",
        "    self.Age = Age\n",
        "    self.Hobbies = Hobbies\n",
        "    self.Interests = Interests\n",
        "\n",
        "class Son1(Parent):\n",
        "  pass\n",
        "\n",
        "class Son2(Parent):\n",
        "  pass\n",
        "\n",
        "class Son3(Parent):\n",
        "  pass\n",
        "\n",
        "class Daughter(Parent):\n",
        "  pass\n",
        "\n",
        "s1 = Son1(\"Naga\",32,\"Browsing & PLaying\", \"Swimming\")\n",
        "s2 = Son2(\"Naveen\",28,\"Studying & Playing\", \"Coding\")\n",
        "d1 = Daughter(\"Mamatha\",25,\"Studying & Home Making\",\"Coding & WOrking\")\n",
        "d1.Name"
      ],
      "metadata": {
        "id": "M4Juge6ZDLGR",
        "colab": {
          "base_uri": "https://localhost:8080/",
          "height": 35
        },
        "outputId": "592c7505-ca11-4cc3-a173-0dbf14911623"
      },
      "execution_count": 33,
      "outputs": [
        {
          "output_type": "execute_result",
          "data": {
            "text/plain": [
              "'Mamatha'"
            ],
            "application/vnd.google.colaboratory.intrinsic+json": {
              "type": "string"
            }
          },
          "metadata": {},
          "execution_count": 33
        }
      ]
    },
    {
      "cell_type": "code",
      "source": [
        ""
      ],
      "metadata": {
        "id": "SWTV3wB4Db9B"
      },
      "execution_count": null,
      "outputs": []
    }
  ]
}